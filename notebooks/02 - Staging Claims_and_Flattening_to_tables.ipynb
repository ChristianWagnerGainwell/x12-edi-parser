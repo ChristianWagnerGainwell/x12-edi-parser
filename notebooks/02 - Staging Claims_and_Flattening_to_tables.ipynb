{
 "cells": [
  {
   "cell_type": "markdown",
   "metadata": {
    "application/vnd.databricks.v1+cell": {
     "cellMetadata": {},
     "inputWidgets": {},
     "nuid": "c7fc7f49-99e0-415a-8ad0-e3531e92e465",
     "showTitle": false,
     "tableResultSettingsMap": {},
     "title": ""
    }
   },
   "source": [
    "# Building structured Claims data tables from x12 EDI with EDI ember"
   ]
  },
  {
   "cell_type": "code",
   "execution_count": 0,
   "metadata": {
    "application/vnd.databricks.v1+cell": {
     "cellMetadata": {
      "byteLimit": 2048000,
      "rowLimit": 10000
     },
     "inputWidgets": {},
     "nuid": "1c728b4a-4234-4f2d-bda9-8e3a5be5f28b",
     "showTitle": true,
     "tableResultSettingsMap": {},
     "title": "Install package"
    }
   },
   "outputs": [
    {
     "name": "stdout",
     "output_type": "stream",
     "text": [
      "Collecting git+https://github.com/databricks-industry-solutions/x12-edi-parser\n",
      "  Cloning https://github.com/databricks-industry-solutions/x12-edi-parser to /tmp/pip-req-build-ieav33b5\n",
      "  Running command git clone --filter=blob:none --quiet https://github.com/databricks-industry-solutions/x12-edi-parser /tmp/pip-req-build-ieav33b5\n",
      "  Resolved https://github.com/databricks-industry-solutions/x12-edi-parser to commit 2e10c403236bff33113f06449d44f237b618f7e1\n",
      "  Preparing metadata (setup.py): started\n",
      "  Preparing metadata (setup.py): finished with status 'done'\n",
      "\u001b[43mNote: you may need to restart the kernel using %restart_python or dbutils.library.restartPython() to use updated packages.\u001b[0m\n"
     ]
    }
   ],
   "source": [
    "pip install git+https://github.com/databricks-industry-solutions/x12-edi-parser"
   ]
  },
  {
   "cell_type": "code",
   "execution_count": 0,
   "metadata": {
    "application/vnd.databricks.v1+cell": {
     "cellMetadata": {
      "byteLimit": 2048000,
      "rowLimit": 10000
     },
     "inputWidgets": {},
     "nuid": "b9104ae4-4b39-4b42-94d3-7f80e31d666e",
     "showTitle": false,
     "tableResultSettingsMap": {},
     "title": ""
    }
   },
   "outputs": [],
   "source": [
    "dbutils.library.restartPython()"
   ]
  },
  {
   "cell_type": "markdown",
   "metadata": {
    "application/vnd.databricks.v1+cell": {
     "cellMetadata": {},
     "inputWidgets": {},
     "nuid": "eccb3176-f10a-4cdf-ba6d-4b387f6b8253",
     "showTitle": false,
     "tableResultSettingsMap": {},
     "title": ""
    }
   },
   "source": [
    "### Solution: Databricks’ X12 EDI Ember\n",
    "Databricks has developed an open source code repository, x12-edi-parser, also called EDI Ember, to accelerate value and time to insight by parsing your EDI data using Spark workflows. We have worked with our partner, CitiusTech, who has contributed to the repo functionality and can help enterprises scale EDI and/or claims-based functions such as:\n",
    "\n",
    "- Transaction-type discovery: Automatically detect and classify functional groups as Institutional Claims (837I), Professional Claims (837P), or other X12 transaction sets\n",
    "- Rich claim-segment extraction: Pull out financial and clinical data—claim amounts, procedure codes, service lines, revenue codes, diagnoses, and more\n",
    "- Hierarchical loop recognition: To preserve EDI’s nested loops, identify which loop each claim belongs to, extract billing provider, subscriber, dependents, and capture the sender/receiver interchange partners\n",
    "JSON conversion and downstream readiness: Flatten and normalize all segments into clean, schema-on-read JSON objects, ready for analytics, data lakes, or downstream systems"
   ]
  },
  {
   "cell_type": "markdown",
   "metadata": {
    "application/vnd.databricks.v1+cell": {
     "cellMetadata": {},
     "inputWidgets": {},
     "nuid": "af095f67-19d3-440a-8b6b-f1f17c950f72",
     "showTitle": false,
     "tableResultSettingsMap": {},
     "title": ""
    }
   },
   "source": [
    "\n",
    "This schematic illustrates how the X12 EDI Parser flows from raw transaction segments to structured healthcare claims data using the `HealthcareManager` in Databricks.\n",
    "\n",
    "![X12 Parser Schematic](../images/parser_schematic.jpg)"
   ]
  },
  {
   "cell_type": "code",
   "execution_count": 0,
   "metadata": {
    "application/vnd.databricks.v1+cell": {
     "cellMetadata": {
      "byteLimit": 2048000,
      "rowLimit": 10000
     },
     "inputWidgets": {},
     "nuid": "bcf07b14-3b02-492a-842a-d91d7851db3d",
     "showTitle": true,
     "tableResultSettingsMap": {},
     "title": "Read in sample 837 data"
    }
   },
   "outputs": [],
   "source": [
    "from ember import *\n",
    "from ember.hls.healthcare import HealthcareManager as hm\n",
    "import json, os\n",
    "from pyspark.sql.functions import input_file_name\n",
    "\n",
    "df = spark.read.text(\"file:///\" + os.getcwd() + \"/../sampledata/837/*txt\", wholetext = True)\n",
    "\n",
    "rdd = (\n",
    "  df.withColumn(\"filename\", input_file_name()).rdd #convert to rdd\n",
    "  .map(lambda row: (row.filename, EDI(row.value))) #parse as an EDI format\n",
    "  .flatMap(lambda edi: hm.flatten(edi[1], filename = edi[0])) #extract out healthcare specific groupings, one row per claim/remittance/enrollment etc\n",
    "  )\n",
    "\n",
    "claims_rdd = (\n",
    "rdd.repartition(4) #Repartition number should be >= # of cores in cluster and <= number of rows in rdd / DataFrame\n",
    ".map(lambda x: hm.flatten_to_json(x))\n",
    ".map(lambda x: json.dumps(x))\n",
    ")\n",
    "\n",
    "claims = spark.read.json(claims_rdd)"
   ]
  },
  {
   "cell_type": "code",
   "execution_count": 0,
   "metadata": {
    "application/vnd.databricks.v1+cell": {
     "cellMetadata": {
      "byteLimit": 2048000,
      "rowLimit": 10000
     },
     "inputWidgets": {},
     "nuid": "20321951-70c8-492b-8cc5-330048a620e3",
     "showTitle": true,
     "tableResultSettingsMap": {},
     "title": "Save as a view"
    }
   },
   "outputs": [],
   "source": [
    "claims.createOrReplaceTempView(\"stg_claims\")"
   ]
  },
  {
   "cell_type": "code",
   "execution_count": 0,
   "metadata": {
    "application/vnd.databricks.v1+cell": {
     "cellMetadata": {
      "byteLimit": 2048000,
      "implicitDf": true,
      "rowLimit": 10000
     },
     "inputWidgets": {},
     "nuid": "247ae84e-5474-4b99-8ad6-93f47cb69a2c",
     "showTitle": false,
     "tableResultSettingsMap": {},
     "title": ""
    }
   },
   "outputs": [
    {
     "data": {
      "text/html": [
       "<style scoped>\n",
       "  .table-result-container {\n",
       "    max-height: 300px;\n",
       "    overflow: auto;\n",
       "  }\n",
       "  table, th, td {\n",
       "    border: 1px solid black;\n",
       "    border-collapse: collapse;\n",
       "  }\n",
       "  th, td {\n",
       "    padding: 5px;\n",
       "  }\n",
       "  th {\n",
       "    text-align: left;\n",
       "  }\n",
       "</style><div class='table-result-container'><table class='table-result'><thead style='background-color: white'><tr><th>EDI.control_number</th><th>EDI.date</th><th>EDI.recipient_qualifier_id</th><th>EDI.sender_qualifier_id</th><th>EDI.standard_version</th><th>EDI.time</th><th>FunctionalGroup.control_number</th><th>FunctionalGroup.date</th><th>FunctionalGroup.receiver</th><th>FunctionalGroup.sender</th><th>FunctionalGroup.standard_version</th><th>FunctionalGroup.time</th><th>FunctionalGroup.transaction_type</th><th>Transaction.transaction_type</th><th>claim_header</th><th>claim_lines</th><th>diagnosis</th><th>filename</th><th>patient</th><th>payer</th><th>providers</th><th>receiver</th><th>submitter</th><th>subscriber</th></tr></thead><tbody><tr><td>000001507</td><td>180807</td><td>30421406317      </td><td>01030240928      </td><td>00501</td><td>1202</td><td>150700</td><td>20180807</td><td>421406317</td><td>030240928</td><td>005010X222A1</td><td>12022605</td><td>222</td><td>222</td><td>List(, , 600, List(List(20180625, 435, D8)), TD-R192ICE00094, List(), , , , 11:B:1, List(List(), List(, , )), List())</td><td>List(List(1, 1:2, 300, HO,HQ, List(), 11, H0004, HC, null, List(List(20180625-20180625, 472, RD8)), 12, UN), List(2, 1:2, 300, HO,HQ, List(), 11, H0004, HC, null, List(List(20180629-20180629, 472, RD8)), 12, UN))</td><td>List(, , , , List(), F341, F341, , )</td><td>file:/Workspace/Users/raven.mukherjee@databricks.com/x12-edi-parser/sampledata/837/CC_837P_EDI.txt</td><td>List(Elgin, 19960215, D8, F, , TEST MEMBER , , IL, 123 MAIN STREET, U0000000001, 18, 601200001)</td><td>List(2, 421406317, PI, CENTENE)</td><td>List(null, List(WOODSTOCK, 999999999, EI, Organization, Test Provider, 9999999999, , IL, 123 MAIN STREET, , 600980000), null, null, List(, , , Individual,   , , , , , , ), List(, , , Individual,   , , , , , , ), List(, , , Individual,   , , , , , , ))</td><td>List(Centene Corporation, Organization)</td><td>List(Centene Corporation, Sambit, List(List(TE, 3143202264), List(EX, 8099264)), Organization)</td><td>List(Elgin, 19960215, D8, F, , TEST MEMBER , , IL, 123 MAIN STREET, U0000000001, 18, 601200001)</td></tr><tr><td>697773230</td><td>180508</td><td>ZZ123456789      </td><td>01987654321      </td><td>00501</td><td>0833</td><td>212950697</td><td>20180508</td><td>123456789</td><td>CLEARINGHOUSE</td><td>005010X222A1</td><td>0833</td><td>222</td><td>222</td><td>List(, , 20, List(), 1805080AV3648339, List(List(7349065509, D9)), , , , 57:B:1, List(List(), List(, , )), List())</td><td>List(List(1, 1, 20, , List(), , H0003, HC, null, List(List(20180428, 472, D8)), 1, UN))</td><td>List(, , , , List(), F1120, F1120, , )</td><td>file:/Workspace/Users/raven.mukherjee@databricks.com/x12-edi-parser/sampledata/837/CHPW_Claimdata.txt</td><td>List(VANCOUVER, 19881225, D8, M, , SUBSCRIBER JOHN J, , WA, 987 65TH PL, 987321, 18, 986640001)</td><td>List(2, CHPWA, PI, COMMUNITY HEALTH PLAN OF WASHINGTON)</td><td>List(null, List(VANCOUVER, 720000000, EI, Organization, BH CLINIC OF VANCOUVER, 1122334455, , WA, 12345 MAIN ST, , 98662), null, null, List(, , , Individual,   , , , , , , ), List(VANCOUVER, , , Organization, BH CLINIC OF VANCOUVER, 1122334455, , WA, 12345 MAIN ST SUITE A1, , 98662), List(, , , Individual, PROVIDER JAMES , 1112223338, PE, , , 261QR0405X, ))</td><td>List(123456789, Organization)</td><td>List(CLEARINGHOUSE LLC, CLEARINGHOUSE CLIENT SERVICES, List(List(TE, 8005551212), List(FX, 8005551212)), Organization)</td><td>List(VANCOUVER, 19881225, D8, M, , SUBSCRIBER JOHN J, , WA, 987 65TH PL, 987321, 18, 986640001)</td></tr><tr><td>697773230</td><td>180508</td><td>ZZ123456789      </td><td>01987654321      </td><td>00501</td><td>0833</td><td>212950697</td><td>20180508</td><td>123456789</td><td>CLEARINGHOUSE</td><td>005010X222A1</td><td>0833</td><td>222</td><td>222</td><td>List(, , 50.1, List(), 1805080AV3648347, List(List(7349065730, D9)), , , , 57:B:1, List(List(), List(, , )), List())</td><td>List(List(1, 1:2, 50.1, HF, List(), , 96153, HC, null, List(List(20180426, 472, D8)), 6, UN))</td><td>List(, , , , List(), F1520, F1520, , )</td><td>file:/Workspace/Users/raven.mukherjee@databricks.com/x12-edi-parser/sampledata/837/CHPW_Claimdata.txt</td><td>List(VANCOUVER, 19881031, D8, F, , PATIENT SUSAN E, , WA, 765 43RD ST, 765123, 18, 986640002)</td><td>List(2, CHPWA, PI, COMMUNITY HEALTH PLAN OF WASHINGTON)</td><td>List(null, List(VANCOUVER, 720000000, EI, Organization, BH CLINIC OF VANCOUVER, 1122334455, , WA, 12345 MAIN ST, , 98662), null, null, List(, , , Individual,   , , , , , , ), List(VANCOUVER, , , Organization, BH CLINIC OF VANCOUVER, 1122334455, , WA, 12345 MAIN ST SUITE A1, , 98662), List(, , , Individual, PROVIDER SUSAN , 1112223346, PE, , , 261QR0405X, ))</td><td>List(123456789, Organization)</td><td>List(CLEARINGHOUSE LLC, CLEARINGHOUSE CLIENT SERVICES, List(List(TE, 8005551212), List(FX, 8005551212)), Organization)</td><td>List(VANCOUVER, 19881031, D8, F, , PATIENT SUSAN E, , WA, 765 43RD ST, 765123, 18, 986640002)</td></tr><tr><td>697773230</td><td>180508</td><td>ZZ123456789      </td><td>01987654321      </td><td>00501</td><td>0833</td><td>212950697</td><td>20180508</td><td>123456789</td><td>CLEARINGHOUSE</td><td>005010X222A1</td><td>0833</td><td>222</td><td>222</td><td>List(, , 11.64, List(), 1805080AV3648340, List(List(7349065492, D9)), , , , 57:B:1, List(List(), List(, , )), List())</td><td>List(List(1, 1:2, 11.64, HF, List(), , T1017, HC, null, List(List(20180427, 472, D8)), 1, UN))</td><td>List(, , , , List(), F1020, F1020, , )</td><td>file:/Workspace/Users/raven.mukherjee@databricks.com/x12-edi-parser/sampledata/837/CHPW_Claimdata.txt</td><td>List(VANCOUVER, 19881225, D8, M, , SUBSCRIBER JOHN J, , WA, 987 65TH PL, 987321, 18, 986640001)</td><td>List(2, CHPWA, PI, COMMUNITY HEALTH PLAN OF WASHINGTON)</td><td>List(null, List(VANCOUVER, 720000000, EI, Organization, BH CLINIC OF VANCOUVER, 1122334455, , WA, 12345 MAIN ST, , 98662), null, null, List(, , , Individual,   , , , , , , ), List(VANCOUVER, , , Organization, BH CLINIC OF VANCOUVER, 1122334455, , WA, 12345 MAIN ST SUITE A1, , 98662), List(, , , Individual, PROVIDER SUSAN , 1112223346, PE, , , 261QR0405X, ))</td><td>List(123456789, Organization)</td><td>List(CLEARINGHOUSE LLC, CLEARINGHOUSE CLIENT SERVICES, List(List(TE, 8005551212), List(FX, 8005551212)), Organization)</td><td>List(VANCOUVER, 19881225, D8, M, , SUBSCRIBER JOHN J, , WA, 987 65TH PL, 987321, 18, 986640001)</td></tr><tr><td>697773230</td><td>180508</td><td>ZZ123456789      </td><td>01987654321      </td><td>00501</td><td>0833</td><td>212950697</td><td>20180508</td><td>123456789</td><td>CLEARINGHOUSE</td><td>005010X222A1</td><td>0833</td><td>222</td><td>222</td><td>List(, , 234, List(), 1805080AV3648353, List(List(7349064290, D9)), , , , 53:B:1, List(List(), List(, , )), List())</td><td>List(List(1, 1, 234, , List(), , 90853, HC, null, List(List(20180427, 472, D8)), 120, UN))</td><td>List(, , , , List(), F251, F251, , )</td><td>file:/Workspace/Users/raven.mukherjee@databricks.com/x12-edi-parser/sampledata/837/CHPW_Claimdata.txt</td><td>List(VANCOUVER, 19881031, D8, F, , PATIENT SUSAN E, , WA, 765 43RD ST, 765123, 18, 986640002)</td><td>List(2, CHPWA, PI, COMMUNITY HEALTH PLAN OF WASHINGTON)</td><td>List(null, List(VANCOUVER, 720000000, EI, Organization, BH CLINIC OF VANCOUVER, 1122334455, , WA, 12345 MAIN ST, , 98662), null, null, List(, , , Individual,   , , , , , , ), List(VANCOUVER, , , Organization, BH CLINIC OF VANCOUVER, 1122334455, , WA, 12345 MAIN ST SUITE A1, , 98662), List(, , , Individual, PROVIDER SUSAN , 1112223346, PE, , , 251S00000X, ))</td><td>List(123456789, Organization)</td><td>List(CLEARINGHOUSE LLC, CLEARINGHOUSE CLIENT SERVICES, List(List(TE, 8005551212), List(FX, 8005551212)), Organization)</td><td>List(VANCOUVER, 19881031, D8, F, , PATIENT SUSAN E, , WA, 765 43RD ST, 765123, 18, 986640002)</td></tr><tr><td>697773230</td><td>180508</td><td>ZZ123456789      </td><td>01987654321      </td><td>00501</td><td>0833</td><td>212950697</td><td>20180508</td><td>123456789</td><td>CLEARINGHOUSE</td><td>005010X222A1</td><td>0833</td><td>222</td><td>222</td><td>List(, , 20, List(), 1805080AV3648355, List(List(7349064036, D9)), , , , 57:B:1, List(List(), List(, , )), List())</td><td>List(List(1, 1:2, 20, , List(), , H0003, HC, null, List(List(20180427, 472, D8)), 1, UN))</td><td>List(, , , , List(), F1020, F1020, , )</td><td>file:/Workspace/Users/raven.mukherjee@databricks.com/x12-edi-parser/sampledata/837/CHPW_Claimdata.txt</td><td>List(VANCOUVER, 19881225, D8, M, , SUBSCRIBER JOHN J, , WA, 987 65TH PL, 987321, 18, 986640001)</td><td>List(2, CHPWA, PI, COMMUNITY HEALTH PLAN OF WASHINGTON)</td><td>List(null, List(VANCOUVER, 720000000, EI, Organization, BH CLINIC OF VANCOUVER, 1122334455, , WA, 12345 MAIN ST, , 98662), null, null, List(, , , Individual,   , , , , , , ), List(VANCOUVER, , , Organization, BH CLINIC OF VANCOUVER, 1122334455, , WA, 12345 MAIN ST SUITE A1, , 98662), List(, , , Individual, PROVIDER JAMES , 1112223338, PE, , , 261QR0405X, ))</td><td>List(123456789, Organization)</td><td>List(CLEARINGHOUSE LLC, CLEARINGHOUSE CLIENT SERVICES, List(List(TE, 8005551212), List(FX, 8005551212)), Organization)</td><td>List(VANCOUVER, 19881225, D8, M, , SUBSCRIBER JOHN J, , WA, 987 65TH PL, 987321, 18, 986640001)</td></tr><tr><td>000001508</td><td>180807</td><td>ZZ421406317      </td><td>30133052274      </td><td>00501</td><td>1202</td><td>1770</td><td>20180710</td><td>OO000011111</td><td>000000005D</td><td>005010X222A1</td><td>214339</td><td>222</td><td>222</td><td>List(, , 1800, List(List(20180123, 454, D8), List(20180123, 304, D8)), ABC11111, List(List(6123456749, EA), List(012345678901234, D9)), , , , 22:B:1, List(List(), List(, , )), List())</td><td>List(List(1, 1, 1800, QZ, List(), , 01710, HC, null, List(List(20180123-20180123, 472, RD8), List(20180713, 454, D8), List(20180713, 304, D8)), 88, MJ), List(1, 1, 984, AA,P3, List(), , 00731, HC, null, List(List(20180713-20180713, 472, RD8), List(20180713, 454, D8), List(20180713, 304, D8)), 24, MJ), List(1, 1, 1353, AA, List(), , 00840, HC, null, List(List(20180713-20180713, 472, RD8), List(20180713, 454, D8), List(20180713, 304, D8)), 62, MJ), List(1, 1, 1230, AA, List(), , 00902, HC, null, List(List(20180713-20180713, 472, RD8)), 65, MJ), List(2, 2, 738, 59, List(), , 62322, HC, null, List(List(20180713-20180713, 472, RD8)), 1, UN))</td><td>List(, , , , List(), G5621, G5621, , )</td><td>file:/Workspace/Users/raven.mukherjee@databricks.com/x12-edi-parser/sampledata/837/Molina_Mock_UP_837P_File.txt</td><td>List(FAKE CITY, 19650101, D8, M, , ABCDEFGH IJKLMNOP B, , CA, 123 ADDRESS3, 111111100, 18, 908021112)</td><td>List(2, ABCMMPIO, PI, ABCHYI OL POI)</td><td>List(null, List(FAKE CITY, 123456789, EI, Organization, YYYY HEALTHCARE ABC, 1222222220, , NY, 123 ADDRESS1, , 908021112), null, null, List(, , , Individual, ABCD STUVW , 1234567890, , , , , ), List(FAKE CITY, , , Organization, ABCDEFG HIJKLMN HOSP, 1122334460, , CA, 123 ADDRESS4, , 908021114), List(, , , Individual, TUVWX MNOPQR , 1234567891, PE, , , 367500000X, ))</td><td>List(ABCHYI OL POI, Organization)</td><td>List(ABCDEF, ABCDEF CUSTOMER SOLUTIONS, List(List(TE, 9999999999), List(, )), Organization)</td><td>List(FAKE CITY, 19650101, D8, M, , ABCDEFGH IJKLMNOP B, , CA, 123 ADDRESS3, 111111100, 18, 908021112)</td></tr><tr><td>000001508</td><td>180807</td><td>ZZ421406317      </td><td>30133052274      </td><td>00501</td><td>1202</td><td>1770</td><td>20180710</td><td>OO000011111</td><td>000000005D</td><td>005010X222A1</td><td>214339</td><td>222</td><td>222</td><td>List(, , 984, List(List(20180713, 454, D8), List(20180713, 304, D8)), ABC111112, List(List(1254789634, EA), List(012345678901231, D9)), , , , 22:B:1, List(List(), List(, , )), List())</td><td>List(List(1, 1, 984, AA,P3, List(), , 00731, HC, null, List(List(20180713-20180713, 472, RD8), List(20180713, 454, D8), List(20180713, 304, D8)), 24, MJ), List(1, 1, 1353, AA, List(), , 00840, HC, null, List(List(20180713-20180713, 472, RD8), List(20180713, 454, D8), List(20180713, 304, D8)), 62, MJ), List(1, 1, 1230, AA, List(), , 00902, HC, null, List(List(20180713-20180713, 472, RD8)), 65, MJ), List(2, 2, 738, 59, List(), , 62322, HC, null, List(List(20180713-20180713, 472, RD8)), 1, UN))</td><td>List(, , , , List(), K219, K219, , )</td><td>file:/Workspace/Users/raven.mukherjee@databricks.com/x12-edi-parser/sampledata/837/Molina_Mock_UP_837P_File.txt</td><td>List(FAKE CITY, 19760101, D8, F, , ABCDEFGH IJKLMNOP B, , CA, 123 ADDRESS7, 11111117, 18, 908021117)</td><td>List(2, ABCMMPIO, PI, ABCHYI OL POI)</td><td>List(null, List(FAKE CITY, 543211234, EI, Organization, ABCDE EFGHIJ GROUP PC, 1222222223, , CA, 123 ADDRESS5, , 908021115), null, null, List(, , , Individual, ABCDEFG OPQRST A, 1122334460, , , , , ), List(FAKE CITY, , , Organization, ABCDEFG HIJKLMN HOSP, 1122334450, , CA, 123 ADDRESS8, , 908021118), List(, , , Individual, STUVW KLMNOP H, 1122334461, PE, , , 207L00000X, ))</td><td>List(ABCHYI OL POI, Organization)</td><td>List(ABCDEF, ABCDEF CUSTOMER SOLUTIONS, List(List(TE, 9999999999), List(, )), Organization)</td><td>List(FAKE CITY, 19760101, D8, F, , ABCDEFGH IJKLMNOP B, , CA, 123 ADDRESS7, 11111117, 18, 908021117)</td></tr><tr><td>000001508</td><td>180807</td><td>ZZ421406317      </td><td>30133052274      </td><td>00501</td><td>1202</td><td>1770</td><td>20180710</td><td>OO000011111</td><td>000000005D</td><td>005010X222A1</td><td>214339</td><td>222</td><td>222</td><td>List(, , 1353, List(List(20180713, 454, D8), List(20180713, 304, D8)), ABC111113, List(List(963852741, EA), List(548721986532651, D9)), , , , 22:B:1, List(List(), List(, , )), List())</td><td>List(List(1, 1, 1353, AA, List(), , 00840, HC, null, List(List(20180713-20180713, 472, RD8), List(20180713, 454, D8), List(20180713, 304, D8)), 62, MJ), List(1, 1, 1230, AA, List(), , 00902, HC, null, List(List(20180713-20180713, 472, RD8)), 65, MJ), List(2, 2, 738, 59, List(), , 62322, HC, null, List(List(20180713-20180713, 472, RD8)), 1, UN))</td><td>List(, , , , List(), K4090, K4090, , )</td><td>file:/Workspace/Users/raven.mukherjee@databricks.com/x12-edi-parser/sampledata/837/Molina_Mock_UP_837P_File.txt</td><td>List(FAKE CITY, 20180409, D8, M, , ABCDEFGH IJKLMNOP B, , CA, 123 ADDRESS11, 111111111, 18, 908021111)</td><td>List(2, YTHF281123456, PI, ABCHYI OL POI)</td><td>List(null, List(FAKE CITY, 931013923, EI, Organization, ABCDE EFGHIJ GROUP PC, 1477527786, , CA, 123 ADDRESS9, , 908021119), null, null, List(, , , Individual, ABCDEFGH OPQRSTU A, 1122334456, , , , , ), List(FAKE CITY, , , Organization, ABCDEFG HIJKLMN HOSP, 1122334458, , CA, 123 ADDRESS12, , 908021112), List(, , , Individual, STUVWX KLMNOPQ H, 1122334457, PE, , , 207L00000X, ))</td><td>List(ABCHYI OL POI, Organization)</td><td>List(ABCDEF, ABCDEF CUSTOMER SOLUTIONS, List(List(TE, 9999999999), List(, )), Organization)</td><td>List(FAKE CITY, 20180409, D8, M, , ABCDEFGH IJKLMNOP B, , CA, 123 ADDRESS11, 111111111, 18, 908021111)</td></tr><tr><td>000001508</td><td>180807</td><td>ZZ421406317      </td><td>30133052274      </td><td>00501</td><td>1202</td><td>1770</td><td>20180710</td><td>OO000011111</td><td>000000005D</td><td>005010X222A1</td><td>214339</td><td>222</td><td>222</td><td>List(, , 1968, List(List(20180713, 454, D8), List(20180713, 304, D8)), ABC111114, List(List(123456789, EA), List(215487986532544, D9)), , , , 22:B:1, List(List(), List(, , )), List())</td><td>List(List(1, 1, 1230, AA, List(), , 00902, HC, null, List(List(20180713-20180713, 472, RD8)), 65, MJ), List(2, 2, 738, 59, List(), , 62322, HC, null, List(List(20180713-20180713, 472, RD8)), 1, UN))</td><td>List(, , , , List(), Q423, Q423, , )</td><td>file:/Workspace/Users/raven.mukherjee@databricks.com/x12-edi-parser/sampledata/837/Molina_Mock_UP_837P_File.txt</td><td>List(FAKE CITY, 20180504, D8, F, , ABCDEFGH IJKLMNOP B, , CA, 123 ADDRESS13, 111111112, 18, 908021113)</td><td>List(2, YTHF281123456, PI, ABCHYI OL POI)</td><td>List(null, List(FAKE CITY, 931013923, EI, Organization, ABCDE EFGHIJ GROUP PC, 1477527786, , CA, 123 ADDRESS9, , 908021119), null, null, List(, , , Individual, ABCDEFGHI OPQRSTUV A, 1122334455, , , , , ), List(FAKE CITY, , , Organization, ABCDEFG HIJKLMN HOSP, 1122334457, , CA, 123 ADDRESS15, , 908021115), List(, , , Individual, STUVWXY KLMNOPQR H, 1122334456, PE, , , 207L00000X, ))</td><td>List(ABCHYI OL POI, Organization)</td><td>List(ABCDEF, ABCDEF CUSTOMER SOLUTIONS, List(List(TE, 9999999999), List(, )), Organization)</td><td>List(FAKE CITY, 20180504, D8, F, , ABCDEFGH IJKLMNOP B, , CA, 123 ADDRESS13, 111111112, 18, 908021113)</td></tr><tr><td>000001508</td><td>180807</td><td>ZZ421406317      </td><td>30133052274      </td><td>00501</td><td>1202</td><td>150800</td><td>20180807</td><td>421406317</td><td>133052274</td><td>005010X223A2</td><td>12022761</td><td>223</td><td>223</td><td>List(1, 1, 17166.7, List(List(0900, 096, TM), List(20180628-20180702, 434, RD8), List(201806280800, 435, DT)), TD-R192ICE00087, List(List(TD-R192ICE00087, D9)), 01, DR:885, , 11:A:1, List(List(), List(, , )), List())</td><td>List(List(1, null, 9148, , List(), null, , , 0124, List(List(20180628-20180702, 472, RD8)), 4, UN), List(2, null, 48.1, , List(), null, , , 0250, List(List(20180628-20180702, 472, RD8)), 28, UN), List(3, null, 133, , List(), null, , , 0260, List(List(20180628-20180702, 472, RD8)), 1, UN), List(4, null, 32.9, , List(), null, , , 0300, List(List(20180628-20180702, 472, RD8)), 1, UN), List(5, null, 798.5, , List(), null, , , 0301, List(List(20180628-20180702, 472, RD8)), 4, UN), List(6, null, 200.6, , List(), null, , , 0305, List(List(20180628-20180702, 472, RD8)), 2, UN), List(7, null, 175, , List(), null, , , 0306, List(List(20180628-20180702, 472, RD8)), 1, UN), List(8, null, 113.6, , List(), null, , , 0307, List(List(20180628-20180702, 472, RD8)), 2, UN), List(9, null, 6517, , List(), null, , , 0351, List(List(20180628-20180702, 472, RD8)), 2, UN))</td><td>List(F39, F39, , , List(List(F1319, Y), List(F419, Y), List(F17210, Y), List(E876, N)), F39, Y, , )</td><td>file:/Workspace/Users/raven.mukherjee@databricks.com/x12-edi-parser/sampledata/837/CC_837I_EDI.txt</td><td>List(Elgin, 19960215, D8, F, , TEST MEMBER , , IL, 123 MAIN STREET, U0000000001, 18, 601200001)</td><td>List(2, 421406317, PI, CENTENE)</td><td>List(List(, , , Individual,   , , , , , , ), List(WOODSTOCK, 999999999, EI, Organization, Test Provider, 9999999999, , IL, 123 MAIN STREET, , 600980000), List(, , , Individual,   , , , , , , ), List(, , , Individual,   , , , , , , ), null, List(CHICAGO, , , Organization, BETHANY HOMES AND METHODIST HOSPITAL, , , IL, 240 WILSON RD, , 606400000), null)</td><td>List(CENTENE CORP, Organization)</td><td>List(TALEND, SAMBIT, List(List(TE, 3143202264), List(EX, 8099264)), Organization)</td><td>List(Elgin, 19960215, D8, F, , TEST MEMBER , , IL, 123 MAIN STREET, U0000000001, 18, 601200001)</td></tr><tr><td>000000101</td><td>170508</td><td>ZZ11111          </td><td>ZZ1234567        </td><td>00501</td><td>1141</td><td>101</td><td>20170617</td><td>XXXXX</td><td>XXXXXXX</td><td>005010X222A1</td><td>1741</td><td>222</td><td>222</td><td>List(, , 140, List(), 1000A, List(), , , , 19:B:1, List(List(), List(, , )), List())</td><td>List(List(1, 1, 140, , List(), , 99213, HC, null, List(List(20151124, 472, D8)), 1, UN), List(1, 1, 140, , List(), , 99213, HC, null, List(List(20151124, 472, D8)), 1, UN))</td><td>List(, , , , List(), I10, I10, , )</td><td>file:/Workspace/Users/raven.mukherjee@databricks.com/x12-edi-parser/sampledata/837/837p.txt</td><td>List(CHICAGO, 19570111, D8, M, , BLOGGS JOE , , IL, 1 SOME BLVD, 1234567890, 18, 606129998)</td><td>List(2, 12345, PI, PAYER)</td><td>List(null, List(CHICAGO, 999999999, EI, Organization, BILLING PROVIDER, 1122334455, , IL, 1234 SOME ROAD, , 606739999), null, null, List(, , , Individual,   , , , , , , ), List(, , , Individual,   , , , , , , ), List(, , , Individual,   , , , , , , ))</td><td>List(RECEIVER, Organization)</td><td>List(SUBMITTER, BOB SMITH, List(List(TE, 4805551212), List(, )), Organization)</td><td>List(CHICAGO, 19570111, D8, M, , BLOGGS JOE , , IL, 1 SOME BLVD, 1234567890, 18, 606129998)</td></tr><tr><td>000000101</td><td>170508</td><td>ZZ11111          </td><td>ZZ1234567        </td><td>00501</td><td>1141</td><td>101</td><td>20170617</td><td>XXXXX</td><td>XXXXXXX</td><td>005010X222A1</td><td>1741</td><td>222</td><td>222</td><td>List(, , 140, List(), 1001A, List(), , , , 19:B:1, List(List(), List(, , )), List())</td><td>List(List(1, 1, 140, , List(), , 99213, HC, null, List(List(20151124, 472, D8)), 1, UN))</td><td>List(, , , , List(), I10, I10, , )</td><td>file:/Workspace/Users/raven.mukherjee@databricks.com/x12-edi-parser/sampledata/837/837p.txt</td><td>List(CHICAGO, 19700601, D8, M, , BLOGGS FRED , , IL, 1 ANOTHER STR, 9876543201, 18, 606129998)</td><td>List(2, 12345, PI, PAYER)</td><td>List(null, List(CHICAGO, 999999999, EI, Organization, BILLING PROVIDER, 1122334455, , IL, 1234 SOME ROAD, , 606739999), null, null, List(, , , Individual,   , , , , , , ), List(, , , Individual,   , , , , , , ), List(, , , Individual,   , , , , , , ))</td><td>List(RECEIVER, Organization)</td><td>List(SUBMITTER, BOB SMITH, List(List(TE, 4805551212), List(, )), Organization)</td><td>List(CHICAGO, 19700601, D8, M, , BLOGGS FRED , , IL, 1 ANOTHER STR, 9876543201, 18, 606129998)</td></tr></tbody></table></div>"
      ]
     },
     "metadata": {
      "application/vnd.databricks.v1+output": {
       "addedWidgets": {},
       "aggData": [],
       "aggError": "",
       "aggOverflow": false,
       "aggSchema": [],
       "aggSeriesLimitReached": false,
       "aggType": "",
       "arguments": {},
       "columnCustomDisplayInfos": {},
       "data": [
        [
         "000001507",
         "180807",
         "30421406317      ",
         "01030240928      ",
         "00501",
         "1202",
         "150700",
         "20180807",
         "421406317",
         "030240928",
         "005010X222A1",
         "12022605",
         "222",
         "222",
         [
          "",
          "",
          "600",
          [
           [
            "20180625",
            "435",
            "D8"
           ]
          ],
          "TD-R192ICE00094",
          [],
          "",
          "",
          "",
          "11:B:1",
          [
           [],
           [
            "",
            "",
            ""
           ]
          ],
          []
         ],
         [
          [
           "1",
           "1:2",
           "300",
           "HO,HQ",
           [],
           "11",
           "H0004",
           "HC",
           null,
           [
            [
             "20180625-20180625",
             "472",
             "RD8"
            ]
           ],
           "12",
           "UN"
          ],
          [
           "2",
           "1:2",
           "300",
           "HO,HQ",
           [],
           "11",
           "H0004",
           "HC",
           null,
           [
            [
             "20180629-20180629",
             "472",
             "RD8"
            ]
           ],
           "12",
           "UN"
          ]
         ],
         [
          "",
          "",
          "",
          "",
          [],
          "F341",
          "F341",
          "",
          ""
         ],
         "file:/Workspace/Users/raven.mukherjee@databricks.com/x12-edi-parser/sampledata/837/CC_837P_EDI.txt",
         [
          "Elgin",
          "19960215",
          "D8",
          "F",
          "",
          "TEST MEMBER ",
          "",
          "IL",
          "123 MAIN STREET",
          "U0000000001",
          "18",
          "601200001"
         ],
         [
          "2",
          "421406317",
          "PI",
          "CENTENE"
         ],
         [
          null,
          [
           "WOODSTOCK",
           "999999999",
           "EI",
           "Organization",
           "Test Provider",
           "9999999999",
           "",
           "IL",
           "123 MAIN STREET",
           "",
           "600980000"
          ],
          null,
          null,
          [
           "",
           "",
           "",
           "Individual",
           "  ",
           "",
           "",
           "",
           "",
           "",
           ""
          ],
          [
           "",
           "",
           "",
           "Individual",
           "  ",
           "",
           "",
           "",
           "",
           "",
           ""
          ],
          [
           "",
           "",
           "",
           "Individual",
           "  ",
           "",
           "",
           "",
           "",
           "",
           ""
          ]
         ],
         [
          "Centene Corporation",
          "Organization"
         ],
         [
          "Centene Corporation",
          "Sambit",
          [
           [
            "TE",
            "3143202264"
           ],
           [
            "EX",
            "8099264"
           ]
          ],
          "Organization"
         ],
         [
          "Elgin",
          "19960215",
          "D8",
          "F",
          "",
          "TEST MEMBER ",
          "",
          "IL",
          "123 MAIN STREET",
          "U0000000001",
          "18",
          "601200001"
         ]
        ],
        [
         "697773230",
         "180508",
         "ZZ123456789      ",
         "01987654321      ",
         "00501",
         "0833",
         "212950697",
         "20180508",
         "123456789",
         "CLEARINGHOUSE",
         "005010X222A1",
         "0833",
         "222",
         "222",
         [
          "",
          "",
          "20",
          [],
          "1805080AV3648339",
          [
           [
            "7349065509",
            "D9"
           ]
          ],
          "",
          "",
          "",
          "57:B:1",
          [
           [],
           [
            "",
            "",
            ""
           ]
          ],
          []
         ],
         [
          [
           "1",
           "1",
           "20",
           "",
           [],
           "",
           "H0003",
           "HC",
           null,
           [
            [
             "20180428",
             "472",
             "D8"
            ]
           ],
           "1",
           "UN"
          ]
         ],
         [
          "",
          "",
          "",
          "",
          [],
          "F1120",
          "F1120",
          "",
          ""
         ],
         "file:/Workspace/Users/raven.mukherjee@databricks.com/x12-edi-parser/sampledata/837/CHPW_Claimdata.txt",
         [
          "VANCOUVER",
          "19881225",
          "D8",
          "M",
          "",
          "SUBSCRIBER JOHN J",
          "",
          "WA",
          "987 65TH PL",
          "987321",
          "18",
          "986640001"
         ],
         [
          "2",
          "CHPWA",
          "PI",
          "COMMUNITY HEALTH PLAN OF WASHINGTON"
         ],
         [
          null,
          [
           "VANCOUVER",
           "720000000",
           "EI",
           "Organization",
           "BH CLINIC OF VANCOUVER",
           "1122334455",
           "",
           "WA",
           "12345 MAIN ST",
           "",
           "98662"
          ],
          null,
          null,
          [
           "",
           "",
           "",
           "Individual",
           "  ",
           "",
           "",
           "",
           "",
           "",
           ""
          ],
          [
           "VANCOUVER",
           "",
           "",
           "Organization",
           "BH CLINIC OF VANCOUVER",
           "1122334455",
           "",
           "WA",
           "12345 MAIN ST SUITE A1",
           "",
           "98662"
          ],
          [
           "",
           "",
           "",
           "Individual",
           "PROVIDER JAMES ",
           "1112223338",
           "PE",
           "",
           "",
           "261QR0405X",
           ""
          ]
         ],
         [
          "123456789",
          "Organization"
         ],
         [
          "CLEARINGHOUSE LLC",
          "CLEARINGHOUSE CLIENT SERVICES",
          [
           [
            "TE",
            "8005551212"
           ],
           [
            "FX",
            "8005551212"
           ]
          ],
          "Organization"
         ],
         [
          "VANCOUVER",
          "19881225",
          "D8",
          "M",
          "",
          "SUBSCRIBER JOHN J",
          "",
          "WA",
          "987 65TH PL",
          "987321",
          "18",
          "986640001"
         ]
        ],
        [
         "697773230",
         "180508",
         "ZZ123456789      ",
         "01987654321      ",
         "00501",
         "0833",
         "212950697",
         "20180508",
         "123456789",
         "CLEARINGHOUSE",
         "005010X222A1",
         "0833",
         "222",
         "222",
         [
          "",
          "",
          "50.1",
          [],
          "1805080AV3648347",
          [
           [
            "7349065730",
            "D9"
           ]
          ],
          "",
          "",
          "",
          "57:B:1",
          [
           [],
           [
            "",
            "",
            ""
           ]
          ],
          []
         ],
         [
          [
           "1",
           "1:2",
           "50.1",
           "HF",
           [],
           "",
           "96153",
           "HC",
           null,
           [
            [
             "20180426",
             "472",
             "D8"
            ]
           ],
           "6",
           "UN"
          ]
         ],
         [
          "",
          "",
          "",
          "",
          [],
          "F1520",
          "F1520",
          "",
          ""
         ],
         "file:/Workspace/Users/raven.mukherjee@databricks.com/x12-edi-parser/sampledata/837/CHPW_Claimdata.txt",
         [
          "VANCOUVER",
          "19881031",
          "D8",
          "F",
          "",
          "PATIENT SUSAN E",
          "",
          "WA",
          "765 43RD ST",
          "765123",
          "18",
          "986640002"
         ],
         [
          "2",
          "CHPWA",
          "PI",
          "COMMUNITY HEALTH PLAN OF WASHINGTON"
         ],
         [
          null,
          [
           "VANCOUVER",
           "720000000",
           "EI",
           "Organization",
           "BH CLINIC OF VANCOUVER",
           "1122334455",
           "",
           "WA",
           "12345 MAIN ST",
           "",
           "98662"
          ],
          null,
          null,
          [
           "",
           "",
           "",
           "Individual",
           "  ",
           "",
           "",
           "",
           "",
           "",
           ""
          ],
          [
           "VANCOUVER",
           "",
           "",
           "Organization",
           "BH CLINIC OF VANCOUVER",
           "1122334455",
           "",
           "WA",
           "12345 MAIN ST SUITE A1",
           "",
           "98662"
          ],
          [
           "",
           "",
           "",
           "Individual",
           "PROVIDER SUSAN ",
           "1112223346",
           "PE",
           "",
           "",
           "261QR0405X",
           ""
          ]
         ],
         [
          "123456789",
          "Organization"
         ],
         [
          "CLEARINGHOUSE LLC",
          "CLEARINGHOUSE CLIENT SERVICES",
          [
           [
            "TE",
            "8005551212"
           ],
           [
            "FX",
            "8005551212"
           ]
          ],
          "Organization"
         ],
         [
          "VANCOUVER",
          "19881031",
          "D8",
          "F",
          "",
          "PATIENT SUSAN E",
          "",
          "WA",
          "765 43RD ST",
          "765123",
          "18",
          "986640002"
         ]
        ],
        [
         "697773230",
         "180508",
         "ZZ123456789      ",
         "01987654321      ",
         "00501",
         "0833",
         "212950697",
         "20180508",
         "123456789",
         "CLEARINGHOUSE",
         "005010X222A1",
         "0833",
         "222",
         "222",
         [
          "",
          "",
          "11.64",
          [],
          "1805080AV3648340",
          [
           [
            "7349065492",
            "D9"
           ]
          ],
          "",
          "",
          "",
          "57:B:1",
          [
           [],
           [
            "",
            "",
            ""
           ]
          ],
          []
         ],
         [
          [
           "1",
           "1:2",
           "11.64",
           "HF",
           [],
           "",
           "T1017",
           "HC",
           null,
           [
            [
             "20180427",
             "472",
             "D8"
            ]
           ],
           "1",
           "UN"
          ]
         ],
         [
          "",
          "",
          "",
          "",
          [],
          "F1020",
          "F1020",
          "",
          ""
         ],
         "file:/Workspace/Users/raven.mukherjee@databricks.com/x12-edi-parser/sampledata/837/CHPW_Claimdata.txt",
         [
          "VANCOUVER",
          "19881225",
          "D8",
          "M",
          "",
          "SUBSCRIBER JOHN J",
          "",
          "WA",
          "987 65TH PL",
          "987321",
          "18",
          "986640001"
         ],
         [
          "2",
          "CHPWA",
          "PI",
          "COMMUNITY HEALTH PLAN OF WASHINGTON"
         ],
         [
          null,
          [
           "VANCOUVER",
           "720000000",
           "EI",
           "Organization",
           "BH CLINIC OF VANCOUVER",
           "1122334455",
           "",
           "WA",
           "12345 MAIN ST",
           "",
           "98662"
          ],
          null,
          null,
          [
           "",
           "",
           "",
           "Individual",
           "  ",
           "",
           "",
           "",
           "",
           "",
           ""
          ],
          [
           "VANCOUVER",
           "",
           "",
           "Organization",
           "BH CLINIC OF VANCOUVER",
           "1122334455",
           "",
           "WA",
           "12345 MAIN ST SUITE A1",
           "",
           "98662"
          ],
          [
           "",
           "",
           "",
           "Individual",
           "PROVIDER SUSAN ",
           "1112223346",
           "PE",
           "",
           "",
           "261QR0405X",
           ""
          ]
         ],
         [
          "123456789",
          "Organization"
         ],
         [
          "CLEARINGHOUSE LLC",
          "CLEARINGHOUSE CLIENT SERVICES",
          [
           [
            "TE",
            "8005551212"
           ],
           [
            "FX",
            "8005551212"
           ]
          ],
          "Organization"
         ],
         [
          "VANCOUVER",
          "19881225",
          "D8",
          "M",
          "",
          "SUBSCRIBER JOHN J",
          "",
          "WA",
          "987 65TH PL",
          "987321",
          "18",
          "986640001"
         ]
        ],
        [
         "697773230",
         "180508",
         "ZZ123456789      ",
         "01987654321      ",
         "00501",
         "0833",
         "212950697",
         "20180508",
         "123456789",
         "CLEARINGHOUSE",
         "005010X222A1",
         "0833",
         "222",
         "222",
         [
          "",
          "",
          "234",
          [],
          "1805080AV3648353",
          [
           [
            "7349064290",
            "D9"
           ]
          ],
          "",
          "",
          "",
          "53:B:1",
          [
           [],
           [
            "",
            "",
            ""
           ]
          ],
          []
         ],
         [
          [
           "1",
           "1",
           "234",
           "",
           [],
           "",
           "90853",
           "HC",
           null,
           [
            [
             "20180427",
             "472",
             "D8"
            ]
           ],
           "120",
           "UN"
          ]
         ],
         [
          "",
          "",
          "",
          "",
          [],
          "F251",
          "F251",
          "",
          ""
         ],
         "file:/Workspace/Users/raven.mukherjee@databricks.com/x12-edi-parser/sampledata/837/CHPW_Claimdata.txt",
         [
          "VANCOUVER",
          "19881031",
          "D8",
          "F",
          "",
          "PATIENT SUSAN E",
          "",
          "WA",
          "765 43RD ST",
          "765123",
          "18",
          "986640002"
         ],
         [
          "2",
          "CHPWA",
          "PI",
          "COMMUNITY HEALTH PLAN OF WASHINGTON"
         ],
         [
          null,
          [
           "VANCOUVER",
           "720000000",
           "EI",
           "Organization",
           "BH CLINIC OF VANCOUVER",
           "1122334455",
           "",
           "WA",
           "12345 MAIN ST",
           "",
           "98662"
          ],
          null,
          null,
          [
           "",
           "",
           "",
           "Individual",
           "  ",
           "",
           "",
           "",
           "",
           "",
           ""
          ],
          [
           "VANCOUVER",
           "",
           "",
           "Organization",
           "BH CLINIC OF VANCOUVER",
           "1122334455",
           "",
           "WA",
           "12345 MAIN ST SUITE A1",
           "",
           "98662"
          ],
          [
           "",
           "",
           "",
           "Individual",
           "PROVIDER SUSAN ",
           "1112223346",
           "PE",
           "",
           "",
           "251S00000X",
           ""
          ]
         ],
         [
          "123456789",
          "Organization"
         ],
         [
          "CLEARINGHOUSE LLC",
          "CLEARINGHOUSE CLIENT SERVICES",
          [
           [
            "TE",
            "8005551212"
           ],
           [
            "FX",
            "8005551212"
           ]
          ],
          "Organization"
         ],
         [
          "VANCOUVER",
          "19881031",
          "D8",
          "F",
          "",
          "PATIENT SUSAN E",
          "",
          "WA",
          "765 43RD ST",
          "765123",
          "18",
          "986640002"
         ]
        ],
        [
         "697773230",
         "180508",
         "ZZ123456789      ",
         "01987654321      ",
         "00501",
         "0833",
         "212950697",
         "20180508",
         "123456789",
         "CLEARINGHOUSE",
         "005010X222A1",
         "0833",
         "222",
         "222",
         [
          "",
          "",
          "20",
          [],
          "1805080AV3648355",
          [
           [
            "7349064036",
            "D9"
           ]
          ],
          "",
          "",
          "",
          "57:B:1",
          [
           [],
           [
            "",
            "",
            ""
           ]
          ],
          []
         ],
         [
          [
           "1",
           "1:2",
           "20",
           "",
           [],
           "",
           "H0003",
           "HC",
           null,
           [
            [
             "20180427",
             "472",
             "D8"
            ]
           ],
           "1",
           "UN"
          ]
         ],
         [
          "",
          "",
          "",
          "",
          [],
          "F1020",
          "F1020",
          "",
          ""
         ],
         "file:/Workspace/Users/raven.mukherjee@databricks.com/x12-edi-parser/sampledata/837/CHPW_Claimdata.txt",
         [
          "VANCOUVER",
          "19881225",
          "D8",
          "M",
          "",
          "SUBSCRIBER JOHN J",
          "",
          "WA",
          "987 65TH PL",
          "987321",
          "18",
          "986640001"
         ],
         [
          "2",
          "CHPWA",
          "PI",
          "COMMUNITY HEALTH PLAN OF WASHINGTON"
         ],
         [
          null,
          [
           "VANCOUVER",
           "720000000",
           "EI",
           "Organization",
           "BH CLINIC OF VANCOUVER",
           "1122334455",
           "",
           "WA",
           "12345 MAIN ST",
           "",
           "98662"
          ],
          null,
          null,
          [
           "",
           "",
           "",
           "Individual",
           "  ",
           "",
           "",
           "",
           "",
           "",
           ""
          ],
          [
           "VANCOUVER",
           "",
           "",
           "Organization",
           "BH CLINIC OF VANCOUVER",
           "1122334455",
           "",
           "WA",
           "12345 MAIN ST SUITE A1",
           "",
           "98662"
          ],
          [
           "",
           "",
           "",
           "Individual",
           "PROVIDER JAMES ",
           "1112223338",
           "PE",
           "",
           "",
           "261QR0405X",
           ""
          ]
         ],
         [
          "123456789",
          "Organization"
         ],
         [
          "CLEARINGHOUSE LLC",
          "CLEARINGHOUSE CLIENT SERVICES",
          [
           [
            "TE",
            "8005551212"
           ],
           [
            "FX",
            "8005551212"
           ]
          ],
          "Organization"
         ],
         [
          "VANCOUVER",
          "19881225",
          "D8",
          "M",
          "",
          "SUBSCRIBER JOHN J",
          "",
          "WA",
          "987 65TH PL",
          "987321",
          "18",
          "986640001"
         ]
        ],
        [
         "000001508",
         "180807",
         "ZZ421406317      ",
         "30133052274      ",
         "00501",
         "1202",
         "1770",
         "20180710",
         "OO000011111",
         "000000005D",
         "005010X222A1",
         "214339",
         "222",
         "222",
         [
          "",
          "",
          "1800",
          [
           [
            "20180123",
            "454",
            "D8"
           ],
           [
            "20180123",
            "304",
            "D8"
           ]
          ],
          "ABC11111",
          [
           [
            "6123456749",
            "EA"
           ],
           [
            "012345678901234",
            "D9"
           ]
          ],
          "",
          "",
          "",
          "22:B:1",
          [
           [],
           [
            "",
            "",
            ""
           ]
          ],
          []
         ],
         [
          [
           "1",
           "1",
           "1800",
           "QZ",
           [],
           "",
           "01710",
           "HC",
           null,
           [
            [
             "20180123-20180123",
             "472",
             "RD8"
            ],
            [
             "20180713",
             "454",
             "D8"
            ],
            [
             "20180713",
             "304",
             "D8"
            ]
           ],
           "88",
           "MJ"
          ],
          [
           "1",
           "1",
           "984",
           "AA,P3",
           [],
           "",
           "00731",
           "HC",
           null,
           [
            [
             "20180713-20180713",
             "472",
             "RD8"
            ],
            [
             "20180713",
             "454",
             "D8"
            ],
            [
             "20180713",
             "304",
             "D8"
            ]
           ],
           "24",
           "MJ"
          ],
          [
           "1",
           "1",
           "1353",
           "AA",
           [],
           "",
           "00840",
           "HC",
           null,
           [
            [
             "20180713-20180713",
             "472",
             "RD8"
            ],
            [
             "20180713",
             "454",
             "D8"
            ],
            [
             "20180713",
             "304",
             "D8"
            ]
           ],
           "62",
           "MJ"
          ],
          [
           "1",
           "1",
           "1230",
           "AA",
           [],
           "",
           "00902",
           "HC",
           null,
           [
            [
             "20180713-20180713",
             "472",
             "RD8"
            ]
           ],
           "65",
           "MJ"
          ],
          [
           "2",
           "2",
           "738",
           "59",
           [],
           "",
           "62322",
           "HC",
           null,
           [
            [
             "20180713-20180713",
             "472",
             "RD8"
            ]
           ],
           "1",
           "UN"
          ]
         ],
         [
          "",
          "",
          "",
          "",
          [],
          "G5621",
          "G5621",
          "",
          ""
         ],
         "file:/Workspace/Users/raven.mukherjee@databricks.com/x12-edi-parser/sampledata/837/Molina_Mock_UP_837P_File.txt",
         [
          "FAKE CITY",
          "19650101",
          "D8",
          "M",
          "",
          "ABCDEFGH IJKLMNOP B",
          "",
          "CA",
          "123 ADDRESS3",
          "111111100",
          "18",
          "908021112"
         ],
         [
          "2",
          "ABCMMPIO",
          "PI",
          "ABCHYI OL POI"
         ],
         [
          null,
          [
           "FAKE CITY",
           "123456789",
           "EI",
           "Organization",
           "YYYY HEALTHCARE ABC",
           "1222222220",
           "",
           "NY",
           "123 ADDRESS1",
           "",
           "908021112"
          ],
          null,
          null,
          [
           "",
           "",
           "",
           "Individual",
           "ABCD STUVW ",
           "1234567890",
           "",
           "",
           "",
           "",
           ""
          ],
          [
           "FAKE CITY",
           "",
           "",
           "Organization",
           "ABCDEFG HIJKLMN HOSP",
           "1122334460",
           "",
           "CA",
           "123 ADDRESS4",
           "",
           "908021114"
          ],
          [
           "",
           "",
           "",
           "Individual",
           "TUVWX MNOPQR ",
           "1234567891",
           "PE",
           "",
           "",
           "367500000X",
           ""
          ]
         ],
         [
          "ABCHYI OL POI",
          "Organization"
         ],
         [
          "ABCDEF",
          "ABCDEF CUSTOMER SOLUTIONS",
          [
           [
            "TE",
            "9999999999"
           ],
           [
            "",
            ""
           ]
          ],
          "Organization"
         ],
         [
          "FAKE CITY",
          "19650101",
          "D8",
          "M",
          "",
          "ABCDEFGH IJKLMNOP B",
          "",
          "CA",
          "123 ADDRESS3",
          "111111100",
          "18",
          "908021112"
         ]
        ],
        [
         "000001508",
         "180807",
         "ZZ421406317      ",
         "30133052274      ",
         "00501",
         "1202",
         "1770",
         "20180710",
         "OO000011111",
         "000000005D",
         "005010X222A1",
         "214339",
         "222",
         "222",
         [
          "",
          "",
          "984",
          [
           [
            "20180713",
            "454",
            "D8"
           ],
           [
            "20180713",
            "304",
            "D8"
           ]
          ],
          "ABC111112",
          [
           [
            "1254789634",
            "EA"
           ],
           [
            "012345678901231",
            "D9"
           ]
          ],
          "",
          "",
          "",
          "22:B:1",
          [
           [],
           [
            "",
            "",
            ""
           ]
          ],
          []
         ],
         [
          [
           "1",
           "1",
           "984",
           "AA,P3",
           [],
           "",
           "00731",
           "HC",
           null,
           [
            [
             "20180713-20180713",
             "472",
             "RD8"
            ],
            [
             "20180713",
             "454",
             "D8"
            ],
            [
             "20180713",
             "304",
             "D8"
            ]
           ],
           "24",
           "MJ"
          ],
          [
           "1",
           "1",
           "1353",
           "AA",
           [],
           "",
           "00840",
           "HC",
           null,
           [
            [
             "20180713-20180713",
             "472",
             "RD8"
            ],
            [
             "20180713",
             "454",
             "D8"
            ],
            [
             "20180713",
             "304",
             "D8"
            ]
           ],
           "62",
           "MJ"
          ],
          [
           "1",
           "1",
           "1230",
           "AA",
           [],
           "",
           "00902",
           "HC",
           null,
           [
            [
             "20180713-20180713",
             "472",
             "RD8"
            ]
           ],
           "65",
           "MJ"
          ],
          [
           "2",
           "2",
           "738",
           "59",
           [],
           "",
           "62322",
           "HC",
           null,
           [
            [
             "20180713-20180713",
             "472",
             "RD8"
            ]
           ],
           "1",
           "UN"
          ]
         ],
         [
          "",
          "",
          "",
          "",
          [],
          "K219",
          "K219",
          "",
          ""
         ],
         "file:/Workspace/Users/raven.mukherjee@databricks.com/x12-edi-parser/sampledata/837/Molina_Mock_UP_837P_File.txt",
         [
          "FAKE CITY",
          "19760101",
          "D8",
          "F",
          "",
          "ABCDEFGH IJKLMNOP B",
          "",
          "CA",
          "123 ADDRESS7",
          "11111117",
          "18",
          "908021117"
         ],
         [
          "2",
          "ABCMMPIO",
          "PI",
          "ABCHYI OL POI"
         ],
         [
          null,
          [
           "FAKE CITY",
           "543211234",
           "EI",
           "Organization",
           "ABCDE EFGHIJ GROUP PC",
           "1222222223",
           "",
           "CA",
           "123 ADDRESS5",
           "",
           "908021115"
          ],
          null,
          null,
          [
           "",
           "",
           "",
           "Individual",
           "ABCDEFG OPQRST A",
           "1122334460",
           "",
           "",
           "",
           "",
           ""
          ],
          [
           "FAKE CITY",
           "",
           "",
           "Organization",
           "ABCDEFG HIJKLMN HOSP",
           "1122334450",
           "",
           "CA",
           "123 ADDRESS8",
           "",
           "908021118"
          ],
          [
           "",
           "",
           "",
           "Individual",
           "STUVW KLMNOP H",
           "1122334461",
           "PE",
           "",
           "",
           "207L00000X",
           ""
          ]
         ],
         [
          "ABCHYI OL POI",
          "Organization"
         ],
         [
          "ABCDEF",
          "ABCDEF CUSTOMER SOLUTIONS",
          [
           [
            "TE",
            "9999999999"
           ],
           [
            "",
            ""
           ]
          ],
          "Organization"
         ],
         [
          "FAKE CITY",
          "19760101",
          "D8",
          "F",
          "",
          "ABCDEFGH IJKLMNOP B",
          "",
          "CA",
          "123 ADDRESS7",
          "11111117",
          "18",
          "908021117"
         ]
        ],
        [
         "000001508",
         "180807",
         "ZZ421406317      ",
         "30133052274      ",
         "00501",
         "1202",
         "1770",
         "20180710",
         "OO000011111",
         "000000005D",
         "005010X222A1",
         "214339",
         "222",
         "222",
         [
          "",
          "",
          "1353",
          [
           [
            "20180713",
            "454",
            "D8"
           ],
           [
            "20180713",
            "304",
            "D8"
           ]
          ],
          "ABC111113",
          [
           [
            "963852741",
            "EA"
           ],
           [
            "548721986532651",
            "D9"
           ]
          ],
          "",
          "",
          "",
          "22:B:1",
          [
           [],
           [
            "",
            "",
            ""
           ]
          ],
          []
         ],
         [
          [
           "1",
           "1",
           "1353",
           "AA",
           [],
           "",
           "00840",
           "HC",
           null,
           [
            [
             "20180713-20180713",
             "472",
             "RD8"
            ],
            [
             "20180713",
             "454",
             "D8"
            ],
            [
             "20180713",
             "304",
             "D8"
            ]
           ],
           "62",
           "MJ"
          ],
          [
           "1",
           "1",
           "1230",
           "AA",
           [],
           "",
           "00902",
           "HC",
           null,
           [
            [
             "20180713-20180713",
             "472",
             "RD8"
            ]
           ],
           "65",
           "MJ"
          ],
          [
           "2",
           "2",
           "738",
           "59",
           [],
           "",
           "62322",
           "HC",
           null,
           [
            [
             "20180713-20180713",
             "472",
             "RD8"
            ]
           ],
           "1",
           "UN"
          ]
         ],
         [
          "",
          "",
          "",
          "",
          [],
          "K4090",
          "K4090",
          "",
          ""
         ],
         "file:/Workspace/Users/raven.mukherjee@databricks.com/x12-edi-parser/sampledata/837/Molina_Mock_UP_837P_File.txt",
         [
          "FAKE CITY",
          "20180409",
          "D8",
          "M",
          "",
          "ABCDEFGH IJKLMNOP B",
          "",
          "CA",
          "123 ADDRESS11",
          "111111111",
          "18",
          "908021111"
         ],
         [
          "2",
          "YTHF281123456",
          "PI",
          "ABCHYI OL POI"
         ],
         [
          null,
          [
           "FAKE CITY",
           "931013923",
           "EI",
           "Organization",
           "ABCDE EFGHIJ GROUP PC",
           "1477527786",
           "",
           "CA",
           "123 ADDRESS9",
           "",
           "908021119"
          ],
          null,
          null,
          [
           "",
           "",
           "",
           "Individual",
           "ABCDEFGH OPQRSTU A",
           "1122334456",
           "",
           "",
           "",
           "",
           ""
          ],
          [
           "FAKE CITY",
           "",
           "",
           "Organization",
           "ABCDEFG HIJKLMN HOSP",
           "1122334458",
           "",
           "CA",
           "123 ADDRESS12",
           "",
           "908021112"
          ],
          [
           "",
           "",
           "",
           "Individual",
           "STUVWX KLMNOPQ H",
           "1122334457",
           "PE",
           "",
           "",
           "207L00000X",
           ""
          ]
         ],
         [
          "ABCHYI OL POI",
          "Organization"
         ],
         [
          "ABCDEF",
          "ABCDEF CUSTOMER SOLUTIONS",
          [
           [
            "TE",
            "9999999999"
           ],
           [
            "",
            ""
           ]
          ],
          "Organization"
         ],
         [
          "FAKE CITY",
          "20180409",
          "D8",
          "M",
          "",
          "ABCDEFGH IJKLMNOP B",
          "",
          "CA",
          "123 ADDRESS11",
          "111111111",
          "18",
          "908021111"
         ]
        ],
        [
         "000001508",
         "180807",
         "ZZ421406317      ",
         "30133052274      ",
         "00501",
         "1202",
         "1770",
         "20180710",
         "OO000011111",
         "000000005D",
         "005010X222A1",
         "214339",
         "222",
         "222",
         [
          "",
          "",
          "1968",
          [
           [
            "20180713",
            "454",
            "D8"
           ],
           [
            "20180713",
            "304",
            "D8"
           ]
          ],
          "ABC111114",
          [
           [
            "123456789",
            "EA"
           ],
           [
            "215487986532544",
            "D9"
           ]
          ],
          "",
          "",
          "",
          "22:B:1",
          [
           [],
           [
            "",
            "",
            ""
           ]
          ],
          []
         ],
         [
          [
           "1",
           "1",
           "1230",
           "AA",
           [],
           "",
           "00902",
           "HC",
           null,
           [
            [
             "20180713-20180713",
             "472",
             "RD8"
            ]
           ],
           "65",
           "MJ"
          ],
          [
           "2",
           "2",
           "738",
           "59",
           [],
           "",
           "62322",
           "HC",
           null,
           [
            [
             "20180713-20180713",
             "472",
             "RD8"
            ]
           ],
           "1",
           "UN"
          ]
         ],
         [
          "",
          "",
          "",
          "",
          [],
          "Q423",
          "Q423",
          "",
          ""
         ],
         "file:/Workspace/Users/raven.mukherjee@databricks.com/x12-edi-parser/sampledata/837/Molina_Mock_UP_837P_File.txt",
         [
          "FAKE CITY",
          "20180504",
          "D8",
          "F",
          "",
          "ABCDEFGH IJKLMNOP B",
          "",
          "CA",
          "123 ADDRESS13",
          "111111112",
          "18",
          "908021113"
         ],
         [
          "2",
          "YTHF281123456",
          "PI",
          "ABCHYI OL POI"
         ],
         [
          null,
          [
           "FAKE CITY",
           "931013923",
           "EI",
           "Organization",
           "ABCDE EFGHIJ GROUP PC",
           "1477527786",
           "",
           "CA",
           "123 ADDRESS9",
           "",
           "908021119"
          ],
          null,
          null,
          [
           "",
           "",
           "",
           "Individual",
           "ABCDEFGHI OPQRSTUV A",
           "1122334455",
           "",
           "",
           "",
           "",
           ""
          ],
          [
           "FAKE CITY",
           "",
           "",
           "Organization",
           "ABCDEFG HIJKLMN HOSP",
           "1122334457",
           "",
           "CA",
           "123 ADDRESS15",
           "",
           "908021115"
          ],
          [
           "",
           "",
           "",
           "Individual",
           "STUVWXY KLMNOPQR H",
           "1122334456",
           "PE",
           "",
           "",
           "207L00000X",
           ""
          ]
         ],
         [
          "ABCHYI OL POI",
          "Organization"
         ],
         [
          "ABCDEF",
          "ABCDEF CUSTOMER SOLUTIONS",
          [
           [
            "TE",
            "9999999999"
           ],
           [
            "",
            ""
           ]
          ],
          "Organization"
         ],
         [
          "FAKE CITY",
          "20180504",
          "D8",
          "F",
          "",
          "ABCDEFGH IJKLMNOP B",
          "",
          "CA",
          "123 ADDRESS13",
          "111111112",
          "18",
          "908021113"
         ]
        ],
        [
         "000001508",
         "180807",
         "ZZ421406317      ",
         "30133052274      ",
         "00501",
         "1202",
         "150800",
         "20180807",
         "421406317",
         "133052274",
         "005010X223A2",
         "12022761",
         "223",
         "223",
         [
          "1",
          "1",
          "17166.7",
          [
           [
            "0900",
            "096",
            "TM"
           ],
           [
            "20180628-20180702",
            "434",
            "RD8"
           ],
           [
            "201806280800",
            "435",
            "DT"
           ]
          ],
          "TD-R192ICE00087",
          [
           [
            "TD-R192ICE00087",
            "D9"
           ]
          ],
          "01",
          "DR:885",
          "",
          "11:A:1",
          [
           [],
           [
            "",
            "",
            ""
           ]
          ],
          []
         ],
         [
          [
           "1",
           null,
           "9148",
           "",
           [],
           null,
           "",
           "",
           "0124",
           [
            [
             "20180628-20180702",
             "472",
             "RD8"
            ]
           ],
           "4",
           "UN"
          ],
          [
           "2",
           null,
           "48.1",
           "",
           [],
           null,
           "",
           "",
           "0250",
           [
            [
             "20180628-20180702",
             "472",
             "RD8"
            ]
           ],
           "28",
           "UN"
          ],
          [
           "3",
           null,
           "133",
           "",
           [],
           null,
           "",
           "",
           "0260",
           [
            [
             "20180628-20180702",
             "472",
             "RD8"
            ]
           ],
           "1",
           "UN"
          ],
          [
           "4",
           null,
           "32.9",
           "",
           [],
           null,
           "",
           "",
           "0300",
           [
            [
             "20180628-20180702",
             "472",
             "RD8"
            ]
           ],
           "1",
           "UN"
          ],
          [
           "5",
           null,
           "798.5",
           "",
           [],
           null,
           "",
           "",
           "0301",
           [
            [
             "20180628-20180702",
             "472",
             "RD8"
            ]
           ],
           "4",
           "UN"
          ],
          [
           "6",
           null,
           "200.6",
           "",
           [],
           null,
           "",
           "",
           "0305",
           [
            [
             "20180628-20180702",
             "472",
             "RD8"
            ]
           ],
           "2",
           "UN"
          ],
          [
           "7",
           null,
           "175",
           "",
           [],
           null,
           "",
           "",
           "0306",
           [
            [
             "20180628-20180702",
             "472",
             "RD8"
            ]
           ],
           "1",
           "UN"
          ],
          [
           "8",
           null,
           "113.6",
           "",
           [],
           null,
           "",
           "",
           "0307",
           [
            [
             "20180628-20180702",
             "472",
             "RD8"
            ]
           ],
           "2",
           "UN"
          ],
          [
           "9",
           null,
           "6517",
           "",
           [],
           null,
           "",
           "",
           "0351",
           [
            [
             "20180628-20180702",
             "472",
             "RD8"
            ]
           ],
           "2",
           "UN"
          ]
         ],
         [
          "F39",
          "F39",
          "",
          "",
          [
           [
            "F1319",
            "Y"
           ],
           [
            "F419",
            "Y"
           ],
           [
            "F17210",
            "Y"
           ],
           [
            "E876",
            "N"
           ]
          ],
          "F39",
          "Y",
          "",
          ""
         ],
         "file:/Workspace/Users/raven.mukherjee@databricks.com/x12-edi-parser/sampledata/837/CC_837I_EDI.txt",
         [
          "Elgin",
          "19960215",
          "D8",
          "F",
          "",
          "TEST MEMBER ",
          "",
          "IL",
          "123 MAIN STREET",
          "U0000000001",
          "18",
          "601200001"
         ],
         [
          "2",
          "421406317",
          "PI",
          "CENTENE"
         ],
         [
          [
           "",
           "",
           "",
           "Individual",
           "  ",
           "",
           "",
           "",
           "",
           "",
           ""
          ],
          [
           "WOODSTOCK",
           "999999999",
           "EI",
           "Organization",
           "Test Provider",
           "9999999999",
           "",
           "IL",
           "123 MAIN STREET",
           "",
           "600980000"
          ],
          [
           "",
           "",
           "",
           "Individual",
           "  ",
           "",
           "",
           "",
           "",
           "",
           ""
          ],
          [
           "",
           "",
           "",
           "Individual",
           "  ",
           "",
           "",
           "",
           "",
           "",
           ""
          ],
          null,
          [
           "CHICAGO",
           "",
           "",
           "Organization",
           "BETHANY HOMES AND METHODIST HOSPITAL",
           "",
           "",
           "IL",
           "240 WILSON RD",
           "",
           "606400000"
          ],
          null
         ],
         [
          "CENTENE CORP",
          "Organization"
         ],
         [
          "TALEND",
          "SAMBIT",
          [
           [
            "TE",
            "3143202264"
           ],
           [
            "EX",
            "8099264"
           ]
          ],
          "Organization"
         ],
         [
          "Elgin",
          "19960215",
          "D8",
          "F",
          "",
          "TEST MEMBER ",
          "",
          "IL",
          "123 MAIN STREET",
          "U0000000001",
          "18",
          "601200001"
         ]
        ],
        [
         "000000101",
         "170508",
         "ZZ11111          ",
         "ZZ1234567        ",
         "00501",
         "1141",
         "101",
         "20170617",
         "XXXXX",
         "XXXXXXX",
         "005010X222A1",
         "1741",
         "222",
         "222",
         [
          "",
          "",
          "140",
          [],
          "1000A",
          [],
          "",
          "",
          "",
          "19:B:1",
          [
           [],
           [
            "",
            "",
            ""
           ]
          ],
          []
         ],
         [
          [
           "1",
           "1",
           "140",
           "",
           [],
           "",
           "99213",
           "HC",
           null,
           [
            [
             "20151124",
             "472",
             "D8"
            ]
           ],
           "1",
           "UN"
          ],
          [
           "1",
           "1",
           "140",
           "",
           [],
           "",
           "99213",
           "HC",
           null,
           [
            [
             "20151124",
             "472",
             "D8"
            ]
           ],
           "1",
           "UN"
          ]
         ],
         [
          "",
          "",
          "",
          "",
          [],
          "I10",
          "I10",
          "",
          ""
         ],
         "file:/Workspace/Users/raven.mukherjee@databricks.com/x12-edi-parser/sampledata/837/837p.txt",
         [
          "CHICAGO",
          "19570111",
          "D8",
          "M",
          "",
          "BLOGGS JOE ",
          "",
          "IL",
          "1 SOME BLVD",
          "1234567890",
          "18",
          "606129998"
         ],
         [
          "2",
          "12345",
          "PI",
          "PAYER"
         ],
         [
          null,
          [
           "CHICAGO",
           "999999999",
           "EI",
           "Organization",
           "BILLING PROVIDER",
           "1122334455",
           "",
           "IL",
           "1234 SOME ROAD",
           "",
           "606739999"
          ],
          null,
          null,
          [
           "",
           "",
           "",
           "Individual",
           "  ",
           "",
           "",
           "",
           "",
           "",
           ""
          ],
          [
           "",
           "",
           "",
           "Individual",
           "  ",
           "",
           "",
           "",
           "",
           "",
           ""
          ],
          [
           "",
           "",
           "",
           "Individual",
           "  ",
           "",
           "",
           "",
           "",
           "",
           ""
          ]
         ],
         [
          "RECEIVER",
          "Organization"
         ],
         [
          "SUBMITTER",
          "BOB SMITH",
          [
           [
            "TE",
            "4805551212"
           ],
           [
            "",
            ""
           ]
          ],
          "Organization"
         ],
         [
          "CHICAGO",
          "19570111",
          "D8",
          "M",
          "",
          "BLOGGS JOE ",
          "",
          "IL",
          "1 SOME BLVD",
          "1234567890",
          "18",
          "606129998"
         ]
        ],
        [
         "000000101",
         "170508",
         "ZZ11111          ",
         "ZZ1234567        ",
         "00501",
         "1141",
         "101",
         "20170617",
         "XXXXX",
         "XXXXXXX",
         "005010X222A1",
         "1741",
         "222",
         "222",
         [
          "",
          "",
          "140",
          [],
          "1001A",
          [],
          "",
          "",
          "",
          "19:B:1",
          [
           [],
           [
            "",
            "",
            ""
           ]
          ],
          []
         ],
         [
          [
           "1",
           "1",
           "140",
           "",
           [],
           "",
           "99213",
           "HC",
           null,
           [
            [
             "20151124",
             "472",
             "D8"
            ]
           ],
           "1",
           "UN"
          ]
         ],
         [
          "",
          "",
          "",
          "",
          [],
          "I10",
          "I10",
          "",
          ""
         ],
         "file:/Workspace/Users/raven.mukherjee@databricks.com/x12-edi-parser/sampledata/837/837p.txt",
         [
          "CHICAGO",
          "19700601",
          "D8",
          "M",
          "",
          "BLOGGS FRED ",
          "",
          "IL",
          "1 ANOTHER STR",
          "9876543201",
          "18",
          "606129998"
         ],
         [
          "2",
          "12345",
          "PI",
          "PAYER"
         ],
         [
          null,
          [
           "CHICAGO",
           "999999999",
           "EI",
           "Organization",
           "BILLING PROVIDER",
           "1122334455",
           "",
           "IL",
           "1234 SOME ROAD",
           "",
           "606739999"
          ],
          null,
          null,
          [
           "",
           "",
           "",
           "Individual",
           "  ",
           "",
           "",
           "",
           "",
           "",
           ""
          ],
          [
           "",
           "",
           "",
           "Individual",
           "  ",
           "",
           "",
           "",
           "",
           "",
           ""
          ],
          [
           "",
           "",
           "",
           "Individual",
           "  ",
           "",
           "",
           "",
           "",
           "",
           ""
          ]
         ],
         [
          "RECEIVER",
          "Organization"
         ],
         [
          "SUBMITTER",
          "BOB SMITH",
          [
           [
            "TE",
            "4805551212"
           ],
           [
            "",
            ""
           ]
          ],
          "Organization"
         ],
         [
          "CHICAGO",
          "19700601",
          "D8",
          "M",
          "",
          "BLOGGS FRED ",
          "",
          "IL",
          "1 ANOTHER STR",
          "9876543201",
          "18",
          "606129998"
         ]
        ]
       ],
       "datasetInfos": [],
       "dbfsResultPath": null,
       "isJsonSchema": true,
       "metadata": {
        "createTempViewForImplicitDf": true,
        "dataframeName": "_sqldf",
        "executionCount": 3
       },
       "overflow": false,
       "plotOptions": {
        "customPlotOptions": {},
        "displayType": "table",
        "pivotAggregation": null,
        "pivotColumns": null,
        "xColumns": null,
        "yColumns": null
       },
       "removedWidgets": [],
       "schema": [
        {
         "metadata": "{}",
         "name": "EDI.control_number",
         "type": "\"string\""
        },
        {
         "metadata": "{}",
         "name": "EDI.date",
         "type": "\"string\""
        },
        {
         "metadata": "{}",
         "name": "EDI.recipient_qualifier_id",
         "type": "\"string\""
        },
        {
         "metadata": "{}",
         "name": "EDI.sender_qualifier_id",
         "type": "\"string\""
        },
        {
         "metadata": "{}",
         "name": "EDI.standard_version",
         "type": "\"string\""
        },
        {
         "metadata": "{}",
         "name": "EDI.time",
         "type": "\"string\""
        },
        {
         "metadata": "{}",
         "name": "FunctionalGroup.control_number",
         "type": "\"string\""
        },
        {
         "metadata": "{}",
         "name": "FunctionalGroup.date",
         "type": "\"string\""
        },
        {
         "metadata": "{}",
         "name": "FunctionalGroup.receiver",
         "type": "\"string\""
        },
        {
         "metadata": "{}",
         "name": "FunctionalGroup.sender",
         "type": "\"string\""
        },
        {
         "metadata": "{}",
         "name": "FunctionalGroup.standard_version",
         "type": "\"string\""
        },
        {
         "metadata": "{}",
         "name": "FunctionalGroup.time",
         "type": "\"string\""
        },
        {
         "metadata": "{}",
         "name": "FunctionalGroup.transaction_type",
         "type": "\"string\""
        },
        {
         "metadata": "{}",
         "name": "Transaction.transaction_type",
         "type": "\"string\""
        },
        {
         "metadata": "{}",
         "name": "claim_header",
         "type": "{\"type\":\"struct\",\"fields\":[{\"name\":\"admission_src_cd\",\"type\":\"string\",\"nullable\":true,\"metadata\":{}},{\"name\":\"admission_type\",\"type\":\"string\",\"nullable\":true,\"metadata\":{}},{\"name\":\"claim_amount\",\"type\":\"string\",\"nullable\":true,\"metadata\":{}},{\"name\":\"claim_dates\",\"type\":{\"type\":\"array\",\"elementType\":{\"type\":\"struct\",\"fields\":[{\"name\":\"date\",\"type\":\"string\",\"nullable\":true,\"metadata\":{}},{\"name\":\"date_cd\",\"type\":\"string\",\"nullable\":true,\"metadata\":{}},{\"name\":\"date_format\",\"type\":\"string\",\"nullable\":true,\"metadata\":{}}]},\"containsNull\":true},\"nullable\":true,\"metadata\":{}},{\"name\":\"claim_id\",\"type\":\"string\",\"nullable\":true,\"metadata\":{}},{\"name\":\"clm_refs\",\"type\":{\"type\":\"array\",\"elementType\":{\"type\":\"struct\",\"fields\":[{\"name\":\"id\",\"type\":\"string\",\"nullable\":true,\"metadata\":{}},{\"name\":\"id_code_qualifier\",\"type\":\"string\",\"nullable\":true,\"metadata\":{}}]},\"containsNull\":true},\"nullable\":true,\"metadata\":{}},{\"name\":\"discharge_status_cd\",\"type\":\"string\",\"nullable\":true,\"metadata\":{}},{\"name\":\"drg_cd\",\"type\":\"string\",\"nullable\":true,\"metadata\":{}},{\"name\":\"encounter_id\",\"type\":\"string\",\"nullable\":true,\"metadata\":{}},{\"name\":\"facility_type_code\",\"type\":\"string\",\"nullable\":true,\"metadata\":{}},{\"name\":\"icd10_pcs_cds\",\"type\":{\"type\":\"struct\",\"fields\":[{\"name\":\"other_cds\",\"type\":{\"type\":\"array\",\"elementType\":\"string\",\"containsNull\":true},\"nullable\":true,\"metadata\":{}},{\"name\":\"principal_prcdr\",\"type\":{\"type\":\"struct\",\"fields\":[{\"name\":\"date\",\"type\":\"string\",\"nullable\":true,\"metadata\":{}},{\"name\":\"date_format\",\"type\":\"string\",\"nullable\":true,\"metadata\":{}},{\"name\":\"prcdr_cd\",\"type\":\"string\",\"nullable\":true,\"metadata\":{}}]},\"nullable\":true,\"metadata\":{}}]},\"nullable\":true,\"metadata\":{}},{\"name\":\"other_amts\",\"type\":{\"type\":\"array\",\"elementType\":\"string\",\"containsNull\":true},\"nullable\":true,\"metadata\":{}}]}"
        },
        {
         "metadata": "{}",
         "name": "claim_lines",
         "type": "{\"type\":\"array\",\"elementType\":{\"type\":\"struct\",\"fields\":[{\"name\":\"claim_line_number\",\"type\":\"string\",\"nullable\":true,\"metadata\":{}},{\"name\":\"dg_cd_pntr\",\"type\":\"string\",\"nullable\":true,\"metadata\":{}},{\"name\":\"line_chrg_amt\",\"type\":\"string\",\"nullable\":true,\"metadata\":{}},{\"name\":\"modifier_cds\",\"type\":\"string\",\"nullable\":true,\"metadata\":{}},{\"name\":\"other_amts\",\"type\":{\"type\":\"array\",\"elementType\":\"string\",\"containsNull\":true},\"nullable\":true,\"metadata\":{}},{\"name\":\"place_of_service\",\"type\":\"string\",\"nullable\":true,\"metadata\":{}},{\"name\":\"prcdr_cd\",\"type\":\"string\",\"nullable\":true,\"metadata\":{}},{\"name\":\"prcdr_cd_type\",\"type\":\"string\",\"nullable\":true,\"metadata\":{}},{\"name\":\"revenue_cd\",\"type\":\"string\",\"nullable\":true,\"metadata\":{}},{\"name\":\"service_dates\",\"type\":{\"type\":\"array\",\"elementType\":{\"type\":\"struct\",\"fields\":[{\"name\":\"date\",\"type\":\"string\",\"nullable\":true,\"metadata\":{}},{\"name\":\"date_cd\",\"type\":\"string\",\"nullable\":true,\"metadata\":{}},{\"name\":\"date_format\",\"type\":\"string\",\"nullable\":true,\"metadata\":{}}]},\"containsNull\":true},\"nullable\":true,\"metadata\":{}},{\"name\":\"units\",\"type\":\"string\",\"nullable\":true,\"metadata\":{}},{\"name\":\"units_measurement\",\"type\":\"string\",\"nullable\":true,\"metadata\":{}}]},\"containsNull\":true}"
        },
        {
         "metadata": "{}",
         "name": "diagnosis",
         "type": "{\"type\":\"struct\",\"fields\":[{\"name\":\"admitting_dx_cd\",\"type\":\"string\",\"nullable\":true,\"metadata\":{}},{\"name\":\"admitting_dx_poa\",\"type\":\"string\",\"nullable\":true,\"metadata\":{}},{\"name\":\"external_injury_dx_cd\",\"type\":\"string\",\"nullable\":true,\"metadata\":{}},{\"name\":\"external_injury_dx_poa\",\"type\":\"string\",\"nullable\":true,\"metadata\":{}},{\"name\":\"other_dx_cds\",\"type\":{\"type\":\"array\",\"elementType\":{\"type\":\"struct\",\"fields\":[{\"name\":\"dx_cd\",\"type\":\"string\",\"nullable\":true,\"metadata\":{}},{\"name\":\"poa\",\"type\":\"string\",\"nullable\":true,\"metadata\":{}}]},\"containsNull\":true},\"nullable\":true,\"metadata\":{}},{\"name\":\"principal_dx_cd\",\"type\":\"string\",\"nullable\":true,\"metadata\":{}},{\"name\":\"principal_dx_poa\",\"type\":\"string\",\"nullable\":true,\"metadata\":{}},{\"name\":\"reason_visit_dx_cd\",\"type\":\"string\",\"nullable\":true,\"metadata\":{}},{\"name\":\"reason_visit_dx_poa\",\"type\":\"string\",\"nullable\":true,\"metadata\":{}}]}"
        },
        {
         "metadata": "{}",
         "name": "filename",
         "type": "\"string\""
        },
        {
         "metadata": "{}",
         "name": "patient",
         "type": "{\"type\":\"struct\",\"fields\":[{\"name\":\"city\",\"type\":\"string\",\"nullable\":true,\"metadata\":{}},{\"name\":\"dob\",\"type\":\"string\",\"nullable\":true,\"metadata\":{}},{\"name\":\"dob_format\",\"type\":\"string\",\"nullable\":true,\"metadata\":{}},{\"name\":\"gender_cd\",\"type\":\"string\",\"nullable\":true,\"metadata\":{}},{\"name\":\"mrn\",\"type\":\"string\",\"nullable\":true,\"metadata\":{}},{\"name\":\"name\",\"type\":\"string\",\"nullable\":true,\"metadata\":{}},{\"name\":\"patient_relationship_cd\",\"type\":\"string\",\"nullable\":true,\"metadata\":{}},{\"name\":\"state\",\"type\":\"string\",\"nullable\":true,\"metadata\":{}},{\"name\":\"street\",\"type\":\"string\",\"nullable\":true,\"metadata\":{}},{\"name\":\"subsciber_identifier\",\"type\":\"string\",\"nullable\":true,\"metadata\":{}},{\"name\":\"subscriber_relationship_cd\",\"type\":\"string\",\"nullable\":true,\"metadata\":{}},{\"name\":\"zip\",\"type\":\"string\",\"nullable\":true,\"metadata\":{}}]}"
        },
        {
         "metadata": "{}",
         "name": "payer",
         "type": "{\"type\":\"struct\",\"fields\":[{\"name\":\"business_entity_type\",\"type\":\"string\",\"nullable\":true,\"metadata\":{}},{\"name\":\"payer_identifier\",\"type\":\"string\",\"nullable\":true,\"metadata\":{}},{\"name\":\"payer_identifier_cd\",\"type\":\"string\",\"nullable\":true,\"metadata\":{}},{\"name\":\"payer_name\",\"type\":\"string\",\"nullable\":true,\"metadata\":{}}]}"
        },
        {
         "metadata": "{}",
         "name": "providers",
         "type": "{\"type\":\"struct\",\"fields\":[{\"name\":\"attending\",\"type\":{\"type\":\"struct\",\"fields\":[{\"name\":\"city\",\"type\":\"string\",\"nullable\":true,\"metadata\":{}},{\"name\":\"ein\",\"type\":\"string\",\"nullable\":true,\"metadata\":{}},{\"name\":\"ein_type\",\"type\":\"string\",\"nullable\":true,\"metadata\":{}},{\"name\":\"entity_type\",\"type\":\"string\",\"nullable\":true,\"metadata\":{}},{\"name\":\"name\",\"type\":\"string\",\"nullable\":true,\"metadata\":{}},{\"name\":\"npi\",\"type\":\"string\",\"nullable\":true,\"metadata\":{}},{\"name\":\"provider_role\",\"type\":\"string\",\"nullable\":true,\"metadata\":{}},{\"name\":\"state\",\"type\":\"string\",\"nullable\":true,\"metadata\":{}},{\"name\":\"street\",\"type\":\"string\",\"nullable\":true,\"metadata\":{}},{\"name\":\"taxonomy\",\"type\":\"string\",\"nullable\":true,\"metadata\":{}},{\"name\":\"zip\",\"type\":\"string\",\"nullable\":true,\"metadata\":{}}]},\"nullable\":true,\"metadata\":{}},{\"name\":\"billing\",\"type\":{\"type\":\"struct\",\"fields\":[{\"name\":\"city\",\"type\":\"string\",\"nullable\":true,\"metadata\":{}},{\"name\":\"ein\",\"type\":\"string\",\"nullable\":true,\"metadata\":{}},{\"name\":\"ein_type\",\"type\":\"string\",\"nullable\":true,\"metadata\":{}},{\"name\":\"entity_type\",\"type\":\"string\",\"nullable\":true,\"metadata\":{}},{\"name\":\"name\",\"type\":\"string\",\"nullable\":true,\"metadata\":{}},{\"name\":\"npi\",\"type\":\"string\",\"nullable\":true,\"metadata\":{}},{\"name\":\"provider_role\",\"type\":\"string\",\"nullable\":true,\"metadata\":{}},{\"name\":\"state\",\"type\":\"string\",\"nullable\":true,\"metadata\":{}},{\"name\":\"street\",\"type\":\"string\",\"nullable\":true,\"metadata\":{}},{\"name\":\"taxonomy\",\"type\":\"string\",\"nullable\":true,\"metadata\":{}},{\"name\":\"zip\",\"type\":\"string\",\"nullable\":true,\"metadata\":{}}]},\"nullable\":true,\"metadata\":{}},{\"name\":\"operating\",\"type\":{\"type\":\"struct\",\"fields\":[{\"name\":\"city\",\"type\":\"string\",\"nullable\":true,\"metadata\":{}},{\"name\":\"ein\",\"type\":\"string\",\"nullable\":true,\"metadata\":{}},{\"name\":\"ein_type\",\"type\":\"string\",\"nullable\":true,\"metadata\":{}},{\"name\":\"entity_type\",\"type\":\"string\",\"nullable\":true,\"metadata\":{}},{\"name\":\"name\",\"type\":\"string\",\"nullable\":true,\"metadata\":{}},{\"name\":\"npi\",\"type\":\"string\",\"nullable\":true,\"metadata\":{}},{\"name\":\"provider_role\",\"type\":\"string\",\"nullable\":true,\"metadata\":{}},{\"name\":\"state\",\"type\":\"string\",\"nullable\":true,\"metadata\":{}},{\"name\":\"street\",\"type\":\"string\",\"nullable\":true,\"metadata\":{}},{\"name\":\"taxonomy\",\"type\":\"string\",\"nullable\":true,\"metadata\":{}},{\"name\":\"zip\",\"type\":\"string\",\"nullable\":true,\"metadata\":{}}]},\"nullable\":true,\"metadata\":{}},{\"name\":\"other\",\"type\":{\"type\":\"struct\",\"fields\":[{\"name\":\"city\",\"type\":\"string\",\"nullable\":true,\"metadata\":{}},{\"name\":\"ein\",\"type\":\"string\",\"nullable\":true,\"metadata\":{}},{\"name\":\"ein_type\",\"type\":\"string\",\"nullable\":true,\"metadata\":{}},{\"name\":\"entity_type\",\"type\":\"string\",\"nullable\":true,\"metadata\":{}},{\"name\":\"name\",\"type\":\"string\",\"nullable\":true,\"metadata\":{}},{\"name\":\"npi\",\"type\":\"string\",\"nullable\":true,\"metadata\":{}},{\"name\":\"provider_role\",\"type\":\"string\",\"nullable\":true,\"metadata\":{}},{\"name\":\"state\",\"type\":\"string\",\"nullable\":true,\"metadata\":{}},{\"name\":\"street\",\"type\":\"string\",\"nullable\":true,\"metadata\":{}},{\"name\":\"taxonomy\",\"type\":\"string\",\"nullable\":true,\"metadata\":{}},{\"name\":\"zip\",\"type\":\"string\",\"nullable\":true,\"metadata\":{}}]},\"nullable\":true,\"metadata\":{}},{\"name\":\"referring\",\"type\":{\"type\":\"struct\",\"fields\":[{\"name\":\"city\",\"type\":\"string\",\"nullable\":true,\"metadata\":{}},{\"name\":\"ein\",\"type\":\"string\",\"nullable\":true,\"metadata\":{}},{\"name\":\"ein_type\",\"type\":\"string\",\"nullable\":true,\"metadata\":{}},{\"name\":\"entity_type\",\"type\":\"string\",\"nullable\":true,\"metadata\":{}},{\"name\":\"name\",\"type\":\"string\",\"nullable\":true,\"metadata\":{}},{\"name\":\"npi\",\"type\":\"string\",\"nullable\":true,\"metadata\":{}},{\"name\":\"provider_role\",\"type\":\"string\",\"nullable\":true,\"metadata\":{}},{\"name\":\"state\",\"type\":\"string\",\"nullable\":true,\"metadata\":{}},{\"name\":\"street\",\"type\":\"string\",\"nullable\":true,\"metadata\":{}},{\"name\":\"taxonomy\",\"type\":\"string\",\"nullable\":true,\"metadata\":{}},{\"name\":\"zip\",\"type\":\"string\",\"nullable\":true,\"metadata\":{}}]},\"nullable\":true,\"metadata\":{}},{\"name\":\"service_facility\",\"type\":{\"type\":\"struct\",\"fields\":[{\"name\":\"city\",\"type\":\"string\",\"nullable\":true,\"metadata\":{}},{\"name\":\"ein\",\"type\":\"string\",\"nullable\":true,\"metadata\":{}},{\"name\":\"ein_type\",\"type\":\"string\",\"nullable\":true,\"metadata\":{}},{\"name\":\"entity_type\",\"type\":\"string\",\"nullable\":true,\"metadata\":{}},{\"name\":\"name\",\"type\":\"string\",\"nullable\":true,\"metadata\":{}},{\"name\":\"npi\",\"type\":\"string\",\"nullable\":true,\"metadata\":{}},{\"name\":\"provider_role\",\"type\":\"string\",\"nullable\":true,\"metadata\":{}},{\"name\":\"state\",\"type\":\"string\",\"nullable\":true,\"metadata\":{}},{\"name\":\"street\",\"type\":\"string\",\"nullable\":true,\"metadata\":{}},{\"name\":\"taxonomy\",\"type\":\"string\",\"nullable\":true,\"metadata\":{}},{\"name\":\"zip\",\"type\":\"string\",\"nullable\":true,\"metadata\":{}}]},\"nullable\":true,\"metadata\":{}},{\"name\":\"servicing\",\"type\":{\"type\":\"struct\",\"fields\":[{\"name\":\"city\",\"type\":\"string\",\"nullable\":true,\"metadata\":{}},{\"name\":\"ein\",\"type\":\"string\",\"nullable\":true,\"metadata\":{}},{\"name\":\"ein_type\",\"type\":\"string\",\"nullable\":true,\"metadata\":{}},{\"name\":\"entity_type\",\"type\":\"string\",\"nullable\":true,\"metadata\":{}},{\"name\":\"name\",\"type\":\"string\",\"nullable\":true,\"metadata\":{}},{\"name\":\"npi\",\"type\":\"string\",\"nullable\":true,\"metadata\":{}},{\"name\":\"provider_role\",\"type\":\"string\",\"nullable\":true,\"metadata\":{}},{\"name\":\"state\",\"type\":\"string\",\"nullable\":true,\"metadata\":{}},{\"name\":\"street\",\"type\":\"string\",\"nullable\":true,\"metadata\":{}},{\"name\":\"taxonomy\",\"type\":\"string\",\"nullable\":true,\"metadata\":{}},{\"name\":\"zip\",\"type\":\"string\",\"nullable\":true,\"metadata\":{}}]},\"nullable\":true,\"metadata\":{}}]}"
        },
        {
         "metadata": "{}",
         "name": "receiver",
         "type": "{\"type\":\"struct\",\"fields\":[{\"name\":\"name\",\"type\":\"string\",\"nullable\":true,\"metadata\":{}},{\"name\":\"type\",\"type\":\"string\",\"nullable\":true,\"metadata\":{}}]}"
        },
        {
         "metadata": "{}",
         "name": "submitter",
         "type": "{\"type\":\"struct\",\"fields\":[{\"name\":\"name\",\"type\":\"string\",\"nullable\":true,\"metadata\":{}},{\"name\":\"sbmtter_contact_name\",\"type\":\"string\",\"nullable\":true,\"metadata\":{}},{\"name\":\"sbmtter_contacts\",\"type\":{\"type\":\"array\",\"elementType\":{\"type\":\"array\",\"elementType\":\"string\",\"containsNull\":true},\"containsNull\":true},\"nullable\":true,\"metadata\":{}},{\"name\":\"type\",\"type\":\"string\",\"nullable\":true,\"metadata\":{}}]}"
        },
        {
         "metadata": "{}",
         "name": "subscriber",
         "type": "{\"type\":\"struct\",\"fields\":[{\"name\":\"city\",\"type\":\"string\",\"nullable\":true,\"metadata\":{}},{\"name\":\"dob\",\"type\":\"string\",\"nullable\":true,\"metadata\":{}},{\"name\":\"dob_format\",\"type\":\"string\",\"nullable\":true,\"metadata\":{}},{\"name\":\"gender_cd\",\"type\":\"string\",\"nullable\":true,\"metadata\":{}},{\"name\":\"mrn\",\"type\":\"string\",\"nullable\":true,\"metadata\":{}},{\"name\":\"name\",\"type\":\"string\",\"nullable\":true,\"metadata\":{}},{\"name\":\"patient_relationship_cd\",\"type\":\"string\",\"nullable\":true,\"metadata\":{}},{\"name\":\"state\",\"type\":\"string\",\"nullable\":true,\"metadata\":{}},{\"name\":\"street\",\"type\":\"string\",\"nullable\":true,\"metadata\":{}},{\"name\":\"subsciber_identifier\",\"type\":\"string\",\"nullable\":true,\"metadata\":{}},{\"name\":\"subscriber_relationship_cd\",\"type\":\"string\",\"nullable\":true,\"metadata\":{}},{\"name\":\"zip\",\"type\":\"string\",\"nullable\":true,\"metadata\":{}}]}"
        }
       ],
       "type": "table"
      }
     },
     "output_type": "display_data"
    }
   ],
   "source": [
    "%sql\n",
    "select * from stg_claims"
   ]
  },
  {
   "cell_type": "markdown",
   "metadata": {
    "application/vnd.databricks.v1+cell": {
     "cellMetadata": {},
     "inputWidgets": {},
     "nuid": "fb0209df-1344-43fd-b0d2-0750cad9836f",
     "showTitle": false,
     "tableResultSettingsMap": {},
     "title": ""
    }
   },
   "source": [
    "| Concept        | Claim Header                                          | Claim Line                                            |\n",
    "| -------------- | ----------------------------------------------------- | ----------------------------------------------------- |\n",
    "| Level          | Summary-level (1 per claim)                           | Line-item level (multiple per claim)                  |\n",
    "| Content        | Patient, provider, payer, total charge                | CPT/HCPCS codes, modifiers, units, charge per service |\n",
    "| EDI Source     | CLM segment (837P/I ST loop)                          | SV1 (837P) or SV2 (837I) segments                     |\n",
    "\n",
    "\n",
    "\n",
    "claim_header = encounter/visit-level grouping (like a bill).\n",
    "\n",
    "claim_line = each service rendered during that visit.\n"
   ]
  },
  {
   "cell_type": "code",
   "execution_count": 0,
   "metadata": {
    "application/vnd.databricks.v1+cell": {
     "cellMetadata": {
      "byteLimit": 2048000,
      "implicitDf": true,
      "rowLimit": 10000
     },
     "inputWidgets": {},
     "nuid": "2404f997-0923-48db-b69f-62c87f758ecf",
     "showTitle": true,
     "tableResultSettingsMap": {
      "0": {
       "dataGridStateBlob": "{\"version\":1,\"tableState\":{\"columnPinning\":{\"left\":[\"#row_number#\"],\"right\":[]},\"columnSizing\":{\"claim_header\":574,\"filename\":499},\"columnVisibility\":{}},\"settings\":{\"columns\":{}},\"syncTimestamp\":1752351643861}",
       "filterBlob": null,
       "queryPlanFiltersBlob": null,
       "tableResultIndex": 0
      }
     },
     "title": "Create Claim Header"
    }
   },
   "outputs": [
    {
     "data": {
      "text/html": [
       "<style scoped>\n",
       "  .table-result-container {\n",
       "    max-height: 300px;\n",
       "    overflow: auto;\n",
       "  }\n",
       "  table, th, td {\n",
       "    border: 1px solid black;\n",
       "    border-collapse: collapse;\n",
       "  }\n",
       "  th, td {\n",
       "    padding: 5px;\n",
       "  }\n",
       "  th {\n",
       "    text-align: left;\n",
       "  }\n",
       "</style><div class='table-result-container'><table class='table-result'><thead style='background-color: white'><tr><th>EDI.control_number</th><th>EDI.date</th><th>EDI.recipient_qualifier_id</th><th>EDI.sender_qualifier_id</th><th>EDI.standard_version</th><th>EDI.time</th><th>FunctionalGroup.control_number</th><th>FunctionalGroup.date</th><th>FunctionalGroup.receiver</th><th>FunctionalGroup.sender</th><th>FunctionalGroup.standard_version</th><th>FunctionalGroup.time</th><th>FunctionalGroup.transaction_type</th><th>Transaction.transaction_type</th><th>claim_header</th><th>diagnosis</th><th>filename</th><th>patient</th><th>payer</th><th>providers</th><th>receiver</th><th>submitter</th><th>subscriber</th></tr></thead><tbody><tr><td>697773230</td><td>180508</td><td>ZZ123456789      </td><td>01987654321      </td><td>00501</td><td>0833</td><td>212950697</td><td>20180508</td><td>123456789</td><td>CLEARINGHOUSE</td><td>005010X222A1</td><td>0833</td><td>222</td><td>222</td><td>List(, , 20, List(), 1805080AV3648339, , , , 57:B:1)</td><td>List(, , , F1120, )</td><td>file:/Workspace/Users/raven.mukherjee@databricks.com/x12-edi-parser/sampledata/837/CHPW_Claimdata.txt</td><td>List(VANCOUVER, 19881225, D8, M, , , SUBSCRIBER JOHN J, , WA, 987 65TH PL, 987321, 18, 986640001)</td><td>List(2, CHPWA, PI, COMMUNITY HEALTH PLAN OF WASHINGTON)</td><td>List(null, List(VANCOUVER, 720000000, EI, Organization, BH CLINIC OF VANCOUVER, 1122334455, , WA, 12345 MAIN ST, , 98662), null, null, null, List(, , , Individual,   , , , , , , ), List(, , , Organization, BH CLINIC OF VANCOUVER, 1122334455, , , , , ), List(, , , Individual, PROVIDER JAMES , 1112223338, PE, , , 261QR0405X, ))</td><td>List(123456789, Organization)</td><td>List(CLEARINGHOUSE LLC, CLEARINGHOUSE CLIENT SERVICES, List(List(TE, 8005551212), List(FX, 8005551212)), Organization)</td><td>List(VANCOUVER, 19881225, D8, M, , , SUBSCRIBER JOHN J, , WA, 987 65TH PL, 987321, 18, 986640001)</td></tr><tr><td>697773230</td><td>180508</td><td>ZZ123456789      </td><td>01987654321      </td><td>00501</td><td>0833</td><td>212950697</td><td>20180508</td><td>123456789</td><td>CLEARINGHOUSE</td><td>005010X222A1</td><td>0833</td><td>222</td><td>222</td><td>List(, , 50.1, List(), 1805080AV3648347, , , , 57:B:1)</td><td>List(, , , F1520, )</td><td>file:/Workspace/Users/raven.mukherjee@databricks.com/x12-edi-parser/sampledata/837/CHPW_Claimdata.txt</td><td>List(VANCOUVER, 19881031, D8, F, , , PATIENT SUSAN E, , WA, 765 43RD ST, 765123, 18, 986640002)</td><td>List(2, CHPWA, PI, COMMUNITY HEALTH PLAN OF WASHINGTON)</td><td>List(null, List(VANCOUVER, 720000000, EI, Organization, BH CLINIC OF VANCOUVER, 1122334455, , WA, 12345 MAIN ST, , 98662), null, null, null, List(, , , Individual,   , , , , , , ), List(, , , Organization, BH CLINIC OF VANCOUVER, 1122334455, , , , , ), List(, , , Individual, PROVIDER SUSAN , 1112223346, PE, , , 261QR0405X, ))</td><td>List(123456789, Organization)</td><td>List(CLEARINGHOUSE LLC, CLEARINGHOUSE CLIENT SERVICES, List(List(TE, 8005551212), List(FX, 8005551212)), Organization)</td><td>List(VANCOUVER, 19881031, D8, F, , , PATIENT SUSAN E, , WA, 765 43RD ST, 765123, 18, 986640002)</td></tr><tr><td>697773230</td><td>180508</td><td>ZZ123456789      </td><td>01987654321      </td><td>00501</td><td>0833</td><td>212950697</td><td>20180508</td><td>123456789</td><td>CLEARINGHOUSE</td><td>005010X222A1</td><td>0833</td><td>222</td><td>222</td><td>List(, , 11.64, List(), 1805080AV3648340, , , , 57:B:1)</td><td>List(, , , F1020, )</td><td>file:/Workspace/Users/raven.mukherjee@databricks.com/x12-edi-parser/sampledata/837/CHPW_Claimdata.txt</td><td>List(VANCOUVER, 19881225, D8, M, , , SUBSCRIBER JOHN J, , WA, 987 65TH PL, 987321, 18, 986640001)</td><td>List(2, CHPWA, PI, COMMUNITY HEALTH PLAN OF WASHINGTON)</td><td>List(null, List(VANCOUVER, 720000000, EI, Organization, BH CLINIC OF VANCOUVER, 1122334455, , WA, 12345 MAIN ST, , 98662), null, null, null, List(, , , Individual,   , , , , , , ), List(, , , Organization, BH CLINIC OF VANCOUVER, 1122334455, , , , , ), List(, , , Individual, PROVIDER SUSAN , 1112223346, PE, , , 261QR0405X, ))</td><td>List(123456789, Organization)</td><td>List(CLEARINGHOUSE LLC, CLEARINGHOUSE CLIENT SERVICES, List(List(TE, 8005551212), List(FX, 8005551212)), Organization)</td><td>List(VANCOUVER, 19881225, D8, M, , , SUBSCRIBER JOHN J, , WA, 987 65TH PL, 987321, 18, 986640001)</td></tr><tr><td>697773230</td><td>180508</td><td>ZZ123456789      </td><td>01987654321      </td><td>00501</td><td>0833</td><td>212950697</td><td>20180508</td><td>123456789</td><td>CLEARINGHOUSE</td><td>005010X222A1</td><td>0833</td><td>222</td><td>222</td><td>List(, , 234, List(), 1805080AV3648353, , , , 53:B:1)</td><td>List(, , , F251, )</td><td>file:/Workspace/Users/raven.mukherjee@databricks.com/x12-edi-parser/sampledata/837/CHPW_Claimdata.txt</td><td>List(VANCOUVER, 19881031, D8, F, , , PATIENT SUSAN E, , WA, 765 43RD ST, 765123, 18, 986640002)</td><td>List(2, CHPWA, PI, COMMUNITY HEALTH PLAN OF WASHINGTON)</td><td>List(null, List(VANCOUVER, 720000000, EI, Organization, BH CLINIC OF VANCOUVER, 1122334455, , WA, 12345 MAIN ST, , 98662), null, null, null, List(, , , Individual,   , , , , , , ), List(, , , Organization, BH CLINIC OF VANCOUVER, 1122334455, , , , , ), List(, , , Individual, PROVIDER SUSAN , 1112223346, PE, , , 251S00000X, ))</td><td>List(123456789, Organization)</td><td>List(CLEARINGHOUSE LLC, CLEARINGHOUSE CLIENT SERVICES, List(List(TE, 8005551212), List(FX, 8005551212)), Organization)</td><td>List(VANCOUVER, 19881031, D8, F, , , PATIENT SUSAN E, , WA, 765 43RD ST, 765123, 18, 986640002)</td></tr><tr><td>697773230</td><td>180508</td><td>ZZ123456789      </td><td>01987654321      </td><td>00501</td><td>0833</td><td>212950697</td><td>20180508</td><td>123456789</td><td>CLEARINGHOUSE</td><td>005010X222A1</td><td>0833</td><td>222</td><td>222</td><td>List(, , 20, List(), 1805080AV3648355, , , , 57:B:1)</td><td>List(, , , F1020, )</td><td>file:/Workspace/Users/raven.mukherjee@databricks.com/x12-edi-parser/sampledata/837/CHPW_Claimdata.txt</td><td>List(VANCOUVER, 19881225, D8, M, , , SUBSCRIBER JOHN J, , WA, 987 65TH PL, 987321, 18, 986640001)</td><td>List(2, CHPWA, PI, COMMUNITY HEALTH PLAN OF WASHINGTON)</td><td>List(null, List(VANCOUVER, 720000000, EI, Organization, BH CLINIC OF VANCOUVER, 1122334455, , WA, 12345 MAIN ST, , 98662), null, null, null, List(, , , Individual,   , , , , , , ), List(, , , Organization, BH CLINIC OF VANCOUVER, 1122334455, , , , , ), List(, , , Individual, PROVIDER JAMES , 1112223338, PE, , , 261QR0405X, ))</td><td>List(123456789, Organization)</td><td>List(CLEARINGHOUSE LLC, CLEARINGHOUSE CLIENT SERVICES, List(List(TE, 8005551212), List(FX, 8005551212)), Organization)</td><td>List(VANCOUVER, 19881225, D8, M, , , SUBSCRIBER JOHN J, , WA, 987 65TH PL, 987321, 18, 986640001)</td></tr><tr><td>000001508</td><td>180807</td><td>ZZ421406317      </td><td>30133052274      </td><td>00501</td><td>1202</td><td>1770</td><td>20180710</td><td>OO000011111</td><td>000000005D</td><td>005010X222A1</td><td>214339</td><td>222</td><td>222</td><td>List(, , 1800, List(List(20180123, 454, D8), List(20180123, 304, D8)), ABC11111, , , , 22:B:1)</td><td>List(, , , G5621, )</td><td>file:/Workspace/Users/raven.mukherjee@databricks.com/x12-edi-parser/sampledata/837/Molina_Mock_UP_837P_File.txt</td><td>List(FAKE CITY, 19650101, D8, M, , , ABCDEFGH IJKLMNOP B, , CA, 123 ADDRESS3, 111111100, 18, 908021112)</td><td>List(2, ABCMMPIO, PI, ABCHYI OL POI)</td><td>List(null, List(FAKE CITY, 123456789, EI, Organization, YYYY HEALTHCARE ABC, 1222222220, , NY, 123 ADDRESS1, , 908021112), null, null, null, List(, , , Individual, ABCD STUVW , 1234567890, , , , , ), List(, , , Organization, ABCDEFG HIJKLMN HOSP, 1122334460, , , , , ), List(, , , Individual, TUVWX MNOPQR , 1234567891, PE, , , 367500000X, ))</td><td>List(ABCHYI OL POI, Organization)</td><td>List(ABCDEF, ABCDEF CUSTOMER SOLUTIONS, List(List(TE, 9999999999), List(, )), Organization)</td><td>List(FAKE CITY, 19650101, D8, M, , , ABCDEFGH IJKLMNOP B, , CA, 123 ADDRESS3, 111111100, 18, 908021112)</td></tr><tr><td>000001508</td><td>180807</td><td>ZZ421406317      </td><td>30133052274      </td><td>00501</td><td>1202</td><td>1770</td><td>20180710</td><td>OO000011111</td><td>000000005D</td><td>005010X222A1</td><td>214339</td><td>222</td><td>222</td><td>List(, , 984, List(List(20180713, 454, D8), List(20180713, 304, D8)), ABC111112, , , , 22:B:1)</td><td>List(, , , K219, )</td><td>file:/Workspace/Users/raven.mukherjee@databricks.com/x12-edi-parser/sampledata/837/Molina_Mock_UP_837P_File.txt</td><td>List(FAKE CITY, 19760101, D8, F, 125478963, SY, ABCDEFGH IJKLMNOP B, , CA, 123 ADDRESS7, 11111117, 18, 908021117)</td><td>List(2, ABCMMPIO, PI, ABCHYI OL POI)</td><td>List(null, List(FAKE CITY, 543211234, EI, Organization, ABCDE EFGHIJ GROUP PC, 1222222223, , CA, 123 ADDRESS5, , 908021115), null, null, null, List(, , , Individual, ABCDEFG OPQRST A, 1122334460, , , , , ), List(, , , Organization, ABCDEFG HIJKLMN HOSP, 1122334450, , , , , ), List(, , , Individual, STUVW KLMNOP H, 1122334461, PE, , , 207L00000X, ))</td><td>List(ABCHYI OL POI, Organization)</td><td>List(ABCDEF, ABCDEF CUSTOMER SOLUTIONS, List(List(TE, 9999999999), List(, )), Organization)</td><td>List(FAKE CITY, 19760101, D8, F, 125478963, SY, ABCDEFGH IJKLMNOP B, , CA, 123 ADDRESS7, 11111117, 18, 908021117)</td></tr><tr><td>000001508</td><td>180807</td><td>ZZ421406317      </td><td>30133052274      </td><td>00501</td><td>1202</td><td>1770</td><td>20180710</td><td>OO000011111</td><td>000000005D</td><td>005010X222A1</td><td>214339</td><td>222</td><td>222</td><td>List(, , 1353, List(List(20180713, 454, D8), List(20180713, 304, D8)), ABC111113, , , , 22:B:1)</td><td>List(, , , K4090, )</td><td>file:/Workspace/Users/raven.mukherjee@databricks.com/x12-edi-parser/sampledata/837/Molina_Mock_UP_837P_File.txt</td><td>List(FAKE CITY, 20180409, D8, M, , , ABCDEFGH IJKLMNOP B, , CA, 123 ADDRESS11, 111111111, 18, 908021111)</td><td>List(2, YTHF281123456, PI, ABCHYI OL POI)</td><td>List(null, List(FAKE CITY, 931013923, EI, Organization, ABCDE EFGHIJ GROUP PC, 1477527786, , CA, 123 ADDRESS9, , 908021119), null, null, null, List(, , , Individual, ABCDEFGH OPQRSTU A, 1122334456, , , , , ), List(, , , Organization, ABCDEFG HIJKLMN HOSP, 1122334458, , , , , ), List(, , , Individual, STUVWX KLMNOPQ H, 1122334457, PE, , , 207L00000X, ))</td><td>List(ABCHYI OL POI, Organization)</td><td>List(ABCDEF, ABCDEF CUSTOMER SOLUTIONS, List(List(TE, 9999999999), List(, )), Organization)</td><td>List(FAKE CITY, 20180409, D8, M, , , ABCDEFGH IJKLMNOP B, , CA, 123 ADDRESS11, 111111111, 18, 908021111)</td></tr><tr><td>000001508</td><td>180807</td><td>ZZ421406317      </td><td>30133052274      </td><td>00501</td><td>1202</td><td>1770</td><td>20180710</td><td>OO000011111</td><td>000000005D</td><td>005010X222A1</td><td>214339</td><td>222</td><td>222</td><td>List(, , 1968, List(List(20180713, 454, D8), List(20180713, 304, D8)), ABC111114, , , , 22:B:1)</td><td>List(, , , Q423, )</td><td>file:/Workspace/Users/raven.mukherjee@databricks.com/x12-edi-parser/sampledata/837/Molina_Mock_UP_837P_File.txt</td><td>List(FAKE CITY, 20180504, D8, F, , , ABCDEFGH IJKLMNOP B, , CA, 123 ADDRESS13, 111111112, 18, 908021113)</td><td>List(2, YTHF281123456, PI, ABCHYI OL POI)</td><td>List(null, List(FAKE CITY, 931013923, EI, Organization, ABCDE EFGHIJ GROUP PC, 1477527786, , CA, 123 ADDRESS9, , 908021119), null, null, null, List(, , , Individual, ABCDEFGHI OPQRSTUV A, 1122334455, , , , , ), List(, , , Organization, ABCDEFG HIJKLMN HOSP, 1122334457, , , , , ), List(, , , Individual, STUVWXY KLMNOPQR H, 1122334456, PE, , , 207L00000X, ))</td><td>List(ABCHYI OL POI, Organization)</td><td>List(ABCDEF, ABCDEF CUSTOMER SOLUTIONS, List(List(TE, 9999999999), List(, )), Organization)</td><td>List(FAKE CITY, 20180504, D8, F, , , ABCDEFGH IJKLMNOP B, , CA, 123 ADDRESS13, 111111112, 18, 908021113)</td></tr><tr><td>000001508</td><td>180807</td><td>ZZ421406317      </td><td>30133052274      </td><td>00501</td><td>1202</td><td>150800</td><td>20180807</td><td>421406317</td><td>133052274</td><td>005010X223A2</td><td>12022761</td><td>223</td><td>223</td><td>List(1, 1, 17166.7, List(List(0900, 096, TM), List(20180628-20180702, 434, RD8), List(201806280800, 435, DT)), TD-R192ICE00087, 01, DR:885, , 11:A:1)</td><td>List(F39, , F1319,F419,F17210,E876, F39, )</td><td>file:/Workspace/Users/raven.mukherjee@databricks.com/x12-edi-parser/sampledata/837/CC_837I_EDI.txt</td><td>List(Elgin, 19960215, D8, F, , , TEST MEMBER , , IL, 123 MAIN STREET, U0000000001, 18, 601200001)</td><td>List(2, 421406317, PI, CENTENE)</td><td>List(List(, TD-R192ICE00087, D9, Individual,   , , , , , , ), List(WOODSTOCK, 999999999, EI, Organization, Test Provider, 9999999999, , IL, 123 MAIN STREET, , 600980000), List(, , , Individual,   , , , , , , ), List(, , , Individual,   , , , , , , ), List(, , , Individual,   , , , , , , ), null, null, null)</td><td>List(CENTENE CORP, Organization)</td><td>List(TALEND, SAMBIT, List(List(TE, 3143202264), List(EX, 8099264)), Organization)</td><td>List(Elgin, 19960215, D8, F, , , TEST MEMBER , , IL, 123 MAIN STREET, U0000000001, 18, 601200001)</td></tr><tr><td>000000101</td><td>170508</td><td>ZZ11111          </td><td>ZZ1234567        </td><td>00501</td><td>1141</td><td>101</td><td>20170617</td><td>XXXXX</td><td>XXXXXXX</td><td>005010X222A1</td><td>1741</td><td>222</td><td>222</td><td>List(, , 140, List(), 1000A, , , , 19:B:1)</td><td>List(, , , I10, )</td><td>file:/Workspace/Users/raven.mukherjee@databricks.com/x12-edi-parser/sampledata/837/837p.txt</td><td>List(CHICAGO, 19570111, D8, M, W1014, 2U, BLOGGS JOE , , IL, 1 SOME BLVD, 1234567890, 18, 606129998)</td><td>List(2, 12345, PI, PAYER)</td><td>List(null, List(CHICAGO, 999999999, EI, Organization, BILLING PROVIDER, 1122334455, , IL, 1234 SOME ROAD, , 606739999), null, null, null, List(, , , Individual,   , , , , , , ), List(, , , Individual,   , , , , , , ), List(, , , Individual,   , , , , , , ))</td><td>List(RECEIVER, Organization)</td><td>List(SUBMITTER, BOB SMITH, List(List(TE, 4805551212), List(, )), Organization)</td><td>List(CHICAGO, 19570111, D8, M, W1014, 2U, BLOGGS JOE , , IL, 1 SOME BLVD, 1234567890, 18, 606129998)</td></tr><tr><td>000000101</td><td>170508</td><td>ZZ11111          </td><td>ZZ1234567        </td><td>00501</td><td>1141</td><td>101</td><td>20170617</td><td>XXXXX</td><td>XXXXXXX</td><td>005010X222A1</td><td>1741</td><td>222</td><td>222</td><td>List(, , 140, List(), 1001A, , , , 19:B:1)</td><td>List(, , , I10, )</td><td>file:/Workspace/Users/raven.mukherjee@databricks.com/x12-edi-parser/sampledata/837/837p.txt</td><td>List(CHICAGO, 19700601, D8, M, W1014, 2U, BLOGGS FRED , , IL, 1 ANOTHER STR, 9876543201, 18, 606129998)</td><td>List(2, 12345, PI, PAYER)</td><td>List(null, List(CHICAGO, 999999999, EI, Organization, BILLING PROVIDER, 1122334455, , IL, 1234 SOME ROAD, , 606739999), null, null, null, List(, , , Individual,   , , , , , , ), List(, , , Individual,   , , , , , , ), List(, , , Individual,   , , , , , , ))</td><td>List(RECEIVER, Organization)</td><td>List(SUBMITTER, BOB SMITH, List(List(TE, 4805551212), List(, )), Organization)</td><td>List(CHICAGO, 19700601, D8, M, W1014, 2U, BLOGGS FRED , , IL, 1 ANOTHER STR, 9876543201, 18, 606129998)</td></tr><tr><td>000001507</td><td>180807</td><td>30421406317      </td><td>01030240928      </td><td>00501</td><td>1202</td><td>150700</td><td>20180807</td><td>421406317</td><td>030240928</td><td>005010X222A1</td><td>12022605</td><td>222</td><td>222</td><td>List(, , 600, List(List(20180625, 435, D8)), TD-R192ICE00094, , , , 11:B:1)</td><td>List(, , , F341, )</td><td>file:/Workspace/Users/raven.mukherjee@databricks.com/x12-edi-parser/sampledata/837/CC_837P_EDI.txt</td><td>List(Elgin, 19960215, D8, F, , , TEST MEMBER , , IL, 123 MAIN STREET, U0000000001, 18, 601200001)</td><td>List(2, 421406317, PI, CENTENE)</td><td>List(null, List(WOODSTOCK, 999999999, EI, Organization, Test Provider, 9999999999, , IL, 123 MAIN STREET, , 600980000), null, null, null, List(, , , Individual,   , , , , , , ), List(, , , Individual,   , , , , , , ), List(, , , Individual,   , , , , , , ))</td><td>List(Centene Corporation, Organization)</td><td>List(Centene Corporation, Sambit, List(List(TE, 3143202264), List(EX, 8099264)), Organization)</td><td>List(Elgin, 19960215, D8, F, , , TEST MEMBER , , IL, 123 MAIN STREET, U0000000001, 18, 601200001)</td></tr></tbody></table></div>"
      ]
     },
     "metadata": {
      "application/vnd.databricks.v1+output": {
       "addedWidgets": {},
       "aggData": [],
       "aggError": "",
       "aggOverflow": false,
       "aggSchema": [],
       "aggSeriesLimitReached": false,
       "aggType": "",
       "arguments": {},
       "columnCustomDisplayInfos": {},
       "data": [
        [
         "697773230",
         "180508",
         "ZZ123456789      ",
         "01987654321      ",
         "00501",
         "0833",
         "212950697",
         "20180508",
         "123456789",
         "CLEARINGHOUSE",
         "005010X222A1",
         "0833",
         "222",
         "222",
         [
          "",
          "",
          "20",
          [],
          "1805080AV3648339",
          "",
          "",
          "",
          "57:B:1"
         ],
         [
          "",
          "",
          "",
          "F1120",
          ""
         ],
         "file:/Workspace/Users/raven.mukherjee@databricks.com/x12-edi-parser/sampledata/837/CHPW_Claimdata.txt",
         [
          "VANCOUVER",
          "19881225",
          "D8",
          "M",
          "",
          "",
          "SUBSCRIBER JOHN J",
          "",
          "WA",
          "987 65TH PL",
          "987321",
          "18",
          "986640001"
         ],
         [
          "2",
          "CHPWA",
          "PI",
          "COMMUNITY HEALTH PLAN OF WASHINGTON"
         ],
         [
          null,
          [
           "VANCOUVER",
           "720000000",
           "EI",
           "Organization",
           "BH CLINIC OF VANCOUVER",
           "1122334455",
           "",
           "WA",
           "12345 MAIN ST",
           "",
           "98662"
          ],
          null,
          null,
          null,
          [
           "",
           "",
           "",
           "Individual",
           "  ",
           "",
           "",
           "",
           "",
           "",
           ""
          ],
          [
           "",
           "",
           "",
           "Organization",
           "BH CLINIC OF VANCOUVER",
           "1122334455",
           "",
           "",
           "",
           "",
           ""
          ],
          [
           "",
           "",
           "",
           "Individual",
           "PROVIDER JAMES ",
           "1112223338",
           "PE",
           "",
           "",
           "261QR0405X",
           ""
          ]
         ],
         [
          "123456789",
          "Organization"
         ],
         [
          "CLEARINGHOUSE LLC",
          "CLEARINGHOUSE CLIENT SERVICES",
          [
           [
            "TE",
            "8005551212"
           ],
           [
            "FX",
            "8005551212"
           ]
          ],
          "Organization"
         ],
         [
          "VANCOUVER",
          "19881225",
          "D8",
          "M",
          "",
          "",
          "SUBSCRIBER JOHN J",
          "",
          "WA",
          "987 65TH PL",
          "987321",
          "18",
          "986640001"
         ]
        ],
        [
         "697773230",
         "180508",
         "ZZ123456789      ",
         "01987654321      ",
         "00501",
         "0833",
         "212950697",
         "20180508",
         "123456789",
         "CLEARINGHOUSE",
         "005010X222A1",
         "0833",
         "222",
         "222",
         [
          "",
          "",
          "50.1",
          [],
          "1805080AV3648347",
          "",
          "",
          "",
          "57:B:1"
         ],
         [
          "",
          "",
          "",
          "F1520",
          ""
         ],
         "file:/Workspace/Users/raven.mukherjee@databricks.com/x12-edi-parser/sampledata/837/CHPW_Claimdata.txt",
         [
          "VANCOUVER",
          "19881031",
          "D8",
          "F",
          "",
          "",
          "PATIENT SUSAN E",
          "",
          "WA",
          "765 43RD ST",
          "765123",
          "18",
          "986640002"
         ],
         [
          "2",
          "CHPWA",
          "PI",
          "COMMUNITY HEALTH PLAN OF WASHINGTON"
         ],
         [
          null,
          [
           "VANCOUVER",
           "720000000",
           "EI",
           "Organization",
           "BH CLINIC OF VANCOUVER",
           "1122334455",
           "",
           "WA",
           "12345 MAIN ST",
           "",
           "98662"
          ],
          null,
          null,
          null,
          [
           "",
           "",
           "",
           "Individual",
           "  ",
           "",
           "",
           "",
           "",
           "",
           ""
          ],
          [
           "",
           "",
           "",
           "Organization",
           "BH CLINIC OF VANCOUVER",
           "1122334455",
           "",
           "",
           "",
           "",
           ""
          ],
          [
           "",
           "",
           "",
           "Individual",
           "PROVIDER SUSAN ",
           "1112223346",
           "PE",
           "",
           "",
           "261QR0405X",
           ""
          ]
         ],
         [
          "123456789",
          "Organization"
         ],
         [
          "CLEARINGHOUSE LLC",
          "CLEARINGHOUSE CLIENT SERVICES",
          [
           [
            "TE",
            "8005551212"
           ],
           [
            "FX",
            "8005551212"
           ]
          ],
          "Organization"
         ],
         [
          "VANCOUVER",
          "19881031",
          "D8",
          "F",
          "",
          "",
          "PATIENT SUSAN E",
          "",
          "WA",
          "765 43RD ST",
          "765123",
          "18",
          "986640002"
         ]
        ],
        [
         "697773230",
         "180508",
         "ZZ123456789      ",
         "01987654321      ",
         "00501",
         "0833",
         "212950697",
         "20180508",
         "123456789",
         "CLEARINGHOUSE",
         "005010X222A1",
         "0833",
         "222",
         "222",
         [
          "",
          "",
          "11.64",
          [],
          "1805080AV3648340",
          "",
          "",
          "",
          "57:B:1"
         ],
         [
          "",
          "",
          "",
          "F1020",
          ""
         ],
         "file:/Workspace/Users/raven.mukherjee@databricks.com/x12-edi-parser/sampledata/837/CHPW_Claimdata.txt",
         [
          "VANCOUVER",
          "19881225",
          "D8",
          "M",
          "",
          "",
          "SUBSCRIBER JOHN J",
          "",
          "WA",
          "987 65TH PL",
          "987321",
          "18",
          "986640001"
         ],
         [
          "2",
          "CHPWA",
          "PI",
          "COMMUNITY HEALTH PLAN OF WASHINGTON"
         ],
         [
          null,
          [
           "VANCOUVER",
           "720000000",
           "EI",
           "Organization",
           "BH CLINIC OF VANCOUVER",
           "1122334455",
           "",
           "WA",
           "12345 MAIN ST",
           "",
           "98662"
          ],
          null,
          null,
          null,
          [
           "",
           "",
           "",
           "Individual",
           "  ",
           "",
           "",
           "",
           "",
           "",
           ""
          ],
          [
           "",
           "",
           "",
           "Organization",
           "BH CLINIC OF VANCOUVER",
           "1122334455",
           "",
           "",
           "",
           "",
           ""
          ],
          [
           "",
           "",
           "",
           "Individual",
           "PROVIDER SUSAN ",
           "1112223346",
           "PE",
           "",
           "",
           "261QR0405X",
           ""
          ]
         ],
         [
          "123456789",
          "Organization"
         ],
         [
          "CLEARINGHOUSE LLC",
          "CLEARINGHOUSE CLIENT SERVICES",
          [
           [
            "TE",
            "8005551212"
           ],
           [
            "FX",
            "8005551212"
           ]
          ],
          "Organization"
         ],
         [
          "VANCOUVER",
          "19881225",
          "D8",
          "M",
          "",
          "",
          "SUBSCRIBER JOHN J",
          "",
          "WA",
          "987 65TH PL",
          "987321",
          "18",
          "986640001"
         ]
        ],
        [
         "697773230",
         "180508",
         "ZZ123456789      ",
         "01987654321      ",
         "00501",
         "0833",
         "212950697",
         "20180508",
         "123456789",
         "CLEARINGHOUSE",
         "005010X222A1",
         "0833",
         "222",
         "222",
         [
          "",
          "",
          "234",
          [],
          "1805080AV3648353",
          "",
          "",
          "",
          "53:B:1"
         ],
         [
          "",
          "",
          "",
          "F251",
          ""
         ],
         "file:/Workspace/Users/raven.mukherjee@databricks.com/x12-edi-parser/sampledata/837/CHPW_Claimdata.txt",
         [
          "VANCOUVER",
          "19881031",
          "D8",
          "F",
          "",
          "",
          "PATIENT SUSAN E",
          "",
          "WA",
          "765 43RD ST",
          "765123",
          "18",
          "986640002"
         ],
         [
          "2",
          "CHPWA",
          "PI",
          "COMMUNITY HEALTH PLAN OF WASHINGTON"
         ],
         [
          null,
          [
           "VANCOUVER",
           "720000000",
           "EI",
           "Organization",
           "BH CLINIC OF VANCOUVER",
           "1122334455",
           "",
           "WA",
           "12345 MAIN ST",
           "",
           "98662"
          ],
          null,
          null,
          null,
          [
           "",
           "",
           "",
           "Individual",
           "  ",
           "",
           "",
           "",
           "",
           "",
           ""
          ],
          [
           "",
           "",
           "",
           "Organization",
           "BH CLINIC OF VANCOUVER",
           "1122334455",
           "",
           "",
           "",
           "",
           ""
          ],
          [
           "",
           "",
           "",
           "Individual",
           "PROVIDER SUSAN ",
           "1112223346",
           "PE",
           "",
           "",
           "251S00000X",
           ""
          ]
         ],
         [
          "123456789",
          "Organization"
         ],
         [
          "CLEARINGHOUSE LLC",
          "CLEARINGHOUSE CLIENT SERVICES",
          [
           [
            "TE",
            "8005551212"
           ],
           [
            "FX",
            "8005551212"
           ]
          ],
          "Organization"
         ],
         [
          "VANCOUVER",
          "19881031",
          "D8",
          "F",
          "",
          "",
          "PATIENT SUSAN E",
          "",
          "WA",
          "765 43RD ST",
          "765123",
          "18",
          "986640002"
         ]
        ],
        [
         "697773230",
         "180508",
         "ZZ123456789      ",
         "01987654321      ",
         "00501",
         "0833",
         "212950697",
         "20180508",
         "123456789",
         "CLEARINGHOUSE",
         "005010X222A1",
         "0833",
         "222",
         "222",
         [
          "",
          "",
          "20",
          [],
          "1805080AV3648355",
          "",
          "",
          "",
          "57:B:1"
         ],
         [
          "",
          "",
          "",
          "F1020",
          ""
         ],
         "file:/Workspace/Users/raven.mukherjee@databricks.com/x12-edi-parser/sampledata/837/CHPW_Claimdata.txt",
         [
          "VANCOUVER",
          "19881225",
          "D8",
          "M",
          "",
          "",
          "SUBSCRIBER JOHN J",
          "",
          "WA",
          "987 65TH PL",
          "987321",
          "18",
          "986640001"
         ],
         [
          "2",
          "CHPWA",
          "PI",
          "COMMUNITY HEALTH PLAN OF WASHINGTON"
         ],
         [
          null,
          [
           "VANCOUVER",
           "720000000",
           "EI",
           "Organization",
           "BH CLINIC OF VANCOUVER",
           "1122334455",
           "",
           "WA",
           "12345 MAIN ST",
           "",
           "98662"
          ],
          null,
          null,
          null,
          [
           "",
           "",
           "",
           "Individual",
           "  ",
           "",
           "",
           "",
           "",
           "",
           ""
          ],
          [
           "",
           "",
           "",
           "Organization",
           "BH CLINIC OF VANCOUVER",
           "1122334455",
           "",
           "",
           "",
           "",
           ""
          ],
          [
           "",
           "",
           "",
           "Individual",
           "PROVIDER JAMES ",
           "1112223338",
           "PE",
           "",
           "",
           "261QR0405X",
           ""
          ]
         ],
         [
          "123456789",
          "Organization"
         ],
         [
          "CLEARINGHOUSE LLC",
          "CLEARINGHOUSE CLIENT SERVICES",
          [
           [
            "TE",
            "8005551212"
           ],
           [
            "FX",
            "8005551212"
           ]
          ],
          "Organization"
         ],
         [
          "VANCOUVER",
          "19881225",
          "D8",
          "M",
          "",
          "",
          "SUBSCRIBER JOHN J",
          "",
          "WA",
          "987 65TH PL",
          "987321",
          "18",
          "986640001"
         ]
        ],
        [
         "000001508",
         "180807",
         "ZZ421406317      ",
         "30133052274      ",
         "00501",
         "1202",
         "1770",
         "20180710",
         "OO000011111",
         "000000005D",
         "005010X222A1",
         "214339",
         "222",
         "222",
         [
          "",
          "",
          "1800",
          [
           [
            "20180123",
            "454",
            "D8"
           ],
           [
            "20180123",
            "304",
            "D8"
           ]
          ],
          "ABC11111",
          "",
          "",
          "",
          "22:B:1"
         ],
         [
          "",
          "",
          "",
          "G5621",
          ""
         ],
         "file:/Workspace/Users/raven.mukherjee@databricks.com/x12-edi-parser/sampledata/837/Molina_Mock_UP_837P_File.txt",
         [
          "FAKE CITY",
          "19650101",
          "D8",
          "M",
          "",
          "",
          "ABCDEFGH IJKLMNOP B",
          "",
          "CA",
          "123 ADDRESS3",
          "111111100",
          "18",
          "908021112"
         ],
         [
          "2",
          "ABCMMPIO",
          "PI",
          "ABCHYI OL POI"
         ],
         [
          null,
          [
           "FAKE CITY",
           "123456789",
           "EI",
           "Organization",
           "YYYY HEALTHCARE ABC",
           "1222222220",
           "",
           "NY",
           "123 ADDRESS1",
           "",
           "908021112"
          ],
          null,
          null,
          null,
          [
           "",
           "",
           "",
           "Individual",
           "ABCD STUVW ",
           "1234567890",
           "",
           "",
           "",
           "",
           ""
          ],
          [
           "",
           "",
           "",
           "Organization",
           "ABCDEFG HIJKLMN HOSP",
           "1122334460",
           "",
           "",
           "",
           "",
           ""
          ],
          [
           "",
           "",
           "",
           "Individual",
           "TUVWX MNOPQR ",
           "1234567891",
           "PE",
           "",
           "",
           "367500000X",
           ""
          ]
         ],
         [
          "ABCHYI OL POI",
          "Organization"
         ],
         [
          "ABCDEF",
          "ABCDEF CUSTOMER SOLUTIONS",
          [
           [
            "TE",
            "9999999999"
           ],
           [
            "",
            ""
           ]
          ],
          "Organization"
         ],
         [
          "FAKE CITY",
          "19650101",
          "D8",
          "M",
          "",
          "",
          "ABCDEFGH IJKLMNOP B",
          "",
          "CA",
          "123 ADDRESS3",
          "111111100",
          "18",
          "908021112"
         ]
        ],
        [
         "000001508",
         "180807",
         "ZZ421406317      ",
         "30133052274      ",
         "00501",
         "1202",
         "1770",
         "20180710",
         "OO000011111",
         "000000005D",
         "005010X222A1",
         "214339",
         "222",
         "222",
         [
          "",
          "",
          "984",
          [
           [
            "20180713",
            "454",
            "D8"
           ],
           [
            "20180713",
            "304",
            "D8"
           ]
          ],
          "ABC111112",
          "",
          "",
          "",
          "22:B:1"
         ],
         [
          "",
          "",
          "",
          "K219",
          ""
         ],
         "file:/Workspace/Users/raven.mukherjee@databricks.com/x12-edi-parser/sampledata/837/Molina_Mock_UP_837P_File.txt",
         [
          "FAKE CITY",
          "19760101",
          "D8",
          "F",
          "125478963",
          "SY",
          "ABCDEFGH IJKLMNOP B",
          "",
          "CA",
          "123 ADDRESS7",
          "11111117",
          "18",
          "908021117"
         ],
         [
          "2",
          "ABCMMPIO",
          "PI",
          "ABCHYI OL POI"
         ],
         [
          null,
          [
           "FAKE CITY",
           "543211234",
           "EI",
           "Organization",
           "ABCDE EFGHIJ GROUP PC",
           "1222222223",
           "",
           "CA",
           "123 ADDRESS5",
           "",
           "908021115"
          ],
          null,
          null,
          null,
          [
           "",
           "",
           "",
           "Individual",
           "ABCDEFG OPQRST A",
           "1122334460",
           "",
           "",
           "",
           "",
           ""
          ],
          [
           "",
           "",
           "",
           "Organization",
           "ABCDEFG HIJKLMN HOSP",
           "1122334450",
           "",
           "",
           "",
           "",
           ""
          ],
          [
           "",
           "",
           "",
           "Individual",
           "STUVW KLMNOP H",
           "1122334461",
           "PE",
           "",
           "",
           "207L00000X",
           ""
          ]
         ],
         [
          "ABCHYI OL POI",
          "Organization"
         ],
         [
          "ABCDEF",
          "ABCDEF CUSTOMER SOLUTIONS",
          [
           [
            "TE",
            "9999999999"
           ],
           [
            "",
            ""
           ]
          ],
          "Organization"
         ],
         [
          "FAKE CITY",
          "19760101",
          "D8",
          "F",
          "125478963",
          "SY",
          "ABCDEFGH IJKLMNOP B",
          "",
          "CA",
          "123 ADDRESS7",
          "11111117",
          "18",
          "908021117"
         ]
        ],
        [
         "000001508",
         "180807",
         "ZZ421406317      ",
         "30133052274      ",
         "00501",
         "1202",
         "1770",
         "20180710",
         "OO000011111",
         "000000005D",
         "005010X222A1",
         "214339",
         "222",
         "222",
         [
          "",
          "",
          "1353",
          [
           [
            "20180713",
            "454",
            "D8"
           ],
           [
            "20180713",
            "304",
            "D8"
           ]
          ],
          "ABC111113",
          "",
          "",
          "",
          "22:B:1"
         ],
         [
          "",
          "",
          "",
          "K4090",
          ""
         ],
         "file:/Workspace/Users/raven.mukherjee@databricks.com/x12-edi-parser/sampledata/837/Molina_Mock_UP_837P_File.txt",
         [
          "FAKE CITY",
          "20180409",
          "D8",
          "M",
          "",
          "",
          "ABCDEFGH IJKLMNOP B",
          "",
          "CA",
          "123 ADDRESS11",
          "111111111",
          "18",
          "908021111"
         ],
         [
          "2",
          "YTHF281123456",
          "PI",
          "ABCHYI OL POI"
         ],
         [
          null,
          [
           "FAKE CITY",
           "931013923",
           "EI",
           "Organization",
           "ABCDE EFGHIJ GROUP PC",
           "1477527786",
           "",
           "CA",
           "123 ADDRESS9",
           "",
           "908021119"
          ],
          null,
          null,
          null,
          [
           "",
           "",
           "",
           "Individual",
           "ABCDEFGH OPQRSTU A",
           "1122334456",
           "",
           "",
           "",
           "",
           ""
          ],
          [
           "",
           "",
           "",
           "Organization",
           "ABCDEFG HIJKLMN HOSP",
           "1122334458",
           "",
           "",
           "",
           "",
           ""
          ],
          [
           "",
           "",
           "",
           "Individual",
           "STUVWX KLMNOPQ H",
           "1122334457",
           "PE",
           "",
           "",
           "207L00000X",
           ""
          ]
         ],
         [
          "ABCHYI OL POI",
          "Organization"
         ],
         [
          "ABCDEF",
          "ABCDEF CUSTOMER SOLUTIONS",
          [
           [
            "TE",
            "9999999999"
           ],
           [
            "",
            ""
           ]
          ],
          "Organization"
         ],
         [
          "FAKE CITY",
          "20180409",
          "D8",
          "M",
          "",
          "",
          "ABCDEFGH IJKLMNOP B",
          "",
          "CA",
          "123 ADDRESS11",
          "111111111",
          "18",
          "908021111"
         ]
        ],
        [
         "000001508",
         "180807",
         "ZZ421406317      ",
         "30133052274      ",
         "00501",
         "1202",
         "1770",
         "20180710",
         "OO000011111",
         "000000005D",
         "005010X222A1",
         "214339",
         "222",
         "222",
         [
          "",
          "",
          "1968",
          [
           [
            "20180713",
            "454",
            "D8"
           ],
           [
            "20180713",
            "304",
            "D8"
           ]
          ],
          "ABC111114",
          "",
          "",
          "",
          "22:B:1"
         ],
         [
          "",
          "",
          "",
          "Q423",
          ""
         ],
         "file:/Workspace/Users/raven.mukherjee@databricks.com/x12-edi-parser/sampledata/837/Molina_Mock_UP_837P_File.txt",
         [
          "FAKE CITY",
          "20180504",
          "D8",
          "F",
          "",
          "",
          "ABCDEFGH IJKLMNOP B",
          "",
          "CA",
          "123 ADDRESS13",
          "111111112",
          "18",
          "908021113"
         ],
         [
          "2",
          "YTHF281123456",
          "PI",
          "ABCHYI OL POI"
         ],
         [
          null,
          [
           "FAKE CITY",
           "931013923",
           "EI",
           "Organization",
           "ABCDE EFGHIJ GROUP PC",
           "1477527786",
           "",
           "CA",
           "123 ADDRESS9",
           "",
           "908021119"
          ],
          null,
          null,
          null,
          [
           "",
           "",
           "",
           "Individual",
           "ABCDEFGHI OPQRSTUV A",
           "1122334455",
           "",
           "",
           "",
           "",
           ""
          ],
          [
           "",
           "",
           "",
           "Organization",
           "ABCDEFG HIJKLMN HOSP",
           "1122334457",
           "",
           "",
           "",
           "",
           ""
          ],
          [
           "",
           "",
           "",
           "Individual",
           "STUVWXY KLMNOPQR H",
           "1122334456",
           "PE",
           "",
           "",
           "207L00000X",
           ""
          ]
         ],
         [
          "ABCHYI OL POI",
          "Organization"
         ],
         [
          "ABCDEF",
          "ABCDEF CUSTOMER SOLUTIONS",
          [
           [
            "TE",
            "9999999999"
           ],
           [
            "",
            ""
           ]
          ],
          "Organization"
         ],
         [
          "FAKE CITY",
          "20180504",
          "D8",
          "F",
          "",
          "",
          "ABCDEFGH IJKLMNOP B",
          "",
          "CA",
          "123 ADDRESS13",
          "111111112",
          "18",
          "908021113"
         ]
        ],
        [
         "000001508",
         "180807",
         "ZZ421406317      ",
         "30133052274      ",
         "00501",
         "1202",
         "150800",
         "20180807",
         "421406317",
         "133052274",
         "005010X223A2",
         "12022761",
         "223",
         "223",
         [
          "1",
          "1",
          "17166.7",
          [
           [
            "0900",
            "096",
            "TM"
           ],
           [
            "20180628-20180702",
            "434",
            "RD8"
           ],
           [
            "201806280800",
            "435",
            "DT"
           ]
          ],
          "TD-R192ICE00087",
          "01",
          "DR:885",
          "",
          "11:A:1"
         ],
         [
          "F39",
          "",
          "F1319,F419,F17210,E876",
          "F39",
          ""
         ],
         "file:/Workspace/Users/raven.mukherjee@databricks.com/x12-edi-parser/sampledata/837/CC_837I_EDI.txt",
         [
          "Elgin",
          "19960215",
          "D8",
          "F",
          "",
          "",
          "TEST MEMBER ",
          "",
          "IL",
          "123 MAIN STREET",
          "U0000000001",
          "18",
          "601200001"
         ],
         [
          "2",
          "421406317",
          "PI",
          "CENTENE"
         ],
         [
          [
           "",
           "TD-R192ICE00087",
           "D9",
           "Individual",
           "  ",
           "",
           "",
           "",
           "",
           "",
           ""
          ],
          [
           "WOODSTOCK",
           "999999999",
           "EI",
           "Organization",
           "Test Provider",
           "9999999999",
           "",
           "IL",
           "123 MAIN STREET",
           "",
           "600980000"
          ],
          [
           "",
           "",
           "",
           "Individual",
           "  ",
           "",
           "",
           "",
           "",
           "",
           ""
          ],
          [
           "",
           "",
           "",
           "Individual",
           "  ",
           "",
           "",
           "",
           "",
           "",
           ""
          ],
          [
           "",
           "",
           "",
           "Individual",
           "  ",
           "",
           "",
           "",
           "",
           "",
           ""
          ],
          null,
          null,
          null
         ],
         [
          "CENTENE CORP",
          "Organization"
         ],
         [
          "TALEND",
          "SAMBIT",
          [
           [
            "TE",
            "3143202264"
           ],
           [
            "EX",
            "8099264"
           ]
          ],
          "Organization"
         ],
         [
          "Elgin",
          "19960215",
          "D8",
          "F",
          "",
          "",
          "TEST MEMBER ",
          "",
          "IL",
          "123 MAIN STREET",
          "U0000000001",
          "18",
          "601200001"
         ]
        ],
        [
         "000000101",
         "170508",
         "ZZ11111          ",
         "ZZ1234567        ",
         "00501",
         "1141",
         "101",
         "20170617",
         "XXXXX",
         "XXXXXXX",
         "005010X222A1",
         "1741",
         "222",
         "222",
         [
          "",
          "",
          "140",
          [],
          "1000A",
          "",
          "",
          "",
          "19:B:1"
         ],
         [
          "",
          "",
          "",
          "I10",
          ""
         ],
         "file:/Workspace/Users/raven.mukherjee@databricks.com/x12-edi-parser/sampledata/837/837p.txt",
         [
          "CHICAGO",
          "19570111",
          "D8",
          "M",
          "W1014",
          "2U",
          "BLOGGS JOE ",
          "",
          "IL",
          "1 SOME BLVD",
          "1234567890",
          "18",
          "606129998"
         ],
         [
          "2",
          "12345",
          "PI",
          "PAYER"
         ],
         [
          null,
          [
           "CHICAGO",
           "999999999",
           "EI",
           "Organization",
           "BILLING PROVIDER",
           "1122334455",
           "",
           "IL",
           "1234 SOME ROAD",
           "",
           "606739999"
          ],
          null,
          null,
          null,
          [
           "",
           "",
           "",
           "Individual",
           "  ",
           "",
           "",
           "",
           "",
           "",
           ""
          ],
          [
           "",
           "",
           "",
           "Individual",
           "  ",
           "",
           "",
           "",
           "",
           "",
           ""
          ],
          [
           "",
           "",
           "",
           "Individual",
           "  ",
           "",
           "",
           "",
           "",
           "",
           ""
          ]
         ],
         [
          "RECEIVER",
          "Organization"
         ],
         [
          "SUBMITTER",
          "BOB SMITH",
          [
           [
            "TE",
            "4805551212"
           ],
           [
            "",
            ""
           ]
          ],
          "Organization"
         ],
         [
          "CHICAGO",
          "19570111",
          "D8",
          "M",
          "W1014",
          "2U",
          "BLOGGS JOE ",
          "",
          "IL",
          "1 SOME BLVD",
          "1234567890",
          "18",
          "606129998"
         ]
        ],
        [
         "000000101",
         "170508",
         "ZZ11111          ",
         "ZZ1234567        ",
         "00501",
         "1141",
         "101",
         "20170617",
         "XXXXX",
         "XXXXXXX",
         "005010X222A1",
         "1741",
         "222",
         "222",
         [
          "",
          "",
          "140",
          [],
          "1001A",
          "",
          "",
          "",
          "19:B:1"
         ],
         [
          "",
          "",
          "",
          "I10",
          ""
         ],
         "file:/Workspace/Users/raven.mukherjee@databricks.com/x12-edi-parser/sampledata/837/837p.txt",
         [
          "CHICAGO",
          "19700601",
          "D8",
          "M",
          "W1014",
          "2U",
          "BLOGGS FRED ",
          "",
          "IL",
          "1 ANOTHER STR",
          "9876543201",
          "18",
          "606129998"
         ],
         [
          "2",
          "12345",
          "PI",
          "PAYER"
         ],
         [
          null,
          [
           "CHICAGO",
           "999999999",
           "EI",
           "Organization",
           "BILLING PROVIDER",
           "1122334455",
           "",
           "IL",
           "1234 SOME ROAD",
           "",
           "606739999"
          ],
          null,
          null,
          null,
          [
           "",
           "",
           "",
           "Individual",
           "  ",
           "",
           "",
           "",
           "",
           "",
           ""
          ],
          [
           "",
           "",
           "",
           "Individual",
           "  ",
           "",
           "",
           "",
           "",
           "",
           ""
          ],
          [
           "",
           "",
           "",
           "Individual",
           "  ",
           "",
           "",
           "",
           "",
           "",
           ""
          ]
         ],
         [
          "RECEIVER",
          "Organization"
         ],
         [
          "SUBMITTER",
          "BOB SMITH",
          [
           [
            "TE",
            "4805551212"
           ],
           [
            "",
            ""
           ]
          ],
          "Organization"
         ],
         [
          "CHICAGO",
          "19700601",
          "D8",
          "M",
          "W1014",
          "2U",
          "BLOGGS FRED ",
          "",
          "IL",
          "1 ANOTHER STR",
          "9876543201",
          "18",
          "606129998"
         ]
        ],
        [
         "000001507",
         "180807",
         "30421406317      ",
         "01030240928      ",
         "00501",
         "1202",
         "150700",
         "20180807",
         "421406317",
         "030240928",
         "005010X222A1",
         "12022605",
         "222",
         "222",
         [
          "",
          "",
          "600",
          [
           [
            "20180625",
            "435",
            "D8"
           ]
          ],
          "TD-R192ICE00094",
          "",
          "",
          "",
          "11:B:1"
         ],
         [
          "",
          "",
          "",
          "F341",
          ""
         ],
         "file:/Workspace/Users/raven.mukherjee@databricks.com/x12-edi-parser/sampledata/837/CC_837P_EDI.txt",
         [
          "Elgin",
          "19960215",
          "D8",
          "F",
          "",
          "",
          "TEST MEMBER ",
          "",
          "IL",
          "123 MAIN STREET",
          "U0000000001",
          "18",
          "601200001"
         ],
         [
          "2",
          "421406317",
          "PI",
          "CENTENE"
         ],
         [
          null,
          [
           "WOODSTOCK",
           "999999999",
           "EI",
           "Organization",
           "Test Provider",
           "9999999999",
           "",
           "IL",
           "123 MAIN STREET",
           "",
           "600980000"
          ],
          null,
          null,
          null,
          [
           "",
           "",
           "",
           "Individual",
           "  ",
           "",
           "",
           "",
           "",
           "",
           ""
          ],
          [
           "",
           "",
           "",
           "Individual",
           "  ",
           "",
           "",
           "",
           "",
           "",
           ""
          ],
          [
           "",
           "",
           "",
           "Individual",
           "  ",
           "",
           "",
           "",
           "",
           "",
           ""
          ]
         ],
         [
          "Centene Corporation",
          "Organization"
         ],
         [
          "Centene Corporation",
          "Sambit",
          [
           [
            "TE",
            "3143202264"
           ],
           [
            "EX",
            "8099264"
           ]
          ],
          "Organization"
         ],
         [
          "Elgin",
          "19960215",
          "D8",
          "F",
          "",
          "",
          "TEST MEMBER ",
          "",
          "IL",
          "123 MAIN STREET",
          "U0000000001",
          "18",
          "601200001"
         ]
        ]
       ],
       "datasetInfos": [],
       "dbfsResultPath": null,
       "isJsonSchema": true,
       "metadata": {
        "createTempViewForImplicitDf": true,
        "dataframeName": "_sqldf",
        "executionCount": 4
       },
       "overflow": false,
       "plotOptions": {
        "customPlotOptions": {},
        "displayType": "table",
        "pivotAggregation": null,
        "pivotColumns": null,
        "xColumns": null,
        "yColumns": null
       },
       "removedWidgets": [],
       "schema": [
        {
         "metadata": "{}",
         "name": "EDI.control_number",
         "type": "\"string\""
        },
        {
         "metadata": "{}",
         "name": "EDI.date",
         "type": "\"string\""
        },
        {
         "metadata": "{}",
         "name": "EDI.recipient_qualifier_id",
         "type": "\"string\""
        },
        {
         "metadata": "{}",
         "name": "EDI.sender_qualifier_id",
         "type": "\"string\""
        },
        {
         "metadata": "{}",
         "name": "EDI.standard_version",
         "type": "\"string\""
        },
        {
         "metadata": "{}",
         "name": "EDI.time",
         "type": "\"string\""
        },
        {
         "metadata": "{}",
         "name": "FunctionalGroup.control_number",
         "type": "\"string\""
        },
        {
         "metadata": "{}",
         "name": "FunctionalGroup.date",
         "type": "\"string\""
        },
        {
         "metadata": "{}",
         "name": "FunctionalGroup.receiver",
         "type": "\"string\""
        },
        {
         "metadata": "{}",
         "name": "FunctionalGroup.sender",
         "type": "\"string\""
        },
        {
         "metadata": "{}",
         "name": "FunctionalGroup.standard_version",
         "type": "\"string\""
        },
        {
         "metadata": "{}",
         "name": "FunctionalGroup.time",
         "type": "\"string\""
        },
        {
         "metadata": "{}",
         "name": "FunctionalGroup.transaction_type",
         "type": "\"string\""
        },
        {
         "metadata": "{}",
         "name": "Transaction.transaction_type",
         "type": "\"string\""
        },
        {
         "metadata": "{}",
         "name": "claim_header",
         "type": "{\"type\":\"struct\",\"fields\":[{\"name\":\"admission_src_cd\",\"type\":\"string\",\"nullable\":true,\"metadata\":{}},{\"name\":\"admission_type\",\"type\":\"string\",\"nullable\":true,\"metadata\":{}},{\"name\":\"claim_amount\",\"type\":\"string\",\"nullable\":true,\"metadata\":{}},{\"name\":\"claim_dates\",\"type\":{\"type\":\"array\",\"elementType\":{\"type\":\"struct\",\"fields\":[{\"name\":\"date\",\"type\":\"string\",\"nullable\":true,\"metadata\":{}},{\"name\":\"date_cd\",\"type\":\"string\",\"nullable\":true,\"metadata\":{}},{\"name\":\"date_format\",\"type\":\"string\",\"nullable\":true,\"metadata\":{}}]},\"containsNull\":true},\"nullable\":true,\"metadata\":{}},{\"name\":\"claim_id\",\"type\":\"string\",\"nullable\":true,\"metadata\":{}},{\"name\":\"discharge_status_cd\",\"type\":\"string\",\"nullable\":true,\"metadata\":{}},{\"name\":\"drg_cd\",\"type\":\"string\",\"nullable\":true,\"metadata\":{}},{\"name\":\"encounter_id\",\"type\":\"string\",\"nullable\":true,\"metadata\":{}},{\"name\":\"facility_type_code\",\"type\":\"string\",\"nullable\":true,\"metadata\":{}}]}"
        },
        {
         "metadata": "{}",
         "name": "diagnosis",
         "type": "{\"type\":\"struct\",\"fields\":[{\"name\":\"admitting_dx_cd\",\"type\":\"string\",\"nullable\":true,\"metadata\":{}},{\"name\":\"external_injury_dx_cd\",\"type\":\"string\",\"nullable\":true,\"metadata\":{}},{\"name\":\"other_dx_cds\",\"type\":\"string\",\"nullable\":true,\"metadata\":{}},{\"name\":\"principal_dx_cd\",\"type\":\"string\",\"nullable\":true,\"metadata\":{}},{\"name\":\"reason_visit_dx_cd\",\"type\":\"string\",\"nullable\":true,\"metadata\":{}}]}"
        },
        {
         "metadata": "{}",
         "name": "filename",
         "type": "\"string\""
        },
        {
         "metadata": "{}",
         "name": "patient",
         "type": "{\"type\":\"struct\",\"fields\":[{\"name\":\"city\",\"type\":\"string\",\"nullable\":true,\"metadata\":{}},{\"name\":\"dob\",\"type\":\"string\",\"nullable\":true,\"metadata\":{}},{\"name\":\"dob_format\",\"type\":\"string\",\"nullable\":true,\"metadata\":{}},{\"name\":\"gender_cd\",\"type\":\"string\",\"nullable\":true,\"metadata\":{}},{\"name\":\"id\",\"type\":\"string\",\"nullable\":true,\"metadata\":{}},{\"name\":\"mrn\",\"type\":\"string\",\"nullable\":true,\"metadata\":{}},{\"name\":\"name\",\"type\":\"string\",\"nullable\":true,\"metadata\":{}},{\"name\":\"patient_relationship_cd\",\"type\":\"string\",\"nullable\":true,\"metadata\":{}},{\"name\":\"state\",\"type\":\"string\",\"nullable\":true,\"metadata\":{}},{\"name\":\"street\",\"type\":\"string\",\"nullable\":true,\"metadata\":{}},{\"name\":\"subsciber_identifier\",\"type\":\"string\",\"nullable\":true,\"metadata\":{}},{\"name\":\"subscriber_relationship_cd\",\"type\":\"string\",\"nullable\":true,\"metadata\":{}},{\"name\":\"zip\",\"type\":\"string\",\"nullable\":true,\"metadata\":{}}]}"
        },
        {
         "metadata": "{}",
         "name": "payer",
         "type": "{\"type\":\"struct\",\"fields\":[{\"name\":\"business_entity_type\",\"type\":\"string\",\"nullable\":true,\"metadata\":{}},{\"name\":\"payer_identifier\",\"type\":\"string\",\"nullable\":true,\"metadata\":{}},{\"name\":\"payer_identifier_cd\",\"type\":\"string\",\"nullable\":true,\"metadata\":{}},{\"name\":\"payer_name\",\"type\":\"string\",\"nullable\":true,\"metadata\":{}}]}"
        },
        {
         "metadata": "{}",
         "name": "providers",
         "type": "{\"type\":\"struct\",\"fields\":[{\"name\":\"attending\",\"type\":{\"type\":\"struct\",\"fields\":[{\"name\":\"city\",\"type\":\"string\",\"nullable\":true,\"metadata\":{}},{\"name\":\"ein\",\"type\":\"string\",\"nullable\":true,\"metadata\":{}},{\"name\":\"ein_type\",\"type\":\"string\",\"nullable\":true,\"metadata\":{}},{\"name\":\"entity_type\",\"type\":\"string\",\"nullable\":true,\"metadata\":{}},{\"name\":\"name\",\"type\":\"string\",\"nullable\":true,\"metadata\":{}},{\"name\":\"npi\",\"type\":\"string\",\"nullable\":true,\"metadata\":{}},{\"name\":\"provider_role\",\"type\":\"string\",\"nullable\":true,\"metadata\":{}},{\"name\":\"state\",\"type\":\"string\",\"nullable\":true,\"metadata\":{}},{\"name\":\"street\",\"type\":\"string\",\"nullable\":true,\"metadata\":{}},{\"name\":\"taxonomy\",\"type\":\"string\",\"nullable\":true,\"metadata\":{}},{\"name\":\"zip\",\"type\":\"string\",\"nullable\":true,\"metadata\":{}}]},\"nullable\":true,\"metadata\":{}},{\"name\":\"billing\",\"type\":{\"type\":\"struct\",\"fields\":[{\"name\":\"city\",\"type\":\"string\",\"nullable\":true,\"metadata\":{}},{\"name\":\"ein\",\"type\":\"string\",\"nullable\":true,\"metadata\":{}},{\"name\":\"ein_type\",\"type\":\"string\",\"nullable\":true,\"metadata\":{}},{\"name\":\"entity_type\",\"type\":\"string\",\"nullable\":true,\"metadata\":{}},{\"name\":\"name\",\"type\":\"string\",\"nullable\":true,\"metadata\":{}},{\"name\":\"npi\",\"type\":\"string\",\"nullable\":true,\"metadata\":{}},{\"name\":\"provider_role\",\"type\":\"string\",\"nullable\":true,\"metadata\":{}},{\"name\":\"state\",\"type\":\"string\",\"nullable\":true,\"metadata\":{}},{\"name\":\"street\",\"type\":\"string\",\"nullable\":true,\"metadata\":{}},{\"name\":\"taxonomy\",\"type\":\"string\",\"nullable\":true,\"metadata\":{}},{\"name\":\"zip\",\"type\":\"string\",\"nullable\":true,\"metadata\":{}}]},\"nullable\":true,\"metadata\":{}},{\"name\":\"facility\",\"type\":{\"type\":\"struct\",\"fields\":[{\"name\":\"city\",\"type\":\"string\",\"nullable\":true,\"metadata\":{}},{\"name\":\"ein\",\"type\":\"string\",\"nullable\":true,\"metadata\":{}},{\"name\":\"ein_type\",\"type\":\"string\",\"nullable\":true,\"metadata\":{}},{\"name\":\"entity_type\",\"type\":\"string\",\"nullable\":true,\"metadata\":{}},{\"name\":\"name\",\"type\":\"string\",\"nullable\":true,\"metadata\":{}},{\"name\":\"npi\",\"type\":\"string\",\"nullable\":true,\"metadata\":{}},{\"name\":\"provider_role\",\"type\":\"string\",\"nullable\":true,\"metadata\":{}},{\"name\":\"state\",\"type\":\"string\",\"nullable\":true,\"metadata\":{}},{\"name\":\"street\",\"type\":\"string\",\"nullable\":true,\"metadata\":{}},{\"name\":\"taxonomy\",\"type\":\"string\",\"nullable\":true,\"metadata\":{}},{\"name\":\"zip\",\"type\":\"string\",\"nullable\":true,\"metadata\":{}}]},\"nullable\":true,\"metadata\":{}},{\"name\":\"operating\",\"type\":{\"type\":\"struct\",\"fields\":[{\"name\":\"city\",\"type\":\"string\",\"nullable\":true,\"metadata\":{}},{\"name\":\"ein\",\"type\":\"string\",\"nullable\":true,\"metadata\":{}},{\"name\":\"ein_type\",\"type\":\"string\",\"nullable\":true,\"metadata\":{}},{\"name\":\"entity_type\",\"type\":\"string\",\"nullable\":true,\"metadata\":{}},{\"name\":\"name\",\"type\":\"string\",\"nullable\":true,\"metadata\":{}},{\"name\":\"npi\",\"type\":\"string\",\"nullable\":true,\"metadata\":{}},{\"name\":\"provider_role\",\"type\":\"string\",\"nullable\":true,\"metadata\":{}},{\"name\":\"state\",\"type\":\"string\",\"nullable\":true,\"metadata\":{}},{\"name\":\"street\",\"type\":\"string\",\"nullable\":true,\"metadata\":{}},{\"name\":\"taxonomy\",\"type\":\"string\",\"nullable\":true,\"metadata\":{}},{\"name\":\"zip\",\"type\":\"string\",\"nullable\":true,\"metadata\":{}}]},\"nullable\":true,\"metadata\":{}},{\"name\":\"other\",\"type\":{\"type\":\"struct\",\"fields\":[{\"name\":\"city\",\"type\":\"string\",\"nullable\":true,\"metadata\":{}},{\"name\":\"ein\",\"type\":\"string\",\"nullable\":true,\"metadata\":{}},{\"name\":\"ein_type\",\"type\":\"string\",\"nullable\":true,\"metadata\":{}},{\"name\":\"entity_type\",\"type\":\"string\",\"nullable\":true,\"metadata\":{}},{\"name\":\"name\",\"type\":\"string\",\"nullable\":true,\"metadata\":{}},{\"name\":\"npi\",\"type\":\"string\",\"nullable\":true,\"metadata\":{}},{\"name\":\"provider_role\",\"type\":\"string\",\"nullable\":true,\"metadata\":{}},{\"name\":\"state\",\"type\":\"string\",\"nullable\":true,\"metadata\":{}},{\"name\":\"street\",\"type\":\"string\",\"nullable\":true,\"metadata\":{}},{\"name\":\"taxonomy\",\"type\":\"string\",\"nullable\":true,\"metadata\":{}},{\"name\":\"zip\",\"type\":\"string\",\"nullable\":true,\"metadata\":{}}]},\"nullable\":true,\"metadata\":{}},{\"name\":\"referring\",\"type\":{\"type\":\"struct\",\"fields\":[{\"name\":\"city\",\"type\":\"string\",\"nullable\":true,\"metadata\":{}},{\"name\":\"ein\",\"type\":\"string\",\"nullable\":true,\"metadata\":{}},{\"name\":\"ein_type\",\"type\":\"string\",\"nullable\":true,\"metadata\":{}},{\"name\":\"entity_type\",\"type\":\"string\",\"nullable\":true,\"metadata\":{}},{\"name\":\"name\",\"type\":\"string\",\"nullable\":true,\"metadata\":{}},{\"name\":\"npi\",\"type\":\"string\",\"nullable\":true,\"metadata\":{}},{\"name\":\"provider_role\",\"type\":\"string\",\"nullable\":true,\"metadata\":{}},{\"name\":\"state\",\"type\":\"string\",\"nullable\":true,\"metadata\":{}},{\"name\":\"street\",\"type\":\"string\",\"nullable\":true,\"metadata\":{}},{\"name\":\"taxonomy\",\"type\":\"string\",\"nullable\":true,\"metadata\":{}},{\"name\":\"zip\",\"type\":\"string\",\"nullable\":true,\"metadata\":{}}]},\"nullable\":true,\"metadata\":{}},{\"name\":\"service_facility\",\"type\":{\"type\":\"struct\",\"fields\":[{\"name\":\"city\",\"type\":\"string\",\"nullable\":true,\"metadata\":{}},{\"name\":\"ein\",\"type\":\"string\",\"nullable\":true,\"metadata\":{}},{\"name\":\"ein_type\",\"type\":\"string\",\"nullable\":true,\"metadata\":{}},{\"name\":\"entity_type\",\"type\":\"string\",\"nullable\":true,\"metadata\":{}},{\"name\":\"name\",\"type\":\"string\",\"nullable\":true,\"metadata\":{}},{\"name\":\"npi\",\"type\":\"string\",\"nullable\":true,\"metadata\":{}},{\"name\":\"provider_role\",\"type\":\"string\",\"nullable\":true,\"metadata\":{}},{\"name\":\"state\",\"type\":\"string\",\"nullable\":true,\"metadata\":{}},{\"name\":\"street\",\"type\":\"string\",\"nullable\":true,\"metadata\":{}},{\"name\":\"taxonomy\",\"type\":\"string\",\"nullable\":true,\"metadata\":{}},{\"name\":\"zip\",\"type\":\"string\",\"nullable\":true,\"metadata\":{}}]},\"nullable\":true,\"metadata\":{}},{\"name\":\"servicing\",\"type\":{\"type\":\"struct\",\"fields\":[{\"name\":\"city\",\"type\":\"string\",\"nullable\":true,\"metadata\":{}},{\"name\":\"ein\",\"type\":\"string\",\"nullable\":true,\"metadata\":{}},{\"name\":\"ein_type\",\"type\":\"string\",\"nullable\":true,\"metadata\":{}},{\"name\":\"entity_type\",\"type\":\"string\",\"nullable\":true,\"metadata\":{}},{\"name\":\"name\",\"type\":\"string\",\"nullable\":true,\"metadata\":{}},{\"name\":\"npi\",\"type\":\"string\",\"nullable\":true,\"metadata\":{}},{\"name\":\"provider_role\",\"type\":\"string\",\"nullable\":true,\"metadata\":{}},{\"name\":\"state\",\"type\":\"string\",\"nullable\":true,\"metadata\":{}},{\"name\":\"street\",\"type\":\"string\",\"nullable\":true,\"metadata\":{}},{\"name\":\"taxonomy\",\"type\":\"string\",\"nullable\":true,\"metadata\":{}},{\"name\":\"zip\",\"type\":\"string\",\"nullable\":true,\"metadata\":{}}]},\"nullable\":true,\"metadata\":{}}]}"
        },
        {
         "metadata": "{}",
         "name": "receiver",
         "type": "{\"type\":\"struct\",\"fields\":[{\"name\":\"name\",\"type\":\"string\",\"nullable\":true,\"metadata\":{}},{\"name\":\"type\",\"type\":\"string\",\"nullable\":true,\"metadata\":{}}]}"
        },
        {
         "metadata": "{}",
         "name": "submitter",
         "type": "{\"type\":\"struct\",\"fields\":[{\"name\":\"name\",\"type\":\"string\",\"nullable\":true,\"metadata\":{}},{\"name\":\"sbmtter_contact_name\",\"type\":\"string\",\"nullable\":true,\"metadata\":{}},{\"name\":\"sbmtter_contacts\",\"type\":{\"type\":\"array\",\"elementType\":{\"type\":\"array\",\"elementType\":\"string\",\"containsNull\":true},\"containsNull\":true},\"nullable\":true,\"metadata\":{}},{\"name\":\"type\",\"type\":\"string\",\"nullable\":true,\"metadata\":{}}]}"
        },
        {
         "metadata": "{}",
         "name": "subscriber",
         "type": "{\"type\":\"struct\",\"fields\":[{\"name\":\"city\",\"type\":\"string\",\"nullable\":true,\"metadata\":{}},{\"name\":\"dob\",\"type\":\"string\",\"nullable\":true,\"metadata\":{}},{\"name\":\"dob_format\",\"type\":\"string\",\"nullable\":true,\"metadata\":{}},{\"name\":\"gender_cd\",\"type\":\"string\",\"nullable\":true,\"metadata\":{}},{\"name\":\"id\",\"type\":\"string\",\"nullable\":true,\"metadata\":{}},{\"name\":\"mrn\",\"type\":\"string\",\"nullable\":true,\"metadata\":{}},{\"name\":\"name\",\"type\":\"string\",\"nullable\":true,\"metadata\":{}},{\"name\":\"patient_relationship_cd\",\"type\":\"string\",\"nullable\":true,\"metadata\":{}},{\"name\":\"state\",\"type\":\"string\",\"nullable\":true,\"metadata\":{}},{\"name\":\"street\",\"type\":\"string\",\"nullable\":true,\"metadata\":{}},{\"name\":\"subsciber_identifier\",\"type\":\"string\",\"nullable\":true,\"metadata\":{}},{\"name\":\"subscriber_relationship_cd\",\"type\":\"string\",\"nullable\":true,\"metadata\":{}},{\"name\":\"zip\",\"type\":\"string\",\"nullable\":true,\"metadata\":{}}]}"
        }
       ],
       "type": "table"
      }
     },
     "output_type": "display_data"
    }
   ],
   "source": [
    "%sql\n",
    "drop table if exists raven_catalog.x12_edi_parser.claim_header;\n",
    "create table raven_catalog.x12_edi_parser.claim_header as \n",
    "select * except(claim_lines)\n",
    "from stg_claims\n",
    ";\n",
    "\n",
    "SELECT * FROM raven_catalog.x12_edi_parser.claim_header"
   ]
  },
  {
   "cell_type": "code",
   "execution_count": 0,
   "metadata": {
    "application/vnd.databricks.v1+cell": {
     "cellMetadata": {
      "byteLimit": 2048000,
      "implicitDf": true,
      "rowLimit": 10000
     },
     "inputWidgets": {},
     "nuid": "52cdf2d0-e726-41a9-8cb3-c124560b2469",
     "showTitle": true,
     "tableResultSettingsMap": {},
     "title": "Create Claim Lines"
    }
   },
   "outputs": [
    {
     "data": {
      "text/html": [
       "<style scoped>\n",
       "  .table-result-container {\n",
       "    max-height: 300px;\n",
       "    overflow: auto;\n",
       "  }\n",
       "  table, th, td {\n",
       "    border: 1px solid black;\n",
       "    border-collapse: collapse;\n",
       "  }\n",
       "  th, td {\n",
       "    padding: 5px;\n",
       "  }\n",
       "  th {\n",
       "    text-align: left;\n",
       "  }\n",
       "</style><div class='table-result-container'><table class='table-result'><thead style='background-color: white'><tr><th>EDI.control_number</th><th>EDI.date</th><th>EDI.recipient_qualifier_id</th><th>EDI.sender_qualifier_id</th><th>EDI.standard_version</th><th>EDI.time</th><th>FunctionalGroup.control_number</th><th>FunctionalGroup.date</th><th>FunctionalGroup.receiver</th><th>FunctionalGroup.sender</th><th>FunctionalGroup.standard_version</th><th>FunctionalGroup.time</th><th>FunctionalGroup.transaction_type</th><th>Transaction.transaction_type</th><th>claim_lines</th><th>diagnosis</th><th>filename</th><th>patient</th><th>payer</th><th>providers</th><th>receiver</th><th>submitter</th><th>subscriber</th><th>claim_line</th></tr></thead><tbody><tr><td>697773230</td><td>180508</td><td>ZZ123456789      </td><td>01987654321      </td><td>00501</td><td>0833</td><td>212950697</td><td>20180508</td><td>123456789</td><td>CLEARINGHOUSE</td><td>005010X222A1</td><td>0833</td><td>222</td><td>222</td><td>List(List(1, D8, 1, 20, , , H0003, HC, null, 20180428, D8, 472, 1, UN))</td><td>List(, , , F1120, )</td><td>file:/Workspace/Users/raven.mukherjee@databricks.com/x12-edi-parser/sampledata/837/CHPW_Claimdata.txt</td><td>List(VANCOUVER, 19881225, D8, M, , , SUBSCRIBER JOHN J, , WA, 987 65TH PL, 987321, 18, 986640001)</td><td>List(2, CHPWA, PI, COMMUNITY HEALTH PLAN OF WASHINGTON)</td><td>List(null, List(VANCOUVER, 720000000, EI, Organization, BH CLINIC OF VANCOUVER, 1122334455, , WA, 12345 MAIN ST, , 98662), null, null, null, List(, , , Individual,   , , , , , , ), List(, , , Organization, BH CLINIC OF VANCOUVER, 1122334455, , , , , ), List(, , , Individual, PROVIDER JAMES , 1112223338, PE, , , 261QR0405X, ))</td><td>List(123456789, Organization)</td><td>List(CLEARINGHOUSE LLC, CLEARINGHOUSE CLIENT SERVICES, List(List(TE, 8005551212), List(FX, 8005551212)), Organization)</td><td>List(VANCOUVER, 19881225, D8, M, , , SUBSCRIBER JOHN J, , WA, 987 65TH PL, 987321, 18, 986640001)</td><td>List(1, D8, 1, 20, , , H0003, HC, null, 20180428, D8, 472, 1, UN)</td></tr><tr><td>697773230</td><td>180508</td><td>ZZ123456789      </td><td>01987654321      </td><td>00501</td><td>0833</td><td>212950697</td><td>20180508</td><td>123456789</td><td>CLEARINGHOUSE</td><td>005010X222A1</td><td>0833</td><td>222</td><td>222</td><td>List(List(1, D8, 1:2, 50.1, HF, , 96153, HC, null, 20180426, D8, 472, 6, UN))</td><td>List(, , , F1520, )</td><td>file:/Workspace/Users/raven.mukherjee@databricks.com/x12-edi-parser/sampledata/837/CHPW_Claimdata.txt</td><td>List(VANCOUVER, 19881031, D8, F, , , PATIENT SUSAN E, , WA, 765 43RD ST, 765123, 18, 986640002)</td><td>List(2, CHPWA, PI, COMMUNITY HEALTH PLAN OF WASHINGTON)</td><td>List(null, List(VANCOUVER, 720000000, EI, Organization, BH CLINIC OF VANCOUVER, 1122334455, , WA, 12345 MAIN ST, , 98662), null, null, null, List(, , , Individual,   , , , , , , ), List(, , , Organization, BH CLINIC OF VANCOUVER, 1122334455, , , , , ), List(, , , Individual, PROVIDER SUSAN , 1112223346, PE, , , 261QR0405X, ))</td><td>List(123456789, Organization)</td><td>List(CLEARINGHOUSE LLC, CLEARINGHOUSE CLIENT SERVICES, List(List(TE, 8005551212), List(FX, 8005551212)), Organization)</td><td>List(VANCOUVER, 19881031, D8, F, , , PATIENT SUSAN E, , WA, 765 43RD ST, 765123, 18, 986640002)</td><td>List(1, D8, 1:2, 50.1, HF, , 96153, HC, null, 20180426, D8, 472, 6, UN)</td></tr><tr><td>697773230</td><td>180508</td><td>ZZ123456789      </td><td>01987654321      </td><td>00501</td><td>0833</td><td>212950697</td><td>20180508</td><td>123456789</td><td>CLEARINGHOUSE</td><td>005010X222A1</td><td>0833</td><td>222</td><td>222</td><td>List(List(1, D8, 1:2, 11.64, HF, , T1017, HC, null, 20180427, D8, 472, 1, UN))</td><td>List(, , , F1020, )</td><td>file:/Workspace/Users/raven.mukherjee@databricks.com/x12-edi-parser/sampledata/837/CHPW_Claimdata.txt</td><td>List(VANCOUVER, 19881225, D8, M, , , SUBSCRIBER JOHN J, , WA, 987 65TH PL, 987321, 18, 986640001)</td><td>List(2, CHPWA, PI, COMMUNITY HEALTH PLAN OF WASHINGTON)</td><td>List(null, List(VANCOUVER, 720000000, EI, Organization, BH CLINIC OF VANCOUVER, 1122334455, , WA, 12345 MAIN ST, , 98662), null, null, null, List(, , , Individual,   , , , , , , ), List(, , , Organization, BH CLINIC OF VANCOUVER, 1122334455, , , , , ), List(, , , Individual, PROVIDER SUSAN , 1112223346, PE, , , 261QR0405X, ))</td><td>List(123456789, Organization)</td><td>List(CLEARINGHOUSE LLC, CLEARINGHOUSE CLIENT SERVICES, List(List(TE, 8005551212), List(FX, 8005551212)), Organization)</td><td>List(VANCOUVER, 19881225, D8, M, , , SUBSCRIBER JOHN J, , WA, 987 65TH PL, 987321, 18, 986640001)</td><td>List(1, D8, 1:2, 11.64, HF, , T1017, HC, null, 20180427, D8, 472, 1, UN)</td></tr><tr><td>697773230</td><td>180508</td><td>ZZ123456789      </td><td>01987654321      </td><td>00501</td><td>0833</td><td>212950697</td><td>20180508</td><td>123456789</td><td>CLEARINGHOUSE</td><td>005010X222A1</td><td>0833</td><td>222</td><td>222</td><td>List(List(1, D8, 1, 234, , , 90853, HC, null, 20180427, D8, 472, 120, UN))</td><td>List(, , , F251, )</td><td>file:/Workspace/Users/raven.mukherjee@databricks.com/x12-edi-parser/sampledata/837/CHPW_Claimdata.txt</td><td>List(VANCOUVER, 19881031, D8, F, , , PATIENT SUSAN E, , WA, 765 43RD ST, 765123, 18, 986640002)</td><td>List(2, CHPWA, PI, COMMUNITY HEALTH PLAN OF WASHINGTON)</td><td>List(null, List(VANCOUVER, 720000000, EI, Organization, BH CLINIC OF VANCOUVER, 1122334455, , WA, 12345 MAIN ST, , 98662), null, null, null, List(, , , Individual,   , , , , , , ), List(, , , Organization, BH CLINIC OF VANCOUVER, 1122334455, , , , , ), List(, , , Individual, PROVIDER SUSAN , 1112223346, PE, , , 251S00000X, ))</td><td>List(123456789, Organization)</td><td>List(CLEARINGHOUSE LLC, CLEARINGHOUSE CLIENT SERVICES, List(List(TE, 8005551212), List(FX, 8005551212)), Organization)</td><td>List(VANCOUVER, 19881031, D8, F, , , PATIENT SUSAN E, , WA, 765 43RD ST, 765123, 18, 986640002)</td><td>List(1, D8, 1, 234, , , 90853, HC, null, 20180427, D8, 472, 120, UN)</td></tr><tr><td>697773230</td><td>180508</td><td>ZZ123456789      </td><td>01987654321      </td><td>00501</td><td>0833</td><td>212950697</td><td>20180508</td><td>123456789</td><td>CLEARINGHOUSE</td><td>005010X222A1</td><td>0833</td><td>222</td><td>222</td><td>List(List(1, D8, 1:2, 20, , , H0003, HC, null, 20180427, D8, 472, 1, UN))</td><td>List(, , , F1020, )</td><td>file:/Workspace/Users/raven.mukherjee@databricks.com/x12-edi-parser/sampledata/837/CHPW_Claimdata.txt</td><td>List(VANCOUVER, 19881225, D8, M, , , SUBSCRIBER JOHN J, , WA, 987 65TH PL, 987321, 18, 986640001)</td><td>List(2, CHPWA, PI, COMMUNITY HEALTH PLAN OF WASHINGTON)</td><td>List(null, List(VANCOUVER, 720000000, EI, Organization, BH CLINIC OF VANCOUVER, 1122334455, , WA, 12345 MAIN ST, , 98662), null, null, null, List(, , , Individual,   , , , , , , ), List(, , , Organization, BH CLINIC OF VANCOUVER, 1122334455, , , , , ), List(, , , Individual, PROVIDER JAMES , 1112223338, PE, , , 261QR0405X, ))</td><td>List(123456789, Organization)</td><td>List(CLEARINGHOUSE LLC, CLEARINGHOUSE CLIENT SERVICES, List(List(TE, 8005551212), List(FX, 8005551212)), Organization)</td><td>List(VANCOUVER, 19881225, D8, M, , , SUBSCRIBER JOHN J, , WA, 987 65TH PL, 987321, 18, 986640001)</td><td>List(1, D8, 1:2, 20, , , H0003, HC, null, 20180427, D8, 472, 1, UN)</td></tr><tr><td>000001508</td><td>180807</td><td>ZZ421406317      </td><td>30133052274      </td><td>00501</td><td>1202</td><td>1770</td><td>20180710</td><td>OO000011111</td><td>000000005D</td><td>005010X222A1</td><td>214339</td><td>222</td><td>222</td><td>List(List(1, RD8, 1, 1800, QZ, , 01710, HC, null, 20180123-20180123, RD8, 472, 88, MJ), List(1, RD8, 1, 984, AA,P3, , 00731, HC, null, 20180713-20180713, RD8, 472, 24, MJ), List(1, RD8, 1, 1353, AA, , 00840, HC, null, 20180713-20180713, RD8, 472, 62, MJ), List(1, RD8, 1, 1230, AA, , 00902, HC, null, 20180713-20180713, RD8, 472, 65, MJ), List(2, RD8, 2, 738, 59, , 62322, HC, null, 20180713-20180713, RD8, 472, 1, UN))</td><td>List(, , , G5621, )</td><td>file:/Workspace/Users/raven.mukherjee@databricks.com/x12-edi-parser/sampledata/837/Molina_Mock_UP_837P_File.txt</td><td>List(FAKE CITY, 19650101, D8, M, , , ABCDEFGH IJKLMNOP B, , CA, 123 ADDRESS3, 111111100, 18, 908021112)</td><td>List(2, ABCMMPIO, PI, ABCHYI OL POI)</td><td>List(null, List(FAKE CITY, 123456789, EI, Organization, YYYY HEALTHCARE ABC, 1222222220, , NY, 123 ADDRESS1, , 908021112), null, null, null, List(, , , Individual, ABCD STUVW , 1234567890, , , , , ), List(, , , Organization, ABCDEFG HIJKLMN HOSP, 1122334460, , , , , ), List(, , , Individual, TUVWX MNOPQR , 1234567891, PE, , , 367500000X, ))</td><td>List(ABCHYI OL POI, Organization)</td><td>List(ABCDEF, ABCDEF CUSTOMER SOLUTIONS, List(List(TE, 9999999999), List(, )), Organization)</td><td>List(FAKE CITY, 19650101, D8, M, , , ABCDEFGH IJKLMNOP B, , CA, 123 ADDRESS3, 111111100, 18, 908021112)</td><td>List(1, RD8, 1, 1800, QZ, , 01710, HC, null, 20180123-20180123, RD8, 472, 88, MJ)</td></tr><tr><td>000001508</td><td>180807</td><td>ZZ421406317      </td><td>30133052274      </td><td>00501</td><td>1202</td><td>1770</td><td>20180710</td><td>OO000011111</td><td>000000005D</td><td>005010X222A1</td><td>214339</td><td>222</td><td>222</td><td>List(List(1, RD8, 1, 1800, QZ, , 01710, HC, null, 20180123-20180123, RD8, 472, 88, MJ), List(1, RD8, 1, 984, AA,P3, , 00731, HC, null, 20180713-20180713, RD8, 472, 24, MJ), List(1, RD8, 1, 1353, AA, , 00840, HC, null, 20180713-20180713, RD8, 472, 62, MJ), List(1, RD8, 1, 1230, AA, , 00902, HC, null, 20180713-20180713, RD8, 472, 65, MJ), List(2, RD8, 2, 738, 59, , 62322, HC, null, 20180713-20180713, RD8, 472, 1, UN))</td><td>List(, , , G5621, )</td><td>file:/Workspace/Users/raven.mukherjee@databricks.com/x12-edi-parser/sampledata/837/Molina_Mock_UP_837P_File.txt</td><td>List(FAKE CITY, 19650101, D8, M, , , ABCDEFGH IJKLMNOP B, , CA, 123 ADDRESS3, 111111100, 18, 908021112)</td><td>List(2, ABCMMPIO, PI, ABCHYI OL POI)</td><td>List(null, List(FAKE CITY, 123456789, EI, Organization, YYYY HEALTHCARE ABC, 1222222220, , NY, 123 ADDRESS1, , 908021112), null, null, null, List(, , , Individual, ABCD STUVW , 1234567890, , , , , ), List(, , , Organization, ABCDEFG HIJKLMN HOSP, 1122334460, , , , , ), List(, , , Individual, TUVWX MNOPQR , 1234567891, PE, , , 367500000X, ))</td><td>List(ABCHYI OL POI, Organization)</td><td>List(ABCDEF, ABCDEF CUSTOMER SOLUTIONS, List(List(TE, 9999999999), List(, )), Organization)</td><td>List(FAKE CITY, 19650101, D8, M, , , ABCDEFGH IJKLMNOP B, , CA, 123 ADDRESS3, 111111100, 18, 908021112)</td><td>List(1, RD8, 1, 984, AA,P3, , 00731, HC, null, 20180713-20180713, RD8, 472, 24, MJ)</td></tr><tr><td>000001508</td><td>180807</td><td>ZZ421406317      </td><td>30133052274      </td><td>00501</td><td>1202</td><td>1770</td><td>20180710</td><td>OO000011111</td><td>000000005D</td><td>005010X222A1</td><td>214339</td><td>222</td><td>222</td><td>List(List(1, RD8, 1, 1800, QZ, , 01710, HC, null, 20180123-20180123, RD8, 472, 88, MJ), List(1, RD8, 1, 984, AA,P3, , 00731, HC, null, 20180713-20180713, RD8, 472, 24, MJ), List(1, RD8, 1, 1353, AA, , 00840, HC, null, 20180713-20180713, RD8, 472, 62, MJ), List(1, RD8, 1, 1230, AA, , 00902, HC, null, 20180713-20180713, RD8, 472, 65, MJ), List(2, RD8, 2, 738, 59, , 62322, HC, null, 20180713-20180713, RD8, 472, 1, UN))</td><td>List(, , , G5621, )</td><td>file:/Workspace/Users/raven.mukherjee@databricks.com/x12-edi-parser/sampledata/837/Molina_Mock_UP_837P_File.txt</td><td>List(FAKE CITY, 19650101, D8, M, , , ABCDEFGH IJKLMNOP B, , CA, 123 ADDRESS3, 111111100, 18, 908021112)</td><td>List(2, ABCMMPIO, PI, ABCHYI OL POI)</td><td>List(null, List(FAKE CITY, 123456789, EI, Organization, YYYY HEALTHCARE ABC, 1222222220, , NY, 123 ADDRESS1, , 908021112), null, null, null, List(, , , Individual, ABCD STUVW , 1234567890, , , , , ), List(, , , Organization, ABCDEFG HIJKLMN HOSP, 1122334460, , , , , ), List(, , , Individual, TUVWX MNOPQR , 1234567891, PE, , , 367500000X, ))</td><td>List(ABCHYI OL POI, Organization)</td><td>List(ABCDEF, ABCDEF CUSTOMER SOLUTIONS, List(List(TE, 9999999999), List(, )), Organization)</td><td>List(FAKE CITY, 19650101, D8, M, , , ABCDEFGH IJKLMNOP B, , CA, 123 ADDRESS3, 111111100, 18, 908021112)</td><td>List(1, RD8, 1, 1353, AA, , 00840, HC, null, 20180713-20180713, RD8, 472, 62, MJ)</td></tr><tr><td>000001508</td><td>180807</td><td>ZZ421406317      </td><td>30133052274      </td><td>00501</td><td>1202</td><td>1770</td><td>20180710</td><td>OO000011111</td><td>000000005D</td><td>005010X222A1</td><td>214339</td><td>222</td><td>222</td><td>List(List(1, RD8, 1, 1800, QZ, , 01710, HC, null, 20180123-20180123, RD8, 472, 88, MJ), List(1, RD8, 1, 984, AA,P3, , 00731, HC, null, 20180713-20180713, RD8, 472, 24, MJ), List(1, RD8, 1, 1353, AA, , 00840, HC, null, 20180713-20180713, RD8, 472, 62, MJ), List(1, RD8, 1, 1230, AA, , 00902, HC, null, 20180713-20180713, RD8, 472, 65, MJ), List(2, RD8, 2, 738, 59, , 62322, HC, null, 20180713-20180713, RD8, 472, 1, UN))</td><td>List(, , , G5621, )</td><td>file:/Workspace/Users/raven.mukherjee@databricks.com/x12-edi-parser/sampledata/837/Molina_Mock_UP_837P_File.txt</td><td>List(FAKE CITY, 19650101, D8, M, , , ABCDEFGH IJKLMNOP B, , CA, 123 ADDRESS3, 111111100, 18, 908021112)</td><td>List(2, ABCMMPIO, PI, ABCHYI OL POI)</td><td>List(null, List(FAKE CITY, 123456789, EI, Organization, YYYY HEALTHCARE ABC, 1222222220, , NY, 123 ADDRESS1, , 908021112), null, null, null, List(, , , Individual, ABCD STUVW , 1234567890, , , , , ), List(, , , Organization, ABCDEFG HIJKLMN HOSP, 1122334460, , , , , ), List(, , , Individual, TUVWX MNOPQR , 1234567891, PE, , , 367500000X, ))</td><td>List(ABCHYI OL POI, Organization)</td><td>List(ABCDEF, ABCDEF CUSTOMER SOLUTIONS, List(List(TE, 9999999999), List(, )), Organization)</td><td>List(FAKE CITY, 19650101, D8, M, , , ABCDEFGH IJKLMNOP B, , CA, 123 ADDRESS3, 111111100, 18, 908021112)</td><td>List(1, RD8, 1, 1230, AA, , 00902, HC, null, 20180713-20180713, RD8, 472, 65, MJ)</td></tr><tr><td>000001508</td><td>180807</td><td>ZZ421406317      </td><td>30133052274      </td><td>00501</td><td>1202</td><td>1770</td><td>20180710</td><td>OO000011111</td><td>000000005D</td><td>005010X222A1</td><td>214339</td><td>222</td><td>222</td><td>List(List(1, RD8, 1, 1800, QZ, , 01710, HC, null, 20180123-20180123, RD8, 472, 88, MJ), List(1, RD8, 1, 984, AA,P3, , 00731, HC, null, 20180713-20180713, RD8, 472, 24, MJ), List(1, RD8, 1, 1353, AA, , 00840, HC, null, 20180713-20180713, RD8, 472, 62, MJ), List(1, RD8, 1, 1230, AA, , 00902, HC, null, 20180713-20180713, RD8, 472, 65, MJ), List(2, RD8, 2, 738, 59, , 62322, HC, null, 20180713-20180713, RD8, 472, 1, UN))</td><td>List(, , , G5621, )</td><td>file:/Workspace/Users/raven.mukherjee@databricks.com/x12-edi-parser/sampledata/837/Molina_Mock_UP_837P_File.txt</td><td>List(FAKE CITY, 19650101, D8, M, , , ABCDEFGH IJKLMNOP B, , CA, 123 ADDRESS3, 111111100, 18, 908021112)</td><td>List(2, ABCMMPIO, PI, ABCHYI OL POI)</td><td>List(null, List(FAKE CITY, 123456789, EI, Organization, YYYY HEALTHCARE ABC, 1222222220, , NY, 123 ADDRESS1, , 908021112), null, null, null, List(, , , Individual, ABCD STUVW , 1234567890, , , , , ), List(, , , Organization, ABCDEFG HIJKLMN HOSP, 1122334460, , , , , ), List(, , , Individual, TUVWX MNOPQR , 1234567891, PE, , , 367500000X, ))</td><td>List(ABCHYI OL POI, Organization)</td><td>List(ABCDEF, ABCDEF CUSTOMER SOLUTIONS, List(List(TE, 9999999999), List(, )), Organization)</td><td>List(FAKE CITY, 19650101, D8, M, , , ABCDEFGH IJKLMNOP B, , CA, 123 ADDRESS3, 111111100, 18, 908021112)</td><td>List(2, RD8, 2, 738, 59, , 62322, HC, null, 20180713-20180713, RD8, 472, 1, UN)</td></tr><tr><td>000001508</td><td>180807</td><td>ZZ421406317      </td><td>30133052274      </td><td>00501</td><td>1202</td><td>1770</td><td>20180710</td><td>OO000011111</td><td>000000005D</td><td>005010X222A1</td><td>214339</td><td>222</td><td>222</td><td>List(List(1, RD8, 1, 984, AA,P3, , 00731, HC, null, 20180713-20180713, RD8, 472, 24, MJ), List(1, RD8, 1, 1353, AA, , 00840, HC, null, 20180713-20180713, RD8, 472, 62, MJ), List(1, RD8, 1, 1230, AA, , 00902, HC, null, 20180713-20180713, RD8, 472, 65, MJ), List(2, RD8, 2, 738, 59, , 62322, HC, null, 20180713-20180713, RD8, 472, 1, UN))</td><td>List(, , , K219, )</td><td>file:/Workspace/Users/raven.mukherjee@databricks.com/x12-edi-parser/sampledata/837/Molina_Mock_UP_837P_File.txt</td><td>List(FAKE CITY, 19760101, D8, F, 125478963, SY, ABCDEFGH IJKLMNOP B, , CA, 123 ADDRESS7, 11111117, 18, 908021117)</td><td>List(2, ABCMMPIO, PI, ABCHYI OL POI)</td><td>List(null, List(FAKE CITY, 543211234, EI, Organization, ABCDE EFGHIJ GROUP PC, 1222222223, , CA, 123 ADDRESS5, , 908021115), null, null, null, List(, , , Individual, ABCDEFG OPQRST A, 1122334460, , , , , ), List(, , , Organization, ABCDEFG HIJKLMN HOSP, 1122334450, , , , , ), List(, , , Individual, STUVW KLMNOP H, 1122334461, PE, , , 207L00000X, ))</td><td>List(ABCHYI OL POI, Organization)</td><td>List(ABCDEF, ABCDEF CUSTOMER SOLUTIONS, List(List(TE, 9999999999), List(, )), Organization)</td><td>List(FAKE CITY, 19760101, D8, F, 125478963, SY, ABCDEFGH IJKLMNOP B, , CA, 123 ADDRESS7, 11111117, 18, 908021117)</td><td>List(1, RD8, 1, 984, AA,P3, , 00731, HC, null, 20180713-20180713, RD8, 472, 24, MJ)</td></tr><tr><td>000001508</td><td>180807</td><td>ZZ421406317      </td><td>30133052274      </td><td>00501</td><td>1202</td><td>1770</td><td>20180710</td><td>OO000011111</td><td>000000005D</td><td>005010X222A1</td><td>214339</td><td>222</td><td>222</td><td>List(List(1, RD8, 1, 984, AA,P3, , 00731, HC, null, 20180713-20180713, RD8, 472, 24, MJ), List(1, RD8, 1, 1353, AA, , 00840, HC, null, 20180713-20180713, RD8, 472, 62, MJ), List(1, RD8, 1, 1230, AA, , 00902, HC, null, 20180713-20180713, RD8, 472, 65, MJ), List(2, RD8, 2, 738, 59, , 62322, HC, null, 20180713-20180713, RD8, 472, 1, UN))</td><td>List(, , , K219, )</td><td>file:/Workspace/Users/raven.mukherjee@databricks.com/x12-edi-parser/sampledata/837/Molina_Mock_UP_837P_File.txt</td><td>List(FAKE CITY, 19760101, D8, F, 125478963, SY, ABCDEFGH IJKLMNOP B, , CA, 123 ADDRESS7, 11111117, 18, 908021117)</td><td>List(2, ABCMMPIO, PI, ABCHYI OL POI)</td><td>List(null, List(FAKE CITY, 543211234, EI, Organization, ABCDE EFGHIJ GROUP PC, 1222222223, , CA, 123 ADDRESS5, , 908021115), null, null, null, List(, , , Individual, ABCDEFG OPQRST A, 1122334460, , , , , ), List(, , , Organization, ABCDEFG HIJKLMN HOSP, 1122334450, , , , , ), List(, , , Individual, STUVW KLMNOP H, 1122334461, PE, , , 207L00000X, ))</td><td>List(ABCHYI OL POI, Organization)</td><td>List(ABCDEF, ABCDEF CUSTOMER SOLUTIONS, List(List(TE, 9999999999), List(, )), Organization)</td><td>List(FAKE CITY, 19760101, D8, F, 125478963, SY, ABCDEFGH IJKLMNOP B, , CA, 123 ADDRESS7, 11111117, 18, 908021117)</td><td>List(1, RD8, 1, 1353, AA, , 00840, HC, null, 20180713-20180713, RD8, 472, 62, MJ)</td></tr><tr><td>000001508</td><td>180807</td><td>ZZ421406317      </td><td>30133052274      </td><td>00501</td><td>1202</td><td>1770</td><td>20180710</td><td>OO000011111</td><td>000000005D</td><td>005010X222A1</td><td>214339</td><td>222</td><td>222</td><td>List(List(1, RD8, 1, 984, AA,P3, , 00731, HC, null, 20180713-20180713, RD8, 472, 24, MJ), List(1, RD8, 1, 1353, AA, , 00840, HC, null, 20180713-20180713, RD8, 472, 62, MJ), List(1, RD8, 1, 1230, AA, , 00902, HC, null, 20180713-20180713, RD8, 472, 65, MJ), List(2, RD8, 2, 738, 59, , 62322, HC, null, 20180713-20180713, RD8, 472, 1, UN))</td><td>List(, , , K219, )</td><td>file:/Workspace/Users/raven.mukherjee@databricks.com/x12-edi-parser/sampledata/837/Molina_Mock_UP_837P_File.txt</td><td>List(FAKE CITY, 19760101, D8, F, 125478963, SY, ABCDEFGH IJKLMNOP B, , CA, 123 ADDRESS7, 11111117, 18, 908021117)</td><td>List(2, ABCMMPIO, PI, ABCHYI OL POI)</td><td>List(null, List(FAKE CITY, 543211234, EI, Organization, ABCDE EFGHIJ GROUP PC, 1222222223, , CA, 123 ADDRESS5, , 908021115), null, null, null, List(, , , Individual, ABCDEFG OPQRST A, 1122334460, , , , , ), List(, , , Organization, ABCDEFG HIJKLMN HOSP, 1122334450, , , , , ), List(, , , Individual, STUVW KLMNOP H, 1122334461, PE, , , 207L00000X, ))</td><td>List(ABCHYI OL POI, Organization)</td><td>List(ABCDEF, ABCDEF CUSTOMER SOLUTIONS, List(List(TE, 9999999999), List(, )), Organization)</td><td>List(FAKE CITY, 19760101, D8, F, 125478963, SY, ABCDEFGH IJKLMNOP B, , CA, 123 ADDRESS7, 11111117, 18, 908021117)</td><td>List(1, RD8, 1, 1230, AA, , 00902, HC, null, 20180713-20180713, RD8, 472, 65, MJ)</td></tr><tr><td>000001508</td><td>180807</td><td>ZZ421406317      </td><td>30133052274      </td><td>00501</td><td>1202</td><td>1770</td><td>20180710</td><td>OO000011111</td><td>000000005D</td><td>005010X222A1</td><td>214339</td><td>222</td><td>222</td><td>List(List(1, RD8, 1, 984, AA,P3, , 00731, HC, null, 20180713-20180713, RD8, 472, 24, MJ), List(1, RD8, 1, 1353, AA, , 00840, HC, null, 20180713-20180713, RD8, 472, 62, MJ), List(1, RD8, 1, 1230, AA, , 00902, HC, null, 20180713-20180713, RD8, 472, 65, MJ), List(2, RD8, 2, 738, 59, , 62322, HC, null, 20180713-20180713, RD8, 472, 1, UN))</td><td>List(, , , K219, )</td><td>file:/Workspace/Users/raven.mukherjee@databricks.com/x12-edi-parser/sampledata/837/Molina_Mock_UP_837P_File.txt</td><td>List(FAKE CITY, 19760101, D8, F, 125478963, SY, ABCDEFGH IJKLMNOP B, , CA, 123 ADDRESS7, 11111117, 18, 908021117)</td><td>List(2, ABCMMPIO, PI, ABCHYI OL POI)</td><td>List(null, List(FAKE CITY, 543211234, EI, Organization, ABCDE EFGHIJ GROUP PC, 1222222223, , CA, 123 ADDRESS5, , 908021115), null, null, null, List(, , , Individual, ABCDEFG OPQRST A, 1122334460, , , , , ), List(, , , Organization, ABCDEFG HIJKLMN HOSP, 1122334450, , , , , ), List(, , , Individual, STUVW KLMNOP H, 1122334461, PE, , , 207L00000X, ))</td><td>List(ABCHYI OL POI, Organization)</td><td>List(ABCDEF, ABCDEF CUSTOMER SOLUTIONS, List(List(TE, 9999999999), List(, )), Organization)</td><td>List(FAKE CITY, 19760101, D8, F, 125478963, SY, ABCDEFGH IJKLMNOP B, , CA, 123 ADDRESS7, 11111117, 18, 908021117)</td><td>List(2, RD8, 2, 738, 59, , 62322, HC, null, 20180713-20180713, RD8, 472, 1, UN)</td></tr><tr><td>000001508</td><td>180807</td><td>ZZ421406317      </td><td>30133052274      </td><td>00501</td><td>1202</td><td>1770</td><td>20180710</td><td>OO000011111</td><td>000000005D</td><td>005010X222A1</td><td>214339</td><td>222</td><td>222</td><td>List(List(1, RD8, 1, 1353, AA, , 00840, HC, null, 20180713-20180713, RD8, 472, 62, MJ), List(1, RD8, 1, 1230, AA, , 00902, HC, null, 20180713-20180713, RD8, 472, 65, MJ), List(2, RD8, 2, 738, 59, , 62322, HC, null, 20180713-20180713, RD8, 472, 1, UN))</td><td>List(, , , K4090, )</td><td>file:/Workspace/Users/raven.mukherjee@databricks.com/x12-edi-parser/sampledata/837/Molina_Mock_UP_837P_File.txt</td><td>List(FAKE CITY, 20180409, D8, M, , , ABCDEFGH IJKLMNOP B, , CA, 123 ADDRESS11, 111111111, 18, 908021111)</td><td>List(2, YTHF281123456, PI, ABCHYI OL POI)</td><td>List(null, List(FAKE CITY, 931013923, EI, Organization, ABCDE EFGHIJ GROUP PC, 1477527786, , CA, 123 ADDRESS9, , 908021119), null, null, null, List(, , , Individual, ABCDEFGH OPQRSTU A, 1122334456, , , , , ), List(, , , Organization, ABCDEFG HIJKLMN HOSP, 1122334458, , , , , ), List(, , , Individual, STUVWX KLMNOPQ H, 1122334457, PE, , , 207L00000X, ))</td><td>List(ABCHYI OL POI, Organization)</td><td>List(ABCDEF, ABCDEF CUSTOMER SOLUTIONS, List(List(TE, 9999999999), List(, )), Organization)</td><td>List(FAKE CITY, 20180409, D8, M, , , ABCDEFGH IJKLMNOP B, , CA, 123 ADDRESS11, 111111111, 18, 908021111)</td><td>List(1, RD8, 1, 1353, AA, , 00840, HC, null, 20180713-20180713, RD8, 472, 62, MJ)</td></tr><tr><td>000001508</td><td>180807</td><td>ZZ421406317      </td><td>30133052274      </td><td>00501</td><td>1202</td><td>1770</td><td>20180710</td><td>OO000011111</td><td>000000005D</td><td>005010X222A1</td><td>214339</td><td>222</td><td>222</td><td>List(List(1, RD8, 1, 1353, AA, , 00840, HC, null, 20180713-20180713, RD8, 472, 62, MJ), List(1, RD8, 1, 1230, AA, , 00902, HC, null, 20180713-20180713, RD8, 472, 65, MJ), List(2, RD8, 2, 738, 59, , 62322, HC, null, 20180713-20180713, RD8, 472, 1, UN))</td><td>List(, , , K4090, )</td><td>file:/Workspace/Users/raven.mukherjee@databricks.com/x12-edi-parser/sampledata/837/Molina_Mock_UP_837P_File.txt</td><td>List(FAKE CITY, 20180409, D8, M, , , ABCDEFGH IJKLMNOP B, , CA, 123 ADDRESS11, 111111111, 18, 908021111)</td><td>List(2, YTHF281123456, PI, ABCHYI OL POI)</td><td>List(null, List(FAKE CITY, 931013923, EI, Organization, ABCDE EFGHIJ GROUP PC, 1477527786, , CA, 123 ADDRESS9, , 908021119), null, null, null, List(, , , Individual, ABCDEFGH OPQRSTU A, 1122334456, , , , , ), List(, , , Organization, ABCDEFG HIJKLMN HOSP, 1122334458, , , , , ), List(, , , Individual, STUVWX KLMNOPQ H, 1122334457, PE, , , 207L00000X, ))</td><td>List(ABCHYI OL POI, Organization)</td><td>List(ABCDEF, ABCDEF CUSTOMER SOLUTIONS, List(List(TE, 9999999999), List(, )), Organization)</td><td>List(FAKE CITY, 20180409, D8, M, , , ABCDEFGH IJKLMNOP B, , CA, 123 ADDRESS11, 111111111, 18, 908021111)</td><td>List(1, RD8, 1, 1230, AA, , 00902, HC, null, 20180713-20180713, RD8, 472, 65, MJ)</td></tr><tr><td>000001508</td><td>180807</td><td>ZZ421406317      </td><td>30133052274      </td><td>00501</td><td>1202</td><td>1770</td><td>20180710</td><td>OO000011111</td><td>000000005D</td><td>005010X222A1</td><td>214339</td><td>222</td><td>222</td><td>List(List(1, RD8, 1, 1353, AA, , 00840, HC, null, 20180713-20180713, RD8, 472, 62, MJ), List(1, RD8, 1, 1230, AA, , 00902, HC, null, 20180713-20180713, RD8, 472, 65, MJ), List(2, RD8, 2, 738, 59, , 62322, HC, null, 20180713-20180713, RD8, 472, 1, UN))</td><td>List(, , , K4090, )</td><td>file:/Workspace/Users/raven.mukherjee@databricks.com/x12-edi-parser/sampledata/837/Molina_Mock_UP_837P_File.txt</td><td>List(FAKE CITY, 20180409, D8, M, , , ABCDEFGH IJKLMNOP B, , CA, 123 ADDRESS11, 111111111, 18, 908021111)</td><td>List(2, YTHF281123456, PI, ABCHYI OL POI)</td><td>List(null, List(FAKE CITY, 931013923, EI, Organization, ABCDE EFGHIJ GROUP PC, 1477527786, , CA, 123 ADDRESS9, , 908021119), null, null, null, List(, , , Individual, ABCDEFGH OPQRSTU A, 1122334456, , , , , ), List(, , , Organization, ABCDEFG HIJKLMN HOSP, 1122334458, , , , , ), List(, , , Individual, STUVWX KLMNOPQ H, 1122334457, PE, , , 207L00000X, ))</td><td>List(ABCHYI OL POI, Organization)</td><td>List(ABCDEF, ABCDEF CUSTOMER SOLUTIONS, List(List(TE, 9999999999), List(, )), Organization)</td><td>List(FAKE CITY, 20180409, D8, M, , , ABCDEFGH IJKLMNOP B, , CA, 123 ADDRESS11, 111111111, 18, 908021111)</td><td>List(2, RD8, 2, 738, 59, , 62322, HC, null, 20180713-20180713, RD8, 472, 1, UN)</td></tr><tr><td>000001508</td><td>180807</td><td>ZZ421406317      </td><td>30133052274      </td><td>00501</td><td>1202</td><td>1770</td><td>20180710</td><td>OO000011111</td><td>000000005D</td><td>005010X222A1</td><td>214339</td><td>222</td><td>222</td><td>List(List(1, RD8, 1, 1230, AA, , 00902, HC, null, 20180713-20180713, RD8, 472, 65, MJ), List(2, RD8, 2, 738, 59, , 62322, HC, null, 20180713-20180713, RD8, 472, 1, UN))</td><td>List(, , , Q423, )</td><td>file:/Workspace/Users/raven.mukherjee@databricks.com/x12-edi-parser/sampledata/837/Molina_Mock_UP_837P_File.txt</td><td>List(FAKE CITY, 20180504, D8, F, , , ABCDEFGH IJKLMNOP B, , CA, 123 ADDRESS13, 111111112, 18, 908021113)</td><td>List(2, YTHF281123456, PI, ABCHYI OL POI)</td><td>List(null, List(FAKE CITY, 931013923, EI, Organization, ABCDE EFGHIJ GROUP PC, 1477527786, , CA, 123 ADDRESS9, , 908021119), null, null, null, List(, , , Individual, ABCDEFGHI OPQRSTUV A, 1122334455, , , , , ), List(, , , Organization, ABCDEFG HIJKLMN HOSP, 1122334457, , , , , ), List(, , , Individual, STUVWXY KLMNOPQR H, 1122334456, PE, , , 207L00000X, ))</td><td>List(ABCHYI OL POI, Organization)</td><td>List(ABCDEF, ABCDEF CUSTOMER SOLUTIONS, List(List(TE, 9999999999), List(, )), Organization)</td><td>List(FAKE CITY, 20180504, D8, F, , , ABCDEFGH IJKLMNOP B, , CA, 123 ADDRESS13, 111111112, 18, 908021113)</td><td>List(1, RD8, 1, 1230, AA, , 00902, HC, null, 20180713-20180713, RD8, 472, 65, MJ)</td></tr><tr><td>000001508</td><td>180807</td><td>ZZ421406317      </td><td>30133052274      </td><td>00501</td><td>1202</td><td>1770</td><td>20180710</td><td>OO000011111</td><td>000000005D</td><td>005010X222A1</td><td>214339</td><td>222</td><td>222</td><td>List(List(1, RD8, 1, 1230, AA, , 00902, HC, null, 20180713-20180713, RD8, 472, 65, MJ), List(2, RD8, 2, 738, 59, , 62322, HC, null, 20180713-20180713, RD8, 472, 1, UN))</td><td>List(, , , Q423, )</td><td>file:/Workspace/Users/raven.mukherjee@databricks.com/x12-edi-parser/sampledata/837/Molina_Mock_UP_837P_File.txt</td><td>List(FAKE CITY, 20180504, D8, F, , , ABCDEFGH IJKLMNOP B, , CA, 123 ADDRESS13, 111111112, 18, 908021113)</td><td>List(2, YTHF281123456, PI, ABCHYI OL POI)</td><td>List(null, List(FAKE CITY, 931013923, EI, Organization, ABCDE EFGHIJ GROUP PC, 1477527786, , CA, 123 ADDRESS9, , 908021119), null, null, null, List(, , , Individual, ABCDEFGHI OPQRSTUV A, 1122334455, , , , , ), List(, , , Organization, ABCDEFG HIJKLMN HOSP, 1122334457, , , , , ), List(, , , Individual, STUVWXY KLMNOPQR H, 1122334456, PE, , , 207L00000X, ))</td><td>List(ABCHYI OL POI, Organization)</td><td>List(ABCDEF, ABCDEF CUSTOMER SOLUTIONS, List(List(TE, 9999999999), List(, )), Organization)</td><td>List(FAKE CITY, 20180504, D8, F, , , ABCDEFGH IJKLMNOP B, , CA, 123 ADDRESS13, 111111112, 18, 908021113)</td><td>List(2, RD8, 2, 738, 59, , 62322, HC, null, 20180713-20180713, RD8, 472, 1, UN)</td></tr><tr><td>000001508</td><td>180807</td><td>ZZ421406317      </td><td>30133052274      </td><td>00501</td><td>1202</td><td>150800</td><td>20180807</td><td>421406317</td><td>133052274</td><td>005010X223A2</td><td>12022761</td><td>223</td><td>223</td><td>List(List(1, RD8, null, 9148, , null, , , 0124, 20180628-20180702, RD8, 472, 4, UN), List(2, RD8, null, 48.1, , null, , , 0250, 20180628-20180702, RD8, 472, 28, UN), List(3, RD8, null, 133, , null, , , 0260, 20180628-20180702, RD8, 472, 1, UN), List(4, RD8, null, 32.9, , null, , , 0300, 20180628-20180702, RD8, 472, 1, UN), List(5, RD8, null, 798.5, , null, , , 0301, 20180628-20180702, RD8, 472, 4, UN), List(6, RD8, null, 200.6, , null, , , 0305, 20180628-20180702, RD8, 472, 2, UN), List(7, RD8, null, 175, , null, , , 0306, 20180628-20180702, RD8, 472, 1, UN), List(8, RD8, null, 113.6, , null, , , 0307, 20180628-20180702, RD8, 472, 2, UN), List(9, RD8, null, 6517, , null, , , 0351, 20180628-20180702, RD8, 472, 2, UN))</td><td>List(F39, , F1319,F419,F17210,E876, F39, )</td><td>file:/Workspace/Users/raven.mukherjee@databricks.com/x12-edi-parser/sampledata/837/CC_837I_EDI.txt</td><td>List(Elgin, 19960215, D8, F, , , TEST MEMBER , , IL, 123 MAIN STREET, U0000000001, 18, 601200001)</td><td>List(2, 421406317, PI, CENTENE)</td><td>List(List(, TD-R192ICE00087, D9, Individual,   , , , , , , ), List(WOODSTOCK, 999999999, EI, Organization, Test Provider, 9999999999, , IL, 123 MAIN STREET, , 600980000), List(, , , Individual,   , , , , , , ), List(, , , Individual,   , , , , , , ), List(, , , Individual,   , , , , , , ), null, null, null)</td><td>List(CENTENE CORP, Organization)</td><td>List(TALEND, SAMBIT, List(List(TE, 3143202264), List(EX, 8099264)), Organization)</td><td>List(Elgin, 19960215, D8, F, , , TEST MEMBER , , IL, 123 MAIN STREET, U0000000001, 18, 601200001)</td><td>List(1, RD8, null, 9148, , null, , , 0124, 20180628-20180702, RD8, 472, 4, UN)</td></tr><tr><td>000001508</td><td>180807</td><td>ZZ421406317      </td><td>30133052274      </td><td>00501</td><td>1202</td><td>150800</td><td>20180807</td><td>421406317</td><td>133052274</td><td>005010X223A2</td><td>12022761</td><td>223</td><td>223</td><td>List(List(1, RD8, null, 9148, , null, , , 0124, 20180628-20180702, RD8, 472, 4, UN), List(2, RD8, null, 48.1, , null, , , 0250, 20180628-20180702, RD8, 472, 28, UN), List(3, RD8, null, 133, , null, , , 0260, 20180628-20180702, RD8, 472, 1, UN), List(4, RD8, null, 32.9, , null, , , 0300, 20180628-20180702, RD8, 472, 1, UN), List(5, RD8, null, 798.5, , null, , , 0301, 20180628-20180702, RD8, 472, 4, UN), List(6, RD8, null, 200.6, , null, , , 0305, 20180628-20180702, RD8, 472, 2, UN), List(7, RD8, null, 175, , null, , , 0306, 20180628-20180702, RD8, 472, 1, UN), List(8, RD8, null, 113.6, , null, , , 0307, 20180628-20180702, RD8, 472, 2, UN), List(9, RD8, null, 6517, , null, , , 0351, 20180628-20180702, RD8, 472, 2, UN))</td><td>List(F39, , F1319,F419,F17210,E876, F39, )</td><td>file:/Workspace/Users/raven.mukherjee@databricks.com/x12-edi-parser/sampledata/837/CC_837I_EDI.txt</td><td>List(Elgin, 19960215, D8, F, , , TEST MEMBER , , IL, 123 MAIN STREET, U0000000001, 18, 601200001)</td><td>List(2, 421406317, PI, CENTENE)</td><td>List(List(, TD-R192ICE00087, D9, Individual,   , , , , , , ), List(WOODSTOCK, 999999999, EI, Organization, Test Provider, 9999999999, , IL, 123 MAIN STREET, , 600980000), List(, , , Individual,   , , , , , , ), List(, , , Individual,   , , , , , , ), List(, , , Individual,   , , , , , , ), null, null, null)</td><td>List(CENTENE CORP, Organization)</td><td>List(TALEND, SAMBIT, List(List(TE, 3143202264), List(EX, 8099264)), Organization)</td><td>List(Elgin, 19960215, D8, F, , , TEST MEMBER , , IL, 123 MAIN STREET, U0000000001, 18, 601200001)</td><td>List(2, RD8, null, 48.1, , null, , , 0250, 20180628-20180702, RD8, 472, 28, UN)</td></tr><tr><td>000001508</td><td>180807</td><td>ZZ421406317      </td><td>30133052274      </td><td>00501</td><td>1202</td><td>150800</td><td>20180807</td><td>421406317</td><td>133052274</td><td>005010X223A2</td><td>12022761</td><td>223</td><td>223</td><td>List(List(1, RD8, null, 9148, , null, , , 0124, 20180628-20180702, RD8, 472, 4, UN), List(2, RD8, null, 48.1, , null, , , 0250, 20180628-20180702, RD8, 472, 28, UN), List(3, RD8, null, 133, , null, , , 0260, 20180628-20180702, RD8, 472, 1, UN), List(4, RD8, null, 32.9, , null, , , 0300, 20180628-20180702, RD8, 472, 1, UN), List(5, RD8, null, 798.5, , null, , , 0301, 20180628-20180702, RD8, 472, 4, UN), List(6, RD8, null, 200.6, , null, , , 0305, 20180628-20180702, RD8, 472, 2, UN), List(7, RD8, null, 175, , null, , , 0306, 20180628-20180702, RD8, 472, 1, UN), List(8, RD8, null, 113.6, , null, , , 0307, 20180628-20180702, RD8, 472, 2, UN), List(9, RD8, null, 6517, , null, , , 0351, 20180628-20180702, RD8, 472, 2, UN))</td><td>List(F39, , F1319,F419,F17210,E876, F39, )</td><td>file:/Workspace/Users/raven.mukherjee@databricks.com/x12-edi-parser/sampledata/837/CC_837I_EDI.txt</td><td>List(Elgin, 19960215, D8, F, , , TEST MEMBER , , IL, 123 MAIN STREET, U0000000001, 18, 601200001)</td><td>List(2, 421406317, PI, CENTENE)</td><td>List(List(, TD-R192ICE00087, D9, Individual,   , , , , , , ), List(WOODSTOCK, 999999999, EI, Organization, Test Provider, 9999999999, , IL, 123 MAIN STREET, , 600980000), List(, , , Individual,   , , , , , , ), List(, , , Individual,   , , , , , , ), List(, , , Individual,   , , , , , , ), null, null, null)</td><td>List(CENTENE CORP, Organization)</td><td>List(TALEND, SAMBIT, List(List(TE, 3143202264), List(EX, 8099264)), Organization)</td><td>List(Elgin, 19960215, D8, F, , , TEST MEMBER , , IL, 123 MAIN STREET, U0000000001, 18, 601200001)</td><td>List(3, RD8, null, 133, , null, , , 0260, 20180628-20180702, RD8, 472, 1, UN)</td></tr><tr><td>000001508</td><td>180807</td><td>ZZ421406317      </td><td>30133052274      </td><td>00501</td><td>1202</td><td>150800</td><td>20180807</td><td>421406317</td><td>133052274</td><td>005010X223A2</td><td>12022761</td><td>223</td><td>223</td><td>List(List(1, RD8, null, 9148, , null, , , 0124, 20180628-20180702, RD8, 472, 4, UN), List(2, RD8, null, 48.1, , null, , , 0250, 20180628-20180702, RD8, 472, 28, UN), List(3, RD8, null, 133, , null, , , 0260, 20180628-20180702, RD8, 472, 1, UN), List(4, RD8, null, 32.9, , null, , , 0300, 20180628-20180702, RD8, 472, 1, UN), List(5, RD8, null, 798.5, , null, , , 0301, 20180628-20180702, RD8, 472, 4, UN), List(6, RD8, null, 200.6, , null, , , 0305, 20180628-20180702, RD8, 472, 2, UN), List(7, RD8, null, 175, , null, , , 0306, 20180628-20180702, RD8, 472, 1, UN), List(8, RD8, null, 113.6, , null, , , 0307, 20180628-20180702, RD8, 472, 2, UN), List(9, RD8, null, 6517, , null, , , 0351, 20180628-20180702, RD8, 472, 2, UN))</td><td>List(F39, , F1319,F419,F17210,E876, F39, )</td><td>file:/Workspace/Users/raven.mukherjee@databricks.com/x12-edi-parser/sampledata/837/CC_837I_EDI.txt</td><td>List(Elgin, 19960215, D8, F, , , TEST MEMBER , , IL, 123 MAIN STREET, U0000000001, 18, 601200001)</td><td>List(2, 421406317, PI, CENTENE)</td><td>List(List(, TD-R192ICE00087, D9, Individual,   , , , , , , ), List(WOODSTOCK, 999999999, EI, Organization, Test Provider, 9999999999, , IL, 123 MAIN STREET, , 600980000), List(, , , Individual,   , , , , , , ), List(, , , Individual,   , , , , , , ), List(, , , Individual,   , , , , , , ), null, null, null)</td><td>List(CENTENE CORP, Organization)</td><td>List(TALEND, SAMBIT, List(List(TE, 3143202264), List(EX, 8099264)), Organization)</td><td>List(Elgin, 19960215, D8, F, , , TEST MEMBER , , IL, 123 MAIN STREET, U0000000001, 18, 601200001)</td><td>List(4, RD8, null, 32.9, , null, , , 0300, 20180628-20180702, RD8, 472, 1, UN)</td></tr><tr><td>000001508</td><td>180807</td><td>ZZ421406317      </td><td>30133052274      </td><td>00501</td><td>1202</td><td>150800</td><td>20180807</td><td>421406317</td><td>133052274</td><td>005010X223A2</td><td>12022761</td><td>223</td><td>223</td><td>List(List(1, RD8, null, 9148, , null, , , 0124, 20180628-20180702, RD8, 472, 4, UN), List(2, RD8, null, 48.1, , null, , , 0250, 20180628-20180702, RD8, 472, 28, UN), List(3, RD8, null, 133, , null, , , 0260, 20180628-20180702, RD8, 472, 1, UN), List(4, RD8, null, 32.9, , null, , , 0300, 20180628-20180702, RD8, 472, 1, UN), List(5, RD8, null, 798.5, , null, , , 0301, 20180628-20180702, RD8, 472, 4, UN), List(6, RD8, null, 200.6, , null, , , 0305, 20180628-20180702, RD8, 472, 2, UN), List(7, RD8, null, 175, , null, , , 0306, 20180628-20180702, RD8, 472, 1, UN), List(8, RD8, null, 113.6, , null, , , 0307, 20180628-20180702, RD8, 472, 2, UN), List(9, RD8, null, 6517, , null, , , 0351, 20180628-20180702, RD8, 472, 2, UN))</td><td>List(F39, , F1319,F419,F17210,E876, F39, )</td><td>file:/Workspace/Users/raven.mukherjee@databricks.com/x12-edi-parser/sampledata/837/CC_837I_EDI.txt</td><td>List(Elgin, 19960215, D8, F, , , TEST MEMBER , , IL, 123 MAIN STREET, U0000000001, 18, 601200001)</td><td>List(2, 421406317, PI, CENTENE)</td><td>List(List(, TD-R192ICE00087, D9, Individual,   , , , , , , ), List(WOODSTOCK, 999999999, EI, Organization, Test Provider, 9999999999, , IL, 123 MAIN STREET, , 600980000), List(, , , Individual,   , , , , , , ), List(, , , Individual,   , , , , , , ), List(, , , Individual,   , , , , , , ), null, null, null)</td><td>List(CENTENE CORP, Organization)</td><td>List(TALEND, SAMBIT, List(List(TE, 3143202264), List(EX, 8099264)), Organization)</td><td>List(Elgin, 19960215, D8, F, , , TEST MEMBER , , IL, 123 MAIN STREET, U0000000001, 18, 601200001)</td><td>List(5, RD8, null, 798.5, , null, , , 0301, 20180628-20180702, RD8, 472, 4, UN)</td></tr><tr><td>000001508</td><td>180807</td><td>ZZ421406317      </td><td>30133052274      </td><td>00501</td><td>1202</td><td>150800</td><td>20180807</td><td>421406317</td><td>133052274</td><td>005010X223A2</td><td>12022761</td><td>223</td><td>223</td><td>List(List(1, RD8, null, 9148, , null, , , 0124, 20180628-20180702, RD8, 472, 4, UN), List(2, RD8, null, 48.1, , null, , , 0250, 20180628-20180702, RD8, 472, 28, UN), List(3, RD8, null, 133, , null, , , 0260, 20180628-20180702, RD8, 472, 1, UN), List(4, RD8, null, 32.9, , null, , , 0300, 20180628-20180702, RD8, 472, 1, UN), List(5, RD8, null, 798.5, , null, , , 0301, 20180628-20180702, RD8, 472, 4, UN), List(6, RD8, null, 200.6, , null, , , 0305, 20180628-20180702, RD8, 472, 2, UN), List(7, RD8, null, 175, , null, , , 0306, 20180628-20180702, RD8, 472, 1, UN), List(8, RD8, null, 113.6, , null, , , 0307, 20180628-20180702, RD8, 472, 2, UN), List(9, RD8, null, 6517, , null, , , 0351, 20180628-20180702, RD8, 472, 2, UN))</td><td>List(F39, , F1319,F419,F17210,E876, F39, )</td><td>file:/Workspace/Users/raven.mukherjee@databricks.com/x12-edi-parser/sampledata/837/CC_837I_EDI.txt</td><td>List(Elgin, 19960215, D8, F, , , TEST MEMBER , , IL, 123 MAIN STREET, U0000000001, 18, 601200001)</td><td>List(2, 421406317, PI, CENTENE)</td><td>List(List(, TD-R192ICE00087, D9, Individual,   , , , , , , ), List(WOODSTOCK, 999999999, EI, Organization, Test Provider, 9999999999, , IL, 123 MAIN STREET, , 600980000), List(, , , Individual,   , , , , , , ), List(, , , Individual,   , , , , , , ), List(, , , Individual,   , , , , , , ), null, null, null)</td><td>List(CENTENE CORP, Organization)</td><td>List(TALEND, SAMBIT, List(List(TE, 3143202264), List(EX, 8099264)), Organization)</td><td>List(Elgin, 19960215, D8, F, , , TEST MEMBER , , IL, 123 MAIN STREET, U0000000001, 18, 601200001)</td><td>List(6, RD8, null, 200.6, , null, , , 0305, 20180628-20180702, RD8, 472, 2, UN)</td></tr><tr><td>000001508</td><td>180807</td><td>ZZ421406317      </td><td>30133052274      </td><td>00501</td><td>1202</td><td>150800</td><td>20180807</td><td>421406317</td><td>133052274</td><td>005010X223A2</td><td>12022761</td><td>223</td><td>223</td><td>List(List(1, RD8, null, 9148, , null, , , 0124, 20180628-20180702, RD8, 472, 4, UN), List(2, RD8, null, 48.1, , null, , , 0250, 20180628-20180702, RD8, 472, 28, UN), List(3, RD8, null, 133, , null, , , 0260, 20180628-20180702, RD8, 472, 1, UN), List(4, RD8, null, 32.9, , null, , , 0300, 20180628-20180702, RD8, 472, 1, UN), List(5, RD8, null, 798.5, , null, , , 0301, 20180628-20180702, RD8, 472, 4, UN), List(6, RD8, null, 200.6, , null, , , 0305, 20180628-20180702, RD8, 472, 2, UN), List(7, RD8, null, 175, , null, , , 0306, 20180628-20180702, RD8, 472, 1, UN), List(8, RD8, null, 113.6, , null, , , 0307, 20180628-20180702, RD8, 472, 2, UN), List(9, RD8, null, 6517, , null, , , 0351, 20180628-20180702, RD8, 472, 2, UN))</td><td>List(F39, , F1319,F419,F17210,E876, F39, )</td><td>file:/Workspace/Users/raven.mukherjee@databricks.com/x12-edi-parser/sampledata/837/CC_837I_EDI.txt</td><td>List(Elgin, 19960215, D8, F, , , TEST MEMBER , , IL, 123 MAIN STREET, U0000000001, 18, 601200001)</td><td>List(2, 421406317, PI, CENTENE)</td><td>List(List(, TD-R192ICE00087, D9, Individual,   , , , , , , ), List(WOODSTOCK, 999999999, EI, Organization, Test Provider, 9999999999, , IL, 123 MAIN STREET, , 600980000), List(, , , Individual,   , , , , , , ), List(, , , Individual,   , , , , , , ), List(, , , Individual,   , , , , , , ), null, null, null)</td><td>List(CENTENE CORP, Organization)</td><td>List(TALEND, SAMBIT, List(List(TE, 3143202264), List(EX, 8099264)), Organization)</td><td>List(Elgin, 19960215, D8, F, , , TEST MEMBER , , IL, 123 MAIN STREET, U0000000001, 18, 601200001)</td><td>List(7, RD8, null, 175, , null, , , 0306, 20180628-20180702, RD8, 472, 1, UN)</td></tr><tr><td>000001508</td><td>180807</td><td>ZZ421406317      </td><td>30133052274      </td><td>00501</td><td>1202</td><td>150800</td><td>20180807</td><td>421406317</td><td>133052274</td><td>005010X223A2</td><td>12022761</td><td>223</td><td>223</td><td>List(List(1, RD8, null, 9148, , null, , , 0124, 20180628-20180702, RD8, 472, 4, UN), List(2, RD8, null, 48.1, , null, , , 0250, 20180628-20180702, RD8, 472, 28, UN), List(3, RD8, null, 133, , null, , , 0260, 20180628-20180702, RD8, 472, 1, UN), List(4, RD8, null, 32.9, , null, , , 0300, 20180628-20180702, RD8, 472, 1, UN), List(5, RD8, null, 798.5, , null, , , 0301, 20180628-20180702, RD8, 472, 4, UN), List(6, RD8, null, 200.6, , null, , , 0305, 20180628-20180702, RD8, 472, 2, UN), List(7, RD8, null, 175, , null, , , 0306, 20180628-20180702, RD8, 472, 1, UN), List(8, RD8, null, 113.6, , null, , , 0307, 20180628-20180702, RD8, 472, 2, UN), List(9, RD8, null, 6517, , null, , , 0351, 20180628-20180702, RD8, 472, 2, UN))</td><td>List(F39, , F1319,F419,F17210,E876, F39, )</td><td>file:/Workspace/Users/raven.mukherjee@databricks.com/x12-edi-parser/sampledata/837/CC_837I_EDI.txt</td><td>List(Elgin, 19960215, D8, F, , , TEST MEMBER , , IL, 123 MAIN STREET, U0000000001, 18, 601200001)</td><td>List(2, 421406317, PI, CENTENE)</td><td>List(List(, TD-R192ICE00087, D9, Individual,   , , , , , , ), List(WOODSTOCK, 999999999, EI, Organization, Test Provider, 9999999999, , IL, 123 MAIN STREET, , 600980000), List(, , , Individual,   , , , , , , ), List(, , , Individual,   , , , , , , ), List(, , , Individual,   , , , , , , ), null, null, null)</td><td>List(CENTENE CORP, Organization)</td><td>List(TALEND, SAMBIT, List(List(TE, 3143202264), List(EX, 8099264)), Organization)</td><td>List(Elgin, 19960215, D8, F, , , TEST MEMBER , , IL, 123 MAIN STREET, U0000000001, 18, 601200001)</td><td>List(8, RD8, null, 113.6, , null, , , 0307, 20180628-20180702, RD8, 472, 2, UN)</td></tr><tr><td>000001508</td><td>180807</td><td>ZZ421406317      </td><td>30133052274      </td><td>00501</td><td>1202</td><td>150800</td><td>20180807</td><td>421406317</td><td>133052274</td><td>005010X223A2</td><td>12022761</td><td>223</td><td>223</td><td>List(List(1, RD8, null, 9148, , null, , , 0124, 20180628-20180702, RD8, 472, 4, UN), List(2, RD8, null, 48.1, , null, , , 0250, 20180628-20180702, RD8, 472, 28, UN), List(3, RD8, null, 133, , null, , , 0260, 20180628-20180702, RD8, 472, 1, UN), List(4, RD8, null, 32.9, , null, , , 0300, 20180628-20180702, RD8, 472, 1, UN), List(5, RD8, null, 798.5, , null, , , 0301, 20180628-20180702, RD8, 472, 4, UN), List(6, RD8, null, 200.6, , null, , , 0305, 20180628-20180702, RD8, 472, 2, UN), List(7, RD8, null, 175, , null, , , 0306, 20180628-20180702, RD8, 472, 1, UN), List(8, RD8, null, 113.6, , null, , , 0307, 20180628-20180702, RD8, 472, 2, UN), List(9, RD8, null, 6517, , null, , , 0351, 20180628-20180702, RD8, 472, 2, UN))</td><td>List(F39, , F1319,F419,F17210,E876, F39, )</td><td>file:/Workspace/Users/raven.mukherjee@databricks.com/x12-edi-parser/sampledata/837/CC_837I_EDI.txt</td><td>List(Elgin, 19960215, D8, F, , , TEST MEMBER , , IL, 123 MAIN STREET, U0000000001, 18, 601200001)</td><td>List(2, 421406317, PI, CENTENE)</td><td>List(List(, TD-R192ICE00087, D9, Individual,   , , , , , , ), List(WOODSTOCK, 999999999, EI, Organization, Test Provider, 9999999999, , IL, 123 MAIN STREET, , 600980000), List(, , , Individual,   , , , , , , ), List(, , , Individual,   , , , , , , ), List(, , , Individual,   , , , , , , ), null, null, null)</td><td>List(CENTENE CORP, Organization)</td><td>List(TALEND, SAMBIT, List(List(TE, 3143202264), List(EX, 8099264)), Organization)</td><td>List(Elgin, 19960215, D8, F, , , TEST MEMBER , , IL, 123 MAIN STREET, U0000000001, 18, 601200001)</td><td>List(9, RD8, null, 6517, , null, , , 0351, 20180628-20180702, RD8, 472, 2, UN)</td></tr><tr><td>000000101</td><td>170508</td><td>ZZ11111          </td><td>ZZ1234567        </td><td>00501</td><td>1141</td><td>101</td><td>20170617</td><td>XXXXX</td><td>XXXXXXX</td><td>005010X222A1</td><td>1741</td><td>222</td><td>222</td><td>List(List(1, D8, 1, 140, , , 99213, HC, null, 20151124, D8, 472, 1, UN), List(1, D8, 1, 140, , , 99213, HC, null, 20151124, D8, 472, 1, UN))</td><td>List(, , , I10, )</td><td>file:/Workspace/Users/raven.mukherjee@databricks.com/x12-edi-parser/sampledata/837/837p.txt</td><td>List(CHICAGO, 19570111, D8, M, W1014, 2U, BLOGGS JOE , , IL, 1 SOME BLVD, 1234567890, 18, 606129998)</td><td>List(2, 12345, PI, PAYER)</td><td>List(null, List(CHICAGO, 999999999, EI, Organization, BILLING PROVIDER, 1122334455, , IL, 1234 SOME ROAD, , 606739999), null, null, null, List(, , , Individual,   , , , , , , ), List(, , , Individual,   , , , , , , ), List(, , , Individual,   , , , , , , ))</td><td>List(RECEIVER, Organization)</td><td>List(SUBMITTER, BOB SMITH, List(List(TE, 4805551212), List(, )), Organization)</td><td>List(CHICAGO, 19570111, D8, M, W1014, 2U, BLOGGS JOE , , IL, 1 SOME BLVD, 1234567890, 18, 606129998)</td><td>List(1, D8, 1, 140, , , 99213, HC, null, 20151124, D8, 472, 1, UN)</td></tr><tr><td>000000101</td><td>170508</td><td>ZZ11111          </td><td>ZZ1234567        </td><td>00501</td><td>1141</td><td>101</td><td>20170617</td><td>XXXXX</td><td>XXXXXXX</td><td>005010X222A1</td><td>1741</td><td>222</td><td>222</td><td>List(List(1, D8, 1, 140, , , 99213, HC, null, 20151124, D8, 472, 1, UN), List(1, D8, 1, 140, , , 99213, HC, null, 20151124, D8, 472, 1, UN))</td><td>List(, , , I10, )</td><td>file:/Workspace/Users/raven.mukherjee@databricks.com/x12-edi-parser/sampledata/837/837p.txt</td><td>List(CHICAGO, 19570111, D8, M, W1014, 2U, BLOGGS JOE , , IL, 1 SOME BLVD, 1234567890, 18, 606129998)</td><td>List(2, 12345, PI, PAYER)</td><td>List(null, List(CHICAGO, 999999999, EI, Organization, BILLING PROVIDER, 1122334455, , IL, 1234 SOME ROAD, , 606739999), null, null, null, List(, , , Individual,   , , , , , , ), List(, , , Individual,   , , , , , , ), List(, , , Individual,   , , , , , , ))</td><td>List(RECEIVER, Organization)</td><td>List(SUBMITTER, BOB SMITH, List(List(TE, 4805551212), List(, )), Organization)</td><td>List(CHICAGO, 19570111, D8, M, W1014, 2U, BLOGGS JOE , , IL, 1 SOME BLVD, 1234567890, 18, 606129998)</td><td>List(1, D8, 1, 140, , , 99213, HC, null, 20151124, D8, 472, 1, UN)</td></tr><tr><td>000000101</td><td>170508</td><td>ZZ11111          </td><td>ZZ1234567        </td><td>00501</td><td>1141</td><td>101</td><td>20170617</td><td>XXXXX</td><td>XXXXXXX</td><td>005010X222A1</td><td>1741</td><td>222</td><td>222</td><td>List(List(1, D8, 1, 140, , , 99213, HC, null, 20151124, D8, 472, 1, UN))</td><td>List(, , , I10, )</td><td>file:/Workspace/Users/raven.mukherjee@databricks.com/x12-edi-parser/sampledata/837/837p.txt</td><td>List(CHICAGO, 19700601, D8, M, W1014, 2U, BLOGGS FRED , , IL, 1 ANOTHER STR, 9876543201, 18, 606129998)</td><td>List(2, 12345, PI, PAYER)</td><td>List(null, List(CHICAGO, 999999999, EI, Organization, BILLING PROVIDER, 1122334455, , IL, 1234 SOME ROAD, , 606739999), null, null, null, List(, , , Individual,   , , , , , , ), List(, , , Individual,   , , , , , , ), List(, , , Individual,   , , , , , , ))</td><td>List(RECEIVER, Organization)</td><td>List(SUBMITTER, BOB SMITH, List(List(TE, 4805551212), List(, )), Organization)</td><td>List(CHICAGO, 19700601, D8, M, W1014, 2U, BLOGGS FRED , , IL, 1 ANOTHER STR, 9876543201, 18, 606129998)</td><td>List(1, D8, 1, 140, , , 99213, HC, null, 20151124, D8, 472, 1, UN)</td></tr><tr><td>000001507</td><td>180807</td><td>30421406317      </td><td>01030240928      </td><td>00501</td><td>1202</td><td>150700</td><td>20180807</td><td>421406317</td><td>030240928</td><td>005010X222A1</td><td>12022605</td><td>222</td><td>222</td><td>List(List(1, RD8, 1:2, 300, HO,HQ, 11, H0004, HC, null, 20180625-20180625, RD8, 472, 12, UN), List(2, RD8, 1:2, 300, HO,HQ, 11, H0004, HC, null, 20180629-20180629, RD8, 472, 12, UN))</td><td>List(, , , F341, )</td><td>file:/Workspace/Users/raven.mukherjee@databricks.com/x12-edi-parser/sampledata/837/CC_837P_EDI.txt</td><td>List(Elgin, 19960215, D8, F, , , TEST MEMBER , , IL, 123 MAIN STREET, U0000000001, 18, 601200001)</td><td>List(2, 421406317, PI, CENTENE)</td><td>List(null, List(WOODSTOCK, 999999999, EI, Organization, Test Provider, 9999999999, , IL, 123 MAIN STREET, , 600980000), null, null, null, List(, , , Individual,   , , , , , , ), List(, , , Individual,   , , , , , , ), List(, , , Individual,   , , , , , , ))</td><td>List(Centene Corporation, Organization)</td><td>List(Centene Corporation, Sambit, List(List(TE, 3143202264), List(EX, 8099264)), Organization)</td><td>List(Elgin, 19960215, D8, F, , , TEST MEMBER , , IL, 123 MAIN STREET, U0000000001, 18, 601200001)</td><td>List(1, RD8, 1:2, 300, HO,HQ, 11, H0004, HC, null, 20180625-20180625, RD8, 472, 12, UN)</td></tr><tr><td>000001507</td><td>180807</td><td>30421406317      </td><td>01030240928      </td><td>00501</td><td>1202</td><td>150700</td><td>20180807</td><td>421406317</td><td>030240928</td><td>005010X222A1</td><td>12022605</td><td>222</td><td>222</td><td>List(List(1, RD8, 1:2, 300, HO,HQ, 11, H0004, HC, null, 20180625-20180625, RD8, 472, 12, UN), List(2, RD8, 1:2, 300, HO,HQ, 11, H0004, HC, null, 20180629-20180629, RD8, 472, 12, UN))</td><td>List(, , , F341, )</td><td>file:/Workspace/Users/raven.mukherjee@databricks.com/x12-edi-parser/sampledata/837/CC_837P_EDI.txt</td><td>List(Elgin, 19960215, D8, F, , , TEST MEMBER , , IL, 123 MAIN STREET, U0000000001, 18, 601200001)</td><td>List(2, 421406317, PI, CENTENE)</td><td>List(null, List(WOODSTOCK, 999999999, EI, Organization, Test Provider, 9999999999, , IL, 123 MAIN STREET, , 600980000), null, null, null, List(, , , Individual,   , , , , , , ), List(, , , Individual,   , , , , , , ), List(, , , Individual,   , , , , , , ))</td><td>List(Centene Corporation, Organization)</td><td>List(Centene Corporation, Sambit, List(List(TE, 3143202264), List(EX, 8099264)), Organization)</td><td>List(Elgin, 19960215, D8, F, , , TEST MEMBER , , IL, 123 MAIN STREET, U0000000001, 18, 601200001)</td><td>List(2, RD8, 1:2, 300, HO,HQ, 11, H0004, HC, null, 20180629-20180629, RD8, 472, 12, UN)</td></tr></tbody></table></div>"
      ]
     },
     "metadata": {
      "application/vnd.databricks.v1+output": {
       "addedWidgets": {},
       "aggData": [],
       "aggError": "",
       "aggOverflow": false,
       "aggSchema": [],
       "aggSeriesLimitReached": false,
       "aggType": "",
       "arguments": {},
       "columnCustomDisplayInfos": {},
       "data": [
        [
         "697773230",
         "180508",
         "ZZ123456789      ",
         "01987654321      ",
         "00501",
         "0833",
         "212950697",
         "20180508",
         "123456789",
         "CLEARINGHOUSE",
         "005010X222A1",
         "0833",
         "222",
         "222",
         [
          [
           "1",
           "D8",
           "1",
           "20",
           "",
           "",
           "H0003",
           "HC",
           null,
           "20180428",
           "D8",
           "472",
           "1",
           "UN"
          ]
         ],
         [
          "",
          "",
          "",
          "F1120",
          ""
         ],
         "file:/Workspace/Users/raven.mukherjee@databricks.com/x12-edi-parser/sampledata/837/CHPW_Claimdata.txt",
         [
          "VANCOUVER",
          "19881225",
          "D8",
          "M",
          "",
          "",
          "SUBSCRIBER JOHN J",
          "",
          "WA",
          "987 65TH PL",
          "987321",
          "18",
          "986640001"
         ],
         [
          "2",
          "CHPWA",
          "PI",
          "COMMUNITY HEALTH PLAN OF WASHINGTON"
         ],
         [
          null,
          [
           "VANCOUVER",
           "720000000",
           "EI",
           "Organization",
           "BH CLINIC OF VANCOUVER",
           "1122334455",
           "",
           "WA",
           "12345 MAIN ST",
           "",
           "98662"
          ],
          null,
          null,
          null,
          [
           "",
           "",
           "",
           "Individual",
           "  ",
           "",
           "",
           "",
           "",
           "",
           ""
          ],
          [
           "",
           "",
           "",
           "Organization",
           "BH CLINIC OF VANCOUVER",
           "1122334455",
           "",
           "",
           "",
           "",
           ""
          ],
          [
           "",
           "",
           "",
           "Individual",
           "PROVIDER JAMES ",
           "1112223338",
           "PE",
           "",
           "",
           "261QR0405X",
           ""
          ]
         ],
         [
          "123456789",
          "Organization"
         ],
         [
          "CLEARINGHOUSE LLC",
          "CLEARINGHOUSE CLIENT SERVICES",
          [
           [
            "TE",
            "8005551212"
           ],
           [
            "FX",
            "8005551212"
           ]
          ],
          "Organization"
         ],
         [
          "VANCOUVER",
          "19881225",
          "D8",
          "M",
          "",
          "",
          "SUBSCRIBER JOHN J",
          "",
          "WA",
          "987 65TH PL",
          "987321",
          "18",
          "986640001"
         ],
         [
          "1",
          "D8",
          "1",
          "20",
          "",
          "",
          "H0003",
          "HC",
          null,
          "20180428",
          "D8",
          "472",
          "1",
          "UN"
         ]
        ],
        [
         "697773230",
         "180508",
         "ZZ123456789      ",
         "01987654321      ",
         "00501",
         "0833",
         "212950697",
         "20180508",
         "123456789",
         "CLEARINGHOUSE",
         "005010X222A1",
         "0833",
         "222",
         "222",
         [
          [
           "1",
           "D8",
           "1:2",
           "50.1",
           "HF",
           "",
           "96153",
           "HC",
           null,
           "20180426",
           "D8",
           "472",
           "6",
           "UN"
          ]
         ],
         [
          "",
          "",
          "",
          "F1520",
          ""
         ],
         "file:/Workspace/Users/raven.mukherjee@databricks.com/x12-edi-parser/sampledata/837/CHPW_Claimdata.txt",
         [
          "VANCOUVER",
          "19881031",
          "D8",
          "F",
          "",
          "",
          "PATIENT SUSAN E",
          "",
          "WA",
          "765 43RD ST",
          "765123",
          "18",
          "986640002"
         ],
         [
          "2",
          "CHPWA",
          "PI",
          "COMMUNITY HEALTH PLAN OF WASHINGTON"
         ],
         [
          null,
          [
           "VANCOUVER",
           "720000000",
           "EI",
           "Organization",
           "BH CLINIC OF VANCOUVER",
           "1122334455",
           "",
           "WA",
           "12345 MAIN ST",
           "",
           "98662"
          ],
          null,
          null,
          null,
          [
           "",
           "",
           "",
           "Individual",
           "  ",
           "",
           "",
           "",
           "",
           "",
           ""
          ],
          [
           "",
           "",
           "",
           "Organization",
           "BH CLINIC OF VANCOUVER",
           "1122334455",
           "",
           "",
           "",
           "",
           ""
          ],
          [
           "",
           "",
           "",
           "Individual",
           "PROVIDER SUSAN ",
           "1112223346",
           "PE",
           "",
           "",
           "261QR0405X",
           ""
          ]
         ],
         [
          "123456789",
          "Organization"
         ],
         [
          "CLEARINGHOUSE LLC",
          "CLEARINGHOUSE CLIENT SERVICES",
          [
           [
            "TE",
            "8005551212"
           ],
           [
            "FX",
            "8005551212"
           ]
          ],
          "Organization"
         ],
         [
          "VANCOUVER",
          "19881031",
          "D8",
          "F",
          "",
          "",
          "PATIENT SUSAN E",
          "",
          "WA",
          "765 43RD ST",
          "765123",
          "18",
          "986640002"
         ],
         [
          "1",
          "D8",
          "1:2",
          "50.1",
          "HF",
          "",
          "96153",
          "HC",
          null,
          "20180426",
          "D8",
          "472",
          "6",
          "UN"
         ]
        ],
        [
         "697773230",
         "180508",
         "ZZ123456789      ",
         "01987654321      ",
         "00501",
         "0833",
         "212950697",
         "20180508",
         "123456789",
         "CLEARINGHOUSE",
         "005010X222A1",
         "0833",
         "222",
         "222",
         [
          [
           "1",
           "D8",
           "1:2",
           "11.64",
           "HF",
           "",
           "T1017",
           "HC",
           null,
           "20180427",
           "D8",
           "472",
           "1",
           "UN"
          ]
         ],
         [
          "",
          "",
          "",
          "F1020",
          ""
         ],
         "file:/Workspace/Users/raven.mukherjee@databricks.com/x12-edi-parser/sampledata/837/CHPW_Claimdata.txt",
         [
          "VANCOUVER",
          "19881225",
          "D8",
          "M",
          "",
          "",
          "SUBSCRIBER JOHN J",
          "",
          "WA",
          "987 65TH PL",
          "987321",
          "18",
          "986640001"
         ],
         [
          "2",
          "CHPWA",
          "PI",
          "COMMUNITY HEALTH PLAN OF WASHINGTON"
         ],
         [
          null,
          [
           "VANCOUVER",
           "720000000",
           "EI",
           "Organization",
           "BH CLINIC OF VANCOUVER",
           "1122334455",
           "",
           "WA",
           "12345 MAIN ST",
           "",
           "98662"
          ],
          null,
          null,
          null,
          [
           "",
           "",
           "",
           "Individual",
           "  ",
           "",
           "",
           "",
           "",
           "",
           ""
          ],
          [
           "",
           "",
           "",
           "Organization",
           "BH CLINIC OF VANCOUVER",
           "1122334455",
           "",
           "",
           "",
           "",
           ""
          ],
          [
           "",
           "",
           "",
           "Individual",
           "PROVIDER SUSAN ",
           "1112223346",
           "PE",
           "",
           "",
           "261QR0405X",
           ""
          ]
         ],
         [
          "123456789",
          "Organization"
         ],
         [
          "CLEARINGHOUSE LLC",
          "CLEARINGHOUSE CLIENT SERVICES",
          [
           [
            "TE",
            "8005551212"
           ],
           [
            "FX",
            "8005551212"
           ]
          ],
          "Organization"
         ],
         [
          "VANCOUVER",
          "19881225",
          "D8",
          "M",
          "",
          "",
          "SUBSCRIBER JOHN J",
          "",
          "WA",
          "987 65TH PL",
          "987321",
          "18",
          "986640001"
         ],
         [
          "1",
          "D8",
          "1:2",
          "11.64",
          "HF",
          "",
          "T1017",
          "HC",
          null,
          "20180427",
          "D8",
          "472",
          "1",
          "UN"
         ]
        ],
        [
         "697773230",
         "180508",
         "ZZ123456789      ",
         "01987654321      ",
         "00501",
         "0833",
         "212950697",
         "20180508",
         "123456789",
         "CLEARINGHOUSE",
         "005010X222A1",
         "0833",
         "222",
         "222",
         [
          [
           "1",
           "D8",
           "1",
           "234",
           "",
           "",
           "90853",
           "HC",
           null,
           "20180427",
           "D8",
           "472",
           "120",
           "UN"
          ]
         ],
         [
          "",
          "",
          "",
          "F251",
          ""
         ],
         "file:/Workspace/Users/raven.mukherjee@databricks.com/x12-edi-parser/sampledata/837/CHPW_Claimdata.txt",
         [
          "VANCOUVER",
          "19881031",
          "D8",
          "F",
          "",
          "",
          "PATIENT SUSAN E",
          "",
          "WA",
          "765 43RD ST",
          "765123",
          "18",
          "986640002"
         ],
         [
          "2",
          "CHPWA",
          "PI",
          "COMMUNITY HEALTH PLAN OF WASHINGTON"
         ],
         [
          null,
          [
           "VANCOUVER",
           "720000000",
           "EI",
           "Organization",
           "BH CLINIC OF VANCOUVER",
           "1122334455",
           "",
           "WA",
           "12345 MAIN ST",
           "",
           "98662"
          ],
          null,
          null,
          null,
          [
           "",
           "",
           "",
           "Individual",
           "  ",
           "",
           "",
           "",
           "",
           "",
           ""
          ],
          [
           "",
           "",
           "",
           "Organization",
           "BH CLINIC OF VANCOUVER",
           "1122334455",
           "",
           "",
           "",
           "",
           ""
          ],
          [
           "",
           "",
           "",
           "Individual",
           "PROVIDER SUSAN ",
           "1112223346",
           "PE",
           "",
           "",
           "251S00000X",
           ""
          ]
         ],
         [
          "123456789",
          "Organization"
         ],
         [
          "CLEARINGHOUSE LLC",
          "CLEARINGHOUSE CLIENT SERVICES",
          [
           [
            "TE",
            "8005551212"
           ],
           [
            "FX",
            "8005551212"
           ]
          ],
          "Organization"
         ],
         [
          "VANCOUVER",
          "19881031",
          "D8",
          "F",
          "",
          "",
          "PATIENT SUSAN E",
          "",
          "WA",
          "765 43RD ST",
          "765123",
          "18",
          "986640002"
         ],
         [
          "1",
          "D8",
          "1",
          "234",
          "",
          "",
          "90853",
          "HC",
          null,
          "20180427",
          "D8",
          "472",
          "120",
          "UN"
         ]
        ],
        [
         "697773230",
         "180508",
         "ZZ123456789      ",
         "01987654321      ",
         "00501",
         "0833",
         "212950697",
         "20180508",
         "123456789",
         "CLEARINGHOUSE",
         "005010X222A1",
         "0833",
         "222",
         "222",
         [
          [
           "1",
           "D8",
           "1:2",
           "20",
           "",
           "",
           "H0003",
           "HC",
           null,
           "20180427",
           "D8",
           "472",
           "1",
           "UN"
          ]
         ],
         [
          "",
          "",
          "",
          "F1020",
          ""
         ],
         "file:/Workspace/Users/raven.mukherjee@databricks.com/x12-edi-parser/sampledata/837/CHPW_Claimdata.txt",
         [
          "VANCOUVER",
          "19881225",
          "D8",
          "M",
          "",
          "",
          "SUBSCRIBER JOHN J",
          "",
          "WA",
          "987 65TH PL",
          "987321",
          "18",
          "986640001"
         ],
         [
          "2",
          "CHPWA",
          "PI",
          "COMMUNITY HEALTH PLAN OF WASHINGTON"
         ],
         [
          null,
          [
           "VANCOUVER",
           "720000000",
           "EI",
           "Organization",
           "BH CLINIC OF VANCOUVER",
           "1122334455",
           "",
           "WA",
           "12345 MAIN ST",
           "",
           "98662"
          ],
          null,
          null,
          null,
          [
           "",
           "",
           "",
           "Individual",
           "  ",
           "",
           "",
           "",
           "",
           "",
           ""
          ],
          [
           "",
           "",
           "",
           "Organization",
           "BH CLINIC OF VANCOUVER",
           "1122334455",
           "",
           "",
           "",
           "",
           ""
          ],
          [
           "",
           "",
           "",
           "Individual",
           "PROVIDER JAMES ",
           "1112223338",
           "PE",
           "",
           "",
           "261QR0405X",
           ""
          ]
         ],
         [
          "123456789",
          "Organization"
         ],
         [
          "CLEARINGHOUSE LLC",
          "CLEARINGHOUSE CLIENT SERVICES",
          [
           [
            "TE",
            "8005551212"
           ],
           [
            "FX",
            "8005551212"
           ]
          ],
          "Organization"
         ],
         [
          "VANCOUVER",
          "19881225",
          "D8",
          "M",
          "",
          "",
          "SUBSCRIBER JOHN J",
          "",
          "WA",
          "987 65TH PL",
          "987321",
          "18",
          "986640001"
         ],
         [
          "1",
          "D8",
          "1:2",
          "20",
          "",
          "",
          "H0003",
          "HC",
          null,
          "20180427",
          "D8",
          "472",
          "1",
          "UN"
         ]
        ],
        [
         "000001508",
         "180807",
         "ZZ421406317      ",
         "30133052274      ",
         "00501",
         "1202",
         "1770",
         "20180710",
         "OO000011111",
         "000000005D",
         "005010X222A1",
         "214339",
         "222",
         "222",
         [
          [
           "1",
           "RD8",
           "1",
           "1800",
           "QZ",
           "",
           "01710",
           "HC",
           null,
           "20180123-20180123",
           "RD8",
           "472",
           "88",
           "MJ"
          ],
          [
           "1",
           "RD8",
           "1",
           "984",
           "AA,P3",
           "",
           "00731",
           "HC",
           null,
           "20180713-20180713",
           "RD8",
           "472",
           "24",
           "MJ"
          ],
          [
           "1",
           "RD8",
           "1",
           "1353",
           "AA",
           "",
           "00840",
           "HC",
           null,
           "20180713-20180713",
           "RD8",
           "472",
           "62",
           "MJ"
          ],
          [
           "1",
           "RD8",
           "1",
           "1230",
           "AA",
           "",
           "00902",
           "HC",
           null,
           "20180713-20180713",
           "RD8",
           "472",
           "65",
           "MJ"
          ],
          [
           "2",
           "RD8",
           "2",
           "738",
           "59",
           "",
           "62322",
           "HC",
           null,
           "20180713-20180713",
           "RD8",
           "472",
           "1",
           "UN"
          ]
         ],
         [
          "",
          "",
          "",
          "G5621",
          ""
         ],
         "file:/Workspace/Users/raven.mukherjee@databricks.com/x12-edi-parser/sampledata/837/Molina_Mock_UP_837P_File.txt",
         [
          "FAKE CITY",
          "19650101",
          "D8",
          "M",
          "",
          "",
          "ABCDEFGH IJKLMNOP B",
          "",
          "CA",
          "123 ADDRESS3",
          "111111100",
          "18",
          "908021112"
         ],
         [
          "2",
          "ABCMMPIO",
          "PI",
          "ABCHYI OL POI"
         ],
         [
          null,
          [
           "FAKE CITY",
           "123456789",
           "EI",
           "Organization",
           "YYYY HEALTHCARE ABC",
           "1222222220",
           "",
           "NY",
           "123 ADDRESS1",
           "",
           "908021112"
          ],
          null,
          null,
          null,
          [
           "",
           "",
           "",
           "Individual",
           "ABCD STUVW ",
           "1234567890",
           "",
           "",
           "",
           "",
           ""
          ],
          [
           "",
           "",
           "",
           "Organization",
           "ABCDEFG HIJKLMN HOSP",
           "1122334460",
           "",
           "",
           "",
           "",
           ""
          ],
          [
           "",
           "",
           "",
           "Individual",
           "TUVWX MNOPQR ",
           "1234567891",
           "PE",
           "",
           "",
           "367500000X",
           ""
          ]
         ],
         [
          "ABCHYI OL POI",
          "Organization"
         ],
         [
          "ABCDEF",
          "ABCDEF CUSTOMER SOLUTIONS",
          [
           [
            "TE",
            "9999999999"
           ],
           [
            "",
            ""
           ]
          ],
          "Organization"
         ],
         [
          "FAKE CITY",
          "19650101",
          "D8",
          "M",
          "",
          "",
          "ABCDEFGH IJKLMNOP B",
          "",
          "CA",
          "123 ADDRESS3",
          "111111100",
          "18",
          "908021112"
         ],
         [
          "1",
          "RD8",
          "1",
          "1800",
          "QZ",
          "",
          "01710",
          "HC",
          null,
          "20180123-20180123",
          "RD8",
          "472",
          "88",
          "MJ"
         ]
        ],
        [
         "000001508",
         "180807",
         "ZZ421406317      ",
         "30133052274      ",
         "00501",
         "1202",
         "1770",
         "20180710",
         "OO000011111",
         "000000005D",
         "005010X222A1",
         "214339",
         "222",
         "222",
         [
          [
           "1",
           "RD8",
           "1",
           "1800",
           "QZ",
           "",
           "01710",
           "HC",
           null,
           "20180123-20180123",
           "RD8",
           "472",
           "88",
           "MJ"
          ],
          [
           "1",
           "RD8",
           "1",
           "984",
           "AA,P3",
           "",
           "00731",
           "HC",
           null,
           "20180713-20180713",
           "RD8",
           "472",
           "24",
           "MJ"
          ],
          [
           "1",
           "RD8",
           "1",
           "1353",
           "AA",
           "",
           "00840",
           "HC",
           null,
           "20180713-20180713",
           "RD8",
           "472",
           "62",
           "MJ"
          ],
          [
           "1",
           "RD8",
           "1",
           "1230",
           "AA",
           "",
           "00902",
           "HC",
           null,
           "20180713-20180713",
           "RD8",
           "472",
           "65",
           "MJ"
          ],
          [
           "2",
           "RD8",
           "2",
           "738",
           "59",
           "",
           "62322",
           "HC",
           null,
           "20180713-20180713",
           "RD8",
           "472",
           "1",
           "UN"
          ]
         ],
         [
          "",
          "",
          "",
          "G5621",
          ""
         ],
         "file:/Workspace/Users/raven.mukherjee@databricks.com/x12-edi-parser/sampledata/837/Molina_Mock_UP_837P_File.txt",
         [
          "FAKE CITY",
          "19650101",
          "D8",
          "M",
          "",
          "",
          "ABCDEFGH IJKLMNOP B",
          "",
          "CA",
          "123 ADDRESS3",
          "111111100",
          "18",
          "908021112"
         ],
         [
          "2",
          "ABCMMPIO",
          "PI",
          "ABCHYI OL POI"
         ],
         [
          null,
          [
           "FAKE CITY",
           "123456789",
           "EI",
           "Organization",
           "YYYY HEALTHCARE ABC",
           "1222222220",
           "",
           "NY",
           "123 ADDRESS1",
           "",
           "908021112"
          ],
          null,
          null,
          null,
          [
           "",
           "",
           "",
           "Individual",
           "ABCD STUVW ",
           "1234567890",
           "",
           "",
           "",
           "",
           ""
          ],
          [
           "",
           "",
           "",
           "Organization",
           "ABCDEFG HIJKLMN HOSP",
           "1122334460",
           "",
           "",
           "",
           "",
           ""
          ],
          [
           "",
           "",
           "",
           "Individual",
           "TUVWX MNOPQR ",
           "1234567891",
           "PE",
           "",
           "",
           "367500000X",
           ""
          ]
         ],
         [
          "ABCHYI OL POI",
          "Organization"
         ],
         [
          "ABCDEF",
          "ABCDEF CUSTOMER SOLUTIONS",
          [
           [
            "TE",
            "9999999999"
           ],
           [
            "",
            ""
           ]
          ],
          "Organization"
         ],
         [
          "FAKE CITY",
          "19650101",
          "D8",
          "M",
          "",
          "",
          "ABCDEFGH IJKLMNOP B",
          "",
          "CA",
          "123 ADDRESS3",
          "111111100",
          "18",
          "908021112"
         ],
         [
          "1",
          "RD8",
          "1",
          "984",
          "AA,P3",
          "",
          "00731",
          "HC",
          null,
          "20180713-20180713",
          "RD8",
          "472",
          "24",
          "MJ"
         ]
        ],
        [
         "000001508",
         "180807",
         "ZZ421406317      ",
         "30133052274      ",
         "00501",
         "1202",
         "1770",
         "20180710",
         "OO000011111",
         "000000005D",
         "005010X222A1",
         "214339",
         "222",
         "222",
         [
          [
           "1",
           "RD8",
           "1",
           "1800",
           "QZ",
           "",
           "01710",
           "HC",
           null,
           "20180123-20180123",
           "RD8",
           "472",
           "88",
           "MJ"
          ],
          [
           "1",
           "RD8",
           "1",
           "984",
           "AA,P3",
           "",
           "00731",
           "HC",
           null,
           "20180713-20180713",
           "RD8",
           "472",
           "24",
           "MJ"
          ],
          [
           "1",
           "RD8",
           "1",
           "1353",
           "AA",
           "",
           "00840",
           "HC",
           null,
           "20180713-20180713",
           "RD8",
           "472",
           "62",
           "MJ"
          ],
          [
           "1",
           "RD8",
           "1",
           "1230",
           "AA",
           "",
           "00902",
           "HC",
           null,
           "20180713-20180713",
           "RD8",
           "472",
           "65",
           "MJ"
          ],
          [
           "2",
           "RD8",
           "2",
           "738",
           "59",
           "",
           "62322",
           "HC",
           null,
           "20180713-20180713",
           "RD8",
           "472",
           "1",
           "UN"
          ]
         ],
         [
          "",
          "",
          "",
          "G5621",
          ""
         ],
         "file:/Workspace/Users/raven.mukherjee@databricks.com/x12-edi-parser/sampledata/837/Molina_Mock_UP_837P_File.txt",
         [
          "FAKE CITY",
          "19650101",
          "D8",
          "M",
          "",
          "",
          "ABCDEFGH IJKLMNOP B",
          "",
          "CA",
          "123 ADDRESS3",
          "111111100",
          "18",
          "908021112"
         ],
         [
          "2",
          "ABCMMPIO",
          "PI",
          "ABCHYI OL POI"
         ],
         [
          null,
          [
           "FAKE CITY",
           "123456789",
           "EI",
           "Organization",
           "YYYY HEALTHCARE ABC",
           "1222222220",
           "",
           "NY",
           "123 ADDRESS1",
           "",
           "908021112"
          ],
          null,
          null,
          null,
          [
           "",
           "",
           "",
           "Individual",
           "ABCD STUVW ",
           "1234567890",
           "",
           "",
           "",
           "",
           ""
          ],
          [
           "",
           "",
           "",
           "Organization",
           "ABCDEFG HIJKLMN HOSP",
           "1122334460",
           "",
           "",
           "",
           "",
           ""
          ],
          [
           "",
           "",
           "",
           "Individual",
           "TUVWX MNOPQR ",
           "1234567891",
           "PE",
           "",
           "",
           "367500000X",
           ""
          ]
         ],
         [
          "ABCHYI OL POI",
          "Organization"
         ],
         [
          "ABCDEF",
          "ABCDEF CUSTOMER SOLUTIONS",
          [
           [
            "TE",
            "9999999999"
           ],
           [
            "",
            ""
           ]
          ],
          "Organization"
         ],
         [
          "FAKE CITY",
          "19650101",
          "D8",
          "M",
          "",
          "",
          "ABCDEFGH IJKLMNOP B",
          "",
          "CA",
          "123 ADDRESS3",
          "111111100",
          "18",
          "908021112"
         ],
         [
          "1",
          "RD8",
          "1",
          "1353",
          "AA",
          "",
          "00840",
          "HC",
          null,
          "20180713-20180713",
          "RD8",
          "472",
          "62",
          "MJ"
         ]
        ],
        [
         "000001508",
         "180807",
         "ZZ421406317      ",
         "30133052274      ",
         "00501",
         "1202",
         "1770",
         "20180710",
         "OO000011111",
         "000000005D",
         "005010X222A1",
         "214339",
         "222",
         "222",
         [
          [
           "1",
           "RD8",
           "1",
           "1800",
           "QZ",
           "",
           "01710",
           "HC",
           null,
           "20180123-20180123",
           "RD8",
           "472",
           "88",
           "MJ"
          ],
          [
           "1",
           "RD8",
           "1",
           "984",
           "AA,P3",
           "",
           "00731",
           "HC",
           null,
           "20180713-20180713",
           "RD8",
           "472",
           "24",
           "MJ"
          ],
          [
           "1",
           "RD8",
           "1",
           "1353",
           "AA",
           "",
           "00840",
           "HC",
           null,
           "20180713-20180713",
           "RD8",
           "472",
           "62",
           "MJ"
          ],
          [
           "1",
           "RD8",
           "1",
           "1230",
           "AA",
           "",
           "00902",
           "HC",
           null,
           "20180713-20180713",
           "RD8",
           "472",
           "65",
           "MJ"
          ],
          [
           "2",
           "RD8",
           "2",
           "738",
           "59",
           "",
           "62322",
           "HC",
           null,
           "20180713-20180713",
           "RD8",
           "472",
           "1",
           "UN"
          ]
         ],
         [
          "",
          "",
          "",
          "G5621",
          ""
         ],
         "file:/Workspace/Users/raven.mukherjee@databricks.com/x12-edi-parser/sampledata/837/Molina_Mock_UP_837P_File.txt",
         [
          "FAKE CITY",
          "19650101",
          "D8",
          "M",
          "",
          "",
          "ABCDEFGH IJKLMNOP B",
          "",
          "CA",
          "123 ADDRESS3",
          "111111100",
          "18",
          "908021112"
         ],
         [
          "2",
          "ABCMMPIO",
          "PI",
          "ABCHYI OL POI"
         ],
         [
          null,
          [
           "FAKE CITY",
           "123456789",
           "EI",
           "Organization",
           "YYYY HEALTHCARE ABC",
           "1222222220",
           "",
           "NY",
           "123 ADDRESS1",
           "",
           "908021112"
          ],
          null,
          null,
          null,
          [
           "",
           "",
           "",
           "Individual",
           "ABCD STUVW ",
           "1234567890",
           "",
           "",
           "",
           "",
           ""
          ],
          [
           "",
           "",
           "",
           "Organization",
           "ABCDEFG HIJKLMN HOSP",
           "1122334460",
           "",
           "",
           "",
           "",
           ""
          ],
          [
           "",
           "",
           "",
           "Individual",
           "TUVWX MNOPQR ",
           "1234567891",
           "PE",
           "",
           "",
           "367500000X",
           ""
          ]
         ],
         [
          "ABCHYI OL POI",
          "Organization"
         ],
         [
          "ABCDEF",
          "ABCDEF CUSTOMER SOLUTIONS",
          [
           [
            "TE",
            "9999999999"
           ],
           [
            "",
            ""
           ]
          ],
          "Organization"
         ],
         [
          "FAKE CITY",
          "19650101",
          "D8",
          "M",
          "",
          "",
          "ABCDEFGH IJKLMNOP B",
          "",
          "CA",
          "123 ADDRESS3",
          "111111100",
          "18",
          "908021112"
         ],
         [
          "1",
          "RD8",
          "1",
          "1230",
          "AA",
          "",
          "00902",
          "HC",
          null,
          "20180713-20180713",
          "RD8",
          "472",
          "65",
          "MJ"
         ]
        ],
        [
         "000001508",
         "180807",
         "ZZ421406317      ",
         "30133052274      ",
         "00501",
         "1202",
         "1770",
         "20180710",
         "OO000011111",
         "000000005D",
         "005010X222A1",
         "214339",
         "222",
         "222",
         [
          [
           "1",
           "RD8",
           "1",
           "1800",
           "QZ",
           "",
           "01710",
           "HC",
           null,
           "20180123-20180123",
           "RD8",
           "472",
           "88",
           "MJ"
          ],
          [
           "1",
           "RD8",
           "1",
           "984",
           "AA,P3",
           "",
           "00731",
           "HC",
           null,
           "20180713-20180713",
           "RD8",
           "472",
           "24",
           "MJ"
          ],
          [
           "1",
           "RD8",
           "1",
           "1353",
           "AA",
           "",
           "00840",
           "HC",
           null,
           "20180713-20180713",
           "RD8",
           "472",
           "62",
           "MJ"
          ],
          [
           "1",
           "RD8",
           "1",
           "1230",
           "AA",
           "",
           "00902",
           "HC",
           null,
           "20180713-20180713",
           "RD8",
           "472",
           "65",
           "MJ"
          ],
          [
           "2",
           "RD8",
           "2",
           "738",
           "59",
           "",
           "62322",
           "HC",
           null,
           "20180713-20180713",
           "RD8",
           "472",
           "1",
           "UN"
          ]
         ],
         [
          "",
          "",
          "",
          "G5621",
          ""
         ],
         "file:/Workspace/Users/raven.mukherjee@databricks.com/x12-edi-parser/sampledata/837/Molina_Mock_UP_837P_File.txt",
         [
          "FAKE CITY",
          "19650101",
          "D8",
          "M",
          "",
          "",
          "ABCDEFGH IJKLMNOP B",
          "",
          "CA",
          "123 ADDRESS3",
          "111111100",
          "18",
          "908021112"
         ],
         [
          "2",
          "ABCMMPIO",
          "PI",
          "ABCHYI OL POI"
         ],
         [
          null,
          [
           "FAKE CITY",
           "123456789",
           "EI",
           "Organization",
           "YYYY HEALTHCARE ABC",
           "1222222220",
           "",
           "NY",
           "123 ADDRESS1",
           "",
           "908021112"
          ],
          null,
          null,
          null,
          [
           "",
           "",
           "",
           "Individual",
           "ABCD STUVW ",
           "1234567890",
           "",
           "",
           "",
           "",
           ""
          ],
          [
           "",
           "",
           "",
           "Organization",
           "ABCDEFG HIJKLMN HOSP",
           "1122334460",
           "",
           "",
           "",
           "",
           ""
          ],
          [
           "",
           "",
           "",
           "Individual",
           "TUVWX MNOPQR ",
           "1234567891",
           "PE",
           "",
           "",
           "367500000X",
           ""
          ]
         ],
         [
          "ABCHYI OL POI",
          "Organization"
         ],
         [
          "ABCDEF",
          "ABCDEF CUSTOMER SOLUTIONS",
          [
           [
            "TE",
            "9999999999"
           ],
           [
            "",
            ""
           ]
          ],
          "Organization"
         ],
         [
          "FAKE CITY",
          "19650101",
          "D8",
          "M",
          "",
          "",
          "ABCDEFGH IJKLMNOP B",
          "",
          "CA",
          "123 ADDRESS3",
          "111111100",
          "18",
          "908021112"
         ],
         [
          "2",
          "RD8",
          "2",
          "738",
          "59",
          "",
          "62322",
          "HC",
          null,
          "20180713-20180713",
          "RD8",
          "472",
          "1",
          "UN"
         ]
        ],
        [
         "000001508",
         "180807",
         "ZZ421406317      ",
         "30133052274      ",
         "00501",
         "1202",
         "1770",
         "20180710",
         "OO000011111",
         "000000005D",
         "005010X222A1",
         "214339",
         "222",
         "222",
         [
          [
           "1",
           "RD8",
           "1",
           "984",
           "AA,P3",
           "",
           "00731",
           "HC",
           null,
           "20180713-20180713",
           "RD8",
           "472",
           "24",
           "MJ"
          ],
          [
           "1",
           "RD8",
           "1",
           "1353",
           "AA",
           "",
           "00840",
           "HC",
           null,
           "20180713-20180713",
           "RD8",
           "472",
           "62",
           "MJ"
          ],
          [
           "1",
           "RD8",
           "1",
           "1230",
           "AA",
           "",
           "00902",
           "HC",
           null,
           "20180713-20180713",
           "RD8",
           "472",
           "65",
           "MJ"
          ],
          [
           "2",
           "RD8",
           "2",
           "738",
           "59",
           "",
           "62322",
           "HC",
           null,
           "20180713-20180713",
           "RD8",
           "472",
           "1",
           "UN"
          ]
         ],
         [
          "",
          "",
          "",
          "K219",
          ""
         ],
         "file:/Workspace/Users/raven.mukherjee@databricks.com/x12-edi-parser/sampledata/837/Molina_Mock_UP_837P_File.txt",
         [
          "FAKE CITY",
          "19760101",
          "D8",
          "F",
          "125478963",
          "SY",
          "ABCDEFGH IJKLMNOP B",
          "",
          "CA",
          "123 ADDRESS7",
          "11111117",
          "18",
          "908021117"
         ],
         [
          "2",
          "ABCMMPIO",
          "PI",
          "ABCHYI OL POI"
         ],
         [
          null,
          [
           "FAKE CITY",
           "543211234",
           "EI",
           "Organization",
           "ABCDE EFGHIJ GROUP PC",
           "1222222223",
           "",
           "CA",
           "123 ADDRESS5",
           "",
           "908021115"
          ],
          null,
          null,
          null,
          [
           "",
           "",
           "",
           "Individual",
           "ABCDEFG OPQRST A",
           "1122334460",
           "",
           "",
           "",
           "",
           ""
          ],
          [
           "",
           "",
           "",
           "Organization",
           "ABCDEFG HIJKLMN HOSP",
           "1122334450",
           "",
           "",
           "",
           "",
           ""
          ],
          [
           "",
           "",
           "",
           "Individual",
           "STUVW KLMNOP H",
           "1122334461",
           "PE",
           "",
           "",
           "207L00000X",
           ""
          ]
         ],
         [
          "ABCHYI OL POI",
          "Organization"
         ],
         [
          "ABCDEF",
          "ABCDEF CUSTOMER SOLUTIONS",
          [
           [
            "TE",
            "9999999999"
           ],
           [
            "",
            ""
           ]
          ],
          "Organization"
         ],
         [
          "FAKE CITY",
          "19760101",
          "D8",
          "F",
          "125478963",
          "SY",
          "ABCDEFGH IJKLMNOP B",
          "",
          "CA",
          "123 ADDRESS7",
          "11111117",
          "18",
          "908021117"
         ],
         [
          "1",
          "RD8",
          "1",
          "984",
          "AA,P3",
          "",
          "00731",
          "HC",
          null,
          "20180713-20180713",
          "RD8",
          "472",
          "24",
          "MJ"
         ]
        ],
        [
         "000001508",
         "180807",
         "ZZ421406317      ",
         "30133052274      ",
         "00501",
         "1202",
         "1770",
         "20180710",
         "OO000011111",
         "000000005D",
         "005010X222A1",
         "214339",
         "222",
         "222",
         [
          [
           "1",
           "RD8",
           "1",
           "984",
           "AA,P3",
           "",
           "00731",
           "HC",
           null,
           "20180713-20180713",
           "RD8",
           "472",
           "24",
           "MJ"
          ],
          [
           "1",
           "RD8",
           "1",
           "1353",
           "AA",
           "",
           "00840",
           "HC",
           null,
           "20180713-20180713",
           "RD8",
           "472",
           "62",
           "MJ"
          ],
          [
           "1",
           "RD8",
           "1",
           "1230",
           "AA",
           "",
           "00902",
           "HC",
           null,
           "20180713-20180713",
           "RD8",
           "472",
           "65",
           "MJ"
          ],
          [
           "2",
           "RD8",
           "2",
           "738",
           "59",
           "",
           "62322",
           "HC",
           null,
           "20180713-20180713",
           "RD8",
           "472",
           "1",
           "UN"
          ]
         ],
         [
          "",
          "",
          "",
          "K219",
          ""
         ],
         "file:/Workspace/Users/raven.mukherjee@databricks.com/x12-edi-parser/sampledata/837/Molina_Mock_UP_837P_File.txt",
         [
          "FAKE CITY",
          "19760101",
          "D8",
          "F",
          "125478963",
          "SY",
          "ABCDEFGH IJKLMNOP B",
          "",
          "CA",
          "123 ADDRESS7",
          "11111117",
          "18",
          "908021117"
         ],
         [
          "2",
          "ABCMMPIO",
          "PI",
          "ABCHYI OL POI"
         ],
         [
          null,
          [
           "FAKE CITY",
           "543211234",
           "EI",
           "Organization",
           "ABCDE EFGHIJ GROUP PC",
           "1222222223",
           "",
           "CA",
           "123 ADDRESS5",
           "",
           "908021115"
          ],
          null,
          null,
          null,
          [
           "",
           "",
           "",
           "Individual",
           "ABCDEFG OPQRST A",
           "1122334460",
           "",
           "",
           "",
           "",
           ""
          ],
          [
           "",
           "",
           "",
           "Organization",
           "ABCDEFG HIJKLMN HOSP",
           "1122334450",
           "",
           "",
           "",
           "",
           ""
          ],
          [
           "",
           "",
           "",
           "Individual",
           "STUVW KLMNOP H",
           "1122334461",
           "PE",
           "",
           "",
           "207L00000X",
           ""
          ]
         ],
         [
          "ABCHYI OL POI",
          "Organization"
         ],
         [
          "ABCDEF",
          "ABCDEF CUSTOMER SOLUTIONS",
          [
           [
            "TE",
            "9999999999"
           ],
           [
            "",
            ""
           ]
          ],
          "Organization"
         ],
         [
          "FAKE CITY",
          "19760101",
          "D8",
          "F",
          "125478963",
          "SY",
          "ABCDEFGH IJKLMNOP B",
          "",
          "CA",
          "123 ADDRESS7",
          "11111117",
          "18",
          "908021117"
         ],
         [
          "1",
          "RD8",
          "1",
          "1353",
          "AA",
          "",
          "00840",
          "HC",
          null,
          "20180713-20180713",
          "RD8",
          "472",
          "62",
          "MJ"
         ]
        ],
        [
         "000001508",
         "180807",
         "ZZ421406317      ",
         "30133052274      ",
         "00501",
         "1202",
         "1770",
         "20180710",
         "OO000011111",
         "000000005D",
         "005010X222A1",
         "214339",
         "222",
         "222",
         [
          [
           "1",
           "RD8",
           "1",
           "984",
           "AA,P3",
           "",
           "00731",
           "HC",
           null,
           "20180713-20180713",
           "RD8",
           "472",
           "24",
           "MJ"
          ],
          [
           "1",
           "RD8",
           "1",
           "1353",
           "AA",
           "",
           "00840",
           "HC",
           null,
           "20180713-20180713",
           "RD8",
           "472",
           "62",
           "MJ"
          ],
          [
           "1",
           "RD8",
           "1",
           "1230",
           "AA",
           "",
           "00902",
           "HC",
           null,
           "20180713-20180713",
           "RD8",
           "472",
           "65",
           "MJ"
          ],
          [
           "2",
           "RD8",
           "2",
           "738",
           "59",
           "",
           "62322",
           "HC",
           null,
           "20180713-20180713",
           "RD8",
           "472",
           "1",
           "UN"
          ]
         ],
         [
          "",
          "",
          "",
          "K219",
          ""
         ],
         "file:/Workspace/Users/raven.mukherjee@databricks.com/x12-edi-parser/sampledata/837/Molina_Mock_UP_837P_File.txt",
         [
          "FAKE CITY",
          "19760101",
          "D8",
          "F",
          "125478963",
          "SY",
          "ABCDEFGH IJKLMNOP B",
          "",
          "CA",
          "123 ADDRESS7",
          "11111117",
          "18",
          "908021117"
         ],
         [
          "2",
          "ABCMMPIO",
          "PI",
          "ABCHYI OL POI"
         ],
         [
          null,
          [
           "FAKE CITY",
           "543211234",
           "EI",
           "Organization",
           "ABCDE EFGHIJ GROUP PC",
           "1222222223",
           "",
           "CA",
           "123 ADDRESS5",
           "",
           "908021115"
          ],
          null,
          null,
          null,
          [
           "",
           "",
           "",
           "Individual",
           "ABCDEFG OPQRST A",
           "1122334460",
           "",
           "",
           "",
           "",
           ""
          ],
          [
           "",
           "",
           "",
           "Organization",
           "ABCDEFG HIJKLMN HOSP",
           "1122334450",
           "",
           "",
           "",
           "",
           ""
          ],
          [
           "",
           "",
           "",
           "Individual",
           "STUVW KLMNOP H",
           "1122334461",
           "PE",
           "",
           "",
           "207L00000X",
           ""
          ]
         ],
         [
          "ABCHYI OL POI",
          "Organization"
         ],
         [
          "ABCDEF",
          "ABCDEF CUSTOMER SOLUTIONS",
          [
           [
            "TE",
            "9999999999"
           ],
           [
            "",
            ""
           ]
          ],
          "Organization"
         ],
         [
          "FAKE CITY",
          "19760101",
          "D8",
          "F",
          "125478963",
          "SY",
          "ABCDEFGH IJKLMNOP B",
          "",
          "CA",
          "123 ADDRESS7",
          "11111117",
          "18",
          "908021117"
         ],
         [
          "1",
          "RD8",
          "1",
          "1230",
          "AA",
          "",
          "00902",
          "HC",
          null,
          "20180713-20180713",
          "RD8",
          "472",
          "65",
          "MJ"
         ]
        ],
        [
         "000001508",
         "180807",
         "ZZ421406317      ",
         "30133052274      ",
         "00501",
         "1202",
         "1770",
         "20180710",
         "OO000011111",
         "000000005D",
         "005010X222A1",
         "214339",
         "222",
         "222",
         [
          [
           "1",
           "RD8",
           "1",
           "984",
           "AA,P3",
           "",
           "00731",
           "HC",
           null,
           "20180713-20180713",
           "RD8",
           "472",
           "24",
           "MJ"
          ],
          [
           "1",
           "RD8",
           "1",
           "1353",
           "AA",
           "",
           "00840",
           "HC",
           null,
           "20180713-20180713",
           "RD8",
           "472",
           "62",
           "MJ"
          ],
          [
           "1",
           "RD8",
           "1",
           "1230",
           "AA",
           "",
           "00902",
           "HC",
           null,
           "20180713-20180713",
           "RD8",
           "472",
           "65",
           "MJ"
          ],
          [
           "2",
           "RD8",
           "2",
           "738",
           "59",
           "",
           "62322",
           "HC",
           null,
           "20180713-20180713",
           "RD8",
           "472",
           "1",
           "UN"
          ]
         ],
         [
          "",
          "",
          "",
          "K219",
          ""
         ],
         "file:/Workspace/Users/raven.mukherjee@databricks.com/x12-edi-parser/sampledata/837/Molina_Mock_UP_837P_File.txt",
         [
          "FAKE CITY",
          "19760101",
          "D8",
          "F",
          "125478963",
          "SY",
          "ABCDEFGH IJKLMNOP B",
          "",
          "CA",
          "123 ADDRESS7",
          "11111117",
          "18",
          "908021117"
         ],
         [
          "2",
          "ABCMMPIO",
          "PI",
          "ABCHYI OL POI"
         ],
         [
          null,
          [
           "FAKE CITY",
           "543211234",
           "EI",
           "Organization",
           "ABCDE EFGHIJ GROUP PC",
           "1222222223",
           "",
           "CA",
           "123 ADDRESS5",
           "",
           "908021115"
          ],
          null,
          null,
          null,
          [
           "",
           "",
           "",
           "Individual",
           "ABCDEFG OPQRST A",
           "1122334460",
           "",
           "",
           "",
           "",
           ""
          ],
          [
           "",
           "",
           "",
           "Organization",
           "ABCDEFG HIJKLMN HOSP",
           "1122334450",
           "",
           "",
           "",
           "",
           ""
          ],
          [
           "",
           "",
           "",
           "Individual",
           "STUVW KLMNOP H",
           "1122334461",
           "PE",
           "",
           "",
           "207L00000X",
           ""
          ]
         ],
         [
          "ABCHYI OL POI",
          "Organization"
         ],
         [
          "ABCDEF",
          "ABCDEF CUSTOMER SOLUTIONS",
          [
           [
            "TE",
            "9999999999"
           ],
           [
            "",
            ""
           ]
          ],
          "Organization"
         ],
         [
          "FAKE CITY",
          "19760101",
          "D8",
          "F",
          "125478963",
          "SY",
          "ABCDEFGH IJKLMNOP B",
          "",
          "CA",
          "123 ADDRESS7",
          "11111117",
          "18",
          "908021117"
         ],
         [
          "2",
          "RD8",
          "2",
          "738",
          "59",
          "",
          "62322",
          "HC",
          null,
          "20180713-20180713",
          "RD8",
          "472",
          "1",
          "UN"
         ]
        ],
        [
         "000001508",
         "180807",
         "ZZ421406317      ",
         "30133052274      ",
         "00501",
         "1202",
         "1770",
         "20180710",
         "OO000011111",
         "000000005D",
         "005010X222A1",
         "214339",
         "222",
         "222",
         [
          [
           "1",
           "RD8",
           "1",
           "1353",
           "AA",
           "",
           "00840",
           "HC",
           null,
           "20180713-20180713",
           "RD8",
           "472",
           "62",
           "MJ"
          ],
          [
           "1",
           "RD8",
           "1",
           "1230",
           "AA",
           "",
           "00902",
           "HC",
           null,
           "20180713-20180713",
           "RD8",
           "472",
           "65",
           "MJ"
          ],
          [
           "2",
           "RD8",
           "2",
           "738",
           "59",
           "",
           "62322",
           "HC",
           null,
           "20180713-20180713",
           "RD8",
           "472",
           "1",
           "UN"
          ]
         ],
         [
          "",
          "",
          "",
          "K4090",
          ""
         ],
         "file:/Workspace/Users/raven.mukherjee@databricks.com/x12-edi-parser/sampledata/837/Molina_Mock_UP_837P_File.txt",
         [
          "FAKE CITY",
          "20180409",
          "D8",
          "M",
          "",
          "",
          "ABCDEFGH IJKLMNOP B",
          "",
          "CA",
          "123 ADDRESS11",
          "111111111",
          "18",
          "908021111"
         ],
         [
          "2",
          "YTHF281123456",
          "PI",
          "ABCHYI OL POI"
         ],
         [
          null,
          [
           "FAKE CITY",
           "931013923",
           "EI",
           "Organization",
           "ABCDE EFGHIJ GROUP PC",
           "1477527786",
           "",
           "CA",
           "123 ADDRESS9",
           "",
           "908021119"
          ],
          null,
          null,
          null,
          [
           "",
           "",
           "",
           "Individual",
           "ABCDEFGH OPQRSTU A",
           "1122334456",
           "",
           "",
           "",
           "",
           ""
          ],
          [
           "",
           "",
           "",
           "Organization",
           "ABCDEFG HIJKLMN HOSP",
           "1122334458",
           "",
           "",
           "",
           "",
           ""
          ],
          [
           "",
           "",
           "",
           "Individual",
           "STUVWX KLMNOPQ H",
           "1122334457",
           "PE",
           "",
           "",
           "207L00000X",
           ""
          ]
         ],
         [
          "ABCHYI OL POI",
          "Organization"
         ],
         [
          "ABCDEF",
          "ABCDEF CUSTOMER SOLUTIONS",
          [
           [
            "TE",
            "9999999999"
           ],
           [
            "",
            ""
           ]
          ],
          "Organization"
         ],
         [
          "FAKE CITY",
          "20180409",
          "D8",
          "M",
          "",
          "",
          "ABCDEFGH IJKLMNOP B",
          "",
          "CA",
          "123 ADDRESS11",
          "111111111",
          "18",
          "908021111"
         ],
         [
          "1",
          "RD8",
          "1",
          "1353",
          "AA",
          "",
          "00840",
          "HC",
          null,
          "20180713-20180713",
          "RD8",
          "472",
          "62",
          "MJ"
         ]
        ],
        [
         "000001508",
         "180807",
         "ZZ421406317      ",
         "30133052274      ",
         "00501",
         "1202",
         "1770",
         "20180710",
         "OO000011111",
         "000000005D",
         "005010X222A1",
         "214339",
         "222",
         "222",
         [
          [
           "1",
           "RD8",
           "1",
           "1353",
           "AA",
           "",
           "00840",
           "HC",
           null,
           "20180713-20180713",
           "RD8",
           "472",
           "62",
           "MJ"
          ],
          [
           "1",
           "RD8",
           "1",
           "1230",
           "AA",
           "",
           "00902",
           "HC",
           null,
           "20180713-20180713",
           "RD8",
           "472",
           "65",
           "MJ"
          ],
          [
           "2",
           "RD8",
           "2",
           "738",
           "59",
           "",
           "62322",
           "HC",
           null,
           "20180713-20180713",
           "RD8",
           "472",
           "1",
           "UN"
          ]
         ],
         [
          "",
          "",
          "",
          "K4090",
          ""
         ],
         "file:/Workspace/Users/raven.mukherjee@databricks.com/x12-edi-parser/sampledata/837/Molina_Mock_UP_837P_File.txt",
         [
          "FAKE CITY",
          "20180409",
          "D8",
          "M",
          "",
          "",
          "ABCDEFGH IJKLMNOP B",
          "",
          "CA",
          "123 ADDRESS11",
          "111111111",
          "18",
          "908021111"
         ],
         [
          "2",
          "YTHF281123456",
          "PI",
          "ABCHYI OL POI"
         ],
         [
          null,
          [
           "FAKE CITY",
           "931013923",
           "EI",
           "Organization",
           "ABCDE EFGHIJ GROUP PC",
           "1477527786",
           "",
           "CA",
           "123 ADDRESS9",
           "",
           "908021119"
          ],
          null,
          null,
          null,
          [
           "",
           "",
           "",
           "Individual",
           "ABCDEFGH OPQRSTU A",
           "1122334456",
           "",
           "",
           "",
           "",
           ""
          ],
          [
           "",
           "",
           "",
           "Organization",
           "ABCDEFG HIJKLMN HOSP",
           "1122334458",
           "",
           "",
           "",
           "",
           ""
          ],
          [
           "",
           "",
           "",
           "Individual",
           "STUVWX KLMNOPQ H",
           "1122334457",
           "PE",
           "",
           "",
           "207L00000X",
           ""
          ]
         ],
         [
          "ABCHYI OL POI",
          "Organization"
         ],
         [
          "ABCDEF",
          "ABCDEF CUSTOMER SOLUTIONS",
          [
           [
            "TE",
            "9999999999"
           ],
           [
            "",
            ""
           ]
          ],
          "Organization"
         ],
         [
          "FAKE CITY",
          "20180409",
          "D8",
          "M",
          "",
          "",
          "ABCDEFGH IJKLMNOP B",
          "",
          "CA",
          "123 ADDRESS11",
          "111111111",
          "18",
          "908021111"
         ],
         [
          "1",
          "RD8",
          "1",
          "1230",
          "AA",
          "",
          "00902",
          "HC",
          null,
          "20180713-20180713",
          "RD8",
          "472",
          "65",
          "MJ"
         ]
        ],
        [
         "000001508",
         "180807",
         "ZZ421406317      ",
         "30133052274      ",
         "00501",
         "1202",
         "1770",
         "20180710",
         "OO000011111",
         "000000005D",
         "005010X222A1",
         "214339",
         "222",
         "222",
         [
          [
           "1",
           "RD8",
           "1",
           "1353",
           "AA",
           "",
           "00840",
           "HC",
           null,
           "20180713-20180713",
           "RD8",
           "472",
           "62",
           "MJ"
          ],
          [
           "1",
           "RD8",
           "1",
           "1230",
           "AA",
           "",
           "00902",
           "HC",
           null,
           "20180713-20180713",
           "RD8",
           "472",
           "65",
           "MJ"
          ],
          [
           "2",
           "RD8",
           "2",
           "738",
           "59",
           "",
           "62322",
           "HC",
           null,
           "20180713-20180713",
           "RD8",
           "472",
           "1",
           "UN"
          ]
         ],
         [
          "",
          "",
          "",
          "K4090",
          ""
         ],
         "file:/Workspace/Users/raven.mukherjee@databricks.com/x12-edi-parser/sampledata/837/Molina_Mock_UP_837P_File.txt",
         [
          "FAKE CITY",
          "20180409",
          "D8",
          "M",
          "",
          "",
          "ABCDEFGH IJKLMNOP B",
          "",
          "CA",
          "123 ADDRESS11",
          "111111111",
          "18",
          "908021111"
         ],
         [
          "2",
          "YTHF281123456",
          "PI",
          "ABCHYI OL POI"
         ],
         [
          null,
          [
           "FAKE CITY",
           "931013923",
           "EI",
           "Organization",
           "ABCDE EFGHIJ GROUP PC",
           "1477527786",
           "",
           "CA",
           "123 ADDRESS9",
           "",
           "908021119"
          ],
          null,
          null,
          null,
          [
           "",
           "",
           "",
           "Individual",
           "ABCDEFGH OPQRSTU A",
           "1122334456",
           "",
           "",
           "",
           "",
           ""
          ],
          [
           "",
           "",
           "",
           "Organization",
           "ABCDEFG HIJKLMN HOSP",
           "1122334458",
           "",
           "",
           "",
           "",
           ""
          ],
          [
           "",
           "",
           "",
           "Individual",
           "STUVWX KLMNOPQ H",
           "1122334457",
           "PE",
           "",
           "",
           "207L00000X",
           ""
          ]
         ],
         [
          "ABCHYI OL POI",
          "Organization"
         ],
         [
          "ABCDEF",
          "ABCDEF CUSTOMER SOLUTIONS",
          [
           [
            "TE",
            "9999999999"
           ],
           [
            "",
            ""
           ]
          ],
          "Organization"
         ],
         [
          "FAKE CITY",
          "20180409",
          "D8",
          "M",
          "",
          "",
          "ABCDEFGH IJKLMNOP B",
          "",
          "CA",
          "123 ADDRESS11",
          "111111111",
          "18",
          "908021111"
         ],
         [
          "2",
          "RD8",
          "2",
          "738",
          "59",
          "",
          "62322",
          "HC",
          null,
          "20180713-20180713",
          "RD8",
          "472",
          "1",
          "UN"
         ]
        ],
        [
         "000001508",
         "180807",
         "ZZ421406317      ",
         "30133052274      ",
         "00501",
         "1202",
         "1770",
         "20180710",
         "OO000011111",
         "000000005D",
         "005010X222A1",
         "214339",
         "222",
         "222",
         [
          [
           "1",
           "RD8",
           "1",
           "1230",
           "AA",
           "",
           "00902",
           "HC",
           null,
           "20180713-20180713",
           "RD8",
           "472",
           "65",
           "MJ"
          ],
          [
           "2",
           "RD8",
           "2",
           "738",
           "59",
           "",
           "62322",
           "HC",
           null,
           "20180713-20180713",
           "RD8",
           "472",
           "1",
           "UN"
          ]
         ],
         [
          "",
          "",
          "",
          "Q423",
          ""
         ],
         "file:/Workspace/Users/raven.mukherjee@databricks.com/x12-edi-parser/sampledata/837/Molina_Mock_UP_837P_File.txt",
         [
          "FAKE CITY",
          "20180504",
          "D8",
          "F",
          "",
          "",
          "ABCDEFGH IJKLMNOP B",
          "",
          "CA",
          "123 ADDRESS13",
          "111111112",
          "18",
          "908021113"
         ],
         [
          "2",
          "YTHF281123456",
          "PI",
          "ABCHYI OL POI"
         ],
         [
          null,
          [
           "FAKE CITY",
           "931013923",
           "EI",
           "Organization",
           "ABCDE EFGHIJ GROUP PC",
           "1477527786",
           "",
           "CA",
           "123 ADDRESS9",
           "",
           "908021119"
          ],
          null,
          null,
          null,
          [
           "",
           "",
           "",
           "Individual",
           "ABCDEFGHI OPQRSTUV A",
           "1122334455",
           "",
           "",
           "",
           "",
           ""
          ],
          [
           "",
           "",
           "",
           "Organization",
           "ABCDEFG HIJKLMN HOSP",
           "1122334457",
           "",
           "",
           "",
           "",
           ""
          ],
          [
           "",
           "",
           "",
           "Individual",
           "STUVWXY KLMNOPQR H",
           "1122334456",
           "PE",
           "",
           "",
           "207L00000X",
           ""
          ]
         ],
         [
          "ABCHYI OL POI",
          "Organization"
         ],
         [
          "ABCDEF",
          "ABCDEF CUSTOMER SOLUTIONS",
          [
           [
            "TE",
            "9999999999"
           ],
           [
            "",
            ""
           ]
          ],
          "Organization"
         ],
         [
          "FAKE CITY",
          "20180504",
          "D8",
          "F",
          "",
          "",
          "ABCDEFGH IJKLMNOP B",
          "",
          "CA",
          "123 ADDRESS13",
          "111111112",
          "18",
          "908021113"
         ],
         [
          "1",
          "RD8",
          "1",
          "1230",
          "AA",
          "",
          "00902",
          "HC",
          null,
          "20180713-20180713",
          "RD8",
          "472",
          "65",
          "MJ"
         ]
        ],
        [
         "000001508",
         "180807",
         "ZZ421406317      ",
         "30133052274      ",
         "00501",
         "1202",
         "1770",
         "20180710",
         "OO000011111",
         "000000005D",
         "005010X222A1",
         "214339",
         "222",
         "222",
         [
          [
           "1",
           "RD8",
           "1",
           "1230",
           "AA",
           "",
           "00902",
           "HC",
           null,
           "20180713-20180713",
           "RD8",
           "472",
           "65",
           "MJ"
          ],
          [
           "2",
           "RD8",
           "2",
           "738",
           "59",
           "",
           "62322",
           "HC",
           null,
           "20180713-20180713",
           "RD8",
           "472",
           "1",
           "UN"
          ]
         ],
         [
          "",
          "",
          "",
          "Q423",
          ""
         ],
         "file:/Workspace/Users/raven.mukherjee@databricks.com/x12-edi-parser/sampledata/837/Molina_Mock_UP_837P_File.txt",
         [
          "FAKE CITY",
          "20180504",
          "D8",
          "F",
          "",
          "",
          "ABCDEFGH IJKLMNOP B",
          "",
          "CA",
          "123 ADDRESS13",
          "111111112",
          "18",
          "908021113"
         ],
         [
          "2",
          "YTHF281123456",
          "PI",
          "ABCHYI OL POI"
         ],
         [
          null,
          [
           "FAKE CITY",
           "931013923",
           "EI",
           "Organization",
           "ABCDE EFGHIJ GROUP PC",
           "1477527786",
           "",
           "CA",
           "123 ADDRESS9",
           "",
           "908021119"
          ],
          null,
          null,
          null,
          [
           "",
           "",
           "",
           "Individual",
           "ABCDEFGHI OPQRSTUV A",
           "1122334455",
           "",
           "",
           "",
           "",
           ""
          ],
          [
           "",
           "",
           "",
           "Organization",
           "ABCDEFG HIJKLMN HOSP",
           "1122334457",
           "",
           "",
           "",
           "",
           ""
          ],
          [
           "",
           "",
           "",
           "Individual",
           "STUVWXY KLMNOPQR H",
           "1122334456",
           "PE",
           "",
           "",
           "207L00000X",
           ""
          ]
         ],
         [
          "ABCHYI OL POI",
          "Organization"
         ],
         [
          "ABCDEF",
          "ABCDEF CUSTOMER SOLUTIONS",
          [
           [
            "TE",
            "9999999999"
           ],
           [
            "",
            ""
           ]
          ],
          "Organization"
         ],
         [
          "FAKE CITY",
          "20180504",
          "D8",
          "F",
          "",
          "",
          "ABCDEFGH IJKLMNOP B",
          "",
          "CA",
          "123 ADDRESS13",
          "111111112",
          "18",
          "908021113"
         ],
         [
          "2",
          "RD8",
          "2",
          "738",
          "59",
          "",
          "62322",
          "HC",
          null,
          "20180713-20180713",
          "RD8",
          "472",
          "1",
          "UN"
         ]
        ],
        [
         "000001508",
         "180807",
         "ZZ421406317      ",
         "30133052274      ",
         "00501",
         "1202",
         "150800",
         "20180807",
         "421406317",
         "133052274",
         "005010X223A2",
         "12022761",
         "223",
         "223",
         [
          [
           "1",
           "RD8",
           null,
           "9148",
           "",
           null,
           "",
           "",
           "0124",
           "20180628-20180702",
           "RD8",
           "472",
           "4",
           "UN"
          ],
          [
           "2",
           "RD8",
           null,
           "48.1",
           "",
           null,
           "",
           "",
           "0250",
           "20180628-20180702",
           "RD8",
           "472",
           "28",
           "UN"
          ],
          [
           "3",
           "RD8",
           null,
           "133",
           "",
           null,
           "",
           "",
           "0260",
           "20180628-20180702",
           "RD8",
           "472",
           "1",
           "UN"
          ],
          [
           "4",
           "RD8",
           null,
           "32.9",
           "",
           null,
           "",
           "",
           "0300",
           "20180628-20180702",
           "RD8",
           "472",
           "1",
           "UN"
          ],
          [
           "5",
           "RD8",
           null,
           "798.5",
           "",
           null,
           "",
           "",
           "0301",
           "20180628-20180702",
           "RD8",
           "472",
           "4",
           "UN"
          ],
          [
           "6",
           "RD8",
           null,
           "200.6",
           "",
           null,
           "",
           "",
           "0305",
           "20180628-20180702",
           "RD8",
           "472",
           "2",
           "UN"
          ],
          [
           "7",
           "RD8",
           null,
           "175",
           "",
           null,
           "",
           "",
           "0306",
           "20180628-20180702",
           "RD8",
           "472",
           "1",
           "UN"
          ],
          [
           "8",
           "RD8",
           null,
           "113.6",
           "",
           null,
           "",
           "",
           "0307",
           "20180628-20180702",
           "RD8",
           "472",
           "2",
           "UN"
          ],
          [
           "9",
           "RD8",
           null,
           "6517",
           "",
           null,
           "",
           "",
           "0351",
           "20180628-20180702",
           "RD8",
           "472",
           "2",
           "UN"
          ]
         ],
         [
          "F39",
          "",
          "F1319,F419,F17210,E876",
          "F39",
          ""
         ],
         "file:/Workspace/Users/raven.mukherjee@databricks.com/x12-edi-parser/sampledata/837/CC_837I_EDI.txt",
         [
          "Elgin",
          "19960215",
          "D8",
          "F",
          "",
          "",
          "TEST MEMBER ",
          "",
          "IL",
          "123 MAIN STREET",
          "U0000000001",
          "18",
          "601200001"
         ],
         [
          "2",
          "421406317",
          "PI",
          "CENTENE"
         ],
         [
          [
           "",
           "TD-R192ICE00087",
           "D9",
           "Individual",
           "  ",
           "",
           "",
           "",
           "",
           "",
           ""
          ],
          [
           "WOODSTOCK",
           "999999999",
           "EI",
           "Organization",
           "Test Provider",
           "9999999999",
           "",
           "IL",
           "123 MAIN STREET",
           "",
           "600980000"
          ],
          [
           "",
           "",
           "",
           "Individual",
           "  ",
           "",
           "",
           "",
           "",
           "",
           ""
          ],
          [
           "",
           "",
           "",
           "Individual",
           "  ",
           "",
           "",
           "",
           "",
           "",
           ""
          ],
          [
           "",
           "",
           "",
           "Individual",
           "  ",
           "",
           "",
           "",
           "",
           "",
           ""
          ],
          null,
          null,
          null
         ],
         [
          "CENTENE CORP",
          "Organization"
         ],
         [
          "TALEND",
          "SAMBIT",
          [
           [
            "TE",
            "3143202264"
           ],
           [
            "EX",
            "8099264"
           ]
          ],
          "Organization"
         ],
         [
          "Elgin",
          "19960215",
          "D8",
          "F",
          "",
          "",
          "TEST MEMBER ",
          "",
          "IL",
          "123 MAIN STREET",
          "U0000000001",
          "18",
          "601200001"
         ],
         [
          "1",
          "RD8",
          null,
          "9148",
          "",
          null,
          "",
          "",
          "0124",
          "20180628-20180702",
          "RD8",
          "472",
          "4",
          "UN"
         ]
        ],
        [
         "000001508",
         "180807",
         "ZZ421406317      ",
         "30133052274      ",
         "00501",
         "1202",
         "150800",
         "20180807",
         "421406317",
         "133052274",
         "005010X223A2",
         "12022761",
         "223",
         "223",
         [
          [
           "1",
           "RD8",
           null,
           "9148",
           "",
           null,
           "",
           "",
           "0124",
           "20180628-20180702",
           "RD8",
           "472",
           "4",
           "UN"
          ],
          [
           "2",
           "RD8",
           null,
           "48.1",
           "",
           null,
           "",
           "",
           "0250",
           "20180628-20180702",
           "RD8",
           "472",
           "28",
           "UN"
          ],
          [
           "3",
           "RD8",
           null,
           "133",
           "",
           null,
           "",
           "",
           "0260",
           "20180628-20180702",
           "RD8",
           "472",
           "1",
           "UN"
          ],
          [
           "4",
           "RD8",
           null,
           "32.9",
           "",
           null,
           "",
           "",
           "0300",
           "20180628-20180702",
           "RD8",
           "472",
           "1",
           "UN"
          ],
          [
           "5",
           "RD8",
           null,
           "798.5",
           "",
           null,
           "",
           "",
           "0301",
           "20180628-20180702",
           "RD8",
           "472",
           "4",
           "UN"
          ],
          [
           "6",
           "RD8",
           null,
           "200.6",
           "",
           null,
           "",
           "",
           "0305",
           "20180628-20180702",
           "RD8",
           "472",
           "2",
           "UN"
          ],
          [
           "7",
           "RD8",
           null,
           "175",
           "",
           null,
           "",
           "",
           "0306",
           "20180628-20180702",
           "RD8",
           "472",
           "1",
           "UN"
          ],
          [
           "8",
           "RD8",
           null,
           "113.6",
           "",
           null,
           "",
           "",
           "0307",
           "20180628-20180702",
           "RD8",
           "472",
           "2",
           "UN"
          ],
          [
           "9",
           "RD8",
           null,
           "6517",
           "",
           null,
           "",
           "",
           "0351",
           "20180628-20180702",
           "RD8",
           "472",
           "2",
           "UN"
          ]
         ],
         [
          "F39",
          "",
          "F1319,F419,F17210,E876",
          "F39",
          ""
         ],
         "file:/Workspace/Users/raven.mukherjee@databricks.com/x12-edi-parser/sampledata/837/CC_837I_EDI.txt",
         [
          "Elgin",
          "19960215",
          "D8",
          "F",
          "",
          "",
          "TEST MEMBER ",
          "",
          "IL",
          "123 MAIN STREET",
          "U0000000001",
          "18",
          "601200001"
         ],
         [
          "2",
          "421406317",
          "PI",
          "CENTENE"
         ],
         [
          [
           "",
           "TD-R192ICE00087",
           "D9",
           "Individual",
           "  ",
           "",
           "",
           "",
           "",
           "",
           ""
          ],
          [
           "WOODSTOCK",
           "999999999",
           "EI",
           "Organization",
           "Test Provider",
           "9999999999",
           "",
           "IL",
           "123 MAIN STREET",
           "",
           "600980000"
          ],
          [
           "",
           "",
           "",
           "Individual",
           "  ",
           "",
           "",
           "",
           "",
           "",
           ""
          ],
          [
           "",
           "",
           "",
           "Individual",
           "  ",
           "",
           "",
           "",
           "",
           "",
           ""
          ],
          [
           "",
           "",
           "",
           "Individual",
           "  ",
           "",
           "",
           "",
           "",
           "",
           ""
          ],
          null,
          null,
          null
         ],
         [
          "CENTENE CORP",
          "Organization"
         ],
         [
          "TALEND",
          "SAMBIT",
          [
           [
            "TE",
            "3143202264"
           ],
           [
            "EX",
            "8099264"
           ]
          ],
          "Organization"
         ],
         [
          "Elgin",
          "19960215",
          "D8",
          "F",
          "",
          "",
          "TEST MEMBER ",
          "",
          "IL",
          "123 MAIN STREET",
          "U0000000001",
          "18",
          "601200001"
         ],
         [
          "2",
          "RD8",
          null,
          "48.1",
          "",
          null,
          "",
          "",
          "0250",
          "20180628-20180702",
          "RD8",
          "472",
          "28",
          "UN"
         ]
        ],
        [
         "000001508",
         "180807",
         "ZZ421406317      ",
         "30133052274      ",
         "00501",
         "1202",
         "150800",
         "20180807",
         "421406317",
         "133052274",
         "005010X223A2",
         "12022761",
         "223",
         "223",
         [
          [
           "1",
           "RD8",
           null,
           "9148",
           "",
           null,
           "",
           "",
           "0124",
           "20180628-20180702",
           "RD8",
           "472",
           "4",
           "UN"
          ],
          [
           "2",
           "RD8",
           null,
           "48.1",
           "",
           null,
           "",
           "",
           "0250",
           "20180628-20180702",
           "RD8",
           "472",
           "28",
           "UN"
          ],
          [
           "3",
           "RD8",
           null,
           "133",
           "",
           null,
           "",
           "",
           "0260",
           "20180628-20180702",
           "RD8",
           "472",
           "1",
           "UN"
          ],
          [
           "4",
           "RD8",
           null,
           "32.9",
           "",
           null,
           "",
           "",
           "0300",
           "20180628-20180702",
           "RD8",
           "472",
           "1",
           "UN"
          ],
          [
           "5",
           "RD8",
           null,
           "798.5",
           "",
           null,
           "",
           "",
           "0301",
           "20180628-20180702",
           "RD8",
           "472",
           "4",
           "UN"
          ],
          [
           "6",
           "RD8",
           null,
           "200.6",
           "",
           null,
           "",
           "",
           "0305",
           "20180628-20180702",
           "RD8",
           "472",
           "2",
           "UN"
          ],
          [
           "7",
           "RD8",
           null,
           "175",
           "",
           null,
           "",
           "",
           "0306",
           "20180628-20180702",
           "RD8",
           "472",
           "1",
           "UN"
          ],
          [
           "8",
           "RD8",
           null,
           "113.6",
           "",
           null,
           "",
           "",
           "0307",
           "20180628-20180702",
           "RD8",
           "472",
           "2",
           "UN"
          ],
          [
           "9",
           "RD8",
           null,
           "6517",
           "",
           null,
           "",
           "",
           "0351",
           "20180628-20180702",
           "RD8",
           "472",
           "2",
           "UN"
          ]
         ],
         [
          "F39",
          "",
          "F1319,F419,F17210,E876",
          "F39",
          ""
         ],
         "file:/Workspace/Users/raven.mukherjee@databricks.com/x12-edi-parser/sampledata/837/CC_837I_EDI.txt",
         [
          "Elgin",
          "19960215",
          "D8",
          "F",
          "",
          "",
          "TEST MEMBER ",
          "",
          "IL",
          "123 MAIN STREET",
          "U0000000001",
          "18",
          "601200001"
         ],
         [
          "2",
          "421406317",
          "PI",
          "CENTENE"
         ],
         [
          [
           "",
           "TD-R192ICE00087",
           "D9",
           "Individual",
           "  ",
           "",
           "",
           "",
           "",
           "",
           ""
          ],
          [
           "WOODSTOCK",
           "999999999",
           "EI",
           "Organization",
           "Test Provider",
           "9999999999",
           "",
           "IL",
           "123 MAIN STREET",
           "",
           "600980000"
          ],
          [
           "",
           "",
           "",
           "Individual",
           "  ",
           "",
           "",
           "",
           "",
           "",
           ""
          ],
          [
           "",
           "",
           "",
           "Individual",
           "  ",
           "",
           "",
           "",
           "",
           "",
           ""
          ],
          [
           "",
           "",
           "",
           "Individual",
           "  ",
           "",
           "",
           "",
           "",
           "",
           ""
          ],
          null,
          null,
          null
         ],
         [
          "CENTENE CORP",
          "Organization"
         ],
         [
          "TALEND",
          "SAMBIT",
          [
           [
            "TE",
            "3143202264"
           ],
           [
            "EX",
            "8099264"
           ]
          ],
          "Organization"
         ],
         [
          "Elgin",
          "19960215",
          "D8",
          "F",
          "",
          "",
          "TEST MEMBER ",
          "",
          "IL",
          "123 MAIN STREET",
          "U0000000001",
          "18",
          "601200001"
         ],
         [
          "3",
          "RD8",
          null,
          "133",
          "",
          null,
          "",
          "",
          "0260",
          "20180628-20180702",
          "RD8",
          "472",
          "1",
          "UN"
         ]
        ],
        [
         "000001508",
         "180807",
         "ZZ421406317      ",
         "30133052274      ",
         "00501",
         "1202",
         "150800",
         "20180807",
         "421406317",
         "133052274",
         "005010X223A2",
         "12022761",
         "223",
         "223",
         [
          [
           "1",
           "RD8",
           null,
           "9148",
           "",
           null,
           "",
           "",
           "0124",
           "20180628-20180702",
           "RD8",
           "472",
           "4",
           "UN"
          ],
          [
           "2",
           "RD8",
           null,
           "48.1",
           "",
           null,
           "",
           "",
           "0250",
           "20180628-20180702",
           "RD8",
           "472",
           "28",
           "UN"
          ],
          [
           "3",
           "RD8",
           null,
           "133",
           "",
           null,
           "",
           "",
           "0260",
           "20180628-20180702",
           "RD8",
           "472",
           "1",
           "UN"
          ],
          [
           "4",
           "RD8",
           null,
           "32.9",
           "",
           null,
           "",
           "",
           "0300",
           "20180628-20180702",
           "RD8",
           "472",
           "1",
           "UN"
          ],
          [
           "5",
           "RD8",
           null,
           "798.5",
           "",
           null,
           "",
           "",
           "0301",
           "20180628-20180702",
           "RD8",
           "472",
           "4",
           "UN"
          ],
          [
           "6",
           "RD8",
           null,
           "200.6",
           "",
           null,
           "",
           "",
           "0305",
           "20180628-20180702",
           "RD8",
           "472",
           "2",
           "UN"
          ],
          [
           "7",
           "RD8",
           null,
           "175",
           "",
           null,
           "",
           "",
           "0306",
           "20180628-20180702",
           "RD8",
           "472",
           "1",
           "UN"
          ],
          [
           "8",
           "RD8",
           null,
           "113.6",
           "",
           null,
           "",
           "",
           "0307",
           "20180628-20180702",
           "RD8",
           "472",
           "2",
           "UN"
          ],
          [
           "9",
           "RD8",
           null,
           "6517",
           "",
           null,
           "",
           "",
           "0351",
           "20180628-20180702",
           "RD8",
           "472",
           "2",
           "UN"
          ]
         ],
         [
          "F39",
          "",
          "F1319,F419,F17210,E876",
          "F39",
          ""
         ],
         "file:/Workspace/Users/raven.mukherjee@databricks.com/x12-edi-parser/sampledata/837/CC_837I_EDI.txt",
         [
          "Elgin",
          "19960215",
          "D8",
          "F",
          "",
          "",
          "TEST MEMBER ",
          "",
          "IL",
          "123 MAIN STREET",
          "U0000000001",
          "18",
          "601200001"
         ],
         [
          "2",
          "421406317",
          "PI",
          "CENTENE"
         ],
         [
          [
           "",
           "TD-R192ICE00087",
           "D9",
           "Individual",
           "  ",
           "",
           "",
           "",
           "",
           "",
           ""
          ],
          [
           "WOODSTOCK",
           "999999999",
           "EI",
           "Organization",
           "Test Provider",
           "9999999999",
           "",
           "IL",
           "123 MAIN STREET",
           "",
           "600980000"
          ],
          [
           "",
           "",
           "",
           "Individual",
           "  ",
           "",
           "",
           "",
           "",
           "",
           ""
          ],
          [
           "",
           "",
           "",
           "Individual",
           "  ",
           "",
           "",
           "",
           "",
           "",
           ""
          ],
          [
           "",
           "",
           "",
           "Individual",
           "  ",
           "",
           "",
           "",
           "",
           "",
           ""
          ],
          null,
          null,
          null
         ],
         [
          "CENTENE CORP",
          "Organization"
         ],
         [
          "TALEND",
          "SAMBIT",
          [
           [
            "TE",
            "3143202264"
           ],
           [
            "EX",
            "8099264"
           ]
          ],
          "Organization"
         ],
         [
          "Elgin",
          "19960215",
          "D8",
          "F",
          "",
          "",
          "TEST MEMBER ",
          "",
          "IL",
          "123 MAIN STREET",
          "U0000000001",
          "18",
          "601200001"
         ],
         [
          "4",
          "RD8",
          null,
          "32.9",
          "",
          null,
          "",
          "",
          "0300",
          "20180628-20180702",
          "RD8",
          "472",
          "1",
          "UN"
         ]
        ],
        [
         "000001508",
         "180807",
         "ZZ421406317      ",
         "30133052274      ",
         "00501",
         "1202",
         "150800",
         "20180807",
         "421406317",
         "133052274",
         "005010X223A2",
         "12022761",
         "223",
         "223",
         [
          [
           "1",
           "RD8",
           null,
           "9148",
           "",
           null,
           "",
           "",
           "0124",
           "20180628-20180702",
           "RD8",
           "472",
           "4",
           "UN"
          ],
          [
           "2",
           "RD8",
           null,
           "48.1",
           "",
           null,
           "",
           "",
           "0250",
           "20180628-20180702",
           "RD8",
           "472",
           "28",
           "UN"
          ],
          [
           "3",
           "RD8",
           null,
           "133",
           "",
           null,
           "",
           "",
           "0260",
           "20180628-20180702",
           "RD8",
           "472",
           "1",
           "UN"
          ],
          [
           "4",
           "RD8",
           null,
           "32.9",
           "",
           null,
           "",
           "",
           "0300",
           "20180628-20180702",
           "RD8",
           "472",
           "1",
           "UN"
          ],
          [
           "5",
           "RD8",
           null,
           "798.5",
           "",
           null,
           "",
           "",
           "0301",
           "20180628-20180702",
           "RD8",
           "472",
           "4",
           "UN"
          ],
          [
           "6",
           "RD8",
           null,
           "200.6",
           "",
           null,
           "",
           "",
           "0305",
           "20180628-20180702",
           "RD8",
           "472",
           "2",
           "UN"
          ],
          [
           "7",
           "RD8",
           null,
           "175",
           "",
           null,
           "",
           "",
           "0306",
           "20180628-20180702",
           "RD8",
           "472",
           "1",
           "UN"
          ],
          [
           "8",
           "RD8",
           null,
           "113.6",
           "",
           null,
           "",
           "",
           "0307",
           "20180628-20180702",
           "RD8",
           "472",
           "2",
           "UN"
          ],
          [
           "9",
           "RD8",
           null,
           "6517",
           "",
           null,
           "",
           "",
           "0351",
           "20180628-20180702",
           "RD8",
           "472",
           "2",
           "UN"
          ]
         ],
         [
          "F39",
          "",
          "F1319,F419,F17210,E876",
          "F39",
          ""
         ],
         "file:/Workspace/Users/raven.mukherjee@databricks.com/x12-edi-parser/sampledata/837/CC_837I_EDI.txt",
         [
          "Elgin",
          "19960215",
          "D8",
          "F",
          "",
          "",
          "TEST MEMBER ",
          "",
          "IL",
          "123 MAIN STREET",
          "U0000000001",
          "18",
          "601200001"
         ],
         [
          "2",
          "421406317",
          "PI",
          "CENTENE"
         ],
         [
          [
           "",
           "TD-R192ICE00087",
           "D9",
           "Individual",
           "  ",
           "",
           "",
           "",
           "",
           "",
           ""
          ],
          [
           "WOODSTOCK",
           "999999999",
           "EI",
           "Organization",
           "Test Provider",
           "9999999999",
           "",
           "IL",
           "123 MAIN STREET",
           "",
           "600980000"
          ],
          [
           "",
           "",
           "",
           "Individual",
           "  ",
           "",
           "",
           "",
           "",
           "",
           ""
          ],
          [
           "",
           "",
           "",
           "Individual",
           "  ",
           "",
           "",
           "",
           "",
           "",
           ""
          ],
          [
           "",
           "",
           "",
           "Individual",
           "  ",
           "",
           "",
           "",
           "",
           "",
           ""
          ],
          null,
          null,
          null
         ],
         [
          "CENTENE CORP",
          "Organization"
         ],
         [
          "TALEND",
          "SAMBIT",
          [
           [
            "TE",
            "3143202264"
           ],
           [
            "EX",
            "8099264"
           ]
          ],
          "Organization"
         ],
         [
          "Elgin",
          "19960215",
          "D8",
          "F",
          "",
          "",
          "TEST MEMBER ",
          "",
          "IL",
          "123 MAIN STREET",
          "U0000000001",
          "18",
          "601200001"
         ],
         [
          "5",
          "RD8",
          null,
          "798.5",
          "",
          null,
          "",
          "",
          "0301",
          "20180628-20180702",
          "RD8",
          "472",
          "4",
          "UN"
         ]
        ],
        [
         "000001508",
         "180807",
         "ZZ421406317      ",
         "30133052274      ",
         "00501",
         "1202",
         "150800",
         "20180807",
         "421406317",
         "133052274",
         "005010X223A2",
         "12022761",
         "223",
         "223",
         [
          [
           "1",
           "RD8",
           null,
           "9148",
           "",
           null,
           "",
           "",
           "0124",
           "20180628-20180702",
           "RD8",
           "472",
           "4",
           "UN"
          ],
          [
           "2",
           "RD8",
           null,
           "48.1",
           "",
           null,
           "",
           "",
           "0250",
           "20180628-20180702",
           "RD8",
           "472",
           "28",
           "UN"
          ],
          [
           "3",
           "RD8",
           null,
           "133",
           "",
           null,
           "",
           "",
           "0260",
           "20180628-20180702",
           "RD8",
           "472",
           "1",
           "UN"
          ],
          [
           "4",
           "RD8",
           null,
           "32.9",
           "",
           null,
           "",
           "",
           "0300",
           "20180628-20180702",
           "RD8",
           "472",
           "1",
           "UN"
          ],
          [
           "5",
           "RD8",
           null,
           "798.5",
           "",
           null,
           "",
           "",
           "0301",
           "20180628-20180702",
           "RD8",
           "472",
           "4",
           "UN"
          ],
          [
           "6",
           "RD8",
           null,
           "200.6",
           "",
           null,
           "",
           "",
           "0305",
           "20180628-20180702",
           "RD8",
           "472",
           "2",
           "UN"
          ],
          [
           "7",
           "RD8",
           null,
           "175",
           "",
           null,
           "",
           "",
           "0306",
           "20180628-20180702",
           "RD8",
           "472",
           "1",
           "UN"
          ],
          [
           "8",
           "RD8",
           null,
           "113.6",
           "",
           null,
           "",
           "",
           "0307",
           "20180628-20180702",
           "RD8",
           "472",
           "2",
           "UN"
          ],
          [
           "9",
           "RD8",
           null,
           "6517",
           "",
           null,
           "",
           "",
           "0351",
           "20180628-20180702",
           "RD8",
           "472",
           "2",
           "UN"
          ]
         ],
         [
          "F39",
          "",
          "F1319,F419,F17210,E876",
          "F39",
          ""
         ],
         "file:/Workspace/Users/raven.mukherjee@databricks.com/x12-edi-parser/sampledata/837/CC_837I_EDI.txt",
         [
          "Elgin",
          "19960215",
          "D8",
          "F",
          "",
          "",
          "TEST MEMBER ",
          "",
          "IL",
          "123 MAIN STREET",
          "U0000000001",
          "18",
          "601200001"
         ],
         [
          "2",
          "421406317",
          "PI",
          "CENTENE"
         ],
         [
          [
           "",
           "TD-R192ICE00087",
           "D9",
           "Individual",
           "  ",
           "",
           "",
           "",
           "",
           "",
           ""
          ],
          [
           "WOODSTOCK",
           "999999999",
           "EI",
           "Organization",
           "Test Provider",
           "9999999999",
           "",
           "IL",
           "123 MAIN STREET",
           "",
           "600980000"
          ],
          [
           "",
           "",
           "",
           "Individual",
           "  ",
           "",
           "",
           "",
           "",
           "",
           ""
          ],
          [
           "",
           "",
           "",
           "Individual",
           "  ",
           "",
           "",
           "",
           "",
           "",
           ""
          ],
          [
           "",
           "",
           "",
           "Individual",
           "  ",
           "",
           "",
           "",
           "",
           "",
           ""
          ],
          null,
          null,
          null
         ],
         [
          "CENTENE CORP",
          "Organization"
         ],
         [
          "TALEND",
          "SAMBIT",
          [
           [
            "TE",
            "3143202264"
           ],
           [
            "EX",
            "8099264"
           ]
          ],
          "Organization"
         ],
         [
          "Elgin",
          "19960215",
          "D8",
          "F",
          "",
          "",
          "TEST MEMBER ",
          "",
          "IL",
          "123 MAIN STREET",
          "U0000000001",
          "18",
          "601200001"
         ],
         [
          "6",
          "RD8",
          null,
          "200.6",
          "",
          null,
          "",
          "",
          "0305",
          "20180628-20180702",
          "RD8",
          "472",
          "2",
          "UN"
         ]
        ],
        [
         "000001508",
         "180807",
         "ZZ421406317      ",
         "30133052274      ",
         "00501",
         "1202",
         "150800",
         "20180807",
         "421406317",
         "133052274",
         "005010X223A2",
         "12022761",
         "223",
         "223",
         [
          [
           "1",
           "RD8",
           null,
           "9148",
           "",
           null,
           "",
           "",
           "0124",
           "20180628-20180702",
           "RD8",
           "472",
           "4",
           "UN"
          ],
          [
           "2",
           "RD8",
           null,
           "48.1",
           "",
           null,
           "",
           "",
           "0250",
           "20180628-20180702",
           "RD8",
           "472",
           "28",
           "UN"
          ],
          [
           "3",
           "RD8",
           null,
           "133",
           "",
           null,
           "",
           "",
           "0260",
           "20180628-20180702",
           "RD8",
           "472",
           "1",
           "UN"
          ],
          [
           "4",
           "RD8",
           null,
           "32.9",
           "",
           null,
           "",
           "",
           "0300",
           "20180628-20180702",
           "RD8",
           "472",
           "1",
           "UN"
          ],
          [
           "5",
           "RD8",
           null,
           "798.5",
           "",
           null,
           "",
           "",
           "0301",
           "20180628-20180702",
           "RD8",
           "472",
           "4",
           "UN"
          ],
          [
           "6",
           "RD8",
           null,
           "200.6",
           "",
           null,
           "",
           "",
           "0305",
           "20180628-20180702",
           "RD8",
           "472",
           "2",
           "UN"
          ],
          [
           "7",
           "RD8",
           null,
           "175",
           "",
           null,
           "",
           "",
           "0306",
           "20180628-20180702",
           "RD8",
           "472",
           "1",
           "UN"
          ],
          [
           "8",
           "RD8",
           null,
           "113.6",
           "",
           null,
           "",
           "",
           "0307",
           "20180628-20180702",
           "RD8",
           "472",
           "2",
           "UN"
          ],
          [
           "9",
           "RD8",
           null,
           "6517",
           "",
           null,
           "",
           "",
           "0351",
           "20180628-20180702",
           "RD8",
           "472",
           "2",
           "UN"
          ]
         ],
         [
          "F39",
          "",
          "F1319,F419,F17210,E876",
          "F39",
          ""
         ],
         "file:/Workspace/Users/raven.mukherjee@databricks.com/x12-edi-parser/sampledata/837/CC_837I_EDI.txt",
         [
          "Elgin",
          "19960215",
          "D8",
          "F",
          "",
          "",
          "TEST MEMBER ",
          "",
          "IL",
          "123 MAIN STREET",
          "U0000000001",
          "18",
          "601200001"
         ],
         [
          "2",
          "421406317",
          "PI",
          "CENTENE"
         ],
         [
          [
           "",
           "TD-R192ICE00087",
           "D9",
           "Individual",
           "  ",
           "",
           "",
           "",
           "",
           "",
           ""
          ],
          [
           "WOODSTOCK",
           "999999999",
           "EI",
           "Organization",
           "Test Provider",
           "9999999999",
           "",
           "IL",
           "123 MAIN STREET",
           "",
           "600980000"
          ],
          [
           "",
           "",
           "",
           "Individual",
           "  ",
           "",
           "",
           "",
           "",
           "",
           ""
          ],
          [
           "",
           "",
           "",
           "Individual",
           "  ",
           "",
           "",
           "",
           "",
           "",
           ""
          ],
          [
           "",
           "",
           "",
           "Individual",
           "  ",
           "",
           "",
           "",
           "",
           "",
           ""
          ],
          null,
          null,
          null
         ],
         [
          "CENTENE CORP",
          "Organization"
         ],
         [
          "TALEND",
          "SAMBIT",
          [
           [
            "TE",
            "3143202264"
           ],
           [
            "EX",
            "8099264"
           ]
          ],
          "Organization"
         ],
         [
          "Elgin",
          "19960215",
          "D8",
          "F",
          "",
          "",
          "TEST MEMBER ",
          "",
          "IL",
          "123 MAIN STREET",
          "U0000000001",
          "18",
          "601200001"
         ],
         [
          "7",
          "RD8",
          null,
          "175",
          "",
          null,
          "",
          "",
          "0306",
          "20180628-20180702",
          "RD8",
          "472",
          "1",
          "UN"
         ]
        ],
        [
         "000001508",
         "180807",
         "ZZ421406317      ",
         "30133052274      ",
         "00501",
         "1202",
         "150800",
         "20180807",
         "421406317",
         "133052274",
         "005010X223A2",
         "12022761",
         "223",
         "223",
         [
          [
           "1",
           "RD8",
           null,
           "9148",
           "",
           null,
           "",
           "",
           "0124",
           "20180628-20180702",
           "RD8",
           "472",
           "4",
           "UN"
          ],
          [
           "2",
           "RD8",
           null,
           "48.1",
           "",
           null,
           "",
           "",
           "0250",
           "20180628-20180702",
           "RD8",
           "472",
           "28",
           "UN"
          ],
          [
           "3",
           "RD8",
           null,
           "133",
           "",
           null,
           "",
           "",
           "0260",
           "20180628-20180702",
           "RD8",
           "472",
           "1",
           "UN"
          ],
          [
           "4",
           "RD8",
           null,
           "32.9",
           "",
           null,
           "",
           "",
           "0300",
           "20180628-20180702",
           "RD8",
           "472",
           "1",
           "UN"
          ],
          [
           "5",
           "RD8",
           null,
           "798.5",
           "",
           null,
           "",
           "",
           "0301",
           "20180628-20180702",
           "RD8",
           "472",
           "4",
           "UN"
          ],
          [
           "6",
           "RD8",
           null,
           "200.6",
           "",
           null,
           "",
           "",
           "0305",
           "20180628-20180702",
           "RD8",
           "472",
           "2",
           "UN"
          ],
          [
           "7",
           "RD8",
           null,
           "175",
           "",
           null,
           "",
           "",
           "0306",
           "20180628-20180702",
           "RD8",
           "472",
           "1",
           "UN"
          ],
          [
           "8",
           "RD8",
           null,
           "113.6",
           "",
           null,
           "",
           "",
           "0307",
           "20180628-20180702",
           "RD8",
           "472",
           "2",
           "UN"
          ],
          [
           "9",
           "RD8",
           null,
           "6517",
           "",
           null,
           "",
           "",
           "0351",
           "20180628-20180702",
           "RD8",
           "472",
           "2",
           "UN"
          ]
         ],
         [
          "F39",
          "",
          "F1319,F419,F17210,E876",
          "F39",
          ""
         ],
         "file:/Workspace/Users/raven.mukherjee@databricks.com/x12-edi-parser/sampledata/837/CC_837I_EDI.txt",
         [
          "Elgin",
          "19960215",
          "D8",
          "F",
          "",
          "",
          "TEST MEMBER ",
          "",
          "IL",
          "123 MAIN STREET",
          "U0000000001",
          "18",
          "601200001"
         ],
         [
          "2",
          "421406317",
          "PI",
          "CENTENE"
         ],
         [
          [
           "",
           "TD-R192ICE00087",
           "D9",
           "Individual",
           "  ",
           "",
           "",
           "",
           "",
           "",
           ""
          ],
          [
           "WOODSTOCK",
           "999999999",
           "EI",
           "Organization",
           "Test Provider",
           "9999999999",
           "",
           "IL",
           "123 MAIN STREET",
           "",
           "600980000"
          ],
          [
           "",
           "",
           "",
           "Individual",
           "  ",
           "",
           "",
           "",
           "",
           "",
           ""
          ],
          [
           "",
           "",
           "",
           "Individual",
           "  ",
           "",
           "",
           "",
           "",
           "",
           ""
          ],
          [
           "",
           "",
           "",
           "Individual",
           "  ",
           "",
           "",
           "",
           "",
           "",
           ""
          ],
          null,
          null,
          null
         ],
         [
          "CENTENE CORP",
          "Organization"
         ],
         [
          "TALEND",
          "SAMBIT",
          [
           [
            "TE",
            "3143202264"
           ],
           [
            "EX",
            "8099264"
           ]
          ],
          "Organization"
         ],
         [
          "Elgin",
          "19960215",
          "D8",
          "F",
          "",
          "",
          "TEST MEMBER ",
          "",
          "IL",
          "123 MAIN STREET",
          "U0000000001",
          "18",
          "601200001"
         ],
         [
          "8",
          "RD8",
          null,
          "113.6",
          "",
          null,
          "",
          "",
          "0307",
          "20180628-20180702",
          "RD8",
          "472",
          "2",
          "UN"
         ]
        ],
        [
         "000001508",
         "180807",
         "ZZ421406317      ",
         "30133052274      ",
         "00501",
         "1202",
         "150800",
         "20180807",
         "421406317",
         "133052274",
         "005010X223A2",
         "12022761",
         "223",
         "223",
         [
          [
           "1",
           "RD8",
           null,
           "9148",
           "",
           null,
           "",
           "",
           "0124",
           "20180628-20180702",
           "RD8",
           "472",
           "4",
           "UN"
          ],
          [
           "2",
           "RD8",
           null,
           "48.1",
           "",
           null,
           "",
           "",
           "0250",
           "20180628-20180702",
           "RD8",
           "472",
           "28",
           "UN"
          ],
          [
           "3",
           "RD8",
           null,
           "133",
           "",
           null,
           "",
           "",
           "0260",
           "20180628-20180702",
           "RD8",
           "472",
           "1",
           "UN"
          ],
          [
           "4",
           "RD8",
           null,
           "32.9",
           "",
           null,
           "",
           "",
           "0300",
           "20180628-20180702",
           "RD8",
           "472",
           "1",
           "UN"
          ],
          [
           "5",
           "RD8",
           null,
           "798.5",
           "",
           null,
           "",
           "",
           "0301",
           "20180628-20180702",
           "RD8",
           "472",
           "4",
           "UN"
          ],
          [
           "6",
           "RD8",
           null,
           "200.6",
           "",
           null,
           "",
           "",
           "0305",
           "20180628-20180702",
           "RD8",
           "472",
           "2",
           "UN"
          ],
          [
           "7",
           "RD8",
           null,
           "175",
           "",
           null,
           "",
           "",
           "0306",
           "20180628-20180702",
           "RD8",
           "472",
           "1",
           "UN"
          ],
          [
           "8",
           "RD8",
           null,
           "113.6",
           "",
           null,
           "",
           "",
           "0307",
           "20180628-20180702",
           "RD8",
           "472",
           "2",
           "UN"
          ],
          [
           "9",
           "RD8",
           null,
           "6517",
           "",
           null,
           "",
           "",
           "0351",
           "20180628-20180702",
           "RD8",
           "472",
           "2",
           "UN"
          ]
         ],
         [
          "F39",
          "",
          "F1319,F419,F17210,E876",
          "F39",
          ""
         ],
         "file:/Workspace/Users/raven.mukherjee@databricks.com/x12-edi-parser/sampledata/837/CC_837I_EDI.txt",
         [
          "Elgin",
          "19960215",
          "D8",
          "F",
          "",
          "",
          "TEST MEMBER ",
          "",
          "IL",
          "123 MAIN STREET",
          "U0000000001",
          "18",
          "601200001"
         ],
         [
          "2",
          "421406317",
          "PI",
          "CENTENE"
         ],
         [
          [
           "",
           "TD-R192ICE00087",
           "D9",
           "Individual",
           "  ",
           "",
           "",
           "",
           "",
           "",
           ""
          ],
          [
           "WOODSTOCK",
           "999999999",
           "EI",
           "Organization",
           "Test Provider",
           "9999999999",
           "",
           "IL",
           "123 MAIN STREET",
           "",
           "600980000"
          ],
          [
           "",
           "",
           "",
           "Individual",
           "  ",
           "",
           "",
           "",
           "",
           "",
           ""
          ],
          [
           "",
           "",
           "",
           "Individual",
           "  ",
           "",
           "",
           "",
           "",
           "",
           ""
          ],
          [
           "",
           "",
           "",
           "Individual",
           "  ",
           "",
           "",
           "",
           "",
           "",
           ""
          ],
          null,
          null,
          null
         ],
         [
          "CENTENE CORP",
          "Organization"
         ],
         [
          "TALEND",
          "SAMBIT",
          [
           [
            "TE",
            "3143202264"
           ],
           [
            "EX",
            "8099264"
           ]
          ],
          "Organization"
         ],
         [
          "Elgin",
          "19960215",
          "D8",
          "F",
          "",
          "",
          "TEST MEMBER ",
          "",
          "IL",
          "123 MAIN STREET",
          "U0000000001",
          "18",
          "601200001"
         ],
         [
          "9",
          "RD8",
          null,
          "6517",
          "",
          null,
          "",
          "",
          "0351",
          "20180628-20180702",
          "RD8",
          "472",
          "2",
          "UN"
         ]
        ],
        [
         "000000101",
         "170508",
         "ZZ11111          ",
         "ZZ1234567        ",
         "00501",
         "1141",
         "101",
         "20170617",
         "XXXXX",
         "XXXXXXX",
         "005010X222A1",
         "1741",
         "222",
         "222",
         [
          [
           "1",
           "D8",
           "1",
           "140",
           "",
           "",
           "99213",
           "HC",
           null,
           "20151124",
           "D8",
           "472",
           "1",
           "UN"
          ],
          [
           "1",
           "D8",
           "1",
           "140",
           "",
           "",
           "99213",
           "HC",
           null,
           "20151124",
           "D8",
           "472",
           "1",
           "UN"
          ]
         ],
         [
          "",
          "",
          "",
          "I10",
          ""
         ],
         "file:/Workspace/Users/raven.mukherjee@databricks.com/x12-edi-parser/sampledata/837/837p.txt",
         [
          "CHICAGO",
          "19570111",
          "D8",
          "M",
          "W1014",
          "2U",
          "BLOGGS JOE ",
          "",
          "IL",
          "1 SOME BLVD",
          "1234567890",
          "18",
          "606129998"
         ],
         [
          "2",
          "12345",
          "PI",
          "PAYER"
         ],
         [
          null,
          [
           "CHICAGO",
           "999999999",
           "EI",
           "Organization",
           "BILLING PROVIDER",
           "1122334455",
           "",
           "IL",
           "1234 SOME ROAD",
           "",
           "606739999"
          ],
          null,
          null,
          null,
          [
           "",
           "",
           "",
           "Individual",
           "  ",
           "",
           "",
           "",
           "",
           "",
           ""
          ],
          [
           "",
           "",
           "",
           "Individual",
           "  ",
           "",
           "",
           "",
           "",
           "",
           ""
          ],
          [
           "",
           "",
           "",
           "Individual",
           "  ",
           "",
           "",
           "",
           "",
           "",
           ""
          ]
         ],
         [
          "RECEIVER",
          "Organization"
         ],
         [
          "SUBMITTER",
          "BOB SMITH",
          [
           [
            "TE",
            "4805551212"
           ],
           [
            "",
            ""
           ]
          ],
          "Organization"
         ],
         [
          "CHICAGO",
          "19570111",
          "D8",
          "M",
          "W1014",
          "2U",
          "BLOGGS JOE ",
          "",
          "IL",
          "1 SOME BLVD",
          "1234567890",
          "18",
          "606129998"
         ],
         [
          "1",
          "D8",
          "1",
          "140",
          "",
          "",
          "99213",
          "HC",
          null,
          "20151124",
          "D8",
          "472",
          "1",
          "UN"
         ]
        ],
        [
         "000000101",
         "170508",
         "ZZ11111          ",
         "ZZ1234567        ",
         "00501",
         "1141",
         "101",
         "20170617",
         "XXXXX",
         "XXXXXXX",
         "005010X222A1",
         "1741",
         "222",
         "222",
         [
          [
           "1",
           "D8",
           "1",
           "140",
           "",
           "",
           "99213",
           "HC",
           null,
           "20151124",
           "D8",
           "472",
           "1",
           "UN"
          ],
          [
           "1",
           "D8",
           "1",
           "140",
           "",
           "",
           "99213",
           "HC",
           null,
           "20151124",
           "D8",
           "472",
           "1",
           "UN"
          ]
         ],
         [
          "",
          "",
          "",
          "I10",
          ""
         ],
         "file:/Workspace/Users/raven.mukherjee@databricks.com/x12-edi-parser/sampledata/837/837p.txt",
         [
          "CHICAGO",
          "19570111",
          "D8",
          "M",
          "W1014",
          "2U",
          "BLOGGS JOE ",
          "",
          "IL",
          "1 SOME BLVD",
          "1234567890",
          "18",
          "606129998"
         ],
         [
          "2",
          "12345",
          "PI",
          "PAYER"
         ],
         [
          null,
          [
           "CHICAGO",
           "999999999",
           "EI",
           "Organization",
           "BILLING PROVIDER",
           "1122334455",
           "",
           "IL",
           "1234 SOME ROAD",
           "",
           "606739999"
          ],
          null,
          null,
          null,
          [
           "",
           "",
           "",
           "Individual",
           "  ",
           "",
           "",
           "",
           "",
           "",
           ""
          ],
          [
           "",
           "",
           "",
           "Individual",
           "  ",
           "",
           "",
           "",
           "",
           "",
           ""
          ],
          [
           "",
           "",
           "",
           "Individual",
           "  ",
           "",
           "",
           "",
           "",
           "",
           ""
          ]
         ],
         [
          "RECEIVER",
          "Organization"
         ],
         [
          "SUBMITTER",
          "BOB SMITH",
          [
           [
            "TE",
            "4805551212"
           ],
           [
            "",
            ""
           ]
          ],
          "Organization"
         ],
         [
          "CHICAGO",
          "19570111",
          "D8",
          "M",
          "W1014",
          "2U",
          "BLOGGS JOE ",
          "",
          "IL",
          "1 SOME BLVD",
          "1234567890",
          "18",
          "606129998"
         ],
         [
          "1",
          "D8",
          "1",
          "140",
          "",
          "",
          "99213",
          "HC",
          null,
          "20151124",
          "D8",
          "472",
          "1",
          "UN"
         ]
        ],
        [
         "000000101",
         "170508",
         "ZZ11111          ",
         "ZZ1234567        ",
         "00501",
         "1141",
         "101",
         "20170617",
         "XXXXX",
         "XXXXXXX",
         "005010X222A1",
         "1741",
         "222",
         "222",
         [
          [
           "1",
           "D8",
           "1",
           "140",
           "",
           "",
           "99213",
           "HC",
           null,
           "20151124",
           "D8",
           "472",
           "1",
           "UN"
          ]
         ],
         [
          "",
          "",
          "",
          "I10",
          ""
         ],
         "file:/Workspace/Users/raven.mukherjee@databricks.com/x12-edi-parser/sampledata/837/837p.txt",
         [
          "CHICAGO",
          "19700601",
          "D8",
          "M",
          "W1014",
          "2U",
          "BLOGGS FRED ",
          "",
          "IL",
          "1 ANOTHER STR",
          "9876543201",
          "18",
          "606129998"
         ],
         [
          "2",
          "12345",
          "PI",
          "PAYER"
         ],
         [
          null,
          [
           "CHICAGO",
           "999999999",
           "EI",
           "Organization",
           "BILLING PROVIDER",
           "1122334455",
           "",
           "IL",
           "1234 SOME ROAD",
           "",
           "606739999"
          ],
          null,
          null,
          null,
          [
           "",
           "",
           "",
           "Individual",
           "  ",
           "",
           "",
           "",
           "",
           "",
           ""
          ],
          [
           "",
           "",
           "",
           "Individual",
           "  ",
           "",
           "",
           "",
           "",
           "",
           ""
          ],
          [
           "",
           "",
           "",
           "Individual",
           "  ",
           "",
           "",
           "",
           "",
           "",
           ""
          ]
         ],
         [
          "RECEIVER",
          "Organization"
         ],
         [
          "SUBMITTER",
          "BOB SMITH",
          [
           [
            "TE",
            "4805551212"
           ],
           [
            "",
            ""
           ]
          ],
          "Organization"
         ],
         [
          "CHICAGO",
          "19700601",
          "D8",
          "M",
          "W1014",
          "2U",
          "BLOGGS FRED ",
          "",
          "IL",
          "1 ANOTHER STR",
          "9876543201",
          "18",
          "606129998"
         ],
         [
          "1",
          "D8",
          "1",
          "140",
          "",
          "",
          "99213",
          "HC",
          null,
          "20151124",
          "D8",
          "472",
          "1",
          "UN"
         ]
        ],
        [
         "000001507",
         "180807",
         "30421406317      ",
         "01030240928      ",
         "00501",
         "1202",
         "150700",
         "20180807",
         "421406317",
         "030240928",
         "005010X222A1",
         "12022605",
         "222",
         "222",
         [
          [
           "1",
           "RD8",
           "1:2",
           "300",
           "HO,HQ",
           "11",
           "H0004",
           "HC",
           null,
           "20180625-20180625",
           "RD8",
           "472",
           "12",
           "UN"
          ],
          [
           "2",
           "RD8",
           "1:2",
           "300",
           "HO,HQ",
           "11",
           "H0004",
           "HC",
           null,
           "20180629-20180629",
           "RD8",
           "472",
           "12",
           "UN"
          ]
         ],
         [
          "",
          "",
          "",
          "F341",
          ""
         ],
         "file:/Workspace/Users/raven.mukherjee@databricks.com/x12-edi-parser/sampledata/837/CC_837P_EDI.txt",
         [
          "Elgin",
          "19960215",
          "D8",
          "F",
          "",
          "",
          "TEST MEMBER ",
          "",
          "IL",
          "123 MAIN STREET",
          "U0000000001",
          "18",
          "601200001"
         ],
         [
          "2",
          "421406317",
          "PI",
          "CENTENE"
         ],
         [
          null,
          [
           "WOODSTOCK",
           "999999999",
           "EI",
           "Organization",
           "Test Provider",
           "9999999999",
           "",
           "IL",
           "123 MAIN STREET",
           "",
           "600980000"
          ],
          null,
          null,
          null,
          [
           "",
           "",
           "",
           "Individual",
           "  ",
           "",
           "",
           "",
           "",
           "",
           ""
          ],
          [
           "",
           "",
           "",
           "Individual",
           "  ",
           "",
           "",
           "",
           "",
           "",
           ""
          ],
          [
           "",
           "",
           "",
           "Individual",
           "  ",
           "",
           "",
           "",
           "",
           "",
           ""
          ]
         ],
         [
          "Centene Corporation",
          "Organization"
         ],
         [
          "Centene Corporation",
          "Sambit",
          [
           [
            "TE",
            "3143202264"
           ],
           [
            "EX",
            "8099264"
           ]
          ],
          "Organization"
         ],
         [
          "Elgin",
          "19960215",
          "D8",
          "F",
          "",
          "",
          "TEST MEMBER ",
          "",
          "IL",
          "123 MAIN STREET",
          "U0000000001",
          "18",
          "601200001"
         ],
         [
          "1",
          "RD8",
          "1:2",
          "300",
          "HO,HQ",
          "11",
          "H0004",
          "HC",
          null,
          "20180625-20180625",
          "RD8",
          "472",
          "12",
          "UN"
         ]
        ],
        [
         "000001507",
         "180807",
         "30421406317      ",
         "01030240928      ",
         "00501",
         "1202",
         "150700",
         "20180807",
         "421406317",
         "030240928",
         "005010X222A1",
         "12022605",
         "222",
         "222",
         [
          [
           "1",
           "RD8",
           "1:2",
           "300",
           "HO,HQ",
           "11",
           "H0004",
           "HC",
           null,
           "20180625-20180625",
           "RD8",
           "472",
           "12",
           "UN"
          ],
          [
           "2",
           "RD8",
           "1:2",
           "300",
           "HO,HQ",
           "11",
           "H0004",
           "HC",
           null,
           "20180629-20180629",
           "RD8",
           "472",
           "12",
           "UN"
          ]
         ],
         [
          "",
          "",
          "",
          "F341",
          ""
         ],
         "file:/Workspace/Users/raven.mukherjee@databricks.com/x12-edi-parser/sampledata/837/CC_837P_EDI.txt",
         [
          "Elgin",
          "19960215",
          "D8",
          "F",
          "",
          "",
          "TEST MEMBER ",
          "",
          "IL",
          "123 MAIN STREET",
          "U0000000001",
          "18",
          "601200001"
         ],
         [
          "2",
          "421406317",
          "PI",
          "CENTENE"
         ],
         [
          null,
          [
           "WOODSTOCK",
           "999999999",
           "EI",
           "Organization",
           "Test Provider",
           "9999999999",
           "",
           "IL",
           "123 MAIN STREET",
           "",
           "600980000"
          ],
          null,
          null,
          null,
          [
           "",
           "",
           "",
           "Individual",
           "  ",
           "",
           "",
           "",
           "",
           "",
           ""
          ],
          [
           "",
           "",
           "",
           "Individual",
           "  ",
           "",
           "",
           "",
           "",
           "",
           ""
          ],
          [
           "",
           "",
           "",
           "Individual",
           "  ",
           "",
           "",
           "",
           "",
           "",
           ""
          ]
         ],
         [
          "Centene Corporation",
          "Organization"
         ],
         [
          "Centene Corporation",
          "Sambit",
          [
           [
            "TE",
            "3143202264"
           ],
           [
            "EX",
            "8099264"
           ]
          ],
          "Organization"
         ],
         [
          "Elgin",
          "19960215",
          "D8",
          "F",
          "",
          "",
          "TEST MEMBER ",
          "",
          "IL",
          "123 MAIN STREET",
          "U0000000001",
          "18",
          "601200001"
         ],
         [
          "2",
          "RD8",
          "1:2",
          "300",
          "HO,HQ",
          "11",
          "H0004",
          "HC",
          null,
          "20180629-20180629",
          "RD8",
          "472",
          "12",
          "UN"
         ]
        ]
       ],
       "datasetInfos": [],
       "dbfsResultPath": null,
       "isJsonSchema": true,
       "metadata": {
        "createTempViewForImplicitDf": true,
        "dataframeName": "_sqldf",
        "executionCount": 5
       },
       "overflow": false,
       "plotOptions": {
        "customPlotOptions": {},
        "displayType": "table",
        "pivotAggregation": null,
        "pivotColumns": null,
        "xColumns": null,
        "yColumns": null
       },
       "removedWidgets": [],
       "schema": [
        {
         "metadata": "{}",
         "name": "EDI.control_number",
         "type": "\"string\""
        },
        {
         "metadata": "{}",
         "name": "EDI.date",
         "type": "\"string\""
        },
        {
         "metadata": "{}",
         "name": "EDI.recipient_qualifier_id",
         "type": "\"string\""
        },
        {
         "metadata": "{}",
         "name": "EDI.sender_qualifier_id",
         "type": "\"string\""
        },
        {
         "metadata": "{}",
         "name": "EDI.standard_version",
         "type": "\"string\""
        },
        {
         "metadata": "{}",
         "name": "EDI.time",
         "type": "\"string\""
        },
        {
         "metadata": "{}",
         "name": "FunctionalGroup.control_number",
         "type": "\"string\""
        },
        {
         "metadata": "{}",
         "name": "FunctionalGroup.date",
         "type": "\"string\""
        },
        {
         "metadata": "{}",
         "name": "FunctionalGroup.receiver",
         "type": "\"string\""
        },
        {
         "metadata": "{}",
         "name": "FunctionalGroup.sender",
         "type": "\"string\""
        },
        {
         "metadata": "{}",
         "name": "FunctionalGroup.standard_version",
         "type": "\"string\""
        },
        {
         "metadata": "{}",
         "name": "FunctionalGroup.time",
         "type": "\"string\""
        },
        {
         "metadata": "{}",
         "name": "FunctionalGroup.transaction_type",
         "type": "\"string\""
        },
        {
         "metadata": "{}",
         "name": "Transaction.transaction_type",
         "type": "\"string\""
        },
        {
         "metadata": "{}",
         "name": "claim_lines",
         "type": "{\"type\":\"array\",\"elementType\":{\"type\":\"struct\",\"fields\":[{\"name\":\"claim_line_number\",\"type\":\"string\",\"nullable\":true,\"metadata\":{}},{\"name\":\"date_format\",\"type\":\"string\",\"nullable\":true,\"metadata\":{}},{\"name\":\"dg_cd_pntr\",\"type\":\"string\",\"nullable\":true,\"metadata\":{}},{\"name\":\"line_chrg_amt\",\"type\":\"string\",\"nullable\":true,\"metadata\":{}},{\"name\":\"modifier_cds\",\"type\":\"string\",\"nullable\":true,\"metadata\":{}},{\"name\":\"place_of_service\",\"type\":\"string\",\"nullable\":true,\"metadata\":{}},{\"name\":\"prcdr_cd\",\"type\":\"string\",\"nullable\":true,\"metadata\":{}},{\"name\":\"prcdr_cd_type\",\"type\":\"string\",\"nullable\":true,\"metadata\":{}},{\"name\":\"revenue_cd\",\"type\":\"string\",\"nullable\":true,\"metadata\":{}},{\"name\":\"service_date\",\"type\":\"string\",\"nullable\":true,\"metadata\":{}},{\"name\":\"service_date_format\",\"type\":\"string\",\"nullable\":true,\"metadata\":{}},{\"name\":\"service_time\",\"type\":\"string\",\"nullable\":true,\"metadata\":{}},{\"name\":\"units\",\"type\":\"string\",\"nullable\":true,\"metadata\":{}},{\"name\":\"units_measurement\",\"type\":\"string\",\"nullable\":true,\"metadata\":{}}]},\"containsNull\":true}"
        },
        {
         "metadata": "{}",
         "name": "diagnosis",
         "type": "{\"type\":\"struct\",\"fields\":[{\"name\":\"admitting_dx_cd\",\"type\":\"string\",\"nullable\":true,\"metadata\":{}},{\"name\":\"external_injury_dx_cd\",\"type\":\"string\",\"nullable\":true,\"metadata\":{}},{\"name\":\"other_dx_cds\",\"type\":\"string\",\"nullable\":true,\"metadata\":{}},{\"name\":\"principal_dx_cd\",\"type\":\"string\",\"nullable\":true,\"metadata\":{}},{\"name\":\"reason_visit_dx_cd\",\"type\":\"string\",\"nullable\":true,\"metadata\":{}}]}"
        },
        {
         "metadata": "{}",
         "name": "filename",
         "type": "\"string\""
        },
        {
         "metadata": "{}",
         "name": "patient",
         "type": "{\"type\":\"struct\",\"fields\":[{\"name\":\"city\",\"type\":\"string\",\"nullable\":true,\"metadata\":{}},{\"name\":\"dob\",\"type\":\"string\",\"nullable\":true,\"metadata\":{}},{\"name\":\"dob_format\",\"type\":\"string\",\"nullable\":true,\"metadata\":{}},{\"name\":\"gender_cd\",\"type\":\"string\",\"nullable\":true,\"metadata\":{}},{\"name\":\"id\",\"type\":\"string\",\"nullable\":true,\"metadata\":{}},{\"name\":\"mrn\",\"type\":\"string\",\"nullable\":true,\"metadata\":{}},{\"name\":\"name\",\"type\":\"string\",\"nullable\":true,\"metadata\":{}},{\"name\":\"patient_relationship_cd\",\"type\":\"string\",\"nullable\":true,\"metadata\":{}},{\"name\":\"state\",\"type\":\"string\",\"nullable\":true,\"metadata\":{}},{\"name\":\"street\",\"type\":\"string\",\"nullable\":true,\"metadata\":{}},{\"name\":\"subsciber_identifier\",\"type\":\"string\",\"nullable\":true,\"metadata\":{}},{\"name\":\"subscriber_relationship_cd\",\"type\":\"string\",\"nullable\":true,\"metadata\":{}},{\"name\":\"zip\",\"type\":\"string\",\"nullable\":true,\"metadata\":{}}]}"
        },
        {
         "metadata": "{}",
         "name": "payer",
         "type": "{\"type\":\"struct\",\"fields\":[{\"name\":\"business_entity_type\",\"type\":\"string\",\"nullable\":true,\"metadata\":{}},{\"name\":\"payer_identifier\",\"type\":\"string\",\"nullable\":true,\"metadata\":{}},{\"name\":\"payer_identifier_cd\",\"type\":\"string\",\"nullable\":true,\"metadata\":{}},{\"name\":\"payer_name\",\"type\":\"string\",\"nullable\":true,\"metadata\":{}}]}"
        },
        {
         "metadata": "{}",
         "name": "providers",
         "type": "{\"type\":\"struct\",\"fields\":[{\"name\":\"attending\",\"type\":{\"type\":\"struct\",\"fields\":[{\"name\":\"city\",\"type\":\"string\",\"nullable\":true,\"metadata\":{}},{\"name\":\"ein\",\"type\":\"string\",\"nullable\":true,\"metadata\":{}},{\"name\":\"ein_type\",\"type\":\"string\",\"nullable\":true,\"metadata\":{}},{\"name\":\"entity_type\",\"type\":\"string\",\"nullable\":true,\"metadata\":{}},{\"name\":\"name\",\"type\":\"string\",\"nullable\":true,\"metadata\":{}},{\"name\":\"npi\",\"type\":\"string\",\"nullable\":true,\"metadata\":{}},{\"name\":\"provider_role\",\"type\":\"string\",\"nullable\":true,\"metadata\":{}},{\"name\":\"state\",\"type\":\"string\",\"nullable\":true,\"metadata\":{}},{\"name\":\"street\",\"type\":\"string\",\"nullable\":true,\"metadata\":{}},{\"name\":\"taxonomy\",\"type\":\"string\",\"nullable\":true,\"metadata\":{}},{\"name\":\"zip\",\"type\":\"string\",\"nullable\":true,\"metadata\":{}}]},\"nullable\":true,\"metadata\":{}},{\"name\":\"billing\",\"type\":{\"type\":\"struct\",\"fields\":[{\"name\":\"city\",\"type\":\"string\",\"nullable\":true,\"metadata\":{}},{\"name\":\"ein\",\"type\":\"string\",\"nullable\":true,\"metadata\":{}},{\"name\":\"ein_type\",\"type\":\"string\",\"nullable\":true,\"metadata\":{}},{\"name\":\"entity_type\",\"type\":\"string\",\"nullable\":true,\"metadata\":{}},{\"name\":\"name\",\"type\":\"string\",\"nullable\":true,\"metadata\":{}},{\"name\":\"npi\",\"type\":\"string\",\"nullable\":true,\"metadata\":{}},{\"name\":\"provider_role\",\"type\":\"string\",\"nullable\":true,\"metadata\":{}},{\"name\":\"state\",\"type\":\"string\",\"nullable\":true,\"metadata\":{}},{\"name\":\"street\",\"type\":\"string\",\"nullable\":true,\"metadata\":{}},{\"name\":\"taxonomy\",\"type\":\"string\",\"nullable\":true,\"metadata\":{}},{\"name\":\"zip\",\"type\":\"string\",\"nullable\":true,\"metadata\":{}}]},\"nullable\":true,\"metadata\":{}},{\"name\":\"facility\",\"type\":{\"type\":\"struct\",\"fields\":[{\"name\":\"city\",\"type\":\"string\",\"nullable\":true,\"metadata\":{}},{\"name\":\"ein\",\"type\":\"string\",\"nullable\":true,\"metadata\":{}},{\"name\":\"ein_type\",\"type\":\"string\",\"nullable\":true,\"metadata\":{}},{\"name\":\"entity_type\",\"type\":\"string\",\"nullable\":true,\"metadata\":{}},{\"name\":\"name\",\"type\":\"string\",\"nullable\":true,\"metadata\":{}},{\"name\":\"npi\",\"type\":\"string\",\"nullable\":true,\"metadata\":{}},{\"name\":\"provider_role\",\"type\":\"string\",\"nullable\":true,\"metadata\":{}},{\"name\":\"state\",\"type\":\"string\",\"nullable\":true,\"metadata\":{}},{\"name\":\"street\",\"type\":\"string\",\"nullable\":true,\"metadata\":{}},{\"name\":\"taxonomy\",\"type\":\"string\",\"nullable\":true,\"metadata\":{}},{\"name\":\"zip\",\"type\":\"string\",\"nullable\":true,\"metadata\":{}}]},\"nullable\":true,\"metadata\":{}},{\"name\":\"operating\",\"type\":{\"type\":\"struct\",\"fields\":[{\"name\":\"city\",\"type\":\"string\",\"nullable\":true,\"metadata\":{}},{\"name\":\"ein\",\"type\":\"string\",\"nullable\":true,\"metadata\":{}},{\"name\":\"ein_type\",\"type\":\"string\",\"nullable\":true,\"metadata\":{}},{\"name\":\"entity_type\",\"type\":\"string\",\"nullable\":true,\"metadata\":{}},{\"name\":\"name\",\"type\":\"string\",\"nullable\":true,\"metadata\":{}},{\"name\":\"npi\",\"type\":\"string\",\"nullable\":true,\"metadata\":{}},{\"name\":\"provider_role\",\"type\":\"string\",\"nullable\":true,\"metadata\":{}},{\"name\":\"state\",\"type\":\"string\",\"nullable\":true,\"metadata\":{}},{\"name\":\"street\",\"type\":\"string\",\"nullable\":true,\"metadata\":{}},{\"name\":\"taxonomy\",\"type\":\"string\",\"nullable\":true,\"metadata\":{}},{\"name\":\"zip\",\"type\":\"string\",\"nullable\":true,\"metadata\":{}}]},\"nullable\":true,\"metadata\":{}},{\"name\":\"other\",\"type\":{\"type\":\"struct\",\"fields\":[{\"name\":\"city\",\"type\":\"string\",\"nullable\":true,\"metadata\":{}},{\"name\":\"ein\",\"type\":\"string\",\"nullable\":true,\"metadata\":{}},{\"name\":\"ein_type\",\"type\":\"string\",\"nullable\":true,\"metadata\":{}},{\"name\":\"entity_type\",\"type\":\"string\",\"nullable\":true,\"metadata\":{}},{\"name\":\"name\",\"type\":\"string\",\"nullable\":true,\"metadata\":{}},{\"name\":\"npi\",\"type\":\"string\",\"nullable\":true,\"metadata\":{}},{\"name\":\"provider_role\",\"type\":\"string\",\"nullable\":true,\"metadata\":{}},{\"name\":\"state\",\"type\":\"string\",\"nullable\":true,\"metadata\":{}},{\"name\":\"street\",\"type\":\"string\",\"nullable\":true,\"metadata\":{}},{\"name\":\"taxonomy\",\"type\":\"string\",\"nullable\":true,\"metadata\":{}},{\"name\":\"zip\",\"type\":\"string\",\"nullable\":true,\"metadata\":{}}]},\"nullable\":true,\"metadata\":{}},{\"name\":\"referring\",\"type\":{\"type\":\"struct\",\"fields\":[{\"name\":\"city\",\"type\":\"string\",\"nullable\":true,\"metadata\":{}},{\"name\":\"ein\",\"type\":\"string\",\"nullable\":true,\"metadata\":{}},{\"name\":\"ein_type\",\"type\":\"string\",\"nullable\":true,\"metadata\":{}},{\"name\":\"entity_type\",\"type\":\"string\",\"nullable\":true,\"metadata\":{}},{\"name\":\"name\",\"type\":\"string\",\"nullable\":true,\"metadata\":{}},{\"name\":\"npi\",\"type\":\"string\",\"nullable\":true,\"metadata\":{}},{\"name\":\"provider_role\",\"type\":\"string\",\"nullable\":true,\"metadata\":{}},{\"name\":\"state\",\"type\":\"string\",\"nullable\":true,\"metadata\":{}},{\"name\":\"street\",\"type\":\"string\",\"nullable\":true,\"metadata\":{}},{\"name\":\"taxonomy\",\"type\":\"string\",\"nullable\":true,\"metadata\":{}},{\"name\":\"zip\",\"type\":\"string\",\"nullable\":true,\"metadata\":{}}]},\"nullable\":true,\"metadata\":{}},{\"name\":\"service_facility\",\"type\":{\"type\":\"struct\",\"fields\":[{\"name\":\"city\",\"type\":\"string\",\"nullable\":true,\"metadata\":{}},{\"name\":\"ein\",\"type\":\"string\",\"nullable\":true,\"metadata\":{}},{\"name\":\"ein_type\",\"type\":\"string\",\"nullable\":true,\"metadata\":{}},{\"name\":\"entity_type\",\"type\":\"string\",\"nullable\":true,\"metadata\":{}},{\"name\":\"name\",\"type\":\"string\",\"nullable\":true,\"metadata\":{}},{\"name\":\"npi\",\"type\":\"string\",\"nullable\":true,\"metadata\":{}},{\"name\":\"provider_role\",\"type\":\"string\",\"nullable\":true,\"metadata\":{}},{\"name\":\"state\",\"type\":\"string\",\"nullable\":true,\"metadata\":{}},{\"name\":\"street\",\"type\":\"string\",\"nullable\":true,\"metadata\":{}},{\"name\":\"taxonomy\",\"type\":\"string\",\"nullable\":true,\"metadata\":{}},{\"name\":\"zip\",\"type\":\"string\",\"nullable\":true,\"metadata\":{}}]},\"nullable\":true,\"metadata\":{}},{\"name\":\"servicing\",\"type\":{\"type\":\"struct\",\"fields\":[{\"name\":\"city\",\"type\":\"string\",\"nullable\":true,\"metadata\":{}},{\"name\":\"ein\",\"type\":\"string\",\"nullable\":true,\"metadata\":{}},{\"name\":\"ein_type\",\"type\":\"string\",\"nullable\":true,\"metadata\":{}},{\"name\":\"entity_type\",\"type\":\"string\",\"nullable\":true,\"metadata\":{}},{\"name\":\"name\",\"type\":\"string\",\"nullable\":true,\"metadata\":{}},{\"name\":\"npi\",\"type\":\"string\",\"nullable\":true,\"metadata\":{}},{\"name\":\"provider_role\",\"type\":\"string\",\"nullable\":true,\"metadata\":{}},{\"name\":\"state\",\"type\":\"string\",\"nullable\":true,\"metadata\":{}},{\"name\":\"street\",\"type\":\"string\",\"nullable\":true,\"metadata\":{}},{\"name\":\"taxonomy\",\"type\":\"string\",\"nullable\":true,\"metadata\":{}},{\"name\":\"zip\",\"type\":\"string\",\"nullable\":true,\"metadata\":{}}]},\"nullable\":true,\"metadata\":{}}]}"
        },
        {
         "metadata": "{}",
         "name": "receiver",
         "type": "{\"type\":\"struct\",\"fields\":[{\"name\":\"name\",\"type\":\"string\",\"nullable\":true,\"metadata\":{}},{\"name\":\"type\",\"type\":\"string\",\"nullable\":true,\"metadata\":{}}]}"
        },
        {
         "metadata": "{}",
         "name": "submitter",
         "type": "{\"type\":\"struct\",\"fields\":[{\"name\":\"name\",\"type\":\"string\",\"nullable\":true,\"metadata\":{}},{\"name\":\"sbmtter_contact_name\",\"type\":\"string\",\"nullable\":true,\"metadata\":{}},{\"name\":\"sbmtter_contacts\",\"type\":{\"type\":\"array\",\"elementType\":{\"type\":\"array\",\"elementType\":\"string\",\"containsNull\":true},\"containsNull\":true},\"nullable\":true,\"metadata\":{}},{\"name\":\"type\",\"type\":\"string\",\"nullable\":true,\"metadata\":{}}]}"
        },
        {
         "metadata": "{}",
         "name": "subscriber",
         "type": "{\"type\":\"struct\",\"fields\":[{\"name\":\"city\",\"type\":\"string\",\"nullable\":true,\"metadata\":{}},{\"name\":\"dob\",\"type\":\"string\",\"nullable\":true,\"metadata\":{}},{\"name\":\"dob_format\",\"type\":\"string\",\"nullable\":true,\"metadata\":{}},{\"name\":\"gender_cd\",\"type\":\"string\",\"nullable\":true,\"metadata\":{}},{\"name\":\"id\",\"type\":\"string\",\"nullable\":true,\"metadata\":{}},{\"name\":\"mrn\",\"type\":\"string\",\"nullable\":true,\"metadata\":{}},{\"name\":\"name\",\"type\":\"string\",\"nullable\":true,\"metadata\":{}},{\"name\":\"patient_relationship_cd\",\"type\":\"string\",\"nullable\":true,\"metadata\":{}},{\"name\":\"state\",\"type\":\"string\",\"nullable\":true,\"metadata\":{}},{\"name\":\"street\",\"type\":\"string\",\"nullable\":true,\"metadata\":{}},{\"name\":\"subsciber_identifier\",\"type\":\"string\",\"nullable\":true,\"metadata\":{}},{\"name\":\"subscriber_relationship_cd\",\"type\":\"string\",\"nullable\":true,\"metadata\":{}},{\"name\":\"zip\",\"type\":\"string\",\"nullable\":true,\"metadata\":{}}]}"
        },
        {
         "metadata": "{}",
         "name": "claim_line",
         "type": "{\"type\":\"struct\",\"fields\":[{\"name\":\"claim_line_number\",\"type\":\"string\",\"nullable\":true,\"metadata\":{}},{\"name\":\"date_format\",\"type\":\"string\",\"nullable\":true,\"metadata\":{}},{\"name\":\"dg_cd_pntr\",\"type\":\"string\",\"nullable\":true,\"metadata\":{}},{\"name\":\"line_chrg_amt\",\"type\":\"string\",\"nullable\":true,\"metadata\":{}},{\"name\":\"modifier_cds\",\"type\":\"string\",\"nullable\":true,\"metadata\":{}},{\"name\":\"place_of_service\",\"type\":\"string\",\"nullable\":true,\"metadata\":{}},{\"name\":\"prcdr_cd\",\"type\":\"string\",\"nullable\":true,\"metadata\":{}},{\"name\":\"prcdr_cd_type\",\"type\":\"string\",\"nullable\":true,\"metadata\":{}},{\"name\":\"revenue_cd\",\"type\":\"string\",\"nullable\":true,\"metadata\":{}},{\"name\":\"service_date\",\"type\":\"string\",\"nullable\":true,\"metadata\":{}},{\"name\":\"service_date_format\",\"type\":\"string\",\"nullable\":true,\"metadata\":{}},{\"name\":\"service_time\",\"type\":\"string\",\"nullable\":true,\"metadata\":{}},{\"name\":\"units\",\"type\":\"string\",\"nullable\":true,\"metadata\":{}},{\"name\":\"units_measurement\",\"type\":\"string\",\"nullable\":true,\"metadata\":{}}]}"
        }
       ],
       "type": "table"
      }
     },
     "output_type": "display_data"
    }
   ],
   "source": [
    "%sql\n",
    "drop table if exists raven_catalog.x12_edi_parser.claim_line;\n",
    "create table raven_catalog.x12_edi_parser.claim_line as \n",
    "select *  except(claim_header)\n",
    "from (\n",
    "select *, explode(claim_lines) as claim_line\n",
    "from stg_claims\n",
    ")\n",
    ";\n",
    "\n",
    "SELECT * FROM raven_catalog.x12_edi_parser.claim_line"
   ]
  },
  {
   "cell_type": "markdown",
   "metadata": {
    "application/vnd.databricks.v1+cell": {
     "cellMetadata": {},
     "inputWidgets": {},
     "nuid": "835d426e-bb48-4480-9a1d-d943e389cfc0",
     "showTitle": false,
     "tableResultSettingsMap": {},
     "title": ""
    }
   },
   "source": [
    "#### Build analytical tables downstream"
   ]
  },
  {
   "cell_type": "code",
   "execution_count": 0,
   "metadata": {
    "application/vnd.databricks.v1+cell": {
     "cellMetadata": {
      "byteLimit": 2048000,
      "rowLimit": 10000
     },
     "inputWidgets": {},
     "nuid": "a0909afc-6ae8-4b53-9d19-9d122cafebb4",
     "showTitle": false,
     "tableResultSettingsMap": {},
     "title": ""
    }
   },
   "outputs": [],
   "source": [
    "from pyspark.sql.functions import col, from_json, to_date, split, lit, sha2, coalesce, concat_ws, expr, explode_outer, when, concat, to_timestamp,min as _min, sum as _sum, expr\n",
    "from pyspark.sql.types import StructType, StringType, DoubleType\n",
    "\n",
    "# Load raw header\n",
    "df = spark.table(\"raven_catalog.x12_edi_parser.claim_header\")"
   ]
  },
  {
   "cell_type": "markdown",
   "metadata": {
    "application/vnd.databricks.v1+cell": {
     "cellMetadata": {},
     "inputWidgets": {},
     "nuid": "479a5fab-32dd-4b13-b883-eafa635fe7dc",
     "showTitle": false,
     "tableResultSettingsMap": {},
     "title": ""
    }
   },
   "source": [
    "#### Patients"
   ]
  },
  {
   "cell_type": "code",
   "execution_count": 0,
   "metadata": {
    "application/vnd.databricks.v1+cell": {
     "cellMetadata": {
      "byteLimit": 2048000,
      "rowLimit": 10000
     },
     "collapsed": true,
     "inputWidgets": {},
     "nuid": "45e60827-f042-4971-a696-088f710bc7ac",
     "showTitle": true,
     "tableResultSettingsMap": {},
     "title": "Build Patients Table"
    }
   },
   "outputs": [],
   "source": [
    "# -------- Patient Schema --------\n",
    "patient_schema = StructType() \\\n",
    "    .add(\"name\", StringType()) \\\n",
    "    .add(\"dob\", StringType()) \\\n",
    "    .add(\"gender_cd\", StringType()) \\\n",
    "    .add(\"zip\", StringType()) \\\n",
    "    .add(\"state\", StringType()) \\\n",
    "    .add(\"city\", StringType()) \\\n",
    "    .add(\"street\", StringType()) \\\n",
    "    .add(\"subsciber_identifier\", StringType())\n",
    "\n",
    "# -------- Patients Table --------\n",
    "# -------- PATIENTS --------\n",
    "df_patients = df.select(\"patient.*\") \\\n",
    "    .withColumn(\"Id\", col(\"subsciber_identifier\")) \\\n",
    "    .withColumn(\"BIRTHDATE\", to_date(col(\"dob\"), \"yyyyMMdd\")) \\\n",
    "    .withColumn(\"GENDER\", col(\"gender_cd\")) \\\n",
    "    .withColumn(\"FIRST\", split(col(\"name\"), \" \").getItem(1)) \\\n",
    "    .withColumn(\"LAST\", split(col(\"name\"), \" \").getItem(0)) \\\n",
    "    .withColumnRenamed(\"city\", \"CITY\") \\\n",
    "    .withColumnRenamed(\"state\", \"STATE\") \\\n",
    "    .withColumnRenamed(\"zip\", \"ZIP\") \\\n",
    "    .withColumnRenamed(\"street\", \"ADDRESS\") \\\n",
    "    .withColumn(\"DEATHDATE\", lit(None).cast(\"date\")) \\\n",
    "    .withColumn(\"SSN\", lit(None).cast(\"string\")) \\\n",
    "    .withColumn(\"DRIVERS\", lit(None).cast(\"string\")) \\\n",
    "    .withColumn(\"PASSPORT\", lit(None).cast(\"string\")) \\\n",
    "    .withColumn(\"PREFIX\", split(col(\"name\"), \" \").getItem(2)) \\\n",
    "    .withColumn(\"MIDDLE\", lit(None).cast(\"string\")) \\\n",
    "    .withColumn(\"SUFFIX\", lit(None).cast(\"string\")) \\\n",
    "    .withColumn(\"MAIDEN\", lit(None).cast(\"string\")) \\\n",
    "    .withColumn(\"MARITAL\", lit(None).cast(\"string\")) \\\n",
    "    .withColumn(\"RACE\", lit(\"white\")) \\\n",
    "    .withColumn(\"ETHNICITY\", lit(\"non-hispanic\")) \\\n",
    "    .withColumn(\"BIRTHPLACE\", lit(\"USA\")) \\\n",
    "    .withColumn(\"COUNTY\", lit(None).cast(\"string\")) \\\n",
    "    .withColumn(\"FIPS\", lit(0)) \\\n",
    "    .withColumn(\"ZIP\", col(\"ZIP\").cast(\"int\")) \\\n",
    "    .withColumn(\"LAT\", lit(0.0)) \\\n",
    "    .withColumn(\"LON\", lit(0.0)) \\\n",
    "    .withColumn(\"HEALTHCARE_EXPENSES\", lit(1000.0)) \\\n",
    "    .withColumn(\"HEALTHCARE_COVERAGE\", lit(800.0)) \\\n",
    "    .withColumn(\"INCOME\", lit(50000)) \\\n",
    "    .withColumn(\"_rescued_data\", lit(None).cast(\"string\")) \\\n",
    "    .selectExpr([\n",
    "        \"Id\", \"BIRTHDATE\", \"DEATHDATE\", \"SSN\", \"DRIVERS\", \"PASSPORT\",\n",
    "        \"PREFIX\", \"FIRST\", \"MIDDLE\", \"LAST\", \"SUFFIX\", \"MAIDEN\", \"MARITAL\",\n",
    "        \"RACE\", \"ETHNICITY\", \"GENDER\", \"BIRTHPLACE\", \"ADDRESS\", \"CITY\",\n",
    "        \"STATE\", \"COUNTY\", \"FIPS\", \"ZIP\", \"LAT\", \"LON\",\n",
    "        \"HEALTHCARE_EXPENSES\", \"HEALTHCARE_COVERAGE\", \"INCOME\", \"_rescued_data\"\n",
    "    ])\n",
    "\n",
    "df_patients.write.mode(\"overwrite\").option(\"mergeSchema\", \"true\").saveAsTable(\"raven_catalog.x12_edi_parser.patients\")"
   ]
  },
  {
   "cell_type": "code",
   "execution_count": 0,
   "metadata": {
    "application/vnd.databricks.v1+cell": {
     "cellMetadata": {
      "byteLimit": 2048000,
      "rowLimit": 10000
     },
     "inputWidgets": {},
     "nuid": "8bf676f7-fded-43d7-a15c-be78a35fbbe6",
     "showTitle": false,
     "tableResultSettingsMap": {},
     "title": ""
    }
   },
   "outputs": [
    {
     "data": {
      "text/html": [
       "<style scoped>\n",
       "  .table-result-container {\n",
       "    max-height: 300px;\n",
       "    overflow: auto;\n",
       "  }\n",
       "  table, th, td {\n",
       "    border: 1px solid black;\n",
       "    border-collapse: collapse;\n",
       "  }\n",
       "  th, td {\n",
       "    padding: 5px;\n",
       "  }\n",
       "  th {\n",
       "    text-align: left;\n",
       "  }\n",
       "</style><div class='table-result-container'><table class='table-result'><thead style='background-color: white'><tr><th>Id</th><th>BIRTHDATE</th><th>DEATHDATE</th><th>SSN</th><th>DRIVERS</th><th>PASSPORT</th><th>PREFIX</th><th>FIRST</th><th>MIDDLE</th><th>LAST</th><th>SUFFIX</th><th>MAIDEN</th><th>MARITAL</th><th>RACE</th><th>ETHNICITY</th><th>GENDER</th><th>BIRTHPLACE</th><th>ADDRESS</th><th>CITY</th><th>STATE</th><th>COUNTY</th><th>FIPS</th><th>ZIP</th><th>LAT</th><th>LON</th><th>HEALTHCARE_EXPENSES</th><th>HEALTHCARE_COVERAGE</th><th>INCOME</th><th>_rescued_data</th></tr></thead><tbody><tr><td>987321</td><td>1988-12-25</td><td>null</td><td>null</td><td>null</td><td>null</td><td>J</td><td>JOHN</td><td>null</td><td>SUBSCRIBER</td><td>null</td><td>null</td><td>null</td><td>white</td><td>non-hispanic</td><td>M</td><td>USA</td><td>987 65TH PL</td><td>VANCOUVER</td><td>WA</td><td>null</td><td>0</td><td>986640001</td><td>0.0</td><td>0.0</td><td>1000.0</td><td>800.0</td><td>50000</td><td>null</td></tr><tr><td>765123</td><td>1988-10-31</td><td>null</td><td>null</td><td>null</td><td>null</td><td>E</td><td>SUSAN</td><td>null</td><td>PATIENT</td><td>null</td><td>null</td><td>null</td><td>white</td><td>non-hispanic</td><td>F</td><td>USA</td><td>765 43RD ST</td><td>VANCOUVER</td><td>WA</td><td>null</td><td>0</td><td>986640002</td><td>0.0</td><td>0.0</td><td>1000.0</td><td>800.0</td><td>50000</td><td>null</td></tr><tr><td>987321</td><td>1988-12-25</td><td>null</td><td>null</td><td>null</td><td>null</td><td>J</td><td>JOHN</td><td>null</td><td>SUBSCRIBER</td><td>null</td><td>null</td><td>null</td><td>white</td><td>non-hispanic</td><td>M</td><td>USA</td><td>987 65TH PL</td><td>VANCOUVER</td><td>WA</td><td>null</td><td>0</td><td>986640001</td><td>0.0</td><td>0.0</td><td>1000.0</td><td>800.0</td><td>50000</td><td>null</td></tr><tr><td>765123</td><td>1988-10-31</td><td>null</td><td>null</td><td>null</td><td>null</td><td>E</td><td>SUSAN</td><td>null</td><td>PATIENT</td><td>null</td><td>null</td><td>null</td><td>white</td><td>non-hispanic</td><td>F</td><td>USA</td><td>765 43RD ST</td><td>VANCOUVER</td><td>WA</td><td>null</td><td>0</td><td>986640002</td><td>0.0</td><td>0.0</td><td>1000.0</td><td>800.0</td><td>50000</td><td>null</td></tr><tr><td>987321</td><td>1988-12-25</td><td>null</td><td>null</td><td>null</td><td>null</td><td>J</td><td>JOHN</td><td>null</td><td>SUBSCRIBER</td><td>null</td><td>null</td><td>null</td><td>white</td><td>non-hispanic</td><td>M</td><td>USA</td><td>987 65TH PL</td><td>VANCOUVER</td><td>WA</td><td>null</td><td>0</td><td>986640001</td><td>0.0</td><td>0.0</td><td>1000.0</td><td>800.0</td><td>50000</td><td>null</td></tr><tr><td>111111100</td><td>1965-01-01</td><td>null</td><td>null</td><td>null</td><td>null</td><td>B</td><td>IJKLMNOP</td><td>null</td><td>ABCDEFGH</td><td>null</td><td>null</td><td>null</td><td>white</td><td>non-hispanic</td><td>M</td><td>USA</td><td>123 ADDRESS3</td><td>FAKE CITY</td><td>CA</td><td>null</td><td>0</td><td>908021112</td><td>0.0</td><td>0.0</td><td>1000.0</td><td>800.0</td><td>50000</td><td>null</td></tr><tr><td>11111117</td><td>1976-01-01</td><td>null</td><td>null</td><td>null</td><td>null</td><td>B</td><td>IJKLMNOP</td><td>null</td><td>ABCDEFGH</td><td>null</td><td>null</td><td>null</td><td>white</td><td>non-hispanic</td><td>F</td><td>USA</td><td>123 ADDRESS7</td><td>FAKE CITY</td><td>CA</td><td>null</td><td>0</td><td>908021117</td><td>0.0</td><td>0.0</td><td>1000.0</td><td>800.0</td><td>50000</td><td>null</td></tr><tr><td>111111111</td><td>2018-04-09</td><td>null</td><td>null</td><td>null</td><td>null</td><td>B</td><td>IJKLMNOP</td><td>null</td><td>ABCDEFGH</td><td>null</td><td>null</td><td>null</td><td>white</td><td>non-hispanic</td><td>M</td><td>USA</td><td>123 ADDRESS11</td><td>FAKE CITY</td><td>CA</td><td>null</td><td>0</td><td>908021111</td><td>0.0</td><td>0.0</td><td>1000.0</td><td>800.0</td><td>50000</td><td>null</td></tr><tr><td>111111112</td><td>2018-05-04</td><td>null</td><td>null</td><td>null</td><td>null</td><td>B</td><td>IJKLMNOP</td><td>null</td><td>ABCDEFGH</td><td>null</td><td>null</td><td>null</td><td>white</td><td>non-hispanic</td><td>F</td><td>USA</td><td>123 ADDRESS13</td><td>FAKE CITY</td><td>CA</td><td>null</td><td>0</td><td>908021113</td><td>0.0</td><td>0.0</td><td>1000.0</td><td>800.0</td><td>50000</td><td>null</td></tr><tr><td>U0000000001</td><td>1996-02-15</td><td>null</td><td>null</td><td>null</td><td>null</td><td></td><td>MEMBER</td><td>null</td><td>TEST</td><td>null</td><td>null</td><td>null</td><td>white</td><td>non-hispanic</td><td>F</td><td>USA</td><td>123 MAIN STREET</td><td>Elgin</td><td>IL</td><td>null</td><td>0</td><td>601200001</td><td>0.0</td><td>0.0</td><td>1000.0</td><td>800.0</td><td>50000</td><td>null</td></tr><tr><td>1234567890</td><td>1957-01-11</td><td>null</td><td>null</td><td>null</td><td>null</td><td></td><td>JOE</td><td>null</td><td>BLOGGS</td><td>null</td><td>null</td><td>null</td><td>white</td><td>non-hispanic</td><td>M</td><td>USA</td><td>1 SOME BLVD</td><td>CHICAGO</td><td>IL</td><td>null</td><td>0</td><td>606129998</td><td>0.0</td><td>0.0</td><td>1000.0</td><td>800.0</td><td>50000</td><td>null</td></tr><tr><td>9876543201</td><td>1970-06-01</td><td>null</td><td>null</td><td>null</td><td>null</td><td></td><td>FRED</td><td>null</td><td>BLOGGS</td><td>null</td><td>null</td><td>null</td><td>white</td><td>non-hispanic</td><td>M</td><td>USA</td><td>1 ANOTHER STR</td><td>CHICAGO</td><td>IL</td><td>null</td><td>0</td><td>606129998</td><td>0.0</td><td>0.0</td><td>1000.0</td><td>800.0</td><td>50000</td><td>null</td></tr><tr><td>U0000000001</td><td>1996-02-15</td><td>null</td><td>null</td><td>null</td><td>null</td><td></td><td>MEMBER</td><td>null</td><td>TEST</td><td>null</td><td>null</td><td>null</td><td>white</td><td>non-hispanic</td><td>F</td><td>USA</td><td>123 MAIN STREET</td><td>Elgin</td><td>IL</td><td>null</td><td>0</td><td>601200001</td><td>0.0</td><td>0.0</td><td>1000.0</td><td>800.0</td><td>50000</td><td>null</td></tr></tbody></table></div>"
      ]
     },
     "metadata": {
      "application/vnd.databricks.v1+output": {
       "addedWidgets": {},
       "aggData": [],
       "aggError": "",
       "aggOverflow": false,
       "aggSchema": [],
       "aggSeriesLimitReached": false,
       "aggType": "",
       "arguments": {},
       "columnCustomDisplayInfos": {},
       "data": [
        [
         "987321",
         "1988-12-25",
         null,
         null,
         null,
         null,
         "J",
         "JOHN",
         null,
         "SUBSCRIBER",
         null,
         null,
         null,
         "white",
         "non-hispanic",
         "M",
         "USA",
         "987 65TH PL",
         "VANCOUVER",
         "WA",
         null,
         0,
         986640001,
         0,
         0,
         1000,
         800,
         50000,
         null
        ],
        [
         "765123",
         "1988-10-31",
         null,
         null,
         null,
         null,
         "E",
         "SUSAN",
         null,
         "PATIENT",
         null,
         null,
         null,
         "white",
         "non-hispanic",
         "F",
         "USA",
         "765 43RD ST",
         "VANCOUVER",
         "WA",
         null,
         0,
         986640002,
         0,
         0,
         1000,
         800,
         50000,
         null
        ],
        [
         "987321",
         "1988-12-25",
         null,
         null,
         null,
         null,
         "J",
         "JOHN",
         null,
         "SUBSCRIBER",
         null,
         null,
         null,
         "white",
         "non-hispanic",
         "M",
         "USA",
         "987 65TH PL",
         "VANCOUVER",
         "WA",
         null,
         0,
         986640001,
         0,
         0,
         1000,
         800,
         50000,
         null
        ],
        [
         "765123",
         "1988-10-31",
         null,
         null,
         null,
         null,
         "E",
         "SUSAN",
         null,
         "PATIENT",
         null,
         null,
         null,
         "white",
         "non-hispanic",
         "F",
         "USA",
         "765 43RD ST",
         "VANCOUVER",
         "WA",
         null,
         0,
         986640002,
         0,
         0,
         1000,
         800,
         50000,
         null
        ],
        [
         "987321",
         "1988-12-25",
         null,
         null,
         null,
         null,
         "J",
         "JOHN",
         null,
         "SUBSCRIBER",
         null,
         null,
         null,
         "white",
         "non-hispanic",
         "M",
         "USA",
         "987 65TH PL",
         "VANCOUVER",
         "WA",
         null,
         0,
         986640001,
         0,
         0,
         1000,
         800,
         50000,
         null
        ],
        [
         "111111100",
         "1965-01-01",
         null,
         null,
         null,
         null,
         "B",
         "IJKLMNOP",
         null,
         "ABCDEFGH",
         null,
         null,
         null,
         "white",
         "non-hispanic",
         "M",
         "USA",
         "123 ADDRESS3",
         "FAKE CITY",
         "CA",
         null,
         0,
         908021112,
         0,
         0,
         1000,
         800,
         50000,
         null
        ],
        [
         "11111117",
         "1976-01-01",
         null,
         null,
         null,
         null,
         "B",
         "IJKLMNOP",
         null,
         "ABCDEFGH",
         null,
         null,
         null,
         "white",
         "non-hispanic",
         "F",
         "USA",
         "123 ADDRESS7",
         "FAKE CITY",
         "CA",
         null,
         0,
         908021117,
         0,
         0,
         1000,
         800,
         50000,
         null
        ],
        [
         "111111111",
         "2018-04-09",
         null,
         null,
         null,
         null,
         "B",
         "IJKLMNOP",
         null,
         "ABCDEFGH",
         null,
         null,
         null,
         "white",
         "non-hispanic",
         "M",
         "USA",
         "123 ADDRESS11",
         "FAKE CITY",
         "CA",
         null,
         0,
         908021111,
         0,
         0,
         1000,
         800,
         50000,
         null
        ],
        [
         "111111112",
         "2018-05-04",
         null,
         null,
         null,
         null,
         "B",
         "IJKLMNOP",
         null,
         "ABCDEFGH",
         null,
         null,
         null,
         "white",
         "non-hispanic",
         "F",
         "USA",
         "123 ADDRESS13",
         "FAKE CITY",
         "CA",
         null,
         0,
         908021113,
         0,
         0,
         1000,
         800,
         50000,
         null
        ],
        [
         "U0000000001",
         "1996-02-15",
         null,
         null,
         null,
         null,
         "",
         "MEMBER",
         null,
         "TEST",
         null,
         null,
         null,
         "white",
         "non-hispanic",
         "F",
         "USA",
         "123 MAIN STREET",
         "Elgin",
         "IL",
         null,
         0,
         601200001,
         0,
         0,
         1000,
         800,
         50000,
         null
        ],
        [
         "1234567890",
         "1957-01-11",
         null,
         null,
         null,
         null,
         "",
         "JOE",
         null,
         "BLOGGS",
         null,
         null,
         null,
         "white",
         "non-hispanic",
         "M",
         "USA",
         "1 SOME BLVD",
         "CHICAGO",
         "IL",
         null,
         0,
         606129998,
         0,
         0,
         1000,
         800,
         50000,
         null
        ],
        [
         "9876543201",
         "1970-06-01",
         null,
         null,
         null,
         null,
         "",
         "FRED",
         null,
         "BLOGGS",
         null,
         null,
         null,
         "white",
         "non-hispanic",
         "M",
         "USA",
         "1 ANOTHER STR",
         "CHICAGO",
         "IL",
         null,
         0,
         606129998,
         0,
         0,
         1000,
         800,
         50000,
         null
        ],
        [
         "U0000000001",
         "1996-02-15",
         null,
         null,
         null,
         null,
         "",
         "MEMBER",
         null,
         "TEST",
         null,
         null,
         null,
         "white",
         "non-hispanic",
         "F",
         "USA",
         "123 MAIN STREET",
         "Elgin",
         "IL",
         null,
         0,
         601200001,
         0,
         0,
         1000,
         800,
         50000,
         null
        ]
       ],
       "datasetInfos": [],
       "dbfsResultPath": null,
       "isJsonSchema": true,
       "metadata": {},
       "overflow": false,
       "plotOptions": {
        "customPlotOptions": {},
        "displayType": "table",
        "pivotAggregation": null,
        "pivotColumns": null,
        "xColumns": null,
        "yColumns": null
       },
       "removedWidgets": [],
       "schema": [
        {
         "metadata": "{}",
         "name": "Id",
         "type": "\"string\""
        },
        {
         "metadata": "{}",
         "name": "BIRTHDATE",
         "type": "\"date\""
        },
        {
         "metadata": "{}",
         "name": "DEATHDATE",
         "type": "\"date\""
        },
        {
         "metadata": "{}",
         "name": "SSN",
         "type": "\"string\""
        },
        {
         "metadata": "{}",
         "name": "DRIVERS",
         "type": "\"string\""
        },
        {
         "metadata": "{}",
         "name": "PASSPORT",
         "type": "\"string\""
        },
        {
         "metadata": "{}",
         "name": "PREFIX",
         "type": "\"string\""
        },
        {
         "metadata": "{}",
         "name": "FIRST",
         "type": "\"string\""
        },
        {
         "metadata": "{}",
         "name": "MIDDLE",
         "type": "\"string\""
        },
        {
         "metadata": "{}",
         "name": "LAST",
         "type": "\"string\""
        },
        {
         "metadata": "{}",
         "name": "SUFFIX",
         "type": "\"string\""
        },
        {
         "metadata": "{}",
         "name": "MAIDEN",
         "type": "\"string\""
        },
        {
         "metadata": "{}",
         "name": "MARITAL",
         "type": "\"string\""
        },
        {
         "metadata": "{}",
         "name": "RACE",
         "type": "\"string\""
        },
        {
         "metadata": "{}",
         "name": "ETHNICITY",
         "type": "\"string\""
        },
        {
         "metadata": "{}",
         "name": "GENDER",
         "type": "\"string\""
        },
        {
         "metadata": "{}",
         "name": "BIRTHPLACE",
         "type": "\"string\""
        },
        {
         "metadata": "{}",
         "name": "ADDRESS",
         "type": "\"string\""
        },
        {
         "metadata": "{}",
         "name": "CITY",
         "type": "\"string\""
        },
        {
         "metadata": "{}",
         "name": "STATE",
         "type": "\"string\""
        },
        {
         "metadata": "{}",
         "name": "COUNTY",
         "type": "\"string\""
        },
        {
         "metadata": "{}",
         "name": "FIPS",
         "type": "\"integer\""
        },
        {
         "metadata": "{}",
         "name": "ZIP",
         "type": "\"integer\""
        },
        {
         "metadata": "{}",
         "name": "LAT",
         "type": "\"double\""
        },
        {
         "metadata": "{}",
         "name": "LON",
         "type": "\"double\""
        },
        {
         "metadata": "{}",
         "name": "HEALTHCARE_EXPENSES",
         "type": "\"double\""
        },
        {
         "metadata": "{}",
         "name": "HEALTHCARE_COVERAGE",
         "type": "\"double\""
        },
        {
         "metadata": "{}",
         "name": "INCOME",
         "type": "\"integer\""
        },
        {
         "metadata": "{}",
         "name": "_rescued_data",
         "type": "\"string\""
        }
       ],
       "type": "table"
      }
     },
     "output_type": "display_data"
    }
   ],
   "source": [
    "df_patients = spark.read.table(\"raven_catalog.x12_edi_parser.patients\")\n",
    "display(df_patients)"
   ]
  },
  {
   "cell_type": "markdown",
   "metadata": {
    "application/vnd.databricks.v1+cell": {
     "cellMetadata": {},
     "inputWidgets": {},
     "nuid": "2c21046f-cfa8-473a-b239-111657668366",
     "showTitle": false,
     "tableResultSettingsMap": {},
     "title": ""
    }
   },
   "source": [
    "#### Providers"
   ]
  },
  {
   "cell_type": "code",
   "execution_count": 0,
   "metadata": {
    "application/vnd.databricks.v1+cell": {
     "cellMetadata": {
      "byteLimit": 2048000,
      "rowLimit": 10000
     },
     "collapsed": true,
     "inputWidgets": {},
     "nuid": "22811588-4500-4a4f-be4f-6cf26fc66838",
     "showTitle": true,
     "tableResultSettingsMap": {},
     "title": "Build Providers Table"
    }
   },
   "outputs": [],
   "source": [
    "\n",
    "# -------- Provider Schema --------\n",
    "provider_schema = StructType() \\\n",
    "    .add(\"billing\", StructType()\n",
    "        .add(\"name\", StringType())\n",
    "        .add(\"npi\", StringType())\n",
    "        .add(\"zip\", StringType())\n",
    "        .add(\"state\", StringType())\n",
    "        .add(\"city\", StringType())\n",
    "        .add(\"street\", StringType())\n",
    "        .add(\"taxonomy\", StringType())) \\\n",
    "        .add(\"servicing\", StructType()\n",
    "        .add(\"name\", StringType()))\n",
    "\n",
    "\n",
    "df_providers = df.select(\n",
    "    col(\"providers.billing.npi\").alias(\"Id\"),\n",
    "    col(\"providers.billing.name\").alias(\"ORGANIZATION\"),\n",
    "    col(\"providers.billing.street\").alias(\"ADDRESS\"),\n",
    "    col(\"providers.billing.city\").alias(\"CITY\"),\n",
    "    col(\"providers.billing.state\").alias(\"STATE\"),\n",
    "    col(\"providers.billing.zip\").cast(\"int\").alias(\"ZIP\"),\n",
    "    col(\"providers.billing.taxonomy\").alias(\"SPECIALITY\"),\n",
    "    coalesce(  # Use servicing.name or fallback to billing.name\n",
    "        col(\"providers.servicing.name\"),\n",
    "        col(\"providers.billing.name\"),\n",
    "        concat_ws(\"\", lit(\"Provider_\"), sha2(col(\"providers.billing.npi\"), 256).substr(0, 6))\n",
    "    ).alias(\"NAME\")\n",
    ") \\\n",
    ".withColumn(\"GENDER\", lit(None).cast(\"string\")) \\\n",
    ".withColumn(\"LAT\", lit(0.0)) \\\n",
    ".withColumn(\"LON\", lit(0.0)) \\\n",
    ".withColumn(\"ENCOUNTERS\", lit(0)) \\\n",
    ".withColumn(\"PROCEDURES\", lit(0)) \\\n",
    ".withColumn(\"_rescued_data\", lit(None).cast(\"string\")) \\\n",
    ".selectExpr([\n",
    "    \"Id\", \"ORGANIZATION\", \"NAME\", \"GENDER\", \"SPECIALITY\", \"ADDRESS\",\n",
    "    \"CITY\", \"STATE\", \"ZIP\", \"LAT\", \"LON\", \"ENCOUNTERS\", \"PROCEDURES\", \"_rescued_data\"\n",
    "])\n",
    "\n",
    "# Save output\n",
    "df_providers.write.mode(\"overwrite\").option(\"mergeSchema\", \"true\").saveAsTable(\"raven_catalog.x12_edi_parser.providers\")"
   ]
  },
  {
   "cell_type": "code",
   "execution_count": 0,
   "metadata": {
    "application/vnd.databricks.v1+cell": {
     "cellMetadata": {
      "byteLimit": 2048000,
      "rowLimit": 10000
     },
     "inputWidgets": {},
     "nuid": "28eb4f9c-01ea-4397-adeb-855da8af21e6",
     "showTitle": false,
     "tableResultSettingsMap": {},
     "title": ""
    }
   },
   "outputs": [
    {
     "data": {
      "text/html": [
       "<style scoped>\n",
       "  .table-result-container {\n",
       "    max-height: 300px;\n",
       "    overflow: auto;\n",
       "  }\n",
       "  table, th, td {\n",
       "    border: 1px solid black;\n",
       "    border-collapse: collapse;\n",
       "  }\n",
       "  th, td {\n",
       "    padding: 5px;\n",
       "  }\n",
       "  th {\n",
       "    text-align: left;\n",
       "  }\n",
       "</style><div class='table-result-container'><table class='table-result'><thead style='background-color: white'><tr><th>Id</th><th>ORGANIZATION</th><th>NAME</th><th>GENDER</th><th>SPECIALITY</th><th>ADDRESS</th><th>CITY</th><th>STATE</th><th>ZIP</th><th>LAT</th><th>LON</th><th>ENCOUNTERS</th><th>PROCEDURES</th><th>_rescued_data</th></tr></thead><tbody><tr><td>1122334455</td><td>BH CLINIC OF VANCOUVER</td><td>PROVIDER JAMES </td><td>null</td><td></td><td>12345 MAIN ST</td><td>VANCOUVER</td><td>WA</td><td>98662</td><td>0.0</td><td>0.0</td><td>0</td><td>0</td><td>null</td></tr><tr><td>1122334455</td><td>BH CLINIC OF VANCOUVER</td><td>PROVIDER SUSAN </td><td>null</td><td></td><td>12345 MAIN ST</td><td>VANCOUVER</td><td>WA</td><td>98662</td><td>0.0</td><td>0.0</td><td>0</td><td>0</td><td>null</td></tr><tr><td>1122334455</td><td>BH CLINIC OF VANCOUVER</td><td>PROVIDER SUSAN </td><td>null</td><td></td><td>12345 MAIN ST</td><td>VANCOUVER</td><td>WA</td><td>98662</td><td>0.0</td><td>0.0</td><td>0</td><td>0</td><td>null</td></tr><tr><td>1122334455</td><td>BH CLINIC OF VANCOUVER</td><td>PROVIDER SUSAN </td><td>null</td><td></td><td>12345 MAIN ST</td><td>VANCOUVER</td><td>WA</td><td>98662</td><td>0.0</td><td>0.0</td><td>0</td><td>0</td><td>null</td></tr><tr><td>1122334455</td><td>BH CLINIC OF VANCOUVER</td><td>PROVIDER JAMES </td><td>null</td><td></td><td>12345 MAIN ST</td><td>VANCOUVER</td><td>WA</td><td>98662</td><td>0.0</td><td>0.0</td><td>0</td><td>0</td><td>null</td></tr><tr><td>1222222220</td><td>YYYY HEALTHCARE ABC</td><td>TUVWX MNOPQR </td><td>null</td><td></td><td>123 ADDRESS1</td><td>FAKE CITY</td><td>NY</td><td>908021112</td><td>0.0</td><td>0.0</td><td>0</td><td>0</td><td>null</td></tr><tr><td>1222222223</td><td>ABCDE EFGHIJ GROUP PC</td><td>STUVW KLMNOP H</td><td>null</td><td></td><td>123 ADDRESS5</td><td>FAKE CITY</td><td>CA</td><td>908021115</td><td>0.0</td><td>0.0</td><td>0</td><td>0</td><td>null</td></tr><tr><td>1477527786</td><td>ABCDE EFGHIJ GROUP PC</td><td>STUVWX KLMNOPQ H</td><td>null</td><td></td><td>123 ADDRESS9</td><td>FAKE CITY</td><td>CA</td><td>908021119</td><td>0.0</td><td>0.0</td><td>0</td><td>0</td><td>null</td></tr><tr><td>1477527786</td><td>ABCDE EFGHIJ GROUP PC</td><td>STUVWXY KLMNOPQR H</td><td>null</td><td></td><td>123 ADDRESS9</td><td>FAKE CITY</td><td>CA</td><td>908021119</td><td>0.0</td><td>0.0</td><td>0</td><td>0</td><td>null</td></tr><tr><td>9999999999</td><td>Test Provider</td><td>Test Provider</td><td>null</td><td></td><td>123 MAIN STREET</td><td>WOODSTOCK</td><td>IL</td><td>600980000</td><td>0.0</td><td>0.0</td><td>0</td><td>0</td><td>null</td></tr><tr><td>1122334455</td><td>BILLING PROVIDER</td><td>  </td><td>null</td><td></td><td>1234 SOME ROAD</td><td>CHICAGO</td><td>IL</td><td>606739999</td><td>0.0</td><td>0.0</td><td>0</td><td>0</td><td>null</td></tr><tr><td>1122334455</td><td>BILLING PROVIDER</td><td>  </td><td>null</td><td></td><td>1234 SOME ROAD</td><td>CHICAGO</td><td>IL</td><td>606739999</td><td>0.0</td><td>0.0</td><td>0</td><td>0</td><td>null</td></tr><tr><td>9999999999</td><td>Test Provider</td><td>  </td><td>null</td><td></td><td>123 MAIN STREET</td><td>WOODSTOCK</td><td>IL</td><td>600980000</td><td>0.0</td><td>0.0</td><td>0</td><td>0</td><td>null</td></tr></tbody></table></div>"
      ]
     },
     "metadata": {
      "application/vnd.databricks.v1+output": {
       "addedWidgets": {},
       "aggData": [],
       "aggError": "",
       "aggOverflow": false,
       "aggSchema": [],
       "aggSeriesLimitReached": false,
       "aggType": "",
       "arguments": {},
       "columnCustomDisplayInfos": {},
       "data": [
        [
         "1122334455",
         "BH CLINIC OF VANCOUVER",
         "PROVIDER JAMES ",
         null,
         "",
         "12345 MAIN ST",
         "VANCOUVER",
         "WA",
         98662,
         0,
         0,
         0,
         0,
         null
        ],
        [
         "1122334455",
         "BH CLINIC OF VANCOUVER",
         "PROVIDER SUSAN ",
         null,
         "",
         "12345 MAIN ST",
         "VANCOUVER",
         "WA",
         98662,
         0,
         0,
         0,
         0,
         null
        ],
        [
         "1122334455",
         "BH CLINIC OF VANCOUVER",
         "PROVIDER SUSAN ",
         null,
         "",
         "12345 MAIN ST",
         "VANCOUVER",
         "WA",
         98662,
         0,
         0,
         0,
         0,
         null
        ],
        [
         "1122334455",
         "BH CLINIC OF VANCOUVER",
         "PROVIDER SUSAN ",
         null,
         "",
         "12345 MAIN ST",
         "VANCOUVER",
         "WA",
         98662,
         0,
         0,
         0,
         0,
         null
        ],
        [
         "1122334455",
         "BH CLINIC OF VANCOUVER",
         "PROVIDER JAMES ",
         null,
         "",
         "12345 MAIN ST",
         "VANCOUVER",
         "WA",
         98662,
         0,
         0,
         0,
         0,
         null
        ],
        [
         "1222222220",
         "YYYY HEALTHCARE ABC",
         "TUVWX MNOPQR ",
         null,
         "",
         "123 ADDRESS1",
         "FAKE CITY",
         "NY",
         908021112,
         0,
         0,
         0,
         0,
         null
        ],
        [
         "1222222223",
         "ABCDE EFGHIJ GROUP PC",
         "STUVW KLMNOP H",
         null,
         "",
         "123 ADDRESS5",
         "FAKE CITY",
         "CA",
         908021115,
         0,
         0,
         0,
         0,
         null
        ],
        [
         "1477527786",
         "ABCDE EFGHIJ GROUP PC",
         "STUVWX KLMNOPQ H",
         null,
         "",
         "123 ADDRESS9",
         "FAKE CITY",
         "CA",
         908021119,
         0,
         0,
         0,
         0,
         null
        ],
        [
         "1477527786",
         "ABCDE EFGHIJ GROUP PC",
         "STUVWXY KLMNOPQR H",
         null,
         "",
         "123 ADDRESS9",
         "FAKE CITY",
         "CA",
         908021119,
         0,
         0,
         0,
         0,
         null
        ],
        [
         "9999999999",
         "Test Provider",
         "Test Provider",
         null,
         "",
         "123 MAIN STREET",
         "WOODSTOCK",
         "IL",
         600980000,
         0,
         0,
         0,
         0,
         null
        ],
        [
         "1122334455",
         "BILLING PROVIDER",
         "  ",
         null,
         "",
         "1234 SOME ROAD",
         "CHICAGO",
         "IL",
         606739999,
         0,
         0,
         0,
         0,
         null
        ],
        [
         "1122334455",
         "BILLING PROVIDER",
         "  ",
         null,
         "",
         "1234 SOME ROAD",
         "CHICAGO",
         "IL",
         606739999,
         0,
         0,
         0,
         0,
         null
        ],
        [
         "9999999999",
         "Test Provider",
         "  ",
         null,
         "",
         "123 MAIN STREET",
         "WOODSTOCK",
         "IL",
         600980000,
         0,
         0,
         0,
         0,
         null
        ]
       ],
       "datasetInfos": [],
       "dbfsResultPath": null,
       "isJsonSchema": true,
       "metadata": {},
       "overflow": false,
       "plotOptions": {
        "customPlotOptions": {},
        "displayType": "table",
        "pivotAggregation": null,
        "pivotColumns": null,
        "xColumns": null,
        "yColumns": null
       },
       "removedWidgets": [],
       "schema": [
        {
         "metadata": "{}",
         "name": "Id",
         "type": "\"string\""
        },
        {
         "metadata": "{}",
         "name": "ORGANIZATION",
         "type": "\"string\""
        },
        {
         "metadata": "{}",
         "name": "NAME",
         "type": "\"string\""
        },
        {
         "metadata": "{}",
         "name": "GENDER",
         "type": "\"string\""
        },
        {
         "metadata": "{}",
         "name": "SPECIALITY",
         "type": "\"string\""
        },
        {
         "metadata": "{}",
         "name": "ADDRESS",
         "type": "\"string\""
        },
        {
         "metadata": "{}",
         "name": "CITY",
         "type": "\"string\""
        },
        {
         "metadata": "{}",
         "name": "STATE",
         "type": "\"string\""
        },
        {
         "metadata": "{}",
         "name": "ZIP",
         "type": "\"integer\""
        },
        {
         "metadata": "{}",
         "name": "LAT",
         "type": "\"double\""
        },
        {
         "metadata": "{}",
         "name": "LON",
         "type": "\"double\""
        },
        {
         "metadata": "{}",
         "name": "ENCOUNTERS",
         "type": "\"integer\""
        },
        {
         "metadata": "{}",
         "name": "PROCEDURES",
         "type": "\"integer\""
        },
        {
         "metadata": "{}",
         "name": "_rescued_data",
         "type": "\"string\""
        }
       ],
       "type": "table"
      }
     },
     "output_type": "display_data"
    }
   ],
   "source": [
    "df_providers = spark.read.table(\"raven_catalog.x12_edi_parser.providers\")\n",
    "display(df_providers.limit(20))"
   ]
  },
  {
   "cell_type": "markdown",
   "metadata": {
    "application/vnd.databricks.v1+cell": {
     "cellMetadata": {},
     "inputWidgets": {},
     "nuid": "472ac2b6-b53a-406a-a238-119b628b8152",
     "showTitle": false,
     "tableResultSettingsMap": {},
     "title": ""
    }
   },
   "source": [
    "#### use both header and lines for Conditions and Encounters tables"
   ]
  },
  {
   "cell_type": "code",
   "execution_count": 0,
   "metadata": {
    "application/vnd.databricks.v1+cell": {
     "cellMetadata": {
      "byteLimit": 2048000,
      "rowLimit": 10000
     },
     "collapsed": true,
     "inputWidgets": {},
     "nuid": "dca1f5ee-ae71-455b-b220-f9cec98f4c1c",
     "showTitle": true,
     "tableResultSettingsMap": {},
     "title": "Join on claim header and lines Table"
    }
   },
   "outputs": [],
   "source": [
    "from pyspark.sql.functions import sum as _sum, min as _min\n",
    "\n",
    "# Load both tables\n",
    "df_header = spark.table(\"raven_catalog.x12_edi_parser.claim_header\")\n",
    "df_line = spark.table(\"raven_catalog.x12_edi_parser.claim_line\")\n",
    "\n",
    "# Join line-level to header-level using inferred claim_id\n",
    "df_joined = df_line.join(\n",
    "    df_header.select(\n",
    "        col(\"claim_header.claim_id\").alias(\"claim_id\"),\n",
    "        col(\"diagnosis.principal_dx_cd\").alias(\"dx_code\"),\n",
    "        col(\"payer.payer_identifier\").alias(\"payer_id\"),\n",
    "        col(\"receiver.name\").alias(\"organization\"),\n",
    "        col(\"providers.billing.npi\").alias(\"provider_npi\"),\n",
    "        col(\"patient.subsciber_identifier\").alias(\"patient_id\"),\n",
    "        col(\"claim_header.facility_type_code\").alias(\"facility_type_code\")\n",
    "    ),\n",
    "    on=[\n",
    "        col(\"patient.subsciber_identifier\") == col(\"patient_id\")\n",
    "    ],\n",
    "    how=\"inner\"\n",
    ").withColumn(\"service_date\", to_date(col(\"claim_line.service_date\"), \"yyyyMMdd\")) \\\n",
    " .withColumn(\"line_charge\", col(\"claim_line.line_chrg_amt\").cast(DoubleType()))"
   ]
  },
  {
   "cell_type": "markdown",
   "metadata": {
    "application/vnd.databricks.v1+cell": {
     "cellMetadata": {},
     "inputWidgets": {},
     "nuid": "a5a08b04-769f-4bd1-a393-22671105f187",
     "showTitle": false,
     "tableResultSettingsMap": {},
     "title": ""
    }
   },
   "source": [
    "#### Conditions"
   ]
  },
  {
   "cell_type": "code",
   "execution_count": 0,
   "metadata": {
    "application/vnd.databricks.v1+cell": {
     "cellMetadata": {
      "byteLimit": 2048000,
      "rowLimit": 10000
     },
     "collapsed": true,
     "inputWidgets": {},
     "nuid": "3f9c674d-ba80-4200-b04a-2feb9d7d70be",
     "showTitle": true,
     "tableResultSettingsMap": {},
     "title": "Build Conditions Table"
    }
   },
   "outputs": [],
   "source": [
    "\n",
    "# ========== CONDITIONS ==========\n",
    "df_conditions = df_joined.select(\n",
    "    col(\"service_date\").alias(\"START\"),\n",
    "    col(\"service_date\").alias(\"STOP\"),\n",
    "    col(\"patient_id\").alias(\"PATIENT\"),\n",
    "    col(\"claim_id\").alias(\"ENCOUNTER\"),\n",
    "    col(\"dx_code\").cast(\"bigint\").alias(\"CODE\"),\n",
    "    concat(lit(\"Diagnosis \"), col(\"dx_code\")).alias(\"DESCRIPTION\"),\n",
    "    lit(\"ICD-10-CM\").alias(\"SYSTEM\"),\n",
    "    lit(None).cast(\"string\").alias(\"_rescued_data\")\n",
    ")\n",
    "\n",
    "df_conditions.write.mode(\"overwrite\").option(\"mergeSchema\", \"true\").saveAsTable(\"raven_catalog.x12_edi_parser.conditions\")"
   ]
  },
  {
   "cell_type": "code",
   "execution_count": 0,
   "metadata": {
    "application/vnd.databricks.v1+cell": {
     "cellMetadata": {
      "byteLimit": 2048000,
      "rowLimit": 10000
     },
     "collapsed": true,
     "inputWidgets": {},
     "nuid": "4124c425-8746-41e0-850d-d89592a58235",
     "showTitle": false,
     "tableResultSettingsMap": {},
     "title": ""
    }
   },
   "outputs": [
    {
     "data": {
      "text/html": [
       "<style scoped>\n",
       "  .table-result-container {\n",
       "    max-height: 300px;\n",
       "    overflow: auto;\n",
       "  }\n",
       "  table, th, td {\n",
       "    border: 1px solid black;\n",
       "    border-collapse: collapse;\n",
       "  }\n",
       "  th, td {\n",
       "    padding: 5px;\n",
       "  }\n",
       "  th {\n",
       "    text-align: left;\n",
       "  }\n",
       "</style><div class='table-result-container'><table class='table-result'><thead style='background-color: white'><tr><th>START</th><th>STOP</th><th>PATIENT</th><th>ENCOUNTER</th><th>CODE</th><th>DESCRIPTION</th><th>SYSTEM</th><th>_rescued_data</th></tr></thead><tbody><tr><td>2018-04-27</td><td>2018-04-27</td><td>987321</td><td>1805080AV3648339</td><td>null</td><td>Diagnosis F1120</td><td>ICD-10-CM</td><td>null</td></tr><tr><td>2018-04-27</td><td>2018-04-27</td><td>987321</td><td>1805080AV3648339</td><td>null</td><td>Diagnosis F1120</td><td>ICD-10-CM</td><td>null</td></tr><tr><td>2018-04-28</td><td>2018-04-28</td><td>987321</td><td>1805080AV3648339</td><td>null</td><td>Diagnosis F1120</td><td>ICD-10-CM</td><td>null</td></tr><tr><td>2018-04-27</td><td>2018-04-27</td><td>765123</td><td>1805080AV3648347</td><td>null</td><td>Diagnosis F1520</td><td>ICD-10-CM</td><td>null</td></tr><tr><td>2018-04-26</td><td>2018-04-26</td><td>765123</td><td>1805080AV3648347</td><td>null</td><td>Diagnosis F1520</td><td>ICD-10-CM</td><td>null</td></tr><tr><td>2018-04-27</td><td>2018-04-27</td><td>987321</td><td>1805080AV3648340</td><td>null</td><td>Diagnosis F1020</td><td>ICD-10-CM</td><td>null</td></tr><tr><td>2018-04-27</td><td>2018-04-27</td><td>987321</td><td>1805080AV3648340</td><td>null</td><td>Diagnosis F1020</td><td>ICD-10-CM</td><td>null</td></tr><tr><td>2018-04-28</td><td>2018-04-28</td><td>987321</td><td>1805080AV3648340</td><td>null</td><td>Diagnosis F1020</td><td>ICD-10-CM</td><td>null</td></tr><tr><td>2018-04-27</td><td>2018-04-27</td><td>765123</td><td>1805080AV3648353</td><td>null</td><td>Diagnosis F251</td><td>ICD-10-CM</td><td>null</td></tr><tr><td>2018-04-26</td><td>2018-04-26</td><td>765123</td><td>1805080AV3648353</td><td>null</td><td>Diagnosis F251</td><td>ICD-10-CM</td><td>null</td></tr><tr><td>2018-04-27</td><td>2018-04-27</td><td>987321</td><td>1805080AV3648355</td><td>null</td><td>Diagnosis F1020</td><td>ICD-10-CM</td><td>null</td></tr><tr><td>2018-04-27</td><td>2018-04-27</td><td>987321</td><td>1805080AV3648355</td><td>null</td><td>Diagnosis F1020</td><td>ICD-10-CM</td><td>null</td></tr><tr><td>2018-04-28</td><td>2018-04-28</td><td>987321</td><td>1805080AV3648355</td><td>null</td><td>Diagnosis F1020</td><td>ICD-10-CM</td><td>null</td></tr><tr><td>null</td><td>null</td><td>111111100</td><td>ABC11111</td><td>null</td><td>Diagnosis G5621</td><td>ICD-10-CM</td><td>null</td></tr><tr><td>null</td><td>null</td><td>111111100</td><td>ABC11111</td><td>null</td><td>Diagnosis G5621</td><td>ICD-10-CM</td><td>null</td></tr><tr><td>null</td><td>null</td><td>111111100</td><td>ABC11111</td><td>null</td><td>Diagnosis G5621</td><td>ICD-10-CM</td><td>null</td></tr><tr><td>null</td><td>null</td><td>111111100</td><td>ABC11111</td><td>null</td><td>Diagnosis G5621</td><td>ICD-10-CM</td><td>null</td></tr><tr><td>null</td><td>null</td><td>111111100</td><td>ABC11111</td><td>null</td><td>Diagnosis G5621</td><td>ICD-10-CM</td><td>null</td></tr><tr><td>null</td><td>null</td><td>11111117</td><td>ABC111112</td><td>null</td><td>Diagnosis K219</td><td>ICD-10-CM</td><td>null</td></tr><tr><td>null</td><td>null</td><td>11111117</td><td>ABC111112</td><td>null</td><td>Diagnosis K219</td><td>ICD-10-CM</td><td>null</td></tr></tbody></table></div>"
      ]
     },
     "metadata": {
      "application/vnd.databricks.v1+output": {
       "addedWidgets": {},
       "aggData": [],
       "aggError": "",
       "aggOverflow": false,
       "aggSchema": [],
       "aggSeriesLimitReached": false,
       "aggType": "",
       "arguments": {},
       "columnCustomDisplayInfos": {},
       "data": [
        [
         "2018-04-27",
         "2018-04-27",
         "987321",
         "1805080AV3648339",
         null,
         "Diagnosis F1120",
         "ICD-10-CM",
         null
        ],
        [
         "2018-04-27",
         "2018-04-27",
         "987321",
         "1805080AV3648339",
         null,
         "Diagnosis F1120",
         "ICD-10-CM",
         null
        ],
        [
         "2018-04-28",
         "2018-04-28",
         "987321",
         "1805080AV3648339",
         null,
         "Diagnosis F1120",
         "ICD-10-CM",
         null
        ],
        [
         "2018-04-27",
         "2018-04-27",
         "765123",
         "1805080AV3648347",
         null,
         "Diagnosis F1520",
         "ICD-10-CM",
         null
        ],
        [
         "2018-04-26",
         "2018-04-26",
         "765123",
         "1805080AV3648347",
         null,
         "Diagnosis F1520",
         "ICD-10-CM",
         null
        ],
        [
         "2018-04-27",
         "2018-04-27",
         "987321",
         "1805080AV3648340",
         null,
         "Diagnosis F1020",
         "ICD-10-CM",
         null
        ],
        [
         "2018-04-27",
         "2018-04-27",
         "987321",
         "1805080AV3648340",
         null,
         "Diagnosis F1020",
         "ICD-10-CM",
         null
        ],
        [
         "2018-04-28",
         "2018-04-28",
         "987321",
         "1805080AV3648340",
         null,
         "Diagnosis F1020",
         "ICD-10-CM",
         null
        ],
        [
         "2018-04-27",
         "2018-04-27",
         "765123",
         "1805080AV3648353",
         null,
         "Diagnosis F251",
         "ICD-10-CM",
         null
        ],
        [
         "2018-04-26",
         "2018-04-26",
         "765123",
         "1805080AV3648353",
         null,
         "Diagnosis F251",
         "ICD-10-CM",
         null
        ],
        [
         "2018-04-27",
         "2018-04-27",
         "987321",
         "1805080AV3648355",
         null,
         "Diagnosis F1020",
         "ICD-10-CM",
         null
        ],
        [
         "2018-04-27",
         "2018-04-27",
         "987321",
         "1805080AV3648355",
         null,
         "Diagnosis F1020",
         "ICD-10-CM",
         null
        ],
        [
         "2018-04-28",
         "2018-04-28",
         "987321",
         "1805080AV3648355",
         null,
         "Diagnosis F1020",
         "ICD-10-CM",
         null
        ],
        [
         null,
         null,
         "111111100",
         "ABC11111",
         null,
         "Diagnosis G5621",
         "ICD-10-CM",
         null
        ],
        [
         null,
         null,
         "111111100",
         "ABC11111",
         null,
         "Diagnosis G5621",
         "ICD-10-CM",
         null
        ],
        [
         null,
         null,
         "111111100",
         "ABC11111",
         null,
         "Diagnosis G5621",
         "ICD-10-CM",
         null
        ],
        [
         null,
         null,
         "111111100",
         "ABC11111",
         null,
         "Diagnosis G5621",
         "ICD-10-CM",
         null
        ],
        [
         null,
         null,
         "111111100",
         "ABC11111",
         null,
         "Diagnosis G5621",
         "ICD-10-CM",
         null
        ],
        [
         null,
         null,
         "11111117",
         "ABC111112",
         null,
         "Diagnosis K219",
         "ICD-10-CM",
         null
        ],
        [
         null,
         null,
         "11111117",
         "ABC111112",
         null,
         "Diagnosis K219",
         "ICD-10-CM",
         null
        ]
       ],
       "datasetInfos": [],
       "dbfsResultPath": null,
       "isJsonSchema": true,
       "metadata": {},
       "overflow": false,
       "plotOptions": {
        "customPlotOptions": {},
        "displayType": "table",
        "pivotAggregation": null,
        "pivotColumns": null,
        "xColumns": null,
        "yColumns": null
       },
       "removedWidgets": [],
       "schema": [
        {
         "metadata": "{}",
         "name": "START",
         "type": "\"date\""
        },
        {
         "metadata": "{}",
         "name": "STOP",
         "type": "\"date\""
        },
        {
         "metadata": "{}",
         "name": "PATIENT",
         "type": "\"string\""
        },
        {
         "metadata": "{}",
         "name": "ENCOUNTER",
         "type": "\"string\""
        },
        {
         "metadata": "{}",
         "name": "CODE",
         "type": "\"long\""
        },
        {
         "metadata": "{}",
         "name": "DESCRIPTION",
         "type": "\"string\""
        },
        {
         "metadata": "{}",
         "name": "SYSTEM",
         "type": "\"string\""
        },
        {
         "metadata": "{}",
         "name": "_rescued_data",
         "type": "\"string\""
        }
       ],
       "type": "table"
      }
     },
     "output_type": "display_data"
    }
   ],
   "source": [
    "df_conditions = spark.read.table(\"raven_catalog.x12_edi_parser.conditions\")\n",
    "display(df_conditions.limit(20))"
   ]
  },
  {
   "cell_type": "markdown",
   "metadata": {
    "application/vnd.databricks.v1+cell": {
     "cellMetadata": {},
     "inputWidgets": {},
     "nuid": "92e7cf79-f10c-4abc-9d69-caae98ee197d",
     "showTitle": false,
     "tableResultSettingsMap": {},
     "title": ""
    }
   },
   "source": [
    "#### Encounters"
   ]
  },
  {
   "cell_type": "code",
   "execution_count": 0,
   "metadata": {
    "application/vnd.databricks.v1+cell": {
     "cellMetadata": {
      "byteLimit": 2048000,
      "rowLimit": 10000
     },
     "collapsed": true,
     "inputWidgets": {},
     "nuid": "0e6923bf-4838-4af8-9b1d-4caf3a08b16e",
     "showTitle": true,
     "tableResultSettingsMap": {},
     "title": "Build Encounters Table"
    }
   },
   "outputs": [],
   "source": [
    "# ========== ENCOUNTERS ==========\n",
    "df_encounters = df_joined.groupBy(\"claim_id\", \"patient_id\", \"provider_npi\", \"payer_id\", \"organization\", \"facility_type_code\", \"dx_code\") \\\n",
    "    .agg(\n",
    "        _min(\"service_date\").alias(\"START\"),\n",
    "        _sum(\"line_charge\").alias(\"TOTAL_CLAIM_COST\")\n",
    "    ) \\\n",
    "    .withColumn(\"STOP\", lit(None).cast(\"timestamp\")) \\\n",
    "    .withColumn(\"Id\", col(\"claim_id\")) \\\n",
    "    .withColumn(\"ENCOUNTERCLASS\", expr(\"\"\"\n",
    "        CASE\n",
    "          WHEN facility_type_code LIKE '11%' THEN 'ambulatory'\n",
    "          WHEN facility_type_code LIKE '21%' THEN 'inpatient'\n",
    "          WHEN facility_type_code LIKE '22%' THEN 'outpatient'\n",
    "          ELSE 'other'\n",
    "        END\n",
    "    \"\"\")) \\\n",
    "    .withColumn(\"CODE\", col(\"dx_code\").cast(\"bigint\")) \\\n",
    "    .withColumn(\"DESCRIPTION\", concat(lit(\"Encounter for \"), col(\"dx_code\"))) \\\n",
    "    .withColumn(\"BASE_ENCOUNTER_COST\", col(\"TOTAL_CLAIM_COST\") / 2) \\\n",
    "    .withColumn(\"PAYER_COVERAGE\", col(\"TOTAL_CLAIM_COST\") * 0.8) \\\n",
    "    .withColumn(\"REASONCODE\", col(\"dx_code\").cast(\"bigint\")) \\\n",
    "    .withColumn(\"REASONDESCRIPTION\", concat(lit(\"Reason: \"), col(\"dx_code\"))) \\\n",
    "    .withColumn(\"_rescued_data\", lit(None).cast(\"string\")) \\\n",
    "    .selectExpr([\n",
    "        \"Id\", \"START\", \"STOP\", \"patient_id AS PATIENT\", \"organization AS ORGANIZATION\",\n",
    "        \"provider_npi AS PROVIDER\", \"payer_id AS PAYER\", \"ENCOUNTERCLASS\",\n",
    "        \"CODE\", \"DESCRIPTION\", \"BASE_ENCOUNTER_COST\", \"TOTAL_CLAIM_COST\",\n",
    "        \"PAYER_COVERAGE\", \"REASONCODE\", \"REASONDESCRIPTION\", \"_rescued_data\"\n",
    "    ])\n",
    "\n",
    "df_encounters.write.mode(\"overwrite\").saveAsTable(\"raven_catalog.x12_edi_parser.encounters\")\n"
   ]
  },
  {
   "cell_type": "code",
   "execution_count": 0,
   "metadata": {
    "application/vnd.databricks.v1+cell": {
     "cellMetadata": {
      "byteLimit": 2048000,
      "rowLimit": 10000
     },
     "collapsed": true,
     "inputWidgets": {},
     "nuid": "e4d82880-69b8-4a88-a9db-81d0fe3a0185",
     "showTitle": false,
     "tableResultSettingsMap": {},
     "title": ""
    }
   },
   "outputs": [
    {
     "data": {
      "text/html": [
       "<style scoped>\n",
       "  .table-result-container {\n",
       "    max-height: 300px;\n",
       "    overflow: auto;\n",
       "  }\n",
       "  table, th, td {\n",
       "    border: 1px solid black;\n",
       "    border-collapse: collapse;\n",
       "  }\n",
       "  th, td {\n",
       "    padding: 5px;\n",
       "  }\n",
       "  th {\n",
       "    text-align: left;\n",
       "  }\n",
       "</style><div class='table-result-container'><table class='table-result'><thead style='background-color: white'><tr><th>Id</th><th>START</th><th>STOP</th><th>PATIENT</th><th>ORGANIZATION</th><th>PROVIDER</th><th>PAYER</th><th>ENCOUNTERCLASS</th><th>CODE</th><th>DESCRIPTION</th><th>BASE_ENCOUNTER_COST</th><th>TOTAL_CLAIM_COST</th><th>PAYER_COVERAGE</th><th>REASONCODE</th><th>REASONDESCRIPTION</th><th>_rescued_data</th></tr></thead><tbody><tr><td>1805080AV3648355</td><td>2018-04-27</td><td>null</td><td>987321</td><td>123456789</td><td>1122334455</td><td>CHPWA</td><td>other</td><td>null</td><td>Encounter for F1020</td><td>25.82</td><td>51.64</td><td>41.312000000000005</td><td>null</td><td>Reason: F1020</td><td>null</td></tr><tr><td>ABC11111</td><td>null</td><td>null</td><td>111111100</td><td>ABCHYI OL POI</td><td>1222222220</td><td>ABCMMPIO</td><td>outpatient</td><td>null</td><td>Encounter for G5621</td><td>3052.5</td><td>6105.0</td><td>4884.0</td><td>null</td><td>Reason: G5621</td><td>null</td></tr><tr><td>1805080AV3648340</td><td>2018-04-27</td><td>null</td><td>987321</td><td>123456789</td><td>1122334455</td><td>CHPWA</td><td>other</td><td>null</td><td>Encounter for F1020</td><td>25.82</td><td>51.64</td><td>41.312000000000005</td><td>null</td><td>Reason: F1020</td><td>null</td></tr><tr><td>ABC111114</td><td>null</td><td>null</td><td>111111112</td><td>ABCHYI OL POI</td><td>1477527786</td><td>YTHF281123456</td><td>outpatient</td><td>null</td><td>Encounter for Q423</td><td>984.0</td><td>1968.0</td><td>1574.4</td><td>null</td><td>Reason: Q423</td><td>null</td></tr><tr><td>1805080AV3648339</td><td>2018-04-27</td><td>null</td><td>987321</td><td>123456789</td><td>1122334455</td><td>CHPWA</td><td>other</td><td>null</td><td>Encounter for F1120</td><td>25.82</td><td>51.64</td><td>41.312000000000005</td><td>null</td><td>Reason: F1120</td><td>null</td></tr><tr><td>1000A</td><td>2015-11-24</td><td>null</td><td>1234567890</td><td>RECEIVER</td><td>1122334455</td><td>12345</td><td>other</td><td>null</td><td>Encounter for I10</td><td>140.0</td><td>280.0</td><td>224.0</td><td>null</td><td>Reason: I10</td><td>null</td></tr><tr><td>1001A</td><td>2015-11-24</td><td>null</td><td>9876543201</td><td>RECEIVER</td><td>1122334455</td><td>12345</td><td>other</td><td>null</td><td>Encounter for I10</td><td>70.0</td><td>140.0</td><td>112.0</td><td>null</td><td>Reason: I10</td><td>null</td></tr><tr><td>1805080AV3648353</td><td>2018-04-26</td><td>null</td><td>765123</td><td>123456789</td><td>1122334455</td><td>CHPWA</td><td>other</td><td>null</td><td>Encounter for F251</td><td>142.05</td><td>284.1</td><td>227.28000000000003</td><td>null</td><td>Reason: F251</td><td>null</td></tr><tr><td>ABC111113</td><td>null</td><td>null</td><td>111111111</td><td>ABCHYI OL POI</td><td>1477527786</td><td>YTHF281123456</td><td>outpatient</td><td>null</td><td>Encounter for K4090</td><td>1660.5</td><td>3321.0</td><td>2656.8</td><td>null</td><td>Reason: K4090</td><td>null</td></tr><tr><td>TD-R192ICE00087</td><td>null</td><td>null</td><td>U0000000001</td><td>CENTENE CORP</td><td>9999999999</td><td>421406317</td><td>ambulatory</td><td>null</td><td>Encounter for F39</td><td>8883.35</td><td>17766.7</td><td>14213.36</td><td>null</td><td>Reason: F39</td><td>null</td></tr><tr><td>ABC111112</td><td>null</td><td>null</td><td>11111117</td><td>ABCHYI OL POI</td><td>1222222223</td><td>ABCMMPIO</td><td>outpatient</td><td>null</td><td>Encounter for K219</td><td>2152.5</td><td>4305.0</td><td>3444.0</td><td>null</td><td>Reason: K219</td><td>null</td></tr><tr><td>1805080AV3648347</td><td>2018-04-26</td><td>null</td><td>765123</td><td>123456789</td><td>1122334455</td><td>CHPWA</td><td>other</td><td>null</td><td>Encounter for F1520</td><td>142.05</td><td>284.1</td><td>227.28000000000003</td><td>null</td><td>Reason: F1520</td><td>null</td></tr><tr><td>TD-R192ICE00094</td><td>null</td><td>null</td><td>U0000000001</td><td>Centene Corporation</td><td>9999999999</td><td>421406317</td><td>ambulatory</td><td>null</td><td>Encounter for F341</td><td>8883.35</td><td>17766.7</td><td>14213.36</td><td>null</td><td>Reason: F341</td><td>null</td></tr></tbody></table></div>"
      ]
     },
     "metadata": {
      "application/vnd.databricks.v1+output": {
       "addedWidgets": {},
       "aggData": [],
       "aggError": "",
       "aggOverflow": false,
       "aggSchema": [],
       "aggSeriesLimitReached": false,
       "aggType": "",
       "arguments": {},
       "columnCustomDisplayInfos": {},
       "data": [
        [
         "1805080AV3648355",
         "2018-04-27",
         null,
         "987321",
         "123456789",
         "1122334455",
         "CHPWA",
         "other",
         null,
         "Encounter for F1020",
         25.82,
         51.64,
         41.312000000000005,
         null,
         "Reason: F1020",
         null
        ],
        [
         "ABC11111",
         null,
         null,
         "111111100",
         "ABCHYI OL POI",
         "1222222220",
         "ABCMMPIO",
         "outpatient",
         null,
         "Encounter for G5621",
         3052.5,
         6105,
         4884,
         null,
         "Reason: G5621",
         null
        ],
        [
         "1805080AV3648340",
         "2018-04-27",
         null,
         "987321",
         "123456789",
         "1122334455",
         "CHPWA",
         "other",
         null,
         "Encounter for F1020",
         25.82,
         51.64,
         41.312000000000005,
         null,
         "Reason: F1020",
         null
        ],
        [
         "ABC111114",
         null,
         null,
         "111111112",
         "ABCHYI OL POI",
         "1477527786",
         "YTHF281123456",
         "outpatient",
         null,
         "Encounter for Q423",
         984,
         1968,
         1574.4,
         null,
         "Reason: Q423",
         null
        ],
        [
         "1805080AV3648339",
         "2018-04-27",
         null,
         "987321",
         "123456789",
         "1122334455",
         "CHPWA",
         "other",
         null,
         "Encounter for F1120",
         25.82,
         51.64,
         41.312000000000005,
         null,
         "Reason: F1120",
         null
        ],
        [
         "1000A",
         "2015-11-24",
         null,
         "1234567890",
         "RECEIVER",
         "1122334455",
         "12345",
         "other",
         null,
         "Encounter for I10",
         140,
         280,
         224,
         null,
         "Reason: I10",
         null
        ],
        [
         "1001A",
         "2015-11-24",
         null,
         "9876543201",
         "RECEIVER",
         "1122334455",
         "12345",
         "other",
         null,
         "Encounter for I10",
         70,
         140,
         112,
         null,
         "Reason: I10",
         null
        ],
        [
         "1805080AV3648353",
         "2018-04-26",
         null,
         "765123",
         "123456789",
         "1122334455",
         "CHPWA",
         "other",
         null,
         "Encounter for F251",
         142.05,
         284.1,
         227.28000000000003,
         null,
         "Reason: F251",
         null
        ],
        [
         "ABC111113",
         null,
         null,
         "111111111",
         "ABCHYI OL POI",
         "1477527786",
         "YTHF281123456",
         "outpatient",
         null,
         "Encounter for K4090",
         1660.5,
         3321,
         2656.8,
         null,
         "Reason: K4090",
         null
        ],
        [
         "TD-R192ICE00087",
         null,
         null,
         "U0000000001",
         "CENTENE CORP",
         "9999999999",
         "421406317",
         "ambulatory",
         null,
         "Encounter for F39",
         8883.35,
         17766.7,
         14213.36,
         null,
         "Reason: F39",
         null
        ],
        [
         "ABC111112",
         null,
         null,
         "11111117",
         "ABCHYI OL POI",
         "1222222223",
         "ABCMMPIO",
         "outpatient",
         null,
         "Encounter for K219",
         2152.5,
         4305,
         3444,
         null,
         "Reason: K219",
         null
        ],
        [
         "1805080AV3648347",
         "2018-04-26",
         null,
         "765123",
         "123456789",
         "1122334455",
         "CHPWA",
         "other",
         null,
         "Encounter for F1520",
         142.05,
         284.1,
         227.28000000000003,
         null,
         "Reason: F1520",
         null
        ],
        [
         "TD-R192ICE00094",
         null,
         null,
         "U0000000001",
         "Centene Corporation",
         "9999999999",
         "421406317",
         "ambulatory",
         null,
         "Encounter for F341",
         8883.35,
         17766.7,
         14213.36,
         null,
         "Reason: F341",
         null
        ]
       ],
       "datasetInfos": [],
       "dbfsResultPath": null,
       "isJsonSchema": true,
       "metadata": {},
       "overflow": false,
       "plotOptions": {
        "customPlotOptions": {},
        "displayType": "table",
        "pivotAggregation": null,
        "pivotColumns": null,
        "xColumns": null,
        "yColumns": null
       },
       "removedWidgets": [],
       "schema": [
        {
         "metadata": "{}",
         "name": "Id",
         "type": "\"string\""
        },
        {
         "metadata": "{}",
         "name": "START",
         "type": "\"date\""
        },
        {
         "metadata": "{}",
         "name": "STOP",
         "type": "\"timestamp\""
        },
        {
         "metadata": "{}",
         "name": "PATIENT",
         "type": "\"string\""
        },
        {
         "metadata": "{}",
         "name": "ORGANIZATION",
         "type": "\"string\""
        },
        {
         "metadata": "{}",
         "name": "PROVIDER",
         "type": "\"string\""
        },
        {
         "metadata": "{}",
         "name": "PAYER",
         "type": "\"string\""
        },
        {
         "metadata": "{}",
         "name": "ENCOUNTERCLASS",
         "type": "\"string\""
        },
        {
         "metadata": "{}",
         "name": "CODE",
         "type": "\"long\""
        },
        {
         "metadata": "{}",
         "name": "DESCRIPTION",
         "type": "\"string\""
        },
        {
         "metadata": "{}",
         "name": "BASE_ENCOUNTER_COST",
         "type": "\"double\""
        },
        {
         "metadata": "{}",
         "name": "TOTAL_CLAIM_COST",
         "type": "\"double\""
        },
        {
         "metadata": "{}",
         "name": "PAYER_COVERAGE",
         "type": "\"double\""
        },
        {
         "metadata": "{}",
         "name": "REASONCODE",
         "type": "\"long\""
        },
        {
         "metadata": "{}",
         "name": "REASONDESCRIPTION",
         "type": "\"string\""
        },
        {
         "metadata": "{}",
         "name": "_rescued_data",
         "type": "\"string\""
        }
       ],
       "type": "table"
      }
     },
     "output_type": "display_data"
    }
   ],
   "source": [
    "df_encounters = spark.read.table(\"raven_catalog.x12_edi_parser.encounters\")\n",
    "display(df_encounters.limit(20))"
   ]
  },
  {
   "cell_type": "markdown",
   "metadata": {
    "application/vnd.databricks.v1+cell": {
     "cellMetadata": {},
     "inputWidgets": {},
     "nuid": "c3966665-e673-498e-a374-ae8ebc2658d2",
     "showTitle": false,
     "tableResultSettingsMap": {},
     "title": ""
    }
   },
   "source": [
    "#### Claims"
   ]
  },
  {
   "cell_type": "code",
   "execution_count": 0,
   "metadata": {
    "application/vnd.databricks.v1+cell": {
     "cellMetadata": {
      "byteLimit": 2048000,
      "rowLimit": 10000
     },
     "collapsed": true,
     "inputWidgets": {},
     "nuid": "aac65bdc-c9e7-4f18-b8e0-159327d0cc4e",
     "showTitle": true,
     "tableResultSettingsMap": {},
     "title": "Build Claims Table"
    }
   },
   "outputs": [],
   "source": [
    "\n",
    "# Parse date and charges in claim_line\n",
    "df_line_clean = df_line.withColumn(\"service_date\", to_date(col(\"claim_line.service_date\"), \"yyyyMMdd\")) \\\n",
    "                       .withColumn(\"line_charge\", col(\"claim_line.line_chrg_amt\").cast(DoubleType()))\n",
    "\n",
    "# Flatten header fields\n",
    "df_header_flat = df_header.select(\n",
    "    col(\"claim_header.claim_id\").alias(\"claim_id\"),\n",
    "    col(\"diagnosis.principal_dx_cd\").alias(\"dx_code\"),\n",
    "    col(\"payer.payer_identifier\").alias(\"payer_id\"),\n",
    "    col(\"receiver.name\").alias(\"organization\"),\n",
    "    col(\"providers.billing.npi\").alias(\"provider_id\"),\n",
    "    col(\"patient.subsciber_identifier\").alias(\"patient_id\"),\n",
    "    col(\"claim_header.facility_type_code\").alias(\"facility_type_code\")\n",
    ")\n",
    "\n",
    "# Join header and line on patient and filename (simulate claim-level grouping)\n",
    "df_joined_claim = df_line_clean.join(\n",
    "    df_header_flat,\n",
    "    on=[df_line_clean[\"patient.subsciber_identifier\"] == df_header_flat[\"patient_id\"]],\n",
    "    how=\"inner\"\n",
    ")\n",
    "\n",
    "# Group by header-level fields and aggregate to form claims\n",
    "df_claims = df_joined_claim.groupBy(\n",
    "    \"claim_id\", \"patient_id\", \"provider_id\", \"payer_id\", \"facility_type_code\", \"dx_code\",\n",
    ").agg(\n",
    "    _min(\"service_date\").alias(\"SERVICEDATE\"),\n",
    "    _sum(\"line_charge\").alias(\"OUTSTANDING1\")\n",
    ").withColumn(\"Id\", col(\"claim_id\")) \\\n",
    " .withColumn(\"PATIENTID\", col(\"patient_id\")) \\\n",
    " .withColumn(\"PROVIDERID\", col(\"provider_id\")) \\\n",
    " .withColumn(\"PRIMARYPATIENTINSURANCEID\", col(\"payer_id\")) \\\n",
    " .withColumn(\"SECONDARYPATIENTINSURANCEID\", lit(None).cast(\"string\")) \\\n",
    " .withColumn(\"DEPARTMENTID\", lit(1)) \\\n",
    " .withColumn(\"PATIENTDEPARTMENTID\", lit(1)) \\\n",
    " .withColumn(\"DIAGNOSIS1\", col(\"dx_code\").cast(\"bigint\")) \\\n",
    " .withColumn(\"DIAGNOSIS2\", lit(None).cast(\"bigint\")) \\\n",
    " .withColumn(\"DIAGNOSIS3\", lit(None).cast(\"bigint\")) \\\n",
    " .withColumn(\"DIAGNOSIS4\", lit(None).cast(\"bigint\")) \\\n",
    " .withColumn(\"DIAGNOSIS5\", lit(None).cast(\"bigint\")) \\\n",
    " .withColumn(\"DIAGNOSIS6\", lit(None).cast(\"bigint\")) \\\n",
    " .withColumn(\"DIAGNOSIS7\", lit(None).cast(\"bigint\")) \\\n",
    " .withColumn(\"DIAGNOSIS8\", lit(None).cast(\"int\")) \\\n",
    " .withColumn(\"REFERRINGPROVIDERID\", lit(None).cast(\"string\")) \\\n",
    " .withColumn(\"APPOINTMENTID\", lit(None).cast(\"string\")) \\\n",
    " .withColumn(\"CURRENTILLNESSDATE\", col(\"SERVICEDATE\").cast(\"timestamp\")) \\\n",
    " .withColumn(\"SUPERVISINGPROVIDERID\", lit(None).cast(\"string\")) \\\n",
    " .withColumn(\"STATUS1\", lit(\"Pending\")) \\\n",
    " .withColumn(\"STATUS2\", lit(\"Pending\")) \\\n",
    " .withColumn(\"STATUSP\", lit(\"Pending\")) \\\n",
    " .withColumn(\"OUTSTANDING2\", lit(None).cast(\"double\")) \\\n",
    " .withColumn(\"OUTSTANDINGP\", lit(None).cast(\"double\")) \\\n",
    " .withColumn(\"LASTBILLEDDATE1\", col(\"SERVICEDATE\").cast(\"timestamp\")) \\\n",
    " .withColumn(\"LASTBILLEDDATE2\", col(\"SERVICEDATE\").cast(\"timestamp\")) \\\n",
    " .withColumn(\"LASTBILLEDDATEP\", col(\"SERVICEDATE\").cast(\"timestamp\")) \\\n",
    " .withColumn(\"HEALTHCARECLAIMTYPEID1\", expr(\"\"\"\n",
    "     CASE\n",
    "         WHEN facility_type_code LIKE '21%' THEN 21\n",
    "         WHEN facility_type_code LIKE '11%' THEN 11\n",
    "         ELSE 99\n",
    "     END\n",
    " \"\"\")) \\\n",
    " .withColumn(\"HEALTHCARECLAIMTYPEID2\", lit(None).cast(\"int\")) \\\n",
    " .withColumn(\"_rescued_data\", lit(None).cast(\"string\"))\n",
    "\n",
    "# Save final claims table\n",
    "df_claims.write.mode(\"overwrite\").option(\"mergeSchema\", \"true\").saveAsTable(\"raven_catalog.x12_edi_parser.claims\")\n"
   ]
  },
  {
   "cell_type": "code",
   "execution_count": 0,
   "metadata": {
    "application/vnd.databricks.v1+cell": {
     "cellMetadata": {
      "byteLimit": 2048000,
      "rowLimit": 10000
     },
     "inputWidgets": {},
     "nuid": "af8c252a-c64b-4fa7-b091-98b2788d74fd",
     "showTitle": false,
     "tableResultSettingsMap": {},
     "title": ""
    }
   },
   "outputs": [
    {
     "data": {
      "text/html": [
       "<style scoped>\n",
       "  .table-result-container {\n",
       "    max-height: 300px;\n",
       "    overflow: auto;\n",
       "  }\n",
       "  table, th, td {\n",
       "    border: 1px solid black;\n",
       "    border-collapse: collapse;\n",
       "  }\n",
       "  th, td {\n",
       "    padding: 5px;\n",
       "  }\n",
       "  th {\n",
       "    text-align: left;\n",
       "  }\n",
       "</style><div class='table-result-container'><table class='table-result'><thead style='background-color: white'><tr><th>claim_id</th><th>patient_id</th><th>provider_id</th><th>payer_id</th><th>facility_type_code</th><th>dx_code</th><th>SERVICEDATE</th><th>OUTSTANDING1</th><th>Id</th><th>PATIENTID</th><th>PROVIDERID</th><th>PRIMARYPATIENTINSURANCEID</th><th>SECONDARYPATIENTINSURANCEID</th><th>DEPARTMENTID</th><th>PATIENTDEPARTMENTID</th><th>DIAGNOSIS1</th><th>DIAGNOSIS2</th><th>DIAGNOSIS3</th><th>DIAGNOSIS4</th><th>DIAGNOSIS5</th><th>DIAGNOSIS6</th><th>DIAGNOSIS7</th><th>DIAGNOSIS8</th><th>REFERRINGPROVIDERID</th><th>APPOINTMENTID</th><th>CURRENTILLNESSDATE</th><th>SUPERVISINGPROVIDERID</th><th>STATUS1</th><th>STATUS2</th><th>STATUSP</th><th>OUTSTANDING2</th><th>OUTSTANDINGP</th><th>LASTBILLEDDATE1</th><th>LASTBILLEDDATE2</th><th>LASTBILLEDDATEP</th><th>HEALTHCARECLAIMTYPEID1</th><th>HEALTHCARECLAIMTYPEID2</th><th>_rescued_data</th></tr></thead><tbody><tr><td>1805080AV3648340</td><td>987321</td><td>1122334455</td><td>CHPWA</td><td>57:B:1</td><td>F1020</td><td>2018-04-27</td><td>51.64</td><td>1805080AV3648340</td><td>987321</td><td>1122334455</td><td>CHPWA</td><td>null</td><td>1</td><td>1</td><td>null</td><td>null</td><td>null</td><td>null</td><td>null</td><td>null</td><td>null</td><td>null</td><td>null</td><td>null</td><td>2018-04-27T00:00:00Z</td><td>null</td><td>Pending</td><td>Pending</td><td>Pending</td><td>null</td><td>null</td><td>2018-04-27T00:00:00Z</td><td>2018-04-27T00:00:00Z</td><td>2018-04-27T00:00:00Z</td><td>99</td><td>null</td><td>null</td></tr><tr><td>ABC11111</td><td>111111100</td><td>1222222220</td><td>ABCMMPIO</td><td>22:B:1</td><td>G5621</td><td>null</td><td>6105.0</td><td>ABC11111</td><td>111111100</td><td>1222222220</td><td>ABCMMPIO</td><td>null</td><td>1</td><td>1</td><td>null</td><td>null</td><td>null</td><td>null</td><td>null</td><td>null</td><td>null</td><td>null</td><td>null</td><td>null</td><td>null</td><td>null</td><td>Pending</td><td>Pending</td><td>Pending</td><td>null</td><td>null</td><td>null</td><td>null</td><td>null</td><td>99</td><td>null</td><td>null</td></tr><tr><td>ABC111114</td><td>111111112</td><td>1477527786</td><td>YTHF281123456</td><td>22:B:1</td><td>Q423</td><td>null</td><td>1968.0</td><td>ABC111114</td><td>111111112</td><td>1477527786</td><td>YTHF281123456</td><td>null</td><td>1</td><td>1</td><td>null</td><td>null</td><td>null</td><td>null</td><td>null</td><td>null</td><td>null</td><td>null</td><td>null</td><td>null</td><td>null</td><td>null</td><td>Pending</td><td>Pending</td><td>Pending</td><td>null</td><td>null</td><td>null</td><td>null</td><td>null</td><td>99</td><td>null</td><td>null</td></tr><tr><td>ABC111112</td><td>11111117</td><td>1222222223</td><td>ABCMMPIO</td><td>22:B:1</td><td>K219</td><td>null</td><td>4305.0</td><td>ABC111112</td><td>11111117</td><td>1222222223</td><td>ABCMMPIO</td><td>null</td><td>1</td><td>1</td><td>null</td><td>null</td><td>null</td><td>null</td><td>null</td><td>null</td><td>null</td><td>null</td><td>null</td><td>null</td><td>null</td><td>null</td><td>Pending</td><td>Pending</td><td>Pending</td><td>null</td><td>null</td><td>null</td><td>null</td><td>null</td><td>99</td><td>null</td><td>null</td></tr><tr><td>TD-R192ICE00087</td><td>U0000000001</td><td>9999999999</td><td>421406317</td><td>11:A:1</td><td>F39</td><td>null</td><td>17766.7</td><td>TD-R192ICE00087</td><td>U0000000001</td><td>9999999999</td><td>421406317</td><td>null</td><td>1</td><td>1</td><td>null</td><td>null</td><td>null</td><td>null</td><td>null</td><td>null</td><td>null</td><td>null</td><td>null</td><td>null</td><td>null</td><td>null</td><td>Pending</td><td>Pending</td><td>Pending</td><td>null</td><td>null</td><td>null</td><td>null</td><td>null</td><td>11</td><td>null</td><td>null</td></tr><tr><td>1805080AV3648347</td><td>765123</td><td>1122334455</td><td>CHPWA</td><td>57:B:1</td><td>F1520</td><td>2018-04-26</td><td>284.1</td><td>1805080AV3648347</td><td>765123</td><td>1122334455</td><td>CHPWA</td><td>null</td><td>1</td><td>1</td><td>null</td><td>null</td><td>null</td><td>null</td><td>null</td><td>null</td><td>null</td><td>null</td><td>null</td><td>null</td><td>2018-04-26T00:00:00Z</td><td>null</td><td>Pending</td><td>Pending</td><td>Pending</td><td>null</td><td>null</td><td>2018-04-26T00:00:00Z</td><td>2018-04-26T00:00:00Z</td><td>2018-04-26T00:00:00Z</td><td>99</td><td>null</td><td>null</td></tr><tr><td>1805080AV3648353</td><td>765123</td><td>1122334455</td><td>CHPWA</td><td>53:B:1</td><td>F251</td><td>2018-04-26</td><td>284.1</td><td>1805080AV3648353</td><td>765123</td><td>1122334455</td><td>CHPWA</td><td>null</td><td>1</td><td>1</td><td>null</td><td>null</td><td>null</td><td>null</td><td>null</td><td>null</td><td>null</td><td>null</td><td>null</td><td>null</td><td>2018-04-26T00:00:00Z</td><td>null</td><td>Pending</td><td>Pending</td><td>Pending</td><td>null</td><td>null</td><td>2018-04-26T00:00:00Z</td><td>2018-04-26T00:00:00Z</td><td>2018-04-26T00:00:00Z</td><td>99</td><td>null</td><td>null</td></tr><tr><td>1000A</td><td>1234567890</td><td>1122334455</td><td>12345</td><td>19:B:1</td><td>I10</td><td>2015-11-24</td><td>280.0</td><td>1000A</td><td>1234567890</td><td>1122334455</td><td>12345</td><td>null</td><td>1</td><td>1</td><td>null</td><td>null</td><td>null</td><td>null</td><td>null</td><td>null</td><td>null</td><td>null</td><td>null</td><td>null</td><td>2015-11-24T00:00:00Z</td><td>null</td><td>Pending</td><td>Pending</td><td>Pending</td><td>null</td><td>null</td><td>2015-11-24T00:00:00Z</td><td>2015-11-24T00:00:00Z</td><td>2015-11-24T00:00:00Z</td><td>99</td><td>null</td><td>null</td></tr><tr><td>1805080AV3648355</td><td>987321</td><td>1122334455</td><td>CHPWA</td><td>57:B:1</td><td>F1020</td><td>2018-04-27</td><td>51.64</td><td>1805080AV3648355</td><td>987321</td><td>1122334455</td><td>CHPWA</td><td>null</td><td>1</td><td>1</td><td>null</td><td>null</td><td>null</td><td>null</td><td>null</td><td>null</td><td>null</td><td>null</td><td>null</td><td>null</td><td>2018-04-27T00:00:00Z</td><td>null</td><td>Pending</td><td>Pending</td><td>Pending</td><td>null</td><td>null</td><td>2018-04-27T00:00:00Z</td><td>2018-04-27T00:00:00Z</td><td>2018-04-27T00:00:00Z</td><td>99</td><td>null</td><td>null</td></tr><tr><td>ABC111113</td><td>111111111</td><td>1477527786</td><td>YTHF281123456</td><td>22:B:1</td><td>K4090</td><td>null</td><td>3321.0</td><td>ABC111113</td><td>111111111</td><td>1477527786</td><td>YTHF281123456</td><td>null</td><td>1</td><td>1</td><td>null</td><td>null</td><td>null</td><td>null</td><td>null</td><td>null</td><td>null</td><td>null</td><td>null</td><td>null</td><td>null</td><td>null</td><td>Pending</td><td>Pending</td><td>Pending</td><td>null</td><td>null</td><td>null</td><td>null</td><td>null</td><td>99</td><td>null</td><td>null</td></tr><tr><td>1805080AV3648339</td><td>987321</td><td>1122334455</td><td>CHPWA</td><td>57:B:1</td><td>F1120</td><td>2018-04-27</td><td>51.64</td><td>1805080AV3648339</td><td>987321</td><td>1122334455</td><td>CHPWA</td><td>null</td><td>1</td><td>1</td><td>null</td><td>null</td><td>null</td><td>null</td><td>null</td><td>null</td><td>null</td><td>null</td><td>null</td><td>null</td><td>2018-04-27T00:00:00Z</td><td>null</td><td>Pending</td><td>Pending</td><td>Pending</td><td>null</td><td>null</td><td>2018-04-27T00:00:00Z</td><td>2018-04-27T00:00:00Z</td><td>2018-04-27T00:00:00Z</td><td>99</td><td>null</td><td>null</td></tr><tr><td>1001A</td><td>9876543201</td><td>1122334455</td><td>12345</td><td>19:B:1</td><td>I10</td><td>2015-11-24</td><td>140.0</td><td>1001A</td><td>9876543201</td><td>1122334455</td><td>12345</td><td>null</td><td>1</td><td>1</td><td>null</td><td>null</td><td>null</td><td>null</td><td>null</td><td>null</td><td>null</td><td>null</td><td>null</td><td>null</td><td>2015-11-24T00:00:00Z</td><td>null</td><td>Pending</td><td>Pending</td><td>Pending</td><td>null</td><td>null</td><td>2015-11-24T00:00:00Z</td><td>2015-11-24T00:00:00Z</td><td>2015-11-24T00:00:00Z</td><td>99</td><td>null</td><td>null</td></tr><tr><td>TD-R192ICE00094</td><td>U0000000001</td><td>9999999999</td><td>421406317</td><td>11:B:1</td><td>F341</td><td>null</td><td>17766.7</td><td>TD-R192ICE00094</td><td>U0000000001</td><td>9999999999</td><td>421406317</td><td>null</td><td>1</td><td>1</td><td>null</td><td>null</td><td>null</td><td>null</td><td>null</td><td>null</td><td>null</td><td>null</td><td>null</td><td>null</td><td>null</td><td>null</td><td>Pending</td><td>Pending</td><td>Pending</td><td>null</td><td>null</td><td>null</td><td>null</td><td>null</td><td>11</td><td>null</td><td>null</td></tr></tbody></table></div>"
      ]
     },
     "metadata": {
      "application/vnd.databricks.v1+output": {
       "addedWidgets": {},
       "aggData": [],
       "aggError": "",
       "aggOverflow": false,
       "aggSchema": [],
       "aggSeriesLimitReached": false,
       "aggType": "",
       "arguments": {},
       "columnCustomDisplayInfos": {},
       "data": [
        [
         "1805080AV3648340",
         "987321",
         "1122334455",
         "CHPWA",
         "57:B:1",
         "F1020",
         "2018-04-27",
         51.64,
         "1805080AV3648340",
         "987321",
         "1122334455",
         "CHPWA",
         null,
         1,
         1,
         null,
         null,
         null,
         null,
         null,
         null,
         null,
         null,
         null,
         null,
         "2018-04-27T00:00:00Z",
         null,
         "Pending",
         "Pending",
         "Pending",
         null,
         null,
         "2018-04-27T00:00:00Z",
         "2018-04-27T00:00:00Z",
         "2018-04-27T00:00:00Z",
         99,
         null,
         null
        ],
        [
         "ABC11111",
         "111111100",
         "1222222220",
         "ABCMMPIO",
         "22:B:1",
         "G5621",
         null,
         6105,
         "ABC11111",
         "111111100",
         "1222222220",
         "ABCMMPIO",
         null,
         1,
         1,
         null,
         null,
         null,
         null,
         null,
         null,
         null,
         null,
         null,
         null,
         null,
         null,
         "Pending",
         "Pending",
         "Pending",
         null,
         null,
         null,
         null,
         null,
         99,
         null,
         null
        ],
        [
         "ABC111114",
         "111111112",
         "1477527786",
         "YTHF281123456",
         "22:B:1",
         "Q423",
         null,
         1968,
         "ABC111114",
         "111111112",
         "1477527786",
         "YTHF281123456",
         null,
         1,
         1,
         null,
         null,
         null,
         null,
         null,
         null,
         null,
         null,
         null,
         null,
         null,
         null,
         "Pending",
         "Pending",
         "Pending",
         null,
         null,
         null,
         null,
         null,
         99,
         null,
         null
        ],
        [
         "ABC111112",
         "11111117",
         "1222222223",
         "ABCMMPIO",
         "22:B:1",
         "K219",
         null,
         4305,
         "ABC111112",
         "11111117",
         "1222222223",
         "ABCMMPIO",
         null,
         1,
         1,
         null,
         null,
         null,
         null,
         null,
         null,
         null,
         null,
         null,
         null,
         null,
         null,
         "Pending",
         "Pending",
         "Pending",
         null,
         null,
         null,
         null,
         null,
         99,
         null,
         null
        ],
        [
         "TD-R192ICE00087",
         "U0000000001",
         "9999999999",
         "421406317",
         "11:A:1",
         "F39",
         null,
         17766.7,
         "TD-R192ICE00087",
         "U0000000001",
         "9999999999",
         "421406317",
         null,
         1,
         1,
         null,
         null,
         null,
         null,
         null,
         null,
         null,
         null,
         null,
         null,
         null,
         null,
         "Pending",
         "Pending",
         "Pending",
         null,
         null,
         null,
         null,
         null,
         11,
         null,
         null
        ],
        [
         "1805080AV3648347",
         "765123",
         "1122334455",
         "CHPWA",
         "57:B:1",
         "F1520",
         "2018-04-26",
         284.1,
         "1805080AV3648347",
         "765123",
         "1122334455",
         "CHPWA",
         null,
         1,
         1,
         null,
         null,
         null,
         null,
         null,
         null,
         null,
         null,
         null,
         null,
         "2018-04-26T00:00:00Z",
         null,
         "Pending",
         "Pending",
         "Pending",
         null,
         null,
         "2018-04-26T00:00:00Z",
         "2018-04-26T00:00:00Z",
         "2018-04-26T00:00:00Z",
         99,
         null,
         null
        ],
        [
         "1805080AV3648353",
         "765123",
         "1122334455",
         "CHPWA",
         "53:B:1",
         "F251",
         "2018-04-26",
         284.1,
         "1805080AV3648353",
         "765123",
         "1122334455",
         "CHPWA",
         null,
         1,
         1,
         null,
         null,
         null,
         null,
         null,
         null,
         null,
         null,
         null,
         null,
         "2018-04-26T00:00:00Z",
         null,
         "Pending",
         "Pending",
         "Pending",
         null,
         null,
         "2018-04-26T00:00:00Z",
         "2018-04-26T00:00:00Z",
         "2018-04-26T00:00:00Z",
         99,
         null,
         null
        ],
        [
         "1000A",
         "1234567890",
         "1122334455",
         "12345",
         "19:B:1",
         "I10",
         "2015-11-24",
         280,
         "1000A",
         "1234567890",
         "1122334455",
         "12345",
         null,
         1,
         1,
         null,
         null,
         null,
         null,
         null,
         null,
         null,
         null,
         null,
         null,
         "2015-11-24T00:00:00Z",
         null,
         "Pending",
         "Pending",
         "Pending",
         null,
         null,
         "2015-11-24T00:00:00Z",
         "2015-11-24T00:00:00Z",
         "2015-11-24T00:00:00Z",
         99,
         null,
         null
        ],
        [
         "1805080AV3648355",
         "987321",
         "1122334455",
         "CHPWA",
         "57:B:1",
         "F1020",
         "2018-04-27",
         51.64,
         "1805080AV3648355",
         "987321",
         "1122334455",
         "CHPWA",
         null,
         1,
         1,
         null,
         null,
         null,
         null,
         null,
         null,
         null,
         null,
         null,
         null,
         "2018-04-27T00:00:00Z",
         null,
         "Pending",
         "Pending",
         "Pending",
         null,
         null,
         "2018-04-27T00:00:00Z",
         "2018-04-27T00:00:00Z",
         "2018-04-27T00:00:00Z",
         99,
         null,
         null
        ],
        [
         "ABC111113",
         "111111111",
         "1477527786",
         "YTHF281123456",
         "22:B:1",
         "K4090",
         null,
         3321,
         "ABC111113",
         "111111111",
         "1477527786",
         "YTHF281123456",
         null,
         1,
         1,
         null,
         null,
         null,
         null,
         null,
         null,
         null,
         null,
         null,
         null,
         null,
         null,
         "Pending",
         "Pending",
         "Pending",
         null,
         null,
         null,
         null,
         null,
         99,
         null,
         null
        ],
        [
         "1805080AV3648339",
         "987321",
         "1122334455",
         "CHPWA",
         "57:B:1",
         "F1120",
         "2018-04-27",
         51.64,
         "1805080AV3648339",
         "987321",
         "1122334455",
         "CHPWA",
         null,
         1,
         1,
         null,
         null,
         null,
         null,
         null,
         null,
         null,
         null,
         null,
         null,
         "2018-04-27T00:00:00Z",
         null,
         "Pending",
         "Pending",
         "Pending",
         null,
         null,
         "2018-04-27T00:00:00Z",
         "2018-04-27T00:00:00Z",
         "2018-04-27T00:00:00Z",
         99,
         null,
         null
        ],
        [
         "1001A",
         "9876543201",
         "1122334455",
         "12345",
         "19:B:1",
         "I10",
         "2015-11-24",
         140,
         "1001A",
         "9876543201",
         "1122334455",
         "12345",
         null,
         1,
         1,
         null,
         null,
         null,
         null,
         null,
         null,
         null,
         null,
         null,
         null,
         "2015-11-24T00:00:00Z",
         null,
         "Pending",
         "Pending",
         "Pending",
         null,
         null,
         "2015-11-24T00:00:00Z",
         "2015-11-24T00:00:00Z",
         "2015-11-24T00:00:00Z",
         99,
         null,
         null
        ],
        [
         "TD-R192ICE00094",
         "U0000000001",
         "9999999999",
         "421406317",
         "11:B:1",
         "F341",
         null,
         17766.7,
         "TD-R192ICE00094",
         "U0000000001",
         "9999999999",
         "421406317",
         null,
         1,
         1,
         null,
         null,
         null,
         null,
         null,
         null,
         null,
         null,
         null,
         null,
         null,
         null,
         "Pending",
         "Pending",
         "Pending",
         null,
         null,
         null,
         null,
         null,
         11,
         null,
         null
        ]
       ],
       "datasetInfos": [],
       "dbfsResultPath": null,
       "isJsonSchema": true,
       "metadata": {},
       "overflow": false,
       "plotOptions": {
        "customPlotOptions": {},
        "displayType": "table",
        "pivotAggregation": null,
        "pivotColumns": null,
        "xColumns": null,
        "yColumns": null
       },
       "removedWidgets": [],
       "schema": [
        {
         "metadata": "{}",
         "name": "claim_id",
         "type": "\"string\""
        },
        {
         "metadata": "{}",
         "name": "patient_id",
         "type": "\"string\""
        },
        {
         "metadata": "{}",
         "name": "provider_id",
         "type": "\"string\""
        },
        {
         "metadata": "{}",
         "name": "payer_id",
         "type": "\"string\""
        },
        {
         "metadata": "{}",
         "name": "facility_type_code",
         "type": "\"string\""
        },
        {
         "metadata": "{}",
         "name": "dx_code",
         "type": "\"string\""
        },
        {
         "metadata": "{}",
         "name": "SERVICEDATE",
         "type": "\"date\""
        },
        {
         "metadata": "{}",
         "name": "OUTSTANDING1",
         "type": "\"double\""
        },
        {
         "metadata": "{}",
         "name": "Id",
         "type": "\"string\""
        },
        {
         "metadata": "{}",
         "name": "PATIENTID",
         "type": "\"string\""
        },
        {
         "metadata": "{}",
         "name": "PROVIDERID",
         "type": "\"string\""
        },
        {
         "metadata": "{}",
         "name": "PRIMARYPATIENTINSURANCEID",
         "type": "\"string\""
        },
        {
         "metadata": "{}",
         "name": "SECONDARYPATIENTINSURANCEID",
         "type": "\"string\""
        },
        {
         "metadata": "{}",
         "name": "DEPARTMENTID",
         "type": "\"integer\""
        },
        {
         "metadata": "{}",
         "name": "PATIENTDEPARTMENTID",
         "type": "\"integer\""
        },
        {
         "metadata": "{}",
         "name": "DIAGNOSIS1",
         "type": "\"long\""
        },
        {
         "metadata": "{}",
         "name": "DIAGNOSIS2",
         "type": "\"long\""
        },
        {
         "metadata": "{}",
         "name": "DIAGNOSIS3",
         "type": "\"long\""
        },
        {
         "metadata": "{}",
         "name": "DIAGNOSIS4",
         "type": "\"long\""
        },
        {
         "metadata": "{}",
         "name": "DIAGNOSIS5",
         "type": "\"long\""
        },
        {
         "metadata": "{}",
         "name": "DIAGNOSIS6",
         "type": "\"long\""
        },
        {
         "metadata": "{}",
         "name": "DIAGNOSIS7",
         "type": "\"long\""
        },
        {
         "metadata": "{}",
         "name": "DIAGNOSIS8",
         "type": "\"integer\""
        },
        {
         "metadata": "{}",
         "name": "REFERRINGPROVIDERID",
         "type": "\"string\""
        },
        {
         "metadata": "{}",
         "name": "APPOINTMENTID",
         "type": "\"string\""
        },
        {
         "metadata": "{}",
         "name": "CURRENTILLNESSDATE",
         "type": "\"timestamp\""
        },
        {
         "metadata": "{}",
         "name": "SUPERVISINGPROVIDERID",
         "type": "\"string\""
        },
        {
         "metadata": "{}",
         "name": "STATUS1",
         "type": "\"string\""
        },
        {
         "metadata": "{}",
         "name": "STATUS2",
         "type": "\"string\""
        },
        {
         "metadata": "{}",
         "name": "STATUSP",
         "type": "\"string\""
        },
        {
         "metadata": "{}",
         "name": "OUTSTANDING2",
         "type": "\"double\""
        },
        {
         "metadata": "{}",
         "name": "OUTSTANDINGP",
         "type": "\"double\""
        },
        {
         "metadata": "{}",
         "name": "LASTBILLEDDATE1",
         "type": "\"timestamp\""
        },
        {
         "metadata": "{}",
         "name": "LASTBILLEDDATE2",
         "type": "\"timestamp\""
        },
        {
         "metadata": "{}",
         "name": "LASTBILLEDDATEP",
         "type": "\"timestamp\""
        },
        {
         "metadata": "{}",
         "name": "HEALTHCARECLAIMTYPEID1",
         "type": "\"integer\""
        },
        {
         "metadata": "{}",
         "name": "HEALTHCARECLAIMTYPEID2",
         "type": "\"integer\""
        },
        {
         "metadata": "{}",
         "name": "_rescued_data",
         "type": "\"string\""
        }
       ],
       "type": "table"
      }
     },
     "output_type": "display_data"
    }
   ],
   "source": [
    "claims_df = spark.read.table(\"raven_catalog.x12_edi_parser.claims\")\n",
    "display(claims_df.limit(20))"
   ]
  },
  {
   "cell_type": "markdown",
   "metadata": {
    "application/vnd.databricks.v1+cell": {
     "cellMetadata": {},
     "inputWidgets": {},
     "nuid": "15e3e0db-0eb8-4ef3-893f-2b474e2f7951",
     "showTitle": false,
     "tableResultSettingsMap": {},
     "title": ""
    }
   },
   "source": [
    "#### Procedures table"
   ]
  },
  {
   "cell_type": "code",
   "execution_count": 0,
   "metadata": {
    "application/vnd.databricks.v1+cell": {
     "cellMetadata": {
      "byteLimit": 2048000,
      "rowLimit": 10000
     },
     "collapsed": true,
     "inputWidgets": {},
     "nuid": "b0a06694-360f-4c8c-a6d8-00a77741cbdb",
     "showTitle": false,
     "tableResultSettingsMap": {},
     "title": ""
    }
   },
   "outputs": [],
   "source": [
    "# Prep line-level fields\n",
    "df_line_clean = df_line.withColumn(\"START\", to_date(col(\"claim_line.service_date\"), \"yyyyMMdd\")) \\\n",
    "                       .withColumn(\"STOP\", to_date(col(\"claim_line.service_date\"), \"yyyyMMdd\")) \\\n",
    "                       .withColumn(\"CODE\", col(\"claim_line.prcdr_cd\").cast(\"bigint\")) \\\n",
    "                       .withColumn(\"BASE_COST\", col(\"claim_line.line_chrg_amt\").cast(DoubleType())) \\\n",
    "\n",
    "# Join to get patient, diagnosis\n",
    "df_proc_joined = df_line_clean.join(\n",
    "    df_header.select(\n",
    "        col(\"diagnosis.principal_dx_cd\").alias(\"REASONCODE\"),\n",
    "        col(\"patient.subsciber_identifier\").alias(\"PATIENT_ID\"),\n",
    "        col(\"claim_header.claim_id\").alias(\"ENCOUNTER\")\n",
    "    ),\n",
    "    df_line_clean[\"patient.subsciber_identifier\"] == col(\"PATIENT_ID\"),\n",
    "    how=\"inner\"\n",
    ")\n",
    "\n",
    "# Final field mappings\n",
    "df_procedures = df_proc_joined.select(\n",
    "    col(\"START\"),\n",
    "    col(\"STOP\"),\n",
    "    col(\"PATIENT_ID\").alias(\"PATIENT\"),\n",
    "    col(\"ENCOUNTER\"),\n",
    "    col(\"CODE\"),\n",
    "    concat(lit(\"Procedure \"), col(\"CODE\")).alias(\"DESCRIPTION\"),\n",
    "    col(\"BASE_COST\"),\n",
    "    col(\"REASONCODE\").cast(\"bigint\"),\n",
    "    concat(lit(\"Diagnosis \"), col(\"REASONCODE\")).alias(\"REASONDESCRIPTION\"),\n",
    "    lit(\"HCPCS\").alias(\"SYSTEM\"),  # or use \"ICD-10-PCS\" if appropriate\n",
    "    lit(None).cast(\"string\").alias(\"_rescued_data\")\n",
    ")\n",
    "\n",
    "df_procedures.write.mode(\"overwrite\").option(\"mergeSchema\", \"true\").saveAsTable(\"raven_catalog.x12_edi_parser.procedures\")\n"
   ]
  },
  {
   "cell_type": "code",
   "execution_count": 0,
   "metadata": {
    "application/vnd.databricks.v1+cell": {
     "cellMetadata": {
      "byteLimit": 2048000,
      "rowLimit": 10000
     },
     "inputWidgets": {},
     "nuid": "696dd8ed-ebfe-4fac-97cd-667f15750a53",
     "showTitle": false,
     "tableResultSettingsMap": {},
     "title": ""
    }
   },
   "outputs": [
    {
     "data": {
      "text/html": [
       "<style scoped>\n",
       "  .table-result-container {\n",
       "    max-height: 300px;\n",
       "    overflow: auto;\n",
       "  }\n",
       "  table, th, td {\n",
       "    border: 1px solid black;\n",
       "    border-collapse: collapse;\n",
       "  }\n",
       "  th, td {\n",
       "    padding: 5px;\n",
       "  }\n",
       "  th {\n",
       "    text-align: left;\n",
       "  }\n",
       "</style><div class='table-result-container'><table class='table-result'><thead style='background-color: white'><tr><th>START</th><th>STOP</th><th>PATIENT</th><th>ENCOUNTER</th><th>CODE</th><th>DESCRIPTION</th><th>BASE_COST</th><th>REASONCODE</th><th>REASONDESCRIPTION</th><th>SYSTEM</th><th>_rescued_data</th></tr></thead><tbody><tr><td>2018-04-27</td><td>2018-04-27</td><td>987321</td><td>1805080AV3648339</td><td>null</td><td>null</td><td>20.0</td><td>null</td><td>Diagnosis F1120</td><td>HCPCS</td><td>null</td></tr><tr><td>2018-04-27</td><td>2018-04-27</td><td>987321</td><td>1805080AV3648339</td><td>null</td><td>null</td><td>11.64</td><td>null</td><td>Diagnosis F1120</td><td>HCPCS</td><td>null</td></tr><tr><td>2018-04-28</td><td>2018-04-28</td><td>987321</td><td>1805080AV3648339</td><td>null</td><td>null</td><td>20.0</td><td>null</td><td>Diagnosis F1120</td><td>HCPCS</td><td>null</td></tr><tr><td>2018-04-27</td><td>2018-04-27</td><td>765123</td><td>1805080AV3648347</td><td>90853</td><td>Procedure 90853</td><td>234.0</td><td>null</td><td>Diagnosis F1520</td><td>HCPCS</td><td>null</td></tr><tr><td>2018-04-26</td><td>2018-04-26</td><td>765123</td><td>1805080AV3648347</td><td>96153</td><td>Procedure 96153</td><td>50.1</td><td>null</td><td>Diagnosis F1520</td><td>HCPCS</td><td>null</td></tr><tr><td>2018-04-27</td><td>2018-04-27</td><td>987321</td><td>1805080AV3648340</td><td>null</td><td>null</td><td>20.0</td><td>null</td><td>Diagnosis F1020</td><td>HCPCS</td><td>null</td></tr><tr><td>2018-04-27</td><td>2018-04-27</td><td>987321</td><td>1805080AV3648340</td><td>null</td><td>null</td><td>11.64</td><td>null</td><td>Diagnosis F1020</td><td>HCPCS</td><td>null</td></tr><tr><td>2018-04-28</td><td>2018-04-28</td><td>987321</td><td>1805080AV3648340</td><td>null</td><td>null</td><td>20.0</td><td>null</td><td>Diagnosis F1020</td><td>HCPCS</td><td>null</td></tr><tr><td>2018-04-27</td><td>2018-04-27</td><td>765123</td><td>1805080AV3648353</td><td>90853</td><td>Procedure 90853</td><td>234.0</td><td>null</td><td>Diagnosis F251</td><td>HCPCS</td><td>null</td></tr><tr><td>2018-04-26</td><td>2018-04-26</td><td>765123</td><td>1805080AV3648353</td><td>96153</td><td>Procedure 96153</td><td>50.1</td><td>null</td><td>Diagnosis F251</td><td>HCPCS</td><td>null</td></tr><tr><td>2018-04-27</td><td>2018-04-27</td><td>987321</td><td>1805080AV3648355</td><td>null</td><td>null</td><td>20.0</td><td>null</td><td>Diagnosis F1020</td><td>HCPCS</td><td>null</td></tr><tr><td>2018-04-27</td><td>2018-04-27</td><td>987321</td><td>1805080AV3648355</td><td>null</td><td>null</td><td>11.64</td><td>null</td><td>Diagnosis F1020</td><td>HCPCS</td><td>null</td></tr><tr><td>2018-04-28</td><td>2018-04-28</td><td>987321</td><td>1805080AV3648355</td><td>null</td><td>null</td><td>20.0</td><td>null</td><td>Diagnosis F1020</td><td>HCPCS</td><td>null</td></tr><tr><td>null</td><td>null</td><td>111111100</td><td>ABC11111</td><td>62322</td><td>Procedure 62322</td><td>738.0</td><td>null</td><td>Diagnosis G5621</td><td>HCPCS</td><td>null</td></tr><tr><td>null</td><td>null</td><td>111111100</td><td>ABC11111</td><td>902</td><td>Procedure 902</td><td>1230.0</td><td>null</td><td>Diagnosis G5621</td><td>HCPCS</td><td>null</td></tr><tr><td>null</td><td>null</td><td>111111100</td><td>ABC11111</td><td>840</td><td>Procedure 840</td><td>1353.0</td><td>null</td><td>Diagnosis G5621</td><td>HCPCS</td><td>null</td></tr><tr><td>null</td><td>null</td><td>111111100</td><td>ABC11111</td><td>731</td><td>Procedure 731</td><td>984.0</td><td>null</td><td>Diagnosis G5621</td><td>HCPCS</td><td>null</td></tr><tr><td>null</td><td>null</td><td>111111100</td><td>ABC11111</td><td>1710</td><td>Procedure 1710</td><td>1800.0</td><td>null</td><td>Diagnosis G5621</td><td>HCPCS</td><td>null</td></tr><tr><td>null</td><td>null</td><td>11111117</td><td>ABC111112</td><td>62322</td><td>Procedure 62322</td><td>738.0</td><td>null</td><td>Diagnosis K219</td><td>HCPCS</td><td>null</td></tr><tr><td>null</td><td>null</td><td>11111117</td><td>ABC111112</td><td>902</td><td>Procedure 902</td><td>1230.0</td><td>null</td><td>Diagnosis K219</td><td>HCPCS</td><td>null</td></tr></tbody></table></div>"
      ]
     },
     "metadata": {
      "application/vnd.databricks.v1+output": {
       "addedWidgets": {},
       "aggData": [],
       "aggError": "",
       "aggOverflow": false,
       "aggSchema": [],
       "aggSeriesLimitReached": false,
       "aggType": "",
       "arguments": {},
       "columnCustomDisplayInfos": {},
       "data": [
        [
         "2018-04-27",
         "2018-04-27",
         "987321",
         "1805080AV3648339",
         null,
         null,
         20,
         null,
         "Diagnosis F1120",
         "HCPCS",
         null
        ],
        [
         "2018-04-27",
         "2018-04-27",
         "987321",
         "1805080AV3648339",
         null,
         null,
         11.64,
         null,
         "Diagnosis F1120",
         "HCPCS",
         null
        ],
        [
         "2018-04-28",
         "2018-04-28",
         "987321",
         "1805080AV3648339",
         null,
         null,
         20,
         null,
         "Diagnosis F1120",
         "HCPCS",
         null
        ],
        [
         "2018-04-27",
         "2018-04-27",
         "765123",
         "1805080AV3648347",
         90853,
         "Procedure 90853",
         234,
         null,
         "Diagnosis F1520",
         "HCPCS",
         null
        ],
        [
         "2018-04-26",
         "2018-04-26",
         "765123",
         "1805080AV3648347",
         96153,
         "Procedure 96153",
         50.1,
         null,
         "Diagnosis F1520",
         "HCPCS",
         null
        ],
        [
         "2018-04-27",
         "2018-04-27",
         "987321",
         "1805080AV3648340",
         null,
         null,
         20,
         null,
         "Diagnosis F1020",
         "HCPCS",
         null
        ],
        [
         "2018-04-27",
         "2018-04-27",
         "987321",
         "1805080AV3648340",
         null,
         null,
         11.64,
         null,
         "Diagnosis F1020",
         "HCPCS",
         null
        ],
        [
         "2018-04-28",
         "2018-04-28",
         "987321",
         "1805080AV3648340",
         null,
         null,
         20,
         null,
         "Diagnosis F1020",
         "HCPCS",
         null
        ],
        [
         "2018-04-27",
         "2018-04-27",
         "765123",
         "1805080AV3648353",
         90853,
         "Procedure 90853",
         234,
         null,
         "Diagnosis F251",
         "HCPCS",
         null
        ],
        [
         "2018-04-26",
         "2018-04-26",
         "765123",
         "1805080AV3648353",
         96153,
         "Procedure 96153",
         50.1,
         null,
         "Diagnosis F251",
         "HCPCS",
         null
        ],
        [
         "2018-04-27",
         "2018-04-27",
         "987321",
         "1805080AV3648355",
         null,
         null,
         20,
         null,
         "Diagnosis F1020",
         "HCPCS",
         null
        ],
        [
         "2018-04-27",
         "2018-04-27",
         "987321",
         "1805080AV3648355",
         null,
         null,
         11.64,
         null,
         "Diagnosis F1020",
         "HCPCS",
         null
        ],
        [
         "2018-04-28",
         "2018-04-28",
         "987321",
         "1805080AV3648355",
         null,
         null,
         20,
         null,
         "Diagnosis F1020",
         "HCPCS",
         null
        ],
        [
         null,
         null,
         "111111100",
         "ABC11111",
         62322,
         "Procedure 62322",
         738,
         null,
         "Diagnosis G5621",
         "HCPCS",
         null
        ],
        [
         null,
         null,
         "111111100",
         "ABC11111",
         902,
         "Procedure 902",
         1230,
         null,
         "Diagnosis G5621",
         "HCPCS",
         null
        ],
        [
         null,
         null,
         "111111100",
         "ABC11111",
         840,
         "Procedure 840",
         1353,
         null,
         "Diagnosis G5621",
         "HCPCS",
         null
        ],
        [
         null,
         null,
         "111111100",
         "ABC11111",
         731,
         "Procedure 731",
         984,
         null,
         "Diagnosis G5621",
         "HCPCS",
         null
        ],
        [
         null,
         null,
         "111111100",
         "ABC11111",
         1710,
         "Procedure 1710",
         1800,
         null,
         "Diagnosis G5621",
         "HCPCS",
         null
        ],
        [
         null,
         null,
         "11111117",
         "ABC111112",
         62322,
         "Procedure 62322",
         738,
         null,
         "Diagnosis K219",
         "HCPCS",
         null
        ],
        [
         null,
         null,
         "11111117",
         "ABC111112",
         902,
         "Procedure 902",
         1230,
         null,
         "Diagnosis K219",
         "HCPCS",
         null
        ]
       ],
       "datasetInfos": [],
       "dbfsResultPath": null,
       "isJsonSchema": true,
       "metadata": {},
       "overflow": false,
       "plotOptions": {
        "customPlotOptions": {},
        "displayType": "table",
        "pivotAggregation": null,
        "pivotColumns": null,
        "xColumns": null,
        "yColumns": null
       },
       "removedWidgets": [],
       "schema": [
        {
         "metadata": "{}",
         "name": "START",
         "type": "\"date\""
        },
        {
         "metadata": "{}",
         "name": "STOP",
         "type": "\"date\""
        },
        {
         "metadata": "{}",
         "name": "PATIENT",
         "type": "\"string\""
        },
        {
         "metadata": "{}",
         "name": "ENCOUNTER",
         "type": "\"string\""
        },
        {
         "metadata": "{}",
         "name": "CODE",
         "type": "\"long\""
        },
        {
         "metadata": "{}",
         "name": "DESCRIPTION",
         "type": "\"string\""
        },
        {
         "metadata": "{}",
         "name": "BASE_COST",
         "type": "\"double\""
        },
        {
         "metadata": "{}",
         "name": "REASONCODE",
         "type": "\"long\""
        },
        {
         "metadata": "{}",
         "name": "REASONDESCRIPTION",
         "type": "\"string\""
        },
        {
         "metadata": "{}",
         "name": "SYSTEM",
         "type": "\"string\""
        },
        {
         "metadata": "{}",
         "name": "_rescued_data",
         "type": "\"string\""
        }
       ],
       "type": "table"
      }
     },
     "output_type": "display_data"
    }
   ],
   "source": [
    "df_procedures = spark.read.table(\"raven_catalog.x12_edi_parser.procedures\")\n",
    "display(df_procedures.limit(20))"
   ]
  },
  {
   "cell_type": "code",
   "execution_count": 0,
   "metadata": {
    "application/vnd.databricks.v1+cell": {
     "cellMetadata": {},
     "inputWidgets": {},
     "nuid": "888fdac0-9daa-4657-9319-3d19b7cdf430",
     "showTitle": false,
     "tableResultSettingsMap": {},
     "title": ""
    }
   },
   "outputs": [],
   "source": []
  },
  {
   "cell_type": "markdown",
   "metadata": {
    "application/vnd.databricks.v1+cell": {
     "cellMetadata": {},
     "inputWidgets": {},
     "nuid": "fda56692-6260-4ba0-a5fb-e867f77892a9",
     "showTitle": false,
     "tableResultSettingsMap": {},
     "title": ""
    }
   },
   "source": [
    "# 835 "
   ]
  },
  {
   "cell_type": "code",
   "execution_count": 0,
   "metadata": {
    "application/vnd.databricks.v1+cell": {
     "cellMetadata": {
      "byteLimit": 2048000,
      "rowLimit": 10000
     },
     "inputWidgets": {},
     "nuid": "4b20ea77-9985-4504-b8ab-4602f576ac19",
     "showTitle": true,
     "tableResultSettingsMap": {},
     "title": "Read in sample 835 data"
    }
   },
   "outputs": [],
   "source": [
    "from ember import *\n",
    "from ember.hls.healthcare import HealthcareManager as hm\n",
    "import json, os\n",
    "from pyspark.sql.functions import input_file_name\n",
    "\n",
    "df = spark.read.text(\"file:///\" + os.getcwd() + \"/../sampledata/835/*txt\", wholetext = True)\n",
    "\n",
    "rdd = (\n",
    "  df.withColumn(\"filename\", input_file_name()).rdd #convert to rdd\n",
    "  .map(lambda row: (row.filename, EDI(row.value, strict_transactions=False))) #parse as an EDI format\n",
    "  .flatMap(lambda edi: hm.flatten(edi[1], filename = edi[0])) #extract out healthcare specific groupings, one row per claim/remittance/enrollment etc\n",
    "  )\n",
    "\n",
    "claims_rdd = (\n",
    "rdd.repartition(4) #Repartition number should be >= # of cores in cluster and <= number of rows in rdd / DataFrame\n",
    ".map(lambda x: hm.flatten_to_json(x))\n",
    ".map(lambda x: json.dumps(x))\n",
    ")\n",
    "\n",
    "claims = spark.read.json(claims_rdd)"
   ]
  },
  {
   "cell_type": "code",
   "execution_count": 0,
   "metadata": {
    "application/vnd.databricks.v1+cell": {
     "cellMetadata": {
      "byteLimit": 2048000,
      "rowLimit": 10000
     },
     "inputWidgets": {},
     "nuid": "edb77db9-fb74-4ce0-9190-6e400e845327",
     "showTitle": true,
     "tableResultSettingsMap": {},
     "title": "Save as a view"
    }
   },
   "outputs": [],
   "source": [
    "claims.createOrReplaceTempView(\"stg_remittance\")"
   ]
  },
  {
   "cell_type": "code",
   "execution_count": 0,
   "metadata": {
    "application/vnd.databricks.v1+cell": {
     "cellMetadata": {
      "byteLimit": 2048000,
      "implicitDf": true,
      "rowLimit": 10000
     },
     "inputWidgets": {},
     "nuid": "73809b56-3977-443e-8a17-1b33d196cd6a",
     "showTitle": true,
     "tableResultSettingsMap": {},
     "title": "Create Remittance"
    }
   },
   "outputs": [
    {
     "data": {
      "text/html": [
       "<style scoped>\n",
       "  .table-result-container {\n",
       "    max-height: 300px;\n",
       "    overflow: auto;\n",
       "  }\n",
       "  table, th, td {\n",
       "    border: 1px solid black;\n",
       "    border-collapse: collapse;\n",
       "  }\n",
       "  th, td {\n",
       "    padding: 5px;\n",
       "  }\n",
       "  th {\n",
       "    text-align: left;\n",
       "  }\n",
       "</style><div class='table-result-container'><table class='table-result'><thead style='background-color: white'><tr><th>EDI.control_number</th><th>EDI.date</th><th>EDI.recipient_qualifier_id</th><th>EDI.sender_qualifier_id</th><th>EDI.standard_version</th><th>EDI.time</th><th>FunctionalGroup.control_number</th><th>FunctionalGroup.date</th><th>FunctionalGroup.receiver</th><th>FunctionalGroup.sender</th><th>FunctionalGroup.standard_version</th><th>FunctionalGroup.time</th><th>FunctionalGroup.transaction_type</th><th>Transaction.transaction_type</th><th>claim</th><th>filename</th><th>payee</th><th>payer</th><th>payment</th><th>provider_adjustments</th></tr></thead><tbody><tr><td>000001508</td><td>180807</td><td>ZZ421406317      </td><td>30133052274      </td><td>00501</td><td>1202</td><td>100000300</td><td>20180613</td><td>99999999</td><td>NVMED</td><td>005010X221A1</td><td>123021</td><td>221</td><td>221</td><td>List(72232, MC, , 77777777, List(), 0, 4, List(List(8888888, EA)), List(List(20180314, 232), List(20180317, 233)), , 1, MR, QC, , 77777777777, SMITH, , 6666666666666, List(List(SMITH, QC, TOM, 1, 77777777777, MR), List(PARKER, 74, ALAN, 1, 88888888888, C), List(, PR, PACIFI, 2,  9999, PI), List(CARRY, GB, BARRY, 1, 666666666, MI)), List(List(50016, OA, 147), List(22216, CO, 26)), )</td><td>file:/Workspace/Users/raven.mukherjee@databricks.com/x12-edi-parser/sampledata/835/sample.txt</td><td>List(6666666666, SUMMER, XX, 111111111)</td><td>List(PR, Carson, List(List(BL, Nevada Medicaid, nvmmis.edisupport@dxc.com, 8776383472)), DIVISON OF HEALTH CARE FINANCING AND POLICY, , , NV, 1100 East William Street Suite 101, 89701)</td><td>List(C, 0, 20180615, NON, 1388600002, 100004762, 1, H)</td><td>List()</td></tr><tr><td>000001508</td><td>180807</td><td>ZZ421406317      </td><td>30133052274      </td><td>00501</td><td>1202</td><td>100000300</td><td>20180613</td><td>99999999</td><td>NVMED</td><td>005010X221A1</td><td>123021</td><td>221</td><td>221</td><td>List(3002, MC, , 77777778, List(), 0, 2, List(List(8888888, EA)), List(List(20171001, 232), List(20171002, 233)), , 1, MR, QC, , 55555555555, THOMAS, , 6666666666667, List(List(THOMAS, QC, BOB, 1, 55555555555, MR), List(JACKSON, 74, ALAN, 1, 66666666666, C)), List(List(3002, OA, 176)), )</td><td>file:/Workspace/Users/raven.mukherjee@databricks.com/x12-edi-parser/sampledata/835/sample.txt</td><td>List(6666666666, VALLEY, XX, 530824679)</td><td>List(PR, Carson, List(List(BL, Nevada Medicaid, nvmmis.edisupport@dxc.com, 8776383472)), DIVISON OF HEALTH CARE FINANCING AND POLICY, , , NV, 1100 East William Street Suite 101, 89701)</td><td>List(C, 0, 20180615, NON, 5555555555, 100004765, 1, H)</td><td>List()</td></tr><tr><td>000001508</td><td>180807</td><td>ZZ421406317      </td><td>30133052274      </td><td>00501</td><td>1202</td><td>100000300</td><td>20180613</td><td>99999999</td><td>NVMED</td><td>005010X221A1</td><td>123021</td><td>221</td><td>221</td><td>List(41231.04, MC, , 77777779, List(), 0, 4, List(List(6047740, EA)), List(List(20180220, 232), List(20180221, 233)), , 1, MR, QC, , 77777777778, ALLEN, , 6666666666668, List(List(ALLEN, QC, HELD, 1, 77777777778, MR), List(LARRY, 74, RYAN, 1, 88888888889, C), List(, PR, SENIOR, 2,  8888, PI), List(JANE, GB, MARY, 1, 777777777, MI)), List(List(9365.04, OA, 147), List(31866, CO, 26)), )</td><td>file:/Workspace/Users/raven.mukherjee@databricks.com/x12-edi-parser/sampledata/835/sample.txt</td><td>List(7777777777, SILVER, XX, 666666666)</td><td>List(PR, Carson, List(List(BL, Nevada Medicaid, nvmmis.edisupport@dxc.com, 8776383472)), DIVISON OF HEALTH CARE FINANCING AND POLICY, , , NV, 1100 East William Street Suite 101, 89701)</td><td>List(C, 1812.27, 20180727, CHK, 5555555555, 000012382, 1, I)</td><td>List(List(-1092.46, 20181231, 888888888, 8888888888, CT), List(-719.81, 20181231, 888888888, 8888888888, CT), List(-181.55, 20181231, 8888888888887, 8888888888, CS), List(181.55, 20181231, 8888888888887, 8888888888, CS), List(-130, 20181231, 8888888888888, 8888888888, CS), List(130, 20181231, 8888888888888, 8888888888, CS))</td></tr><tr><td>000001508</td><td>180807</td><td>ZZ421406317      </td><td>30133052274      </td><td>00501</td><td>1202</td><td>100000300</td><td>20180613</td><td>99999999</td><td>NVMED</td><td>005010X221A1</td><td>123021</td><td>221</td><td>221</td><td>List(72232, MC, , 77777777, List(), 0, 4, List(List(8888888, EA)), List(List(20180314, 232), List(20180317, 233)), , 1, MR, QC, , 77777777777, SMITH, , 6666666666666, List(List(SMITH, QC, TOM, 1, 77777777777, MR), List(PARKER, 74, ALAN, 1, 88888888888, C), List(, PR, PACIFI, 2,  9999, PI), List(CARRY, GB, BARRY, 1, 666666666, MI)), List(), )</td><td>file:/Workspace/Users/raven.mukherjee@databricks.com/x12-edi-parser/sampledata/835/sample_no_cas.txt</td><td>List(6666666666, SUMMER, XX, 111111111)</td><td>List(PR, Carson, List(List(BL, Nevada Medicaid, nvmmis.edisupport@dxc.com, 8776383472)), DIVISON OF HEALTH CARE FINANCING AND POLICY, , , NV, 1100 East William Street Suite 101, 89701)</td><td>List(C, 0, 20180615, NON, 1388600002, 100004762, 1, H)</td><td>List()</td></tr><tr><td>000001508</td><td>180807</td><td>ZZ421406317      </td><td>30133052274      </td><td>00501</td><td>1202</td><td>100000300</td><td>20180613</td><td>99999999</td><td>NVMED</td><td>005010X221A1</td><td>123021</td><td>221</td><td>221</td><td>List(3002, MC, , 77777778, List(), 0, 2, List(List(8888888, EA)), List(List(20171001, 232), List(20171002, 233)), , 1, MR, QC, , 55555555555, THOMAS, , 6666666666667, List(List(THOMAS, QC, BOB, 1, 55555555555, MR), List(JACKSON, 74, ALAN, 1, 66666666666, C)), List(List(3002, OA, 176)), )</td><td>file:/Workspace/Users/raven.mukherjee@databricks.com/x12-edi-parser/sampledata/835/sample_no_cas.txt</td><td>List(6666666666, VALLEY, XX, 530824679)</td><td>List(PR, Carson, List(List(BL, Nevada Medicaid, nvmmis.edisupport@dxc.com, 8776383472)), DIVISON OF HEALTH CARE FINANCING AND POLICY, , , NV, 1100 East William Street Suite 101, 89701)</td><td>List(C, 0, 20180615, NON, 5555555555, 100004765, 1, H)</td><td>List()</td></tr><tr><td>000001508</td><td>180807</td><td>ZZ421406317      </td><td>30133052274      </td><td>00501</td><td>1202</td><td>100000300</td><td>20180613</td><td>99999999</td><td>NVMED</td><td>005010X221A1</td><td>123021</td><td>221</td><td>221</td><td>List(41231.04, MC, , 77777779, List(), 0, 4, List(List(6047740, EA)), List(List(20180220, 232), List(20180221, 233)), , 1, MR, QC, , 77777777778, ALLEN, , 6666666666668, List(List(ALLEN, QC, HELD, 1, 77777777778, MR), List(LARRY, 74, RYAN, 1, 88888888889, C), List(, PR, SENIOR, 2,  8888, PI), List(JANE, GB, MARY, 1, 777777777, MI)), List(List(9365.04, OA, 147), List(31866, CO, 26)), )</td><td>file:/Workspace/Users/raven.mukherjee@databricks.com/x12-edi-parser/sampledata/835/sample_no_cas.txt</td><td>List(7777777777, SILVER, XX, 666666666)</td><td>List(PR, Carson, List(List(BL, Nevada Medicaid, nvmmis.edisupport@dxc.com, 8776383472)), DIVISON OF HEALTH CARE FINANCING AND POLICY, , , NV, 1100 East William Street Suite 101, 89701)</td><td>List(C, 1812.27, 20180727, CHK, 5555555555, 000012382, 1, I)</td><td>List(List(-1092.46, 20181231, 888888888, 8888888888, CT), List(-719.81, 20181231, 888888888, 8888888888, CT), List(-181.55, 20181231, 8888888888887, 8888888888, CS), List(181.55, 20181231, 8888888888887, 8888888888, CS), List(-130, 20181231, 8888888888888, 8888888888, CS), List(130, 20181231, 8888888888888, 8888888888, CS))</td></tr><tr><td>000001508</td><td>180807</td><td>ZZ421406317      </td><td>30133052274      </td><td>00501</td><td>1202</td><td>100000300</td><td>20180613</td><td>99999999</td><td>NVMED</td><td>005010X221A1</td><td>123021</td><td>221</td><td>221</td><td>List(72232, MC, , 77777777, List(), 0, 4, List(List(8888888, EA)), List(List(20180314, 232), List(20180317, 233)), , 1, MR, QC, , 77777777777, SMITH, , 6666666666666, List(List(SMITH, QC, TOM, 1, 77777777777, MR), List(PARKER, 74, ALAN, 1, 88888888888, C), List(, PR, PACIFI, 2,  9999, PI), List(CARRY, GB, BARRY, 1, 666666666, MI)), List(List(50016, OA, 147), List(22216, CO, 26)), )</td><td>file:/Workspace/Users/raven.mukherjee@databricks.com/x12-edi-parser/sampledata/835/no_plb_sample.txt</td><td>List(6666666666, SUMMER, XX, 111111111)</td><td>List(PR, Carson, List(List(BL, Nevada Medicaid, nvmmis.edisupport@dxc.com, 8776383472)), DIVISON OF HEALTH CARE FINANCING AND POLICY, , , NV, 1100 East William Street Suite 101, 89701)</td><td>List(C, 0, 20180615, NON, 1388600002, 100004762, 1, H)</td><td>List()</td></tr><tr><td>000001508</td><td>180807</td><td>ZZ421406317      </td><td>30133052274      </td><td>00501</td><td>1202</td><td>100000300</td><td>20180613</td><td>99999999</td><td>NVMED</td><td>005010X221A1</td><td>123021</td><td>221</td><td>221</td><td>List(3002, MC, , 77777778, List(), 0, 2, List(List(8888888, EA)), List(List(20171001, 232), List(20171002, 233)), , 1, MR, QC, , 55555555555, THOMAS, , 6666666666667, List(List(THOMAS, QC, BOB, 1, 55555555555, MR), List(JACKSON, 74, ALAN, 1, 66666666666, C)), List(List(3002, OA, 176)), )</td><td>file:/Workspace/Users/raven.mukherjee@databricks.com/x12-edi-parser/sampledata/835/no_plb_sample.txt</td><td>List(6666666666, SUMMER, XX, 111111111)</td><td>List(PR, Carson, List(List(BL, Nevada Medicaid, nvmmis.edisupport@dxc.com, 8776383472)), DIVISON OF HEALTH CARE FINANCING AND POLICY, , , NV, 1100 East William Street Suite 101, 89701)</td><td>List(C, 0, 20180615, NON, 1388600002, 100004762, 1, H)</td><td>List()</td></tr><tr><td>000001508</td><td>180807</td><td>ZZ421406317      </td><td>30133052274      </td><td>00501</td><td>1202</td><td>100000300</td><td>20180613</td><td>99999999</td><td>NVMED</td><td>005010X221A1</td><td>123021</td><td>221</td><td>221</td><td>List(41231.04, MC, , 77777779, List(), 0, 4, List(List(6047740, EA)), List(List(20180220, 232), List(20180221, 233)), , 1, MR, QC, , 77777777778, ALLEN, , 6666666666668, List(List(ALLEN, QC, HELD, 1, 77777777778, MR), List(LARRY, 74, RYAN, 1, 88888888889, C), List(, PR, SENIOR, 2,  8888, PI), List(JANE, GB, MARY, 1, 777777777, MI)), List(List(9365.04, OA, 147), List(31866, CO, 26)), )</td><td>file:/Workspace/Users/raven.mukherjee@databricks.com/x12-edi-parser/sampledata/835/no_plb_sample.txt</td><td>List(6666666666, SUMMER, XX, 111111111)</td><td>List(PR, Carson, List(List(BL, Nevada Medicaid, nvmmis.edisupport@dxc.com, 8776383472)), DIVISON OF HEALTH CARE FINANCING AND POLICY, , , NV, 1100 East William Street Suite 101, 89701)</td><td>List(C, 0, 20180615, NON, 1388600002, 100004762, 1, H)</td><td>List()</td></tr><tr><td>000001508</td><td>180807</td><td>ZZ421406317      </td><td>30133052274      </td><td>00501</td><td>1202</td><td>100000300</td><td>20180613</td><td>99999999</td><td>NVMED</td><td>005010X221A1</td><td>123021</td><td>221</td><td>221</td><td>List(72232, MC, , 77777777, List(), 0, 4, List(List(8888888, EA)), List(List(20180314, 232), List(20180317, 233)), , 1, MR, QC, , 77777777777, SMITH, , 6666666666666, List(List(SMITH, QC, TOM, 1, 77777777777, MR), List(PARKER, 74, ALAN, 1, 88888888888, C), List(, PR, PACIFI, 2,  9999, PI), List(CARRY, GB, BARRY, 1, 666666666, MI)), List(List(50016, OA, 147), List(22216, CO, 26)), )</td><td>file:/Workspace/Users/raven.mukherjee@databricks.com/x12-edi-parser/sampledata/835/plb_sample.txt</td><td>List(6666666666, SUMMER, XX, 111111111)</td><td>List(PR, Carson, List(List(BL, Nevada Medicaid, nvmmis.edisupport@dxc.com, 8776383472)), DIVISON OF HEALTH CARE FINANCING AND POLICY, , , NV, 1100 East William Street Suite 101, 89701)</td><td>List(C, 0, 20180615, NON, 1388600002, 100004762, 1, H)</td><td>List(List(-14, 20231231, 0202309NN08956B0X.5520NN142, 15483NN082, 72), List(14, 20231231, 0202309NN08956B0X.5520NN142, 15483NN082, WO), List(-14, 20231231, 0202309NN08956B0X.5520NN142, 15483NN082, B2))</td></tr><tr><td>000001508</td><td>180807</td><td>ZZ421406317      </td><td>30133052274      </td><td>00501</td><td>1202</td><td>100000300</td><td>20180613</td><td>99999999</td><td>NVMED</td><td>005010X221A1</td><td>123021</td><td>221</td><td>221</td><td>List(3002, MC, , 77777778, List(), 0, 2, List(List(8888888, EA)), List(List(20171001, 232), List(20171002, 233)), , 1, MR, QC, , 55555555555, THOMAS, , 6666666666667, List(List(THOMAS, QC, BOB, 1, 55555555555, MR), List(JACKSON, 74, ALAN, 1, 66666666666, C)), List(List(3002, OA, 176)), )</td><td>file:/Workspace/Users/raven.mukherjee@databricks.com/x12-edi-parser/sampledata/835/plb_sample.txt</td><td>List(6666666666, SUMMER, XX, 111111111)</td><td>List(PR, Carson, List(List(BL, Nevada Medicaid, nvmmis.edisupport@dxc.com, 8776383472)), DIVISON OF HEALTH CARE FINANCING AND POLICY, , , NV, 1100 East William Street Suite 101, 89701)</td><td>List(C, 0, 20180615, NON, 1388600002, 100004762, 1, H)</td><td>List(List(-14, 20231231, 0202309NN08956B0X.5520NN142, 15483NN082, 72), List(14, 20231231, 0202309NN08956B0X.5520NN142, 15483NN082, WO), List(-14, 20231231, 0202309NN08956B0X.5520NN142, 15483NN082, B2))</td></tr><tr><td>000001508</td><td>180807</td><td>ZZ421406317      </td><td>30133052274      </td><td>00501</td><td>1202</td><td>100000300</td><td>20180613</td><td>99999999</td><td>NVMED</td><td>005010X221A1</td><td>123021</td><td>221</td><td>221</td><td>List(41231.04, MC, , 77777779, List(), 0, 4, List(List(6047740, EA)), List(List(20180220, 232), List(20180221, 233)), , 1, MR, QC, , 77777777778, ALLEN, , 6666666666668, List(List(ALLEN, QC, HELD, 1, 77777777778, MR), List(LARRY, 74, RYAN, 1, 88888888889, C), List(, PR, SENIOR, 2,  8888, PI), List(JANE, GB, MARY, 1, 777777777, MI)), List(List(9365.04, OA, 147), List(31866, CO, 26)), )</td><td>file:/Workspace/Users/raven.mukherjee@databricks.com/x12-edi-parser/sampledata/835/plb_sample.txt</td><td>List(6666666666, SUMMER, XX, 111111111)</td><td>List(PR, Carson, List(List(BL, Nevada Medicaid, nvmmis.edisupport@dxc.com, 8776383472)), DIVISON OF HEALTH CARE FINANCING AND POLICY, , , NV, 1100 East William Street Suite 101, 89701)</td><td>List(C, 0, 20180615, NON, 1388600002, 100004762, 1, H)</td><td>List(List(-14, 20231231, 0202309NN08956B0X.5520NN142, 15483NN082, 72), List(14, 20231231, 0202309NN08956B0X.5520NN142, 15483NN082, WO), List(-14, 20231231, 0202309NN08956B0X.5520NN142, 15483NN082, B2))</td></tr><tr><td>000001508</td><td>180807</td><td>ZZ421406317      </td><td>30133052274      </td><td>00501</td><td>1202</td><td>100000300</td><td>20180613</td><td>99999999</td><td>NVMED</td><td>005010X221A1</td><td>123021</td><td>221</td><td>221</td><td>List(225, 12, 1, ABC9001, List(List(150, List(List(8910, 0K)), , List(), 145, HC:98765, List(), , List(List(5, PR, 3)), 20120124, 472, ), List(75, List(), , List(), 75, HC:26591, List(), , List(), 20120124, 472, )), 200, 1, List(), List(List(20120124, 472), List(20120124, 472)), , 1, MI, QC, , 60345914A, MICKEY, 5, 1142381711242, List(List(MICKEY, QC, MOUSE, 1, 60345914A, MI)), List(List(20, CO, 45)), 22)</td><td>file:/Workspace/Users/raven.mukherjee@databricks.com/x12-edi-parser/sampledata/835/sample_services.txt</td><td>List(1215193883, UCLA MEDICAL CENTER, XX, )</td><td>List(PR, LOS ANGELES, List(List(BL, MICHAEL EISNER, 123, 7145205060), List(IC, , , www.bcbsdisney.com/policies.html)), BCBS DISNEY, , , CA, POBLADO RD, 9006)</td><td>List(C, 391.05, 20120131, ACH, 1262721578, 051036622050010, 1, I)</td><td>List(List(3.95, 20121231, , 1215193883, 90))</td></tr><tr><td>000001508</td><td>180807</td><td>ZZ421406317      </td><td>30133052274      </td><td>00501</td><td>1202</td><td>100000300</td><td>20180613</td><td>99999999</td><td>NVMED</td><td>005010X221A1</td><td>123021</td><td>221</td><td>221</td><td>List(225, 12, 1, ABC9002, List(List(150, List(List(8910, 0K)), , List(), 140, HC:98765, List(), , List(List(10, PR, 3)), 20120124, 472, ), List(75, List(), , List(), 75, HC:26591, List(), , List(), 20120124, 472, )), 195, 1, List(), List(List(20120124, 472), List(20120124, 472)), , 1, MI, QC, , 60345914B, DONALD, 10, 1142381711242, List(List(DONALD, QC, DUCK, 1, 60345914B, MI)), List(List(20, CO, 45)), 22)</td><td>file:/Workspace/Users/raven.mukherjee@databricks.com/x12-edi-parser/sampledata/835/sample_services.txt</td><td>List(1215193883, UCLA MEDICAL CENTER, XX, )</td><td>List(PR, LOS ANGELES, List(List(BL, MICHAEL EISNER, 123, 7145205060), List(IC, , , www.bcbsdisney.com/policies.html)), BCBS DISNEY, , , CA, POBLADO RD, 9006)</td><td>List(C, 391.05, 20120131, ACH, 1262721578, 051036622050010, 1, I)</td><td>List(List(3.95, 20121231, , 1215193883, 90))</td></tr></tbody></table></div>"
      ]
     },
     "metadata": {
      "application/vnd.databricks.v1+output": {
       "addedWidgets": {},
       "aggData": [],
       "aggError": "",
       "aggOverflow": false,
       "aggSchema": [],
       "aggSeriesLimitReached": false,
       "aggType": "",
       "arguments": {},
       "columnCustomDisplayInfos": {},
       "data": [
        [
         "000001508",
         "180807",
         "ZZ421406317      ",
         "30133052274      ",
         "00501",
         "1202",
         "100000300",
         "20180613",
         "99999999",
         "NVMED",
         "005010X221A1",
         "123021",
         "221",
         "221",
         [
          "72232",
          "MC",
          "",
          "77777777",
          [],
          "0",
          "4",
          [
           [
            "8888888",
            "EA"
           ]
          ],
          [
           [
            "20180314",
            "232"
           ],
           [
            "20180317",
            "233"
           ]
          ],
          "",
          "1",
          "MR",
          "QC",
          "",
          "77777777777",
          "SMITH",
          "",
          "6666666666666",
          [
           [
            "SMITH",
            "QC",
            "TOM",
            "1",
            "77777777777",
            "MR"
           ],
           [
            "PARKER",
            "74",
            "ALAN",
            "1",
            "88888888888",
            "C"
           ],
           [
            "",
            "PR",
            "PACIFI",
            "2",
            " 9999",
            "PI"
           ],
           [
            "CARRY",
            "GB",
            "BARRY",
            "1",
            "666666666",
            "MI"
           ]
          ],
          [
           [
            "50016",
            "OA",
            "147"
           ],
           [
            "22216",
            "CO",
            "26"
           ]
          ],
          ""
         ],
         "file:/Workspace/Users/raven.mukherjee@databricks.com/x12-edi-parser/sampledata/835/sample.txt",
         [
          "6666666666",
          "SUMMER",
          "XX",
          "111111111"
         ],
         [
          "PR",
          "Carson",
          [
           [
            "BL",
            "Nevada Medicaid",
            "nvmmis.edisupport@dxc.com",
            "8776383472"
           ]
          ],
          "DIVISON OF HEALTH CARE FINANCING AND POLICY",
          "",
          "",
          "NV",
          "1100 East William Street Suite 101",
          "89701"
         ],
         [
          "C",
          "0",
          "20180615",
          "NON",
          "1388600002",
          "100004762",
          "1",
          "H"
         ],
         []
        ],
        [
         "000001508",
         "180807",
         "ZZ421406317      ",
         "30133052274      ",
         "00501",
         "1202",
         "100000300",
         "20180613",
         "99999999",
         "NVMED",
         "005010X221A1",
         "123021",
         "221",
         "221",
         [
          "3002",
          "MC",
          "",
          "77777778",
          [],
          "0",
          "2",
          [
           [
            "8888888",
            "EA"
           ]
          ],
          [
           [
            "20171001",
            "232"
           ],
           [
            "20171002",
            "233"
           ]
          ],
          "",
          "1",
          "MR",
          "QC",
          "",
          "55555555555",
          "THOMAS",
          "",
          "6666666666667",
          [
           [
            "THOMAS",
            "QC",
            "BOB",
            "1",
            "55555555555",
            "MR"
           ],
           [
            "JACKSON",
            "74",
            "ALAN",
            "1",
            "66666666666",
            "C"
           ]
          ],
          [
           [
            "3002",
            "OA",
            "176"
           ]
          ],
          ""
         ],
         "file:/Workspace/Users/raven.mukherjee@databricks.com/x12-edi-parser/sampledata/835/sample.txt",
         [
          "6666666666",
          "VALLEY",
          "XX",
          "530824679"
         ],
         [
          "PR",
          "Carson",
          [
           [
            "BL",
            "Nevada Medicaid",
            "nvmmis.edisupport@dxc.com",
            "8776383472"
           ]
          ],
          "DIVISON OF HEALTH CARE FINANCING AND POLICY",
          "",
          "",
          "NV",
          "1100 East William Street Suite 101",
          "89701"
         ],
         [
          "C",
          "0",
          "20180615",
          "NON",
          "5555555555",
          "100004765",
          "1",
          "H"
         ],
         []
        ],
        [
         "000001508",
         "180807",
         "ZZ421406317      ",
         "30133052274      ",
         "00501",
         "1202",
         "100000300",
         "20180613",
         "99999999",
         "NVMED",
         "005010X221A1",
         "123021",
         "221",
         "221",
         [
          "41231.04",
          "MC",
          "",
          "77777779",
          [],
          "0",
          "4",
          [
           [
            "6047740",
            "EA"
           ]
          ],
          [
           [
            "20180220",
            "232"
           ],
           [
            "20180221",
            "233"
           ]
          ],
          "",
          "1",
          "MR",
          "QC",
          "",
          "77777777778",
          "ALLEN",
          "",
          "6666666666668",
          [
           [
            "ALLEN",
            "QC",
            "HELD",
            "1",
            "77777777778",
            "MR"
           ],
           [
            "LARRY",
            "74",
            "RYAN",
            "1",
            "88888888889",
            "C"
           ],
           [
            "",
            "PR",
            "SENIOR",
            "2",
            " 8888",
            "PI"
           ],
           [
            "JANE",
            "GB",
            "MARY",
            "1",
            "777777777",
            "MI"
           ]
          ],
          [
           [
            "9365.04",
            "OA",
            "147"
           ],
           [
            "31866",
            "CO",
            "26"
           ]
          ],
          ""
         ],
         "file:/Workspace/Users/raven.mukherjee@databricks.com/x12-edi-parser/sampledata/835/sample.txt",
         [
          "7777777777",
          "SILVER",
          "XX",
          "666666666"
         ],
         [
          "PR",
          "Carson",
          [
           [
            "BL",
            "Nevada Medicaid",
            "nvmmis.edisupport@dxc.com",
            "8776383472"
           ]
          ],
          "DIVISON OF HEALTH CARE FINANCING AND POLICY",
          "",
          "",
          "NV",
          "1100 East William Street Suite 101",
          "89701"
         ],
         [
          "C",
          "1812.27",
          "20180727",
          "CHK",
          "5555555555",
          "000012382",
          "1",
          "I"
         ],
         [
          [
           "-1092.46",
           "20181231",
           "888888888",
           "8888888888",
           "CT"
          ],
          [
           "-719.81",
           "20181231",
           "888888888",
           "8888888888",
           "CT"
          ],
          [
           "-181.55",
           "20181231",
           "8888888888887",
           "8888888888",
           "CS"
          ],
          [
           "181.55",
           "20181231",
           "8888888888887",
           "8888888888",
           "CS"
          ],
          [
           "-130",
           "20181231",
           "8888888888888",
           "8888888888",
           "CS"
          ],
          [
           "130",
           "20181231",
           "8888888888888",
           "8888888888",
           "CS"
          ]
         ]
        ],
        [
         "000001508",
         "180807",
         "ZZ421406317      ",
         "30133052274      ",
         "00501",
         "1202",
         "100000300",
         "20180613",
         "99999999",
         "NVMED",
         "005010X221A1",
         "123021",
         "221",
         "221",
         [
          "72232",
          "MC",
          "",
          "77777777",
          [],
          "0",
          "4",
          [
           [
            "8888888",
            "EA"
           ]
          ],
          [
           [
            "20180314",
            "232"
           ],
           [
            "20180317",
            "233"
           ]
          ],
          "",
          "1",
          "MR",
          "QC",
          "",
          "77777777777",
          "SMITH",
          "",
          "6666666666666",
          [
           [
            "SMITH",
            "QC",
            "TOM",
            "1",
            "77777777777",
            "MR"
           ],
           [
            "PARKER",
            "74",
            "ALAN",
            "1",
            "88888888888",
            "C"
           ],
           [
            "",
            "PR",
            "PACIFI",
            "2",
            " 9999",
            "PI"
           ],
           [
            "CARRY",
            "GB",
            "BARRY",
            "1",
            "666666666",
            "MI"
           ]
          ],
          [],
          ""
         ],
         "file:/Workspace/Users/raven.mukherjee@databricks.com/x12-edi-parser/sampledata/835/sample_no_cas.txt",
         [
          "6666666666",
          "SUMMER",
          "XX",
          "111111111"
         ],
         [
          "PR",
          "Carson",
          [
           [
            "BL",
            "Nevada Medicaid",
            "nvmmis.edisupport@dxc.com",
            "8776383472"
           ]
          ],
          "DIVISON OF HEALTH CARE FINANCING AND POLICY",
          "",
          "",
          "NV",
          "1100 East William Street Suite 101",
          "89701"
         ],
         [
          "C",
          "0",
          "20180615",
          "NON",
          "1388600002",
          "100004762",
          "1",
          "H"
         ],
         []
        ],
        [
         "000001508",
         "180807",
         "ZZ421406317      ",
         "30133052274      ",
         "00501",
         "1202",
         "100000300",
         "20180613",
         "99999999",
         "NVMED",
         "005010X221A1",
         "123021",
         "221",
         "221",
         [
          "3002",
          "MC",
          "",
          "77777778",
          [],
          "0",
          "2",
          [
           [
            "8888888",
            "EA"
           ]
          ],
          [
           [
            "20171001",
            "232"
           ],
           [
            "20171002",
            "233"
           ]
          ],
          "",
          "1",
          "MR",
          "QC",
          "",
          "55555555555",
          "THOMAS",
          "",
          "6666666666667",
          [
           [
            "THOMAS",
            "QC",
            "BOB",
            "1",
            "55555555555",
            "MR"
           ],
           [
            "JACKSON",
            "74",
            "ALAN",
            "1",
            "66666666666",
            "C"
           ]
          ],
          [
           [
            "3002",
            "OA",
            "176"
           ]
          ],
          ""
         ],
         "file:/Workspace/Users/raven.mukherjee@databricks.com/x12-edi-parser/sampledata/835/sample_no_cas.txt",
         [
          "6666666666",
          "VALLEY",
          "XX",
          "530824679"
         ],
         [
          "PR",
          "Carson",
          [
           [
            "BL",
            "Nevada Medicaid",
            "nvmmis.edisupport@dxc.com",
            "8776383472"
           ]
          ],
          "DIVISON OF HEALTH CARE FINANCING AND POLICY",
          "",
          "",
          "NV",
          "1100 East William Street Suite 101",
          "89701"
         ],
         [
          "C",
          "0",
          "20180615",
          "NON",
          "5555555555",
          "100004765",
          "1",
          "H"
         ],
         []
        ],
        [
         "000001508",
         "180807",
         "ZZ421406317      ",
         "30133052274      ",
         "00501",
         "1202",
         "100000300",
         "20180613",
         "99999999",
         "NVMED",
         "005010X221A1",
         "123021",
         "221",
         "221",
         [
          "41231.04",
          "MC",
          "",
          "77777779",
          [],
          "0",
          "4",
          [
           [
            "6047740",
            "EA"
           ]
          ],
          [
           [
            "20180220",
            "232"
           ],
           [
            "20180221",
            "233"
           ]
          ],
          "",
          "1",
          "MR",
          "QC",
          "",
          "77777777778",
          "ALLEN",
          "",
          "6666666666668",
          [
           [
            "ALLEN",
            "QC",
            "HELD",
            "1",
            "77777777778",
            "MR"
           ],
           [
            "LARRY",
            "74",
            "RYAN",
            "1",
            "88888888889",
            "C"
           ],
           [
            "",
            "PR",
            "SENIOR",
            "2",
            " 8888",
            "PI"
           ],
           [
            "JANE",
            "GB",
            "MARY",
            "1",
            "777777777",
            "MI"
           ]
          ],
          [
           [
            "9365.04",
            "OA",
            "147"
           ],
           [
            "31866",
            "CO",
            "26"
           ]
          ],
          ""
         ],
         "file:/Workspace/Users/raven.mukherjee@databricks.com/x12-edi-parser/sampledata/835/sample_no_cas.txt",
         [
          "7777777777",
          "SILVER",
          "XX",
          "666666666"
         ],
         [
          "PR",
          "Carson",
          [
           [
            "BL",
            "Nevada Medicaid",
            "nvmmis.edisupport@dxc.com",
            "8776383472"
           ]
          ],
          "DIVISON OF HEALTH CARE FINANCING AND POLICY",
          "",
          "",
          "NV",
          "1100 East William Street Suite 101",
          "89701"
         ],
         [
          "C",
          "1812.27",
          "20180727",
          "CHK",
          "5555555555",
          "000012382",
          "1",
          "I"
         ],
         [
          [
           "-1092.46",
           "20181231",
           "888888888",
           "8888888888",
           "CT"
          ],
          [
           "-719.81",
           "20181231",
           "888888888",
           "8888888888",
           "CT"
          ],
          [
           "-181.55",
           "20181231",
           "8888888888887",
           "8888888888",
           "CS"
          ],
          [
           "181.55",
           "20181231",
           "8888888888887",
           "8888888888",
           "CS"
          ],
          [
           "-130",
           "20181231",
           "8888888888888",
           "8888888888",
           "CS"
          ],
          [
           "130",
           "20181231",
           "8888888888888",
           "8888888888",
           "CS"
          ]
         ]
        ],
        [
         "000001508",
         "180807",
         "ZZ421406317      ",
         "30133052274      ",
         "00501",
         "1202",
         "100000300",
         "20180613",
         "99999999",
         "NVMED",
         "005010X221A1",
         "123021",
         "221",
         "221",
         [
          "72232",
          "MC",
          "",
          "77777777",
          [],
          "0",
          "4",
          [
           [
            "8888888",
            "EA"
           ]
          ],
          [
           [
            "20180314",
            "232"
           ],
           [
            "20180317",
            "233"
           ]
          ],
          "",
          "1",
          "MR",
          "QC",
          "",
          "77777777777",
          "SMITH",
          "",
          "6666666666666",
          [
           [
            "SMITH",
            "QC",
            "TOM",
            "1",
            "77777777777",
            "MR"
           ],
           [
            "PARKER",
            "74",
            "ALAN",
            "1",
            "88888888888",
            "C"
           ],
           [
            "",
            "PR",
            "PACIFI",
            "2",
            " 9999",
            "PI"
           ],
           [
            "CARRY",
            "GB",
            "BARRY",
            "1",
            "666666666",
            "MI"
           ]
          ],
          [
           [
            "50016",
            "OA",
            "147"
           ],
           [
            "22216",
            "CO",
            "26"
           ]
          ],
          ""
         ],
         "file:/Workspace/Users/raven.mukherjee@databricks.com/x12-edi-parser/sampledata/835/no_plb_sample.txt",
         [
          "6666666666",
          "SUMMER",
          "XX",
          "111111111"
         ],
         [
          "PR",
          "Carson",
          [
           [
            "BL",
            "Nevada Medicaid",
            "nvmmis.edisupport@dxc.com",
            "8776383472"
           ]
          ],
          "DIVISON OF HEALTH CARE FINANCING AND POLICY",
          "",
          "",
          "NV",
          "1100 East William Street Suite 101",
          "89701"
         ],
         [
          "C",
          "0",
          "20180615",
          "NON",
          "1388600002",
          "100004762",
          "1",
          "H"
         ],
         []
        ],
        [
         "000001508",
         "180807",
         "ZZ421406317      ",
         "30133052274      ",
         "00501",
         "1202",
         "100000300",
         "20180613",
         "99999999",
         "NVMED",
         "005010X221A1",
         "123021",
         "221",
         "221",
         [
          "3002",
          "MC",
          "",
          "77777778",
          [],
          "0",
          "2",
          [
           [
            "8888888",
            "EA"
           ]
          ],
          [
           [
            "20171001",
            "232"
           ],
           [
            "20171002",
            "233"
           ]
          ],
          "",
          "1",
          "MR",
          "QC",
          "",
          "55555555555",
          "THOMAS",
          "",
          "6666666666667",
          [
           [
            "THOMAS",
            "QC",
            "BOB",
            "1",
            "55555555555",
            "MR"
           ],
           [
            "JACKSON",
            "74",
            "ALAN",
            "1",
            "66666666666",
            "C"
           ]
          ],
          [
           [
            "3002",
            "OA",
            "176"
           ]
          ],
          ""
         ],
         "file:/Workspace/Users/raven.mukherjee@databricks.com/x12-edi-parser/sampledata/835/no_plb_sample.txt",
         [
          "6666666666",
          "SUMMER",
          "XX",
          "111111111"
         ],
         [
          "PR",
          "Carson",
          [
           [
            "BL",
            "Nevada Medicaid",
            "nvmmis.edisupport@dxc.com",
            "8776383472"
           ]
          ],
          "DIVISON OF HEALTH CARE FINANCING AND POLICY",
          "",
          "",
          "NV",
          "1100 East William Street Suite 101",
          "89701"
         ],
         [
          "C",
          "0",
          "20180615",
          "NON",
          "1388600002",
          "100004762",
          "1",
          "H"
         ],
         []
        ],
        [
         "000001508",
         "180807",
         "ZZ421406317      ",
         "30133052274      ",
         "00501",
         "1202",
         "100000300",
         "20180613",
         "99999999",
         "NVMED",
         "005010X221A1",
         "123021",
         "221",
         "221",
         [
          "41231.04",
          "MC",
          "",
          "77777779",
          [],
          "0",
          "4",
          [
           [
            "6047740",
            "EA"
           ]
          ],
          [
           [
            "20180220",
            "232"
           ],
           [
            "20180221",
            "233"
           ]
          ],
          "",
          "1",
          "MR",
          "QC",
          "",
          "77777777778",
          "ALLEN",
          "",
          "6666666666668",
          [
           [
            "ALLEN",
            "QC",
            "HELD",
            "1",
            "77777777778",
            "MR"
           ],
           [
            "LARRY",
            "74",
            "RYAN",
            "1",
            "88888888889",
            "C"
           ],
           [
            "",
            "PR",
            "SENIOR",
            "2",
            " 8888",
            "PI"
           ],
           [
            "JANE",
            "GB",
            "MARY",
            "1",
            "777777777",
            "MI"
           ]
          ],
          [
           [
            "9365.04",
            "OA",
            "147"
           ],
           [
            "31866",
            "CO",
            "26"
           ]
          ],
          ""
         ],
         "file:/Workspace/Users/raven.mukherjee@databricks.com/x12-edi-parser/sampledata/835/no_plb_sample.txt",
         [
          "6666666666",
          "SUMMER",
          "XX",
          "111111111"
         ],
         [
          "PR",
          "Carson",
          [
           [
            "BL",
            "Nevada Medicaid",
            "nvmmis.edisupport@dxc.com",
            "8776383472"
           ]
          ],
          "DIVISON OF HEALTH CARE FINANCING AND POLICY",
          "",
          "",
          "NV",
          "1100 East William Street Suite 101",
          "89701"
         ],
         [
          "C",
          "0",
          "20180615",
          "NON",
          "1388600002",
          "100004762",
          "1",
          "H"
         ],
         []
        ],
        [
         "000001508",
         "180807",
         "ZZ421406317      ",
         "30133052274      ",
         "00501",
         "1202",
         "100000300",
         "20180613",
         "99999999",
         "NVMED",
         "005010X221A1",
         "123021",
         "221",
         "221",
         [
          "72232",
          "MC",
          "",
          "77777777",
          [],
          "0",
          "4",
          [
           [
            "8888888",
            "EA"
           ]
          ],
          [
           [
            "20180314",
            "232"
           ],
           [
            "20180317",
            "233"
           ]
          ],
          "",
          "1",
          "MR",
          "QC",
          "",
          "77777777777",
          "SMITH",
          "",
          "6666666666666",
          [
           [
            "SMITH",
            "QC",
            "TOM",
            "1",
            "77777777777",
            "MR"
           ],
           [
            "PARKER",
            "74",
            "ALAN",
            "1",
            "88888888888",
            "C"
           ],
           [
            "",
            "PR",
            "PACIFI",
            "2",
            " 9999",
            "PI"
           ],
           [
            "CARRY",
            "GB",
            "BARRY",
            "1",
            "666666666",
            "MI"
           ]
          ],
          [
           [
            "50016",
            "OA",
            "147"
           ],
           [
            "22216",
            "CO",
            "26"
           ]
          ],
          ""
         ],
         "file:/Workspace/Users/raven.mukherjee@databricks.com/x12-edi-parser/sampledata/835/plb_sample.txt",
         [
          "6666666666",
          "SUMMER",
          "XX",
          "111111111"
         ],
         [
          "PR",
          "Carson",
          [
           [
            "BL",
            "Nevada Medicaid",
            "nvmmis.edisupport@dxc.com",
            "8776383472"
           ]
          ],
          "DIVISON OF HEALTH CARE FINANCING AND POLICY",
          "",
          "",
          "NV",
          "1100 East William Street Suite 101",
          "89701"
         ],
         [
          "C",
          "0",
          "20180615",
          "NON",
          "1388600002",
          "100004762",
          "1",
          "H"
         ],
         [
          [
           "-14",
           "20231231",
           "0202309NN08956B0X.5520NN142",
           "15483NN082",
           "72"
          ],
          [
           "14",
           "20231231",
           "0202309NN08956B0X.5520NN142",
           "15483NN082",
           "WO"
          ],
          [
           "-14",
           "20231231",
           "0202309NN08956B0X.5520NN142",
           "15483NN082",
           "B2"
          ]
         ]
        ],
        [
         "000001508",
         "180807",
         "ZZ421406317      ",
         "30133052274      ",
         "00501",
         "1202",
         "100000300",
         "20180613",
         "99999999",
         "NVMED",
         "005010X221A1",
         "123021",
         "221",
         "221",
         [
          "3002",
          "MC",
          "",
          "77777778",
          [],
          "0",
          "2",
          [
           [
            "8888888",
            "EA"
           ]
          ],
          [
           [
            "20171001",
            "232"
           ],
           [
            "20171002",
            "233"
           ]
          ],
          "",
          "1",
          "MR",
          "QC",
          "",
          "55555555555",
          "THOMAS",
          "",
          "6666666666667",
          [
           [
            "THOMAS",
            "QC",
            "BOB",
            "1",
            "55555555555",
            "MR"
           ],
           [
            "JACKSON",
            "74",
            "ALAN",
            "1",
            "66666666666",
            "C"
           ]
          ],
          [
           [
            "3002",
            "OA",
            "176"
           ]
          ],
          ""
         ],
         "file:/Workspace/Users/raven.mukherjee@databricks.com/x12-edi-parser/sampledata/835/plb_sample.txt",
         [
          "6666666666",
          "SUMMER",
          "XX",
          "111111111"
         ],
         [
          "PR",
          "Carson",
          [
           [
            "BL",
            "Nevada Medicaid",
            "nvmmis.edisupport@dxc.com",
            "8776383472"
           ]
          ],
          "DIVISON OF HEALTH CARE FINANCING AND POLICY",
          "",
          "",
          "NV",
          "1100 East William Street Suite 101",
          "89701"
         ],
         [
          "C",
          "0",
          "20180615",
          "NON",
          "1388600002",
          "100004762",
          "1",
          "H"
         ],
         [
          [
           "-14",
           "20231231",
           "0202309NN08956B0X.5520NN142",
           "15483NN082",
           "72"
          ],
          [
           "14",
           "20231231",
           "0202309NN08956B0X.5520NN142",
           "15483NN082",
           "WO"
          ],
          [
           "-14",
           "20231231",
           "0202309NN08956B0X.5520NN142",
           "15483NN082",
           "B2"
          ]
         ]
        ],
        [
         "000001508",
         "180807",
         "ZZ421406317      ",
         "30133052274      ",
         "00501",
         "1202",
         "100000300",
         "20180613",
         "99999999",
         "NVMED",
         "005010X221A1",
         "123021",
         "221",
         "221",
         [
          "41231.04",
          "MC",
          "",
          "77777779",
          [],
          "0",
          "4",
          [
           [
            "6047740",
            "EA"
           ]
          ],
          [
           [
            "20180220",
            "232"
           ],
           [
            "20180221",
            "233"
           ]
          ],
          "",
          "1",
          "MR",
          "QC",
          "",
          "77777777778",
          "ALLEN",
          "",
          "6666666666668",
          [
           [
            "ALLEN",
            "QC",
            "HELD",
            "1",
            "77777777778",
            "MR"
           ],
           [
            "LARRY",
            "74",
            "RYAN",
            "1",
            "88888888889",
            "C"
           ],
           [
            "",
            "PR",
            "SENIOR",
            "2",
            " 8888",
            "PI"
           ],
           [
            "JANE",
            "GB",
            "MARY",
            "1",
            "777777777",
            "MI"
           ]
          ],
          [
           [
            "9365.04",
            "OA",
            "147"
           ],
           [
            "31866",
            "CO",
            "26"
           ]
          ],
          ""
         ],
         "file:/Workspace/Users/raven.mukherjee@databricks.com/x12-edi-parser/sampledata/835/plb_sample.txt",
         [
          "6666666666",
          "SUMMER",
          "XX",
          "111111111"
         ],
         [
          "PR",
          "Carson",
          [
           [
            "BL",
            "Nevada Medicaid",
            "nvmmis.edisupport@dxc.com",
            "8776383472"
           ]
          ],
          "DIVISON OF HEALTH CARE FINANCING AND POLICY",
          "",
          "",
          "NV",
          "1100 East William Street Suite 101",
          "89701"
         ],
         [
          "C",
          "0",
          "20180615",
          "NON",
          "1388600002",
          "100004762",
          "1",
          "H"
         ],
         [
          [
           "-14",
           "20231231",
           "0202309NN08956B0X.5520NN142",
           "15483NN082",
           "72"
          ],
          [
           "14",
           "20231231",
           "0202309NN08956B0X.5520NN142",
           "15483NN082",
           "WO"
          ],
          [
           "-14",
           "20231231",
           "0202309NN08956B0X.5520NN142",
           "15483NN082",
           "B2"
          ]
         ]
        ],
        [
         "000001508",
         "180807",
         "ZZ421406317      ",
         "30133052274      ",
         "00501",
         "1202",
         "100000300",
         "20180613",
         "99999999",
         "NVMED",
         "005010X221A1",
         "123021",
         "221",
         "221",
         [
          "225",
          "12",
          "1",
          "ABC9001",
          [
           [
            "150",
            [
             [
              "8910",
              "0K"
             ]
            ],
            "",
            [],
            "145",
            "HC:98765",
            [],
            "",
            [
             [
              "5",
              "PR",
              "3"
             ]
            ],
            "20120124",
            "472",
            ""
           ],
           [
            "75",
            [],
            "",
            [],
            "75",
            "HC:26591",
            [],
            "",
            [],
            "20120124",
            "472",
            ""
           ]
          ],
          "200",
          "1",
          [],
          [
           [
            "20120124",
            "472"
           ],
           [
            "20120124",
            "472"
           ]
          ],
          "",
          "1",
          "MI",
          "QC",
          "",
          "60345914A",
          "MICKEY",
          "5",
          "1142381711242",
          [
           [
            "MICKEY",
            "QC",
            "MOUSE",
            "1",
            "60345914A",
            "MI"
           ]
          ],
          [
           [
            "20",
            "CO",
            "45"
           ]
          ],
          "22"
         ],
         "file:/Workspace/Users/raven.mukherjee@databricks.com/x12-edi-parser/sampledata/835/sample_services.txt",
         [
          "1215193883",
          "UCLA MEDICAL CENTER",
          "XX",
          ""
         ],
         [
          "PR",
          "LOS ANGELES",
          [
           [
            "BL",
            "MICHAEL EISNER",
            "123",
            "7145205060"
           ],
           [
            "IC",
            "",
            "",
            "www.bcbsdisney.com/policies.html"
           ]
          ],
          "BCBS DISNEY",
          "",
          "",
          "CA",
          "POBLADO RD",
          "9006"
         ],
         [
          "C",
          "391.05",
          "20120131",
          "ACH",
          "1262721578",
          "051036622050010",
          "1",
          "I"
         ],
         [
          [
           "3.95",
           "20121231",
           "",
           "1215193883",
           "90"
          ]
         ]
        ],
        [
         "000001508",
         "180807",
         "ZZ421406317      ",
         "30133052274      ",
         "00501",
         "1202",
         "100000300",
         "20180613",
         "99999999",
         "NVMED",
         "005010X221A1",
         "123021",
         "221",
         "221",
         [
          "225",
          "12",
          "1",
          "ABC9002",
          [
           [
            "150",
            [
             [
              "8910",
              "0K"
             ]
            ],
            "",
            [],
            "140",
            "HC:98765",
            [],
            "",
            [
             [
              "10",
              "PR",
              "3"
             ]
            ],
            "20120124",
            "472",
            ""
           ],
           [
            "75",
            [],
            "",
            [],
            "75",
            "HC:26591",
            [],
            "",
            [],
            "20120124",
            "472",
            ""
           ]
          ],
          "195",
          "1",
          [],
          [
           [
            "20120124",
            "472"
           ],
           [
            "20120124",
            "472"
           ]
          ],
          "",
          "1",
          "MI",
          "QC",
          "",
          "60345914B",
          "DONALD",
          "10",
          "1142381711242",
          [
           [
            "DONALD",
            "QC",
            "DUCK",
            "1",
            "60345914B",
            "MI"
           ]
          ],
          [
           [
            "20",
            "CO",
            "45"
           ]
          ],
          "22"
         ],
         "file:/Workspace/Users/raven.mukherjee@databricks.com/x12-edi-parser/sampledata/835/sample_services.txt",
         [
          "1215193883",
          "UCLA MEDICAL CENTER",
          "XX",
          ""
         ],
         [
          "PR",
          "LOS ANGELES",
          [
           [
            "BL",
            "MICHAEL EISNER",
            "123",
            "7145205060"
           ],
           [
            "IC",
            "",
            "",
            "www.bcbsdisney.com/policies.html"
           ]
          ],
          "BCBS DISNEY",
          "",
          "",
          "CA",
          "POBLADO RD",
          "9006"
         ],
         [
          "C",
          "391.05",
          "20120131",
          "ACH",
          "1262721578",
          "051036622050010",
          "1",
          "I"
         ],
         [
          [
           "3.95",
           "20121231",
           "",
           "1215193883",
           "90"
          ]
         ]
        ]
       ],
       "datasetInfos": [],
       "dbfsResultPath": null,
       "isJsonSchema": true,
       "metadata": {
        "createTempViewForImplicitDf": true,
        "dataframeName": "_sqldf",
        "executionCount": 10
       },
       "overflow": false,
       "plotOptions": {
        "customPlotOptions": {},
        "displayType": "table",
        "pivotAggregation": null,
        "pivotColumns": null,
        "xColumns": null,
        "yColumns": null
       },
       "removedWidgets": [],
       "schema": [
        {
         "metadata": "{}",
         "name": "EDI.control_number",
         "type": "\"string\""
        },
        {
         "metadata": "{}",
         "name": "EDI.date",
         "type": "\"string\""
        },
        {
         "metadata": "{}",
         "name": "EDI.recipient_qualifier_id",
         "type": "\"string\""
        },
        {
         "metadata": "{}",
         "name": "EDI.sender_qualifier_id",
         "type": "\"string\""
        },
        {
         "metadata": "{}",
         "name": "EDI.standard_version",
         "type": "\"string\""
        },
        {
         "metadata": "{}",
         "name": "EDI.time",
         "type": "\"string\""
        },
        {
         "metadata": "{}",
         "name": "FunctionalGroup.control_number",
         "type": "\"string\""
        },
        {
         "metadata": "{}",
         "name": "FunctionalGroup.date",
         "type": "\"string\""
        },
        {
         "metadata": "{}",
         "name": "FunctionalGroup.receiver",
         "type": "\"string\""
        },
        {
         "metadata": "{}",
         "name": "FunctionalGroup.sender",
         "type": "\"string\""
        },
        {
         "metadata": "{}",
         "name": "FunctionalGroup.standard_version",
         "type": "\"string\""
        },
        {
         "metadata": "{}",
         "name": "FunctionalGroup.time",
         "type": "\"string\""
        },
        {
         "metadata": "{}",
         "name": "FunctionalGroup.transaction_type",
         "type": "\"string\""
        },
        {
         "metadata": "{}",
         "name": "Transaction.transaction_type",
         "type": "\"string\""
        },
        {
         "metadata": "{}",
         "name": "claim",
         "type": "{\"type\":\"struct\",\"fields\":[{\"name\":\"claim_chrg_amt\",\"type\":\"string\",\"nullable\":true,\"metadata\":{}},{\"name\":\"claim_filing_cd\",\"type\":\"string\",\"nullable\":true,\"metadata\":{}},{\"name\":\"claim_freq_cd\",\"type\":\"string\",\"nullable\":true,\"metadata\":{}},{\"name\":\"claim_id\",\"type\":\"string\",\"nullable\":true,\"metadata\":{}},{\"name\":\"claim_lines\",\"type\":{\"type\":\"array\",\"elementType\":{\"type\":\"struct\",\"fields\":[{\"name\":\"chrg_amt\",\"type\":\"string\",\"nullable\":true,\"metadata\":{}},{\"name\":\"line_refs\",\"type\":{\"type\":\"array\",\"elementType\":{\"type\":\"struct\",\"fields\":[{\"name\":\"id\",\"type\":\"string\",\"nullable\":true,\"metadata\":{}},{\"name\":\"id_code_qualifier\",\"type\":\"string\",\"nullable\":true,\"metadata\":{}}]},\"containsNull\":true},\"nullable\":true,\"metadata\":{}},{\"name\":\"original_prcdr_cd\",\"type\":\"string\",\"nullable\":true,\"metadata\":{}},{\"name\":\"other_amts\",\"type\":{\"type\":\"array\",\"elementType\":\"string\",\"containsNull\":true},\"nullable\":true,\"metadata\":{}},{\"name\":\"paid_amt\",\"type\":\"string\",\"nullable\":true,\"metadata\":{}},{\"name\":\"prcdr_cd\",\"type\":\"string\",\"nullable\":true,\"metadata\":{}},{\"name\":\"remarks\",\"type\":{\"type\":\"array\",\"elementType\":\"string\",\"containsNull\":true},\"nullable\":true,\"metadata\":{}},{\"name\":\"rev_cd\",\"type\":\"string\",\"nullable\":true,\"metadata\":{}},{\"name\":\"service_adjustments\",\"type\":{\"type\":\"array\",\"elementType\":{\"type\":\"struct\",\"fields\":[{\"name\":\"adjustment_amount\",\"type\":\"string\",\"nullable\":true,\"metadata\":{}},{\"name\":\"adjustment_grp_cd\",\"type\":\"string\",\"nullable\":true,\"metadata\":{}},{\"name\":\"adjustment_reason_cd\",\"type\":\"string\",\"nullable\":true,\"metadata\":{}}]},\"containsNull\":true},\"nullable\":true,\"metadata\":{}},{\"name\":\"service_date\",\"type\":\"string\",\"nullable\":true,\"metadata\":{}},{\"name\":\"service_date_qualifier_cd\",\"type\":\"string\",\"nullable\":true,\"metadata\":{}},{\"name\":\"units\",\"type\":\"string\",\"nullable\":true,\"metadata\":{}}]},\"containsNull\":true},\"nullable\":true,\"metadata\":{}},{\"name\":\"claim_pay_amt\",\"type\":\"string\",\"nullable\":true,\"metadata\":{}},{\"name\":\"claim_status_cd\",\"type\":\"string\",\"nullable\":true,\"metadata\":{}},{\"name\":\"clm_refs\",\"type\":{\"type\":\"array\",\"elementType\":{\"type\":\"struct\",\"fields\":[{\"name\":\"id\",\"type\":\"string\",\"nullable\":true,\"metadata\":{}},{\"name\":\"id_code_qualifier\",\"type\":\"string\",\"nullable\":true,\"metadata\":{}}]},\"containsNull\":true},\"nullable\":true,\"metadata\":{}},{\"name\":\"date_references\",\"type\":{\"type\":\"array\",\"elementType\":{\"type\":\"struct\",\"fields\":[{\"name\":\"date\",\"type\":\"string\",\"nullable\":true,\"metadata\":{}},{\"name\":\"date_cd\",\"type\":\"string\",\"nullable\":true,\"metadata\":{}}]},\"containsNull\":true},\"nullable\":true,\"metadata\":{}},{\"name\":\"drg_cd\",\"type\":\"string\",\"nullable\":true,\"metadata\":{}},{\"name\":\"entity_type_qualifier\",\"type\":\"string\",\"nullable\":true,\"metadata\":{}},{\"name\":\"id_code_qualifier\",\"type\":\"string\",\"nullable\":true,\"metadata\":{}},{\"name\":\"patient_entity_id_cd\",\"type\":\"string\",\"nullable\":true,\"metadata\":{}},{\"name\":\"patient_first_nm\",\"type\":\"string\",\"nullable\":true,\"metadata\":{}},{\"name\":\"patient_id\",\"type\":\"string\",\"nullable\":true,\"metadata\":{}},{\"name\":\"patient_last_nm\",\"type\":\"string\",\"nullable\":true,\"metadata\":{}},{\"name\":\"patient_pay_amt\",\"type\":\"string\",\"nullable\":true,\"metadata\":{}},{\"name\":\"payer_claim_id\",\"type\":\"string\",\"nullable\":true,\"metadata\":{}},{\"name\":\"person_or_organization\",\"type\":{\"type\":\"array\",\"elementType\":{\"type\":\"struct\",\"fields\":[{\"name\":\"entity_first\",\"type\":\"string\",\"nullable\":true,\"metadata\":{}},{\"name\":\"entity_id_cd\",\"type\":\"string\",\"nullable\":true,\"metadata\":{}},{\"name\":\"entity_last_or_organization_name\",\"type\":\"string\",\"nullable\":true,\"metadata\":{}},{\"name\":\"entity_type_qualifier\",\"type\":\"string\",\"nullable\":true,\"metadata\":{}},{\"name\":\"id_cd\",\"type\":\"string\",\"nullable\":true,\"metadata\":{}},{\"name\":\"id_cd_qualifier\",\"type\":\"string\",\"nullable\":true,\"metadata\":{}}]},\"containsNull\":true},\"nullable\":true,\"metadata\":{}},{\"name\":\"service_adjustments\",\"type\":{\"type\":\"array\",\"elementType\":{\"type\":\"struct\",\"fields\":[{\"name\":\"adjustment_amount\",\"type\":\"string\",\"nullable\":true,\"metadata\":{}},{\"name\":\"adjustment_grp_cd\",\"type\":\"string\",\"nullable\":true,\"metadata\":{}},{\"name\":\"adjustment_reason_cd\",\"type\":\"string\",\"nullable\":true,\"metadata\":{}}]},\"containsNull\":true},\"nullable\":true,\"metadata\":{}},{\"name\":\"type_of_bill_cd\",\"type\":\"string\",\"nullable\":true,\"metadata\":{}}]}"
        },
        {
         "metadata": "{}",
         "name": "filename",
         "type": "\"string\""
        },
        {
         "metadata": "{}",
         "name": "payee",
         "type": "{\"type\":\"struct\",\"fields\":[{\"name\":\"payee_id_cd\",\"type\":\"string\",\"nullable\":true,\"metadata\":{}},{\"name\":\"payee_name\",\"type\":\"string\",\"nullable\":true,\"metadata\":{}},{\"name\":\"payee_npi\",\"type\":\"string\",\"nullable\":true,\"metadata\":{}},{\"name\":\"payee_tax_id\",\"type\":\"string\",\"nullable\":true,\"metadata\":{}}]}"
        },
        {
         "metadata": "{}",
         "name": "payer",
         "type": "{\"type\":\"struct\",\"fields\":[{\"name\":\"entity_id_cd\",\"type\":\"string\",\"nullable\":true,\"metadata\":{}},{\"name\":\"payer_city\",\"type\":\"string\",\"nullable\":true,\"metadata\":{}},{\"name\":\"payer_contact_info\",\"type\":{\"type\":\"array\",\"elementType\":{\"type\":\"struct\",\"fields\":[{\"name\":\"payer_contact_function_cd\",\"type\":\"string\",\"nullable\":true,\"metadata\":{}},{\"name\":\"payer_contact_name\",\"type\":\"string\",\"nullable\":true,\"metadata\":{}},{\"name\":\"payer_contact_number\",\"type\":\"string\",\"nullable\":true,\"metadata\":{}},{\"name\":\"payer_email\",\"type\":\"string\",\"nullable\":true,\"metadata\":{}}]},\"containsNull\":true},\"nullable\":true,\"metadata\":{}},{\"name\":\"payer_name\",\"type\":\"string\",\"nullable\":true,\"metadata\":{}},{\"name\":\"payer_primary_id\",\"type\":\"string\",\"nullable\":true,\"metadata\":{}},{\"name\":\"payer_secondary_id\",\"type\":\"string\",\"nullable\":true,\"metadata\":{}},{\"name\":\"payer_state\",\"type\":\"string\",\"nullable\":true,\"metadata\":{}},{\"name\":\"payer_street\",\"type\":\"string\",\"nullable\":true,\"metadata\":{}},{\"name\":\"payer_zip\",\"type\":\"string\",\"nullable\":true,\"metadata\":{}}]}"
        },
        {
         "metadata": "{}",
         "name": "payment",
         "type": "{\"type\":\"struct\",\"fields\":[{\"name\":\"credit_debit_flag\",\"type\":\"string\",\"nullable\":true,\"metadata\":{}},{\"name\":\"monetary_amt\",\"type\":\"string\",\"nullable\":true,\"metadata\":{}},{\"name\":\"payment_date\",\"type\":\"string\",\"nullable\":true,\"metadata\":{}},{\"name\":\"payment_method_cd\",\"type\":\"string\",\"nullable\":true,\"metadata\":{}},{\"name\":\"trace_origin_company_id\",\"type\":\"string\",\"nullable\":true,\"metadata\":{}},{\"name\":\"trace_reference_id\",\"type\":\"string\",\"nullable\":true,\"metadata\":{}},{\"name\":\"trace_type_cd\",\"type\":\"string\",\"nullable\":true,\"metadata\":{}},{\"name\":\"transaction_handling_cd\",\"type\":\"string\",\"nullable\":true,\"metadata\":{}}]}"
        },
        {
         "metadata": "{}",
         "name": "provider_adjustments",
         "type": "{\"type\":\"array\",\"elementType\":{\"type\":\"struct\",\"fields\":[{\"name\":\"provider_adjustment_amt\",\"type\":\"string\",\"nullable\":true,\"metadata\":{}},{\"name\":\"provider_adjustment_date\",\"type\":\"string\",\"nullable\":true,\"metadata\":{}},{\"name\":\"provider_adjustment_id\",\"type\":\"string\",\"nullable\":true,\"metadata\":{}},{\"name\":\"provider_adjustment_npi\",\"type\":\"string\",\"nullable\":true,\"metadata\":{}},{\"name\":\"provider_adjustment_reason_cd\",\"type\":\"string\",\"nullable\":true,\"metadata\":{}}]},\"containsNull\":true}"
        }
       ],
       "type": "table"
      }
     },
     "output_type": "display_data"
    }
   ],
   "source": [
    "%sql\n",
    "--flatten EDI \n",
    "drop table if exists raven_catalog.x12_edi_parser.remittance;\n",
    "CREATE TABLE raven_catalog.x12_edi_parser.remittance \n",
    "as \n",
    "select *\n",
    "from stg_remittance \n",
    ";\n",
    "\n",
    "SELECT * FROM raven_catalog.x12_edi_parser.remittance;"
   ]
  },
  {
   "cell_type": "markdown",
   "metadata": {
    "application/vnd.databricks.v1+cell": {
     "cellMetadata": {},
     "inputWidgets": {},
     "nuid": "80acdad1-2678-4289-991e-54374a6c64c4",
     "showTitle": false,
     "tableResultSettingsMap": {},
     "title": ""
    }
   },
   "source": [
    "# 834"
   ]
  },
  {
   "cell_type": "code",
   "execution_count": 0,
   "metadata": {
    "application/vnd.databricks.v1+cell": {
     "cellMetadata": {
      "byteLimit": 2048000,
      "rowLimit": 10000
     },
     "inputWidgets": {},
     "nuid": "70fdf7bf-475f-4b0d-979f-5a01b03d3705",
     "showTitle": false,
     "tableResultSettingsMap": {},
     "title": ""
    }
   },
   "outputs": [],
   "source": [
    "from ember import *\n",
    "from ember.hls.healthcare import HealthcareManager as hm\n",
    "import json, os\n",
    "from pyspark.sql.functions import input_file_name\n",
    "\n",
    "df = spark.read.text(\"file:///\" + os.getcwd() + \"/../sampledata/834/*txt\", wholetext = True)\n",
    "\n",
    "rdd = (\n",
    "  df.withColumn(\"filename\", input_file_name()).rdd #convert to rdd\n",
    "  .map(lambda row: (row.filename, EDI(row.value, strict_transactions=False))) #parse as an EDI format\n",
    "  .flatMap(lambda edi: hm.flatten(edi[1], filename = edi[0])) #extract out healthcare specific groupings, one row per claim/remittance/enrollment etc\n",
    "  )\n",
    "\n",
    "claims_rdd = (\n",
    "rdd.repartition(4) #Repartition number should be >= # of cores in cluster and <= number of rows in rdd / DataFrame\n",
    ".map(lambda x: hm.flatten_to_json(x))\n",
    ".map(lambda x: json.dumps(x))\n",
    ")\n",
    "\n",
    "claims = spark.read.json(claims_rdd)"
   ]
  },
  {
   "cell_type": "code",
   "execution_count": 0,
   "metadata": {
    "application/vnd.databricks.v1+cell": {
     "cellMetadata": {
      "byteLimit": 2048000,
      "rowLimit": 10000
     },
     "inputWidgets": {},
     "nuid": "7955f754-1947-4237-89d5-03aaf3de856d",
     "showTitle": false,
     "tableResultSettingsMap": {},
     "title": ""
    }
   },
   "outputs": [],
   "source": [
    "claims.createOrReplaceTempView(\"stg_enrollment\")"
   ]
  },
  {
   "cell_type": "code",
   "execution_count": 0,
   "metadata": {
    "application/vnd.databricks.v1+cell": {
     "cellMetadata": {
      "byteLimit": 2048000,
      "implicitDf": true,
      "rowLimit": 10000
     },
     "inputWidgets": {},
     "nuid": "a5ccc0b5-dc0b-4c6c-8841-ec62a66c7f7c",
     "showTitle": false,
     "tableResultSettingsMap": {},
     "title": ""
    }
   },
   "outputs": [
    {
     "data": {
      "text/html": [
       "<style scoped>\n",
       "  .table-result-container {\n",
       "    max-height: 300px;\n",
       "    overflow: auto;\n",
       "  }\n",
       "  table, th, td {\n",
       "    border: 1px solid black;\n",
       "    border-collapse: collapse;\n",
       "  }\n",
       "  th, td {\n",
       "    padding: 5px;\n",
       "  }\n",
       "  th {\n",
       "    text-align: left;\n",
       "  }\n",
       "</style><div class='table-result-container'><table class='table-result'><thead style='background-color: white'><tr><th>EDI.control_number</th><th>EDI.date</th><th>EDI.recipient_qualifier_id</th><th>EDI.sender_qualifier_id</th><th>EDI.standard_version</th><th>EDI.time</th><th>FunctionalGroup.control_number</th><th>FunctionalGroup.date</th><th>FunctionalGroup.receiver</th><th>FunctionalGroup.sender</th><th>FunctionalGroup.standard_version</th><th>FunctionalGroup.time</th><th>FunctionalGroup.transaction_type</th><th>Transaction.transaction_type</th><th>enrollment_member</th><th>filename</th><th>health_plan</th></tr></thead><tbody><tr><td>242060001</td><td>240724</td><td>ZZ8-DIGIT PLAN ID</td><td>ZZEMEDNYMCR      </td><td>00501</td><td>0708</td><td>242060001</td><td>20240724</td><td>ETIN</td><td>EMEDNYMCR</td><td>005010X220A1</td><td>070835</td><td>220</td><td>220</td><td>List(List(List(Y, 20240724, , 001), List(, ANYTOWN, 12205, NY, 123 ANY STREET), List(9999999999, ), 20020202, SUBSCRIBER B FIRST NAME, F, 299999992, Social Security Number (SSN), SUBSCRIBER B LAST NAME))</td><td>file:/Workspace/Users/raven.mukherjee@databricks.com/x12-edi-parser/sampledata/834/834_test.txt</td><td>List(List(Health, HLT, 20241231, ), List(Dental, DEN, 20241231, ), List(Vision, VIS, 20240401, ))</td></tr><tr><td>000012345</td><td>050221</td><td>30382328142      </td><td>ZZ386028429      </td><td>00501</td><td>0602</td><td>000012345</td><td>20050221</td><td>382328142</td><td>386028429</td><td>005010X220A1</td><td>0602</td><td>220</td><td>220</td><td>List(List(List(Y, 19960523, 20, 021), List(APT 3G, CAMP HILL, 17011, PA, 100 MARKET ST), List(7172343334, 7172341240), 19400816, JOHN, M, 123456789, Social Security Number (SSN), DOE))</td><td>file:/Workspace/Users/raven.mukherjee@databricks.com/x12-edi-parser/sampledata/834/EDI_834.txt</td><td>List(List(Health, HLT, 19960601, ), List(Dental, DEN, 19960601, ), List(Vision, VIS, 19960601, ))</td></tr></tbody></table></div>"
      ]
     },
     "metadata": {
      "application/vnd.databricks.v1+output": {
       "addedWidgets": {},
       "aggData": [],
       "aggError": "",
       "aggOverflow": false,
       "aggSchema": [],
       "aggSeriesLimitReached": false,
       "aggType": "",
       "arguments": {},
       "columnCustomDisplayInfos": {},
       "data": [
        [
         "242060001",
         "240724",
         "ZZ8-DIGIT PLAN ID",
         "ZZEMEDNYMCR      ",
         "00501",
         "0708",
         "242060001",
         "20240724",
         "ETIN",
         "EMEDNYMCR",
         "005010X220A1",
         "070835",
         "220",
         "220",
         [
          [
           [
            "Y",
            "20240724",
            "",
            "001"
           ],
           [
            "",
            "ANYTOWN",
            "12205",
            "NY",
            "123 ANY STREET"
           ],
           [
            "9999999999",
            ""
           ],
           "20020202",
           "SUBSCRIBER B FIRST NAME",
           "F",
           "299999992",
           "Social Security Number (SSN)",
           "SUBSCRIBER B LAST NAME"
          ]
         ],
         "file:/Workspace/Users/raven.mukherjee@databricks.com/x12-edi-parser/sampledata/834/834_test.txt",
         [
          [
           "Health",
           "HLT",
           "20241231",
           ""
          ],
          [
           "Dental",
           "DEN",
           "20241231",
           ""
          ],
          [
           "Vision",
           "VIS",
           "20240401",
           ""
          ]
         ]
        ],
        [
         "000012345",
         "050221",
         "30382328142      ",
         "ZZ386028429      ",
         "00501",
         "0602",
         "000012345",
         "20050221",
         "382328142",
         "386028429",
         "005010X220A1",
         "0602",
         "220",
         "220",
         [
          [
           [
            "Y",
            "19960523",
            "20",
            "021"
           ],
           [
            "APT 3G",
            "CAMP HILL",
            "17011",
            "PA",
            "100 MARKET ST"
           ],
           [
            "7172343334",
            "7172341240"
           ],
           "19400816",
           "JOHN",
           "M",
           "123456789",
           "Social Security Number (SSN)",
           "DOE"
          ]
         ],
         "file:/Workspace/Users/raven.mukherjee@databricks.com/x12-edi-parser/sampledata/834/EDI_834.txt",
         [
          [
           "Health",
           "HLT",
           "19960601",
           ""
          ],
          [
           "Dental",
           "DEN",
           "19960601",
           ""
          ],
          [
           "Vision",
           "VIS",
           "19960601",
           ""
          ]
         ]
        ]
       ],
       "datasetInfos": [],
       "dbfsResultPath": null,
       "isJsonSchema": true,
       "metadata": {
        "createTempViewForImplicitDf": true,
        "dataframeName": "_sqldf",
        "executionCount": 14
       },
       "overflow": false,
       "plotOptions": {
        "customPlotOptions": {},
        "displayType": "table",
        "pivotAggregation": null,
        "pivotColumns": null,
        "xColumns": null,
        "yColumns": null
       },
       "removedWidgets": [],
       "schema": [
        {
         "metadata": "{}",
         "name": "EDI.control_number",
         "type": "\"string\""
        },
        {
         "metadata": "{}",
         "name": "EDI.date",
         "type": "\"string\""
        },
        {
         "metadata": "{}",
         "name": "EDI.recipient_qualifier_id",
         "type": "\"string\""
        },
        {
         "metadata": "{}",
         "name": "EDI.sender_qualifier_id",
         "type": "\"string\""
        },
        {
         "metadata": "{}",
         "name": "EDI.standard_version",
         "type": "\"string\""
        },
        {
         "metadata": "{}",
         "name": "EDI.time",
         "type": "\"string\""
        },
        {
         "metadata": "{}",
         "name": "FunctionalGroup.control_number",
         "type": "\"string\""
        },
        {
         "metadata": "{}",
         "name": "FunctionalGroup.date",
         "type": "\"string\""
        },
        {
         "metadata": "{}",
         "name": "FunctionalGroup.receiver",
         "type": "\"string\""
        },
        {
         "metadata": "{}",
         "name": "FunctionalGroup.sender",
         "type": "\"string\""
        },
        {
         "metadata": "{}",
         "name": "FunctionalGroup.standard_version",
         "type": "\"string\""
        },
        {
         "metadata": "{}",
         "name": "FunctionalGroup.time",
         "type": "\"string\""
        },
        {
         "metadata": "{}",
         "name": "FunctionalGroup.transaction_type",
         "type": "\"string\""
        },
        {
         "metadata": "{}",
         "name": "Transaction.transaction_type",
         "type": "\"string\""
        },
        {
         "metadata": "{}",
         "name": "enrollment_member",
         "type": "{\"type\":\"struct\",\"fields\":[{\"name\":\"enrollment_member\",\"type\":{\"type\":\"struct\",\"fields\":[{\"name\":\"Maintenance\",\"type\":{\"type\":\"struct\",\"fields\":[{\"name\":\"benefit_status\",\"type\":\"string\",\"nullable\":true,\"metadata\":{}},{\"name\":\"coverage_start_date\",\"type\":\"string\",\"nullable\":true,\"metadata\":{}},{\"name\":\"maintenance_reason_code\",\"type\":\"string\",\"nullable\":true,\"metadata\":{}},{\"name\":\"maintenance_type_code\",\"type\":\"string\",\"nullable\":true,\"metadata\":{}}]},\"nullable\":true,\"metadata\":{}},{\"name\":\"address\",\"type\":{\"type\":\"struct\",\"fields\":[{\"name\":\"apartment_name\",\"type\":\"string\",\"nullable\":true,\"metadata\":{}},{\"name\":\"city_name\",\"type\":\"string\",\"nullable\":true,\"metadata\":{}},{\"name\":\"postal_code\",\"type\":\"string\",\"nullable\":true,\"metadata\":{}},{\"name\":\"state_code\",\"type\":\"string\",\"nullable\":true,\"metadata\":{}},{\"name\":\"street_name\",\"type\":\"string\",\"nullable\":true,\"metadata\":{}}]},\"nullable\":true,\"metadata\":{}},{\"name\":\"contact_phone_number\",\"type\":{\"type\":\"struct\",\"fields\":[{\"name\":\"home_phone\",\"type\":\"string\",\"nullable\":true,\"metadata\":{}},{\"name\":\"work_phone\",\"type\":\"string\",\"nullable\":true,\"metadata\":{}}]},\"nullable\":true,\"metadata\":{}},{\"name\":\"member_dob\",\"type\":\"string\",\"nullable\":true,\"metadata\":{}},{\"name\":\"member_first_name\",\"type\":\"string\",\"nullable\":true,\"metadata\":{}},{\"name\":\"member_gender\",\"type\":\"string\",\"nullable\":true,\"metadata\":{}},{\"name\":\"member_id_code\",\"type\":\"string\",\"nullable\":true,\"metadata\":{}},{\"name\":\"member_identifier_type\",\"type\":\"string\",\"nullable\":true,\"metadata\":{}},{\"name\":\"member_last_name\",\"type\":\"string\",\"nullable\":true,\"metadata\":{}}]},\"nullable\":true,\"metadata\":{}}]}"
        },
        {
         "metadata": "{}",
         "name": "filename",
         "type": "\"string\""
        },
        {
         "metadata": "{}",
         "name": "health_plan",
         "type": "{\"type\":\"array\",\"elementType\":{\"type\":\"struct\",\"fields\":[{\"name\":\"coverage_desc\",\"type\":\"string\",\"nullable\":true,\"metadata\":{}},{\"name\":\"coverage_type_code\",\"type\":\"string\",\"nullable\":true,\"metadata\":{}},{\"name\":\"effective_date\",\"type\":\"string\",\"nullable\":true,\"metadata\":{}},{\"name\":\"end_date\",\"type\":\"string\",\"nullable\":true,\"metadata\":{}}]},\"containsNull\":true}"
        }
       ],
       "type": "table"
      }
     },
     "output_type": "display_data"
    }
   ],
   "source": [
    "%sql\n",
    "--flatten EDI \n",
    "drop table if exists raven_catalog.x12_edi_parser.enrollment;\n",
    "CREATE TABLE raven_catalog.x12_edi_parser.enrollment \n",
    "as \n",
    "select *\n",
    "from stg_enrollment \n",
    ";\n",
    "\n",
    "SELECT * FROM raven_catalog.x12_edi_parser.enrollment;"
   ]
  },
  {
   "cell_type": "code",
   "execution_count": 0,
   "metadata": {
    "application/vnd.databricks.v1+cell": {
     "cellMetadata": {},
     "inputWidgets": {},
     "nuid": "dc567387-f4d1-4352-8f4a-76d2753c2725",
     "showTitle": false,
     "tableResultSettingsMap": {},
     "title": ""
    }
   },
   "outputs": [],
   "source": []
  }
 ],
 "metadata": {
  "application/vnd.databricks.v1+notebook": {
   "computePreferences": null,
   "dashboards": [],
   "environmentMetadata": null,
   "inputWidgetPreferences": null,
   "language": "python",
   "notebookMetadata": {
    "mostRecentlyExecutedCommandWithImplicitDF": {
     "commandId": 2556725624105200,
     "dataframes": [
      "_sqldf"
     ]
    },
    "pythonIndentUnit": 2
   },
   "notebookName": "02 - Staging Claims_and_Flattening_to_tables",
   "widgets": {}
  },
  "language_info": {
   "name": "python"
  }
 },
 "nbformat": 4,
 "nbformat_minor": 0
}
